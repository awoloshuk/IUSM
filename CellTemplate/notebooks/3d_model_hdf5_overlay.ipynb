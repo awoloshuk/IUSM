{
 "cells": [
  {
   "cell_type": "code",
   "execution_count": 13,
   "metadata": {},
   "outputs": [
    {
     "name": "stdout",
     "output_type": "stream",
     "text": [
      "Modules loaded\n",
      "Reload complete\n",
      "GPUs available: 1\n"
     ]
    }
   ],
   "source": [
    "%matplotlib notebook\n",
    "#%matplotlib inline\n",
    "import sys\n",
    "sys.path.append(\"..\")\n",
    "import matplotlib.pyplot as plt\n",
    "import os\n",
    "import numpy as np\n",
    "import json\n",
    "import argparse\n",
    "import pandas as pd\n",
    "import torch\n",
    "from torch.optim import lr_scheduler\n",
    "from tqdm import tqdm\n",
    "from data_loader import data_loaders as module_data\n",
    "from model import loss as module_loss\n",
    "from model import metric as module_metric\n",
    "from model import model as module_arch\n",
    "from trainer import Trainer\n",
    "from utils import Logger\n",
    "from utils import util\n",
    "from utils import torchsummary\n",
    "from utils import viewTraining\n",
    "from utils import lr_finder\n",
    "from utils import classActivationMap\n",
    "import importlib\n",
    "import math\n",
    "import torchvision\n",
    "from torch.nn import functional as F\n",
    "from torch import topk\n",
    "import skimage.transform\n",
    "import jupyter\n",
    "from IPython import display\n",
    "from ipywidgets import *\n",
    "print(\"Modules loaded\")\n",
    "\n",
    "importlib.reload(module_data) #load recent changes to data_loaders.py\n",
    "importlib.reload(module_arch)\n",
    "importlib.reload(module_loss)\n",
    "importlib.reload(module_metric)\n",
    "importlib.reload(util)\n",
    "importlib.reload(viewTraining)\n",
    "importlib.reload(lr_finder)\n",
    "importlib.reload(classActivationMap)\n",
    "print(\"Reload complete\")\n",
    "\n",
    "print(\"GPUs available: \" + str(torch.cuda.device_count()))\n",
    "os.environ[\"CUDA_VISIBLE_DEVICES\"] = \"0,1\"\n",
    "\n",
    "\n"
   ]
  },
  {
   "cell_type": "code",
   "execution_count": 2,
   "metadata": {},
   "outputs": [
    {
     "data": {
      "application/javascript": [
       "Jupyter.keyboard_manager.disable();\n",
       "//System.out.println(\"disabled\");\n",
       "//Jupyter.keyboard_manager.command_shortcuts.remove_shortcut('j');\n",
       "//System.out.println(\"remove j\");\n",
       "//Jupyter.keyboard_manager.command_shortcuts.remove_shortcut('k');\n",
       "//System.out.println(\"remove k\");\n"
      ],
      "text/plain": [
       "<IPython.core.display.Javascript object>"
      ]
     },
     "metadata": {},
     "output_type": "display_data"
    }
   ],
   "source": [
    "%%javascript\n",
    "Jupyter.keyboard_manager.disable();\n",
    "//System.out.println(\"disabled\");\n",
    "//Jupyter.keyboard_manager.command_shortcuts.remove_shortcut('j');\n",
    "//System.out.println(\"remove j\");\n",
    "//Jupyter.keyboard_manager.command_shortcuts.remove_shortcut('k');\n",
    "//System.out.println(\"remove k\");"
   ]
  },
  {
   "cell_type": "code",
   "execution_count": 4,
   "metadata": {
    "scrolled": true
   },
   "outputs": [
    {
     "name": "stdout",
     "output_type": "stream",
     "text": [
      "Total number of training images = 1946\n"
     ]
    },
    {
     "data": {
      "application/javascript": [
       "/* Put everything inside the global mpl namespace */\n",
       "window.mpl = {};\n",
       "\n",
       "\n",
       "mpl.get_websocket_type = function() {\n",
       "    if (typeof(WebSocket) !== 'undefined') {\n",
       "        return WebSocket;\n",
       "    } else if (typeof(MozWebSocket) !== 'undefined') {\n",
       "        return MozWebSocket;\n",
       "    } else {\n",
       "        alert('Your browser does not have WebSocket support. ' +\n",
       "              'Please try Chrome, Safari or Firefox ≥ 6. ' +\n",
       "              'Firefox 4 and 5 are also supported but you ' +\n",
       "              'have to enable WebSockets in about:config.');\n",
       "    };\n",
       "}\n",
       "\n",
       "mpl.figure = function(figure_id, websocket, ondownload, parent_element) {\n",
       "    this.id = figure_id;\n",
       "\n",
       "    this.ws = websocket;\n",
       "\n",
       "    this.supports_binary = (this.ws.binaryType != undefined);\n",
       "\n",
       "    if (!this.supports_binary) {\n",
       "        var warnings = document.getElementById(\"mpl-warnings\");\n",
       "        if (warnings) {\n",
       "            warnings.style.display = 'block';\n",
       "            warnings.textContent = (\n",
       "                \"This browser does not support binary websocket messages. \" +\n",
       "                    \"Performance may be slow.\");\n",
       "        }\n",
       "    }\n",
       "\n",
       "    this.imageObj = new Image();\n",
       "\n",
       "    this.context = undefined;\n",
       "    this.message = undefined;\n",
       "    this.canvas = undefined;\n",
       "    this.rubberband_canvas = undefined;\n",
       "    this.rubberband_context = undefined;\n",
       "    this.format_dropdown = undefined;\n",
       "\n",
       "    this.image_mode = 'full';\n",
       "\n",
       "    this.root = $('<div/>');\n",
       "    this._root_extra_style(this.root)\n",
       "    this.root.attr('style', 'display: inline-block');\n",
       "\n",
       "    $(parent_element).append(this.root);\n",
       "\n",
       "    this._init_header(this);\n",
       "    this._init_canvas(this);\n",
       "    this._init_toolbar(this);\n",
       "\n",
       "    var fig = this;\n",
       "\n",
       "    this.waiting = false;\n",
       "\n",
       "    this.ws.onopen =  function () {\n",
       "            fig.send_message(\"supports_binary\", {value: fig.supports_binary});\n",
       "            fig.send_message(\"send_image_mode\", {});\n",
       "            if (mpl.ratio != 1) {\n",
       "                fig.send_message(\"set_dpi_ratio\", {'dpi_ratio': mpl.ratio});\n",
       "            }\n",
       "            fig.send_message(\"refresh\", {});\n",
       "        }\n",
       "\n",
       "    this.imageObj.onload = function() {\n",
       "            if (fig.image_mode == 'full') {\n",
       "                // Full images could contain transparency (where diff images\n",
       "                // almost always do), so we need to clear the canvas so that\n",
       "                // there is no ghosting.\n",
       "                fig.context.clearRect(0, 0, fig.canvas.width, fig.canvas.height);\n",
       "            }\n",
       "            fig.context.drawImage(fig.imageObj, 0, 0);\n",
       "        };\n",
       "\n",
       "    this.imageObj.onunload = function() {\n",
       "        fig.ws.close();\n",
       "    }\n",
       "\n",
       "    this.ws.onmessage = this._make_on_message_function(this);\n",
       "\n",
       "    this.ondownload = ondownload;\n",
       "}\n",
       "\n",
       "mpl.figure.prototype._init_header = function() {\n",
       "    var titlebar = $(\n",
       "        '<div class=\"ui-dialog-titlebar ui-widget-header ui-corner-all ' +\n",
       "        'ui-helper-clearfix\"/>');\n",
       "    var titletext = $(\n",
       "        '<div class=\"ui-dialog-title\" style=\"width: 100%; ' +\n",
       "        'text-align: center; padding: 3px;\"/>');\n",
       "    titlebar.append(titletext)\n",
       "    this.root.append(titlebar);\n",
       "    this.header = titletext[0];\n",
       "}\n",
       "\n",
       "\n",
       "\n",
       "mpl.figure.prototype._canvas_extra_style = function(canvas_div) {\n",
       "\n",
       "}\n",
       "\n",
       "\n",
       "mpl.figure.prototype._root_extra_style = function(canvas_div) {\n",
       "\n",
       "}\n",
       "\n",
       "mpl.figure.prototype._init_canvas = function() {\n",
       "    var fig = this;\n",
       "\n",
       "    var canvas_div = $('<div/>');\n",
       "\n",
       "    canvas_div.attr('style', 'position: relative; clear: both; outline: 0');\n",
       "\n",
       "    function canvas_keyboard_event(event) {\n",
       "        return fig.key_event(event, event['data']);\n",
       "    }\n",
       "\n",
       "    canvas_div.keydown('key_press', canvas_keyboard_event);\n",
       "    canvas_div.keyup('key_release', canvas_keyboard_event);\n",
       "    this.canvas_div = canvas_div\n",
       "    this._canvas_extra_style(canvas_div)\n",
       "    this.root.append(canvas_div);\n",
       "\n",
       "    var canvas = $('<canvas/>');\n",
       "    canvas.addClass('mpl-canvas');\n",
       "    canvas.attr('style', \"left: 0; top: 0; z-index: 0; outline: 0\")\n",
       "\n",
       "    this.canvas = canvas[0];\n",
       "    this.context = canvas[0].getContext(\"2d\");\n",
       "\n",
       "    var backingStore = this.context.backingStorePixelRatio ||\n",
       "\tthis.context.webkitBackingStorePixelRatio ||\n",
       "\tthis.context.mozBackingStorePixelRatio ||\n",
       "\tthis.context.msBackingStorePixelRatio ||\n",
       "\tthis.context.oBackingStorePixelRatio ||\n",
       "\tthis.context.backingStorePixelRatio || 1;\n",
       "\n",
       "    mpl.ratio = (window.devicePixelRatio || 1) / backingStore;\n",
       "\n",
       "    var rubberband = $('<canvas/>');\n",
       "    rubberband.attr('style', \"position: absolute; left: 0; top: 0; z-index: 1;\")\n",
       "\n",
       "    var pass_mouse_events = true;\n",
       "\n",
       "    canvas_div.resizable({\n",
       "        start: function(event, ui) {\n",
       "            pass_mouse_events = false;\n",
       "        },\n",
       "        resize: function(event, ui) {\n",
       "            fig.request_resize(ui.size.width, ui.size.height);\n",
       "        },\n",
       "        stop: function(event, ui) {\n",
       "            pass_mouse_events = true;\n",
       "            fig.request_resize(ui.size.width, ui.size.height);\n",
       "        },\n",
       "    });\n",
       "\n",
       "    function mouse_event_fn(event) {\n",
       "        if (pass_mouse_events)\n",
       "            return fig.mouse_event(event, event['data']);\n",
       "    }\n",
       "\n",
       "    rubberband.mousedown('button_press', mouse_event_fn);\n",
       "    rubberband.mouseup('button_release', mouse_event_fn);\n",
       "    // Throttle sequential mouse events to 1 every 20ms.\n",
       "    rubberband.mousemove('motion_notify', mouse_event_fn);\n",
       "\n",
       "    rubberband.mouseenter('figure_enter', mouse_event_fn);\n",
       "    rubberband.mouseleave('figure_leave', mouse_event_fn);\n",
       "\n",
       "    canvas_div.on(\"wheel\", function (event) {\n",
       "        event = event.originalEvent;\n",
       "        event['data'] = 'scroll'\n",
       "        if (event.deltaY < 0) {\n",
       "            event.step = 1;\n",
       "        } else {\n",
       "            event.step = -1;\n",
       "        }\n",
       "        mouse_event_fn(event);\n",
       "    });\n",
       "\n",
       "    canvas_div.append(canvas);\n",
       "    canvas_div.append(rubberband);\n",
       "\n",
       "    this.rubberband = rubberband;\n",
       "    this.rubberband_canvas = rubberband[0];\n",
       "    this.rubberband_context = rubberband[0].getContext(\"2d\");\n",
       "    this.rubberband_context.strokeStyle = \"#000000\";\n",
       "\n",
       "    this._resize_canvas = function(width, height) {\n",
       "        // Keep the size of the canvas, canvas container, and rubber band\n",
       "        // canvas in synch.\n",
       "        canvas_div.css('width', width)\n",
       "        canvas_div.css('height', height)\n",
       "\n",
       "        canvas.attr('width', width * mpl.ratio);\n",
       "        canvas.attr('height', height * mpl.ratio);\n",
       "        canvas.attr('style', 'width: ' + width + 'px; height: ' + height + 'px;');\n",
       "\n",
       "        rubberband.attr('width', width);\n",
       "        rubberband.attr('height', height);\n",
       "    }\n",
       "\n",
       "    // Set the figure to an initial 600x600px, this will subsequently be updated\n",
       "    // upon first draw.\n",
       "    this._resize_canvas(600, 600);\n",
       "\n",
       "    // Disable right mouse context menu.\n",
       "    $(this.rubberband_canvas).bind(\"contextmenu\",function(e){\n",
       "        return false;\n",
       "    });\n",
       "\n",
       "    function set_focus () {\n",
       "        canvas.focus();\n",
       "        canvas_div.focus();\n",
       "    }\n",
       "\n",
       "    window.setTimeout(set_focus, 100);\n",
       "}\n",
       "\n",
       "mpl.figure.prototype._init_toolbar = function() {\n",
       "    var fig = this;\n",
       "\n",
       "    var nav_element = $('<div/>');\n",
       "    nav_element.attr('style', 'width: 100%');\n",
       "    this.root.append(nav_element);\n",
       "\n",
       "    // Define a callback function for later on.\n",
       "    function toolbar_event(event) {\n",
       "        return fig.toolbar_button_onclick(event['data']);\n",
       "    }\n",
       "    function toolbar_mouse_event(event) {\n",
       "        return fig.toolbar_button_onmouseover(event['data']);\n",
       "    }\n",
       "\n",
       "    for(var toolbar_ind in mpl.toolbar_items) {\n",
       "        var name = mpl.toolbar_items[toolbar_ind][0];\n",
       "        var tooltip = mpl.toolbar_items[toolbar_ind][1];\n",
       "        var image = mpl.toolbar_items[toolbar_ind][2];\n",
       "        var method_name = mpl.toolbar_items[toolbar_ind][3];\n",
       "\n",
       "        if (!name) {\n",
       "            // put a spacer in here.\n",
       "            continue;\n",
       "        }\n",
       "        var button = $('<button/>');\n",
       "        button.addClass('ui-button ui-widget ui-state-default ui-corner-all ' +\n",
       "                        'ui-button-icon-only');\n",
       "        button.attr('role', 'button');\n",
       "        button.attr('aria-disabled', 'false');\n",
       "        button.click(method_name, toolbar_event);\n",
       "        button.mouseover(tooltip, toolbar_mouse_event);\n",
       "\n",
       "        var icon_img = $('<span/>');\n",
       "        icon_img.addClass('ui-button-icon-primary ui-icon');\n",
       "        icon_img.addClass(image);\n",
       "        icon_img.addClass('ui-corner-all');\n",
       "\n",
       "        var tooltip_span = $('<span/>');\n",
       "        tooltip_span.addClass('ui-button-text');\n",
       "        tooltip_span.html(tooltip);\n",
       "\n",
       "        button.append(icon_img);\n",
       "        button.append(tooltip_span);\n",
       "\n",
       "        nav_element.append(button);\n",
       "    }\n",
       "\n",
       "    var fmt_picker_span = $('<span/>');\n",
       "\n",
       "    var fmt_picker = $('<select/>');\n",
       "    fmt_picker.addClass('mpl-toolbar-option ui-widget ui-widget-content');\n",
       "    fmt_picker_span.append(fmt_picker);\n",
       "    nav_element.append(fmt_picker_span);\n",
       "    this.format_dropdown = fmt_picker[0];\n",
       "\n",
       "    for (var ind in mpl.extensions) {\n",
       "        var fmt = mpl.extensions[ind];\n",
       "        var option = $(\n",
       "            '<option/>', {selected: fmt === mpl.default_extension}).html(fmt);\n",
       "        fmt_picker.append(option);\n",
       "    }\n",
       "\n",
       "    // Add hover states to the ui-buttons\n",
       "    $( \".ui-button\" ).hover(\n",
       "        function() { $(this).addClass(\"ui-state-hover\");},\n",
       "        function() { $(this).removeClass(\"ui-state-hover\");}\n",
       "    );\n",
       "\n",
       "    var status_bar = $('<span class=\"mpl-message\"/>');\n",
       "    nav_element.append(status_bar);\n",
       "    this.message = status_bar[0];\n",
       "}\n",
       "\n",
       "mpl.figure.prototype.request_resize = function(x_pixels, y_pixels) {\n",
       "    // Request matplotlib to resize the figure. Matplotlib will then trigger a resize in the client,\n",
       "    // which will in turn request a refresh of the image.\n",
       "    this.send_message('resize', {'width': x_pixels, 'height': y_pixels});\n",
       "}\n",
       "\n",
       "mpl.figure.prototype.send_message = function(type, properties) {\n",
       "    properties['type'] = type;\n",
       "    properties['figure_id'] = this.id;\n",
       "    this.ws.send(JSON.stringify(properties));\n",
       "}\n",
       "\n",
       "mpl.figure.prototype.send_draw_message = function() {\n",
       "    if (!this.waiting) {\n",
       "        this.waiting = true;\n",
       "        this.ws.send(JSON.stringify({type: \"draw\", figure_id: this.id}));\n",
       "    }\n",
       "}\n",
       "\n",
       "\n",
       "mpl.figure.prototype.handle_save = function(fig, msg) {\n",
       "    var format_dropdown = fig.format_dropdown;\n",
       "    var format = format_dropdown.options[format_dropdown.selectedIndex].value;\n",
       "    fig.ondownload(fig, format);\n",
       "}\n",
       "\n",
       "\n",
       "mpl.figure.prototype.handle_resize = function(fig, msg) {\n",
       "    var size = msg['size'];\n",
       "    if (size[0] != fig.canvas.width || size[1] != fig.canvas.height) {\n",
       "        fig._resize_canvas(size[0], size[1]);\n",
       "        fig.send_message(\"refresh\", {});\n",
       "    };\n",
       "}\n",
       "\n",
       "mpl.figure.prototype.handle_rubberband = function(fig, msg) {\n",
       "    var x0 = msg['x0'] / mpl.ratio;\n",
       "    var y0 = (fig.canvas.height - msg['y0']) / mpl.ratio;\n",
       "    var x1 = msg['x1'] / mpl.ratio;\n",
       "    var y1 = (fig.canvas.height - msg['y1']) / mpl.ratio;\n",
       "    x0 = Math.floor(x0) + 0.5;\n",
       "    y0 = Math.floor(y0) + 0.5;\n",
       "    x1 = Math.floor(x1) + 0.5;\n",
       "    y1 = Math.floor(y1) + 0.5;\n",
       "    var min_x = Math.min(x0, x1);\n",
       "    var min_y = Math.min(y0, y1);\n",
       "    var width = Math.abs(x1 - x0);\n",
       "    var height = Math.abs(y1 - y0);\n",
       "\n",
       "    fig.rubberband_context.clearRect(\n",
       "        0, 0, fig.canvas.width, fig.canvas.height);\n",
       "\n",
       "    fig.rubberband_context.strokeRect(min_x, min_y, width, height);\n",
       "}\n",
       "\n",
       "mpl.figure.prototype.handle_figure_label = function(fig, msg) {\n",
       "    // Updates the figure title.\n",
       "    fig.header.textContent = msg['label'];\n",
       "}\n",
       "\n",
       "mpl.figure.prototype.handle_cursor = function(fig, msg) {\n",
       "    var cursor = msg['cursor'];\n",
       "    switch(cursor)\n",
       "    {\n",
       "    case 0:\n",
       "        cursor = 'pointer';\n",
       "        break;\n",
       "    case 1:\n",
       "        cursor = 'default';\n",
       "        break;\n",
       "    case 2:\n",
       "        cursor = 'crosshair';\n",
       "        break;\n",
       "    case 3:\n",
       "        cursor = 'move';\n",
       "        break;\n",
       "    }\n",
       "    fig.rubberband_canvas.style.cursor = cursor;\n",
       "}\n",
       "\n",
       "mpl.figure.prototype.handle_message = function(fig, msg) {\n",
       "    fig.message.textContent = msg['message'];\n",
       "}\n",
       "\n",
       "mpl.figure.prototype.handle_draw = function(fig, msg) {\n",
       "    // Request the server to send over a new figure.\n",
       "    fig.send_draw_message();\n",
       "}\n",
       "\n",
       "mpl.figure.prototype.handle_image_mode = function(fig, msg) {\n",
       "    fig.image_mode = msg['mode'];\n",
       "}\n",
       "\n",
       "mpl.figure.prototype.updated_canvas_event = function() {\n",
       "    // Called whenever the canvas gets updated.\n",
       "    this.send_message(\"ack\", {});\n",
       "}\n",
       "\n",
       "// A function to construct a web socket function for onmessage handling.\n",
       "// Called in the figure constructor.\n",
       "mpl.figure.prototype._make_on_message_function = function(fig) {\n",
       "    return function socket_on_message(evt) {\n",
       "        if (evt.data instanceof Blob) {\n",
       "            /* FIXME: We get \"Resource interpreted as Image but\n",
       "             * transferred with MIME type text/plain:\" errors on\n",
       "             * Chrome.  But how to set the MIME type?  It doesn't seem\n",
       "             * to be part of the websocket stream */\n",
       "            evt.data.type = \"image/png\";\n",
       "\n",
       "            /* Free the memory for the previous frames */\n",
       "            if (fig.imageObj.src) {\n",
       "                (window.URL || window.webkitURL).revokeObjectURL(\n",
       "                    fig.imageObj.src);\n",
       "            }\n",
       "\n",
       "            fig.imageObj.src = (window.URL || window.webkitURL).createObjectURL(\n",
       "                evt.data);\n",
       "            fig.updated_canvas_event();\n",
       "            fig.waiting = false;\n",
       "            return;\n",
       "        }\n",
       "        else if (typeof evt.data === 'string' && evt.data.slice(0, 21) == \"data:image/png;base64\") {\n",
       "            fig.imageObj.src = evt.data;\n",
       "            fig.updated_canvas_event();\n",
       "            fig.waiting = false;\n",
       "            return;\n",
       "        }\n",
       "\n",
       "        var msg = JSON.parse(evt.data);\n",
       "        var msg_type = msg['type'];\n",
       "\n",
       "        // Call the  \"handle_{type}\" callback, which takes\n",
       "        // the figure and JSON message as its only arguments.\n",
       "        try {\n",
       "            var callback = fig[\"handle_\" + msg_type];\n",
       "        } catch (e) {\n",
       "            console.log(\"No handler for the '\" + msg_type + \"' message type: \", msg);\n",
       "            return;\n",
       "        }\n",
       "\n",
       "        if (callback) {\n",
       "            try {\n",
       "                // console.log(\"Handling '\" + msg_type + \"' message: \", msg);\n",
       "                callback(fig, msg);\n",
       "            } catch (e) {\n",
       "                console.log(\"Exception inside the 'handler_\" + msg_type + \"' callback:\", e, e.stack, msg);\n",
       "            }\n",
       "        }\n",
       "    };\n",
       "}\n",
       "\n",
       "// from http://stackoverflow.com/questions/1114465/getting-mouse-location-in-canvas\n",
       "mpl.findpos = function(e) {\n",
       "    //this section is from http://www.quirksmode.org/js/events_properties.html\n",
       "    var targ;\n",
       "    if (!e)\n",
       "        e = window.event;\n",
       "    if (e.target)\n",
       "        targ = e.target;\n",
       "    else if (e.srcElement)\n",
       "        targ = e.srcElement;\n",
       "    if (targ.nodeType == 3) // defeat Safari bug\n",
       "        targ = targ.parentNode;\n",
       "\n",
       "    // jQuery normalizes the pageX and pageY\n",
       "    // pageX,Y are the mouse positions relative to the document\n",
       "    // offset() returns the position of the element relative to the document\n",
       "    var x = e.pageX - $(targ).offset().left;\n",
       "    var y = e.pageY - $(targ).offset().top;\n",
       "\n",
       "    return {\"x\": x, \"y\": y};\n",
       "};\n",
       "\n",
       "/*\n",
       " * return a copy of an object with only non-object keys\n",
       " * we need this to avoid circular references\n",
       " * http://stackoverflow.com/a/24161582/3208463\n",
       " */\n",
       "function simpleKeys (original) {\n",
       "  return Object.keys(original).reduce(function (obj, key) {\n",
       "    if (typeof original[key] !== 'object')\n",
       "        obj[key] = original[key]\n",
       "    return obj;\n",
       "  }, {});\n",
       "}\n",
       "\n",
       "mpl.figure.prototype.mouse_event = function(event, name) {\n",
       "    var canvas_pos = mpl.findpos(event)\n",
       "\n",
       "    if (name === 'button_press')\n",
       "    {\n",
       "        this.canvas.focus();\n",
       "        this.canvas_div.focus();\n",
       "    }\n",
       "\n",
       "    var x = canvas_pos.x * mpl.ratio;\n",
       "    var y = canvas_pos.y * mpl.ratio;\n",
       "\n",
       "    this.send_message(name, {x: x, y: y, button: event.button,\n",
       "                             step: event.step,\n",
       "                             guiEvent: simpleKeys(event)});\n",
       "\n",
       "    /* This prevents the web browser from automatically changing to\n",
       "     * the text insertion cursor when the button is pressed.  We want\n",
       "     * to control all of the cursor setting manually through the\n",
       "     * 'cursor' event from matplotlib */\n",
       "    event.preventDefault();\n",
       "    return false;\n",
       "}\n",
       "\n",
       "mpl.figure.prototype._key_event_extra = function(event, name) {\n",
       "    // Handle any extra behaviour associated with a key event\n",
       "}\n",
       "\n",
       "mpl.figure.prototype.key_event = function(event, name) {\n",
       "\n",
       "    // Prevent repeat events\n",
       "    if (name == 'key_press')\n",
       "    {\n",
       "        if (event.which === this._key)\n",
       "            return;\n",
       "        else\n",
       "            this._key = event.which;\n",
       "    }\n",
       "    if (name == 'key_release')\n",
       "        this._key = null;\n",
       "\n",
       "    var value = '';\n",
       "    if (event.ctrlKey && event.which != 17)\n",
       "        value += \"ctrl+\";\n",
       "    if (event.altKey && event.which != 18)\n",
       "        value += \"alt+\";\n",
       "    if (event.shiftKey && event.which != 16)\n",
       "        value += \"shift+\";\n",
       "\n",
       "    value += 'k';\n",
       "    value += event.which.toString();\n",
       "\n",
       "    this._key_event_extra(event, name);\n",
       "\n",
       "    this.send_message(name, {key: value,\n",
       "                             guiEvent: simpleKeys(event)});\n",
       "    return false;\n",
       "}\n",
       "\n",
       "mpl.figure.prototype.toolbar_button_onclick = function(name) {\n",
       "    if (name == 'download') {\n",
       "        this.handle_save(this, null);\n",
       "    } else {\n",
       "        this.send_message(\"toolbar_button\", {name: name});\n",
       "    }\n",
       "};\n",
       "\n",
       "mpl.figure.prototype.toolbar_button_onmouseover = function(tooltip) {\n",
       "    this.message.textContent = tooltip;\n",
       "};\n",
       "mpl.toolbar_items = [[\"Home\", \"Reset original view\", \"fa fa-home icon-home\", \"home\"], [\"Back\", \"Back to previous view\", \"fa fa-arrow-left icon-arrow-left\", \"back\"], [\"Forward\", \"Forward to next view\", \"fa fa-arrow-right icon-arrow-right\", \"forward\"], [\"\", \"\", \"\", \"\"], [\"Pan\", \"Pan axes with left mouse, zoom with right\", \"fa fa-arrows icon-move\", \"pan\"], [\"Zoom\", \"Zoom to rectangle\", \"fa fa-square-o icon-check-empty\", \"zoom\"], [\"\", \"\", \"\", \"\"], [\"Download\", \"Download plot\", \"fa fa-floppy-o icon-save\", \"download\"]];\n",
       "\n",
       "mpl.extensions = [\"eps\", \"jpeg\", \"pdf\", \"png\", \"ps\", \"raw\", \"svg\", \"tif\"];\n",
       "\n",
       "mpl.default_extension = \"png\";var comm_websocket_adapter = function(comm) {\n",
       "    // Create a \"websocket\"-like object which calls the given IPython comm\n",
       "    // object with the appropriate methods. Currently this is a non binary\n",
       "    // socket, so there is still some room for performance tuning.\n",
       "    var ws = {};\n",
       "\n",
       "    ws.close = function() {\n",
       "        comm.close()\n",
       "    };\n",
       "    ws.send = function(m) {\n",
       "        //console.log('sending', m);\n",
       "        comm.send(m);\n",
       "    };\n",
       "    // Register the callback with on_msg.\n",
       "    comm.on_msg(function(msg) {\n",
       "        //console.log('receiving', msg['content']['data'], msg);\n",
       "        // Pass the mpl event to the overridden (by mpl) onmessage function.\n",
       "        ws.onmessage(msg['content']['data'])\n",
       "    });\n",
       "    return ws;\n",
       "}\n",
       "\n",
       "mpl.mpl_figure_comm = function(comm, msg) {\n",
       "    // This is the function which gets called when the mpl process\n",
       "    // starts-up an IPython Comm through the \"matplotlib\" channel.\n",
       "\n",
       "    var id = msg.content.data.id;\n",
       "    // Get hold of the div created by the display call when the Comm\n",
       "    // socket was opened in Python.\n",
       "    var element = $(\"#\" + id);\n",
       "    var ws_proxy = comm_websocket_adapter(comm)\n",
       "\n",
       "    function ondownload(figure, format) {\n",
       "        window.open(figure.imageObj.src);\n",
       "    }\n",
       "\n",
       "    var fig = new mpl.figure(id, ws_proxy,\n",
       "                           ondownload,\n",
       "                           element.get(0));\n",
       "\n",
       "    // Call onopen now - mpl needs it, as it is assuming we've passed it a real\n",
       "    // web socket which is closed, not our websocket->open comm proxy.\n",
       "    ws_proxy.onopen();\n",
       "\n",
       "    fig.parent_element = element.get(0);\n",
       "    fig.cell_info = mpl.find_output_cell(\"<div id='\" + id + \"'></div>\");\n",
       "    if (!fig.cell_info) {\n",
       "        console.error(\"Failed to find cell for figure\", id, fig);\n",
       "        return;\n",
       "    }\n",
       "\n",
       "    var output_index = fig.cell_info[2]\n",
       "    var cell = fig.cell_info[0];\n",
       "\n",
       "};\n",
       "\n",
       "mpl.figure.prototype.handle_close = function(fig, msg) {\n",
       "    var width = fig.canvas.width/mpl.ratio\n",
       "    fig.root.unbind('remove')\n",
       "\n",
       "    // Update the output cell to use the data from the current canvas.\n",
       "    fig.push_to_output();\n",
       "    var dataURL = fig.canvas.toDataURL();\n",
       "    // Re-enable the keyboard manager in IPython - without this line, in FF,\n",
       "    // the notebook keyboard shortcuts fail.\n",
       "    IPython.keyboard_manager.enable()\n",
       "    $(fig.parent_element).html('<img src=\"' + dataURL + '\" width=\"' + width + '\">');\n",
       "    fig.close_ws(fig, msg);\n",
       "}\n",
       "\n",
       "mpl.figure.prototype.close_ws = function(fig, msg){\n",
       "    fig.send_message('closing', msg);\n",
       "    // fig.ws.close()\n",
       "}\n",
       "\n",
       "mpl.figure.prototype.push_to_output = function(remove_interactive) {\n",
       "    // Turn the data on the canvas into data in the output cell.\n",
       "    var width = this.canvas.width/mpl.ratio\n",
       "    var dataURL = this.canvas.toDataURL();\n",
       "    this.cell_info[1]['text/html'] = '<img src=\"' + dataURL + '\" width=\"' + width + '\">';\n",
       "}\n",
       "\n",
       "mpl.figure.prototype.updated_canvas_event = function() {\n",
       "    // Tell IPython that the notebook contents must change.\n",
       "    IPython.notebook.set_dirty(true);\n",
       "    this.send_message(\"ack\", {});\n",
       "    var fig = this;\n",
       "    // Wait a second, then push the new image to the DOM so\n",
       "    // that it is saved nicely (might be nice to debounce this).\n",
       "    setTimeout(function () { fig.push_to_output() }, 1000);\n",
       "}\n",
       "\n",
       "mpl.figure.prototype._init_toolbar = function() {\n",
       "    var fig = this;\n",
       "\n",
       "    var nav_element = $('<div/>');\n",
       "    nav_element.attr('style', 'width: 100%');\n",
       "    this.root.append(nav_element);\n",
       "\n",
       "    // Define a callback function for later on.\n",
       "    function toolbar_event(event) {\n",
       "        return fig.toolbar_button_onclick(event['data']);\n",
       "    }\n",
       "    function toolbar_mouse_event(event) {\n",
       "        return fig.toolbar_button_onmouseover(event['data']);\n",
       "    }\n",
       "\n",
       "    for(var toolbar_ind in mpl.toolbar_items){\n",
       "        var name = mpl.toolbar_items[toolbar_ind][0];\n",
       "        var tooltip = mpl.toolbar_items[toolbar_ind][1];\n",
       "        var image = mpl.toolbar_items[toolbar_ind][2];\n",
       "        var method_name = mpl.toolbar_items[toolbar_ind][3];\n",
       "\n",
       "        if (!name) { continue; };\n",
       "\n",
       "        var button = $('<button class=\"btn btn-default\" href=\"#\" title=\"' + name + '\"><i class=\"fa ' + image + ' fa-lg\"></i></button>');\n",
       "        button.click(method_name, toolbar_event);\n",
       "        button.mouseover(tooltip, toolbar_mouse_event);\n",
       "        nav_element.append(button);\n",
       "    }\n",
       "\n",
       "    // Add the status bar.\n",
       "    var status_bar = $('<span class=\"mpl-message\" style=\"text-align:right; float: right;\"/>');\n",
       "    nav_element.append(status_bar);\n",
       "    this.message = status_bar[0];\n",
       "\n",
       "    // Add the close button to the window.\n",
       "    var buttongrp = $('<div class=\"btn-group inline pull-right\"></div>');\n",
       "    var button = $('<button class=\"btn btn-mini btn-primary\" href=\"#\" title=\"Stop Interaction\"><i class=\"fa fa-power-off icon-remove icon-large\"></i></button>');\n",
       "    button.click(function (evt) { fig.handle_close(fig, {}); } );\n",
       "    button.mouseover('Stop Interaction', toolbar_mouse_event);\n",
       "    buttongrp.append(button);\n",
       "    var titlebar = this.root.find($('.ui-dialog-titlebar'));\n",
       "    titlebar.prepend(buttongrp);\n",
       "}\n",
       "\n",
       "mpl.figure.prototype._root_extra_style = function(el){\n",
       "    var fig = this\n",
       "    el.on(\"remove\", function(){\n",
       "\tfig.close_ws(fig, {});\n",
       "    });\n",
       "}\n",
       "\n",
       "mpl.figure.prototype._canvas_extra_style = function(el){\n",
       "    // this is important to make the div 'focusable\n",
       "    el.attr('tabindex', 0)\n",
       "    // reach out to IPython and tell the keyboard manager to turn it's self\n",
       "    // off when our div gets focus\n",
       "\n",
       "    // location in version 3\n",
       "    if (IPython.notebook.keyboard_manager) {\n",
       "        IPython.notebook.keyboard_manager.register_events(el);\n",
       "    }\n",
       "    else {\n",
       "        // location in version 2\n",
       "        IPython.keyboard_manager.register_events(el);\n",
       "    }\n",
       "\n",
       "}\n",
       "\n",
       "mpl.figure.prototype._key_event_extra = function(event, name) {\n",
       "    var manager = IPython.notebook.keyboard_manager;\n",
       "    if (!manager)\n",
       "        manager = IPython.keyboard_manager;\n",
       "\n",
       "    // Check for shift+enter\n",
       "    if (event.shiftKey && event.which == 13) {\n",
       "        this.canvas_div.blur();\n",
       "        event.shiftKey = false;\n",
       "        // Send a \"J\" for go to next cell\n",
       "        event.which = 74;\n",
       "        event.keyCode = 74;\n",
       "        manager.command_mode();\n",
       "        manager.handle_keydown(event);\n",
       "    }\n",
       "}\n",
       "\n",
       "mpl.figure.prototype.handle_save = function(fig, msg) {\n",
       "    fig.ondownload(fig, null);\n",
       "}\n",
       "\n",
       "\n",
       "mpl.find_output_cell = function(html_output) {\n",
       "    // Return the cell and output element which can be found *uniquely* in the notebook.\n",
       "    // Note - this is a bit hacky, but it is done because the \"notebook_saving.Notebook\"\n",
       "    // IPython event is triggered only after the cells have been serialised, which for\n",
       "    // our purposes (turning an active figure into a static one), is too late.\n",
       "    var cells = IPython.notebook.get_cells();\n",
       "    var ncells = cells.length;\n",
       "    for (var i=0; i<ncells; i++) {\n",
       "        var cell = cells[i];\n",
       "        if (cell.cell_type === 'code'){\n",
       "            for (var j=0; j<cell.output_area.outputs.length; j++) {\n",
       "                var data = cell.output_area.outputs[j];\n",
       "                if (data.data) {\n",
       "                    // IPython >= 3 moved mimebundle to data attribute of output\n",
       "                    data = data.data;\n",
       "                }\n",
       "                if (data['text/html'] == html_output) {\n",
       "                    return [cell, data, j];\n",
       "                }\n",
       "            }\n",
       "        }\n",
       "    }\n",
       "}\n",
       "\n",
       "// Register the function which deals with the matplotlib target/channel.\n",
       "// The kernel may be null if the page has been refreshed.\n",
       "if (IPython.notebook.kernel != null) {\n",
       "    IPython.notebook.kernel.comm_manager.register_target('matplotlib', mpl.mpl_figure_comm);\n",
       "}\n"
      ],
      "text/plain": [
       "<IPython.core.display.Javascript object>"
      ]
     },
     "metadata": {},
     "output_type": "display_data"
    },
    {
     "data": {
      "text/html": [
       "<img src=\"data:image/png;base64,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\" width=\"640\">"
      ],
      "text/plain": [
       "<IPython.core.display.HTML object>"
      ]
     },
     "metadata": {},
     "output_type": "display_data"
    },
    {
     "data": {
      "application/vnd.jupyter.widget-view+json": {
       "model_id": "8938dc2c7b5b466dad2a0b72ca54c8cd",
       "version_major": 2,
       "version_minor": 0
      },
      "text/plain": [
       "interactive(children=(IntSlider(value=0, description='layer', max=6), Output()), _dom_classes=('widget-interac…"
      ]
     },
     "metadata": {},
     "output_type": "display_data"
    }
   ],
   "source": [
    "#This function gets the parameters from the config.json file \n",
    "def get_instance(module, name, config, *args):\n",
    "    return getattr(module, config[name]['type'])(*args, **config[name]['args'])\n",
    "\n",
    "data_loader = get_instance(module_data, 'data_loader', config) #looks in data_loader/data_loaders.py for 'MNISTDataLoader'\n",
    "print(\"Total number of training images = \" + str(data_loader.dataset.data_len))\n",
    "valid_data_loader = data_loader.split_validation() #allocate some images as validation\n",
    "\n",
    "normalized = False\n",
    "util.visualizeBatch(data_loader, normalized) "
   ]
  },
  {
   "cell_type": "code",
   "execution_count": 2,
   "metadata": {},
   "outputs": [],
   "source": [
    "#This function gets the parameters from the config.json file \n",
    "def get_instance(module, name, config, *args):\n",
    "    return getattr(module, config[name]['type'])(*args, **config[name]['args'])\n",
    "\n",
    "def set_instance(module, name, config, *args):\n",
    "    setattr(module, config[name]['type'])(*args, **config[name]['args'])\n",
    "\n",
    "def main(config, resume):\n",
    "    train_logger = Logger() #uses entries to store training performance metrics\n",
    "    device = torch.device('cuda' if torch.cuda.is_available() else 'cpu')\n",
    "    \n",
    "    # setup data_loader instances\n",
    "    data_loader = get_instance(module_data, 'data_loader', config) #looks in data_loader/data_loaders.py for 'MNISTDataLoader'\n",
    "    print(\"Total number of training images = \" + str(data_loader.dataset.data_len))\n",
    "    valid_data_loader = data_loader.split_validation() #allocate some images as validation\n",
    "\n",
    "    # build model architecture\n",
    "    model = get_instance(module_arch, 'arch', config) #looks in the model/model.py for 'MnistModel', as specified by config\n",
    "    print(model)\n",
    "    torchsummary.summary(model, (1,7,32,32))\n",
    "     \n",
    "    \n",
    "    if torch.cuda.is_available():\n",
    "        print(\"Using GPU: \" + torch.cuda.get_device_name(0))\n",
    "    else:\n",
    "        print(\"Using CPU to train\")\n",
    "    \n",
    "    \n",
    "    # get function handles of loss and metrics\n",
    "    loss = getattr(module_loss, config['loss']) #looks in model/loss.py for criterion function specified in config\n",
    "    criterion = loss(data_loader.dataset.weight.to(device)) # for imbalanced datasets\n",
    "    metrics = [getattr(module_metric, met) for met in config['metrics']] #get all the metrics in model/metrics.py - default is accuracy and top 3 accuracy\n",
    "\n",
    "    # build optimizer, learning rate scheduler. delete every lines containing lr_scheduler for disabling scheduler\n",
    "    trainable_params = filter(lambda p: p.requires_grad, model.parameters()) #Number of training params\n",
    "    optimizer = get_instance(torch.optim, 'optimizer', config, trainable_params)\n",
    "    lr_scheduler = get_instance(torch.optim.lr_scheduler, 'lr_scheduler', config, optimizer)\n",
    "\n",
    "    \n",
    "    trainer = Trainer(model, criterion, metrics, optimizer,\n",
    "                      resume=resume, #choose a previous epoch to start training from\n",
    "                      config=config,\n",
    "                      data_loader=data_loader,\n",
    "                      valid_data_loader=valid_data_loader,\n",
    "                      lr_scheduler=lr_scheduler,\n",
    "                      train_logger=train_logger)\n",
    "    \n",
    "    \n",
    "    findLR = False\n",
    "    if findLR:\n",
    "        #set lr = 1e-7 in config file \n",
    "        device_lr = torch.device('cuda' if torch.cuda.is_available() else 'cpu')\n",
    "        lr_finder_training = lr_finder.LRFinder(model, optimizer, criterion, device=device_lr)\n",
    "        lr_finder_training.range_test(data_loader, end_lr=1, num_iter=100, val_loader = valid_data_loader)\n",
    "        lr_finder_training.plot(skip_start = 10, skip_end=5)\n",
    "        # trim the first 10 and last 5 iteration from calculating loss (num_iter > skip_start + skip_end)\n",
    "    else:\n",
    "        trainer.train()\n",
    "        a=1\n",
    "    \n",
    " "
   ]
  },
  {
   "cell_type": "code",
   "execution_count": 3,
   "metadata": {},
   "outputs": [],
   "source": [
    "config_file = '../configs/config_hdf5_overlay.json'\n",
    "\n",
    "# load config file\n",
    "with open(config_file) as handle:\n",
    "    config = json.load(handle)\n",
    "# setting path to save trained models and log files\n",
    "path = os.path.join(config['trainer']['save_dir'], config['name'])"
   ]
  },
  {
   "cell_type": "code",
   "execution_count": null,
   "metadata": {},
   "outputs": [
    {
     "name": "stdout",
     "output_type": "stream",
     "text": [
      "Total number of training images = 1946\n",
      "threeDmodel(\n",
      "  (conv_layer1): Sequential(\n",
      "    (0): Conv3d(1, 32, kernel_size=(3, 3, 3), stride=(1, 1, 1), padding=(1, 1, 1))\n",
      "    (1): BatchNorm3d(32, eps=1e-05, momentum=0.1, affine=True, track_running_stats=True)\n",
      "    (2): LeakyReLU(negative_slope=0.01)\n",
      "    (3): Conv3d(32, 32, kernel_size=(3, 3, 3), stride=(1, 1, 1), padding=(1, 1, 1))\n",
      "    (4): BatchNorm3d(32, eps=1e-05, momentum=0.1, affine=True, track_running_stats=True)\n",
      "    (5): LeakyReLU(negative_slope=0.01)\n",
      "    (6): MaxPool3d(kernel_size=(2, 2, 2), stride=(2, 2, 2), padding=0, dilation=1, ceil_mode=False)\n",
      "  )\n",
      "  (conv_layer2): Sequential(\n",
      "    (0): Conv3d(32, 64, kernel_size=(3, 3, 3), stride=(1, 1, 1), padding=(1, 1, 1))\n",
      "    (1): BatchNorm3d(64, eps=1e-05, momentum=0.1, affine=True, track_running_stats=True)\n",
      "    (2): LeakyReLU(negative_slope=0.01)\n",
      "    (3): Conv3d(64, 64, kernel_size=(3, 3, 3), stride=(1, 1, 1), padding=(1, 1, 1))\n",
      "    (4): BatchNorm3d(64, eps=1e-05, momentum=0.1, affine=True, track_running_stats=True)\n",
      "    (5): LeakyReLU(negative_slope=0.01)\n",
      "    (6): MaxPool3d(kernel_size=(2, 2, 2), stride=(2, 2, 2), padding=0, dilation=1, ceil_mode=False)\n",
      "  )\n",
      "  (conv_layer3): Sequential(\n",
      "    (0): Conv3d(64, 128, kernel_size=(3, 3, 3), stride=(1, 1, 1), padding=(1, 1, 1))\n",
      "    (1): BatchNorm3d(128, eps=1e-05, momentum=0.1, affine=True, track_running_stats=True)\n",
      "    (2): LeakyReLU(negative_slope=0.01)\n",
      "    (3): Conv3d(128, 128, kernel_size=(3, 3, 3), stride=(1, 1, 1), padding=(1, 1, 1))\n",
      "    (4): BatchNorm3d(128, eps=1e-05, momentum=0.1, affine=True, track_running_stats=True)\n",
      "    (5): LeakyReLU(negative_slope=0.01)\n",
      "    (6): MaxPool3d(kernel_size=(2, 2, 2), stride=(2, 2, 2), padding=0, dilation=1, ceil_mode=False)\n",
      "  )\n",
      "  (conv_layer4): Conv3d(128, 256, kernel_size=(1, 3, 3), stride=(1, 1, 1), padding=(0, 1, 1))\n",
      "  (fc5): Linear(in_features=4096, out_features=256, bias=True)\n",
      "  (relu): LeakyReLU(negative_slope=0.01)\n",
      "  (batch0): BatchNorm1d(256, eps=1e-05, momentum=0.1, affine=True, track_running_stats=True)\n",
      "  (drop): Dropout(p=0.5)\n",
      "  (fc6): Linear(in_features=256, out_features=128, bias=True)\n",
      "  (relu1): LeakyReLU(negative_slope=0.01)\n",
      "  (batch1): BatchNorm1d(128, eps=1e-05, momentum=0.1, affine=True, track_running_stats=True)\n",
      "  (drop1): Dropout(p=0.5)\n",
      "  (fc7): Linear(in_features=128, out_features=2, bias=True)\n",
      ")\n",
      "Trainable parameters: 2237218\n",
      "----------------------------------------------------------------\n",
      "        Layer (type)               Output Shape         Param #\n",
      "================================================================\n",
      "            Conv3d-1        [-1, 32, 7, 32, 32]             896\n",
      "       BatchNorm3d-2        [-1, 32, 7, 32, 32]              64\n",
      "         LeakyReLU-3        [-1, 32, 7, 32, 32]               0\n",
      "            Conv3d-4        [-1, 32, 7, 32, 32]          27,680\n",
      "       BatchNorm3d-5        [-1, 32, 7, 32, 32]              64\n",
      "         LeakyReLU-6        [-1, 32, 7, 32, 32]               0\n",
      "         MaxPool3d-7        [-1, 32, 3, 16, 16]               0\n",
      "            Conv3d-8        [-1, 64, 3, 16, 16]          55,360\n",
      "       BatchNorm3d-9        [-1, 64, 3, 16, 16]             128\n",
      "        LeakyReLU-10        [-1, 64, 3, 16, 16]               0\n",
      "           Conv3d-11        [-1, 64, 3, 16, 16]         110,656\n",
      "      BatchNorm3d-12        [-1, 64, 3, 16, 16]             128\n",
      "        LeakyReLU-13        [-1, 64, 3, 16, 16]               0\n",
      "        MaxPool3d-14          [-1, 64, 1, 8, 8]               0\n",
      "           Conv3d-15         [-1, 128, 1, 8, 8]         221,312\n",
      "      BatchNorm3d-16         [-1, 128, 1, 8, 8]             256\n",
      "        LeakyReLU-17         [-1, 128, 1, 8, 8]               0\n",
      "           Conv3d-18         [-1, 128, 1, 8, 8]         442,496\n",
      "      BatchNorm3d-19         [-1, 128, 1, 8, 8]             256\n",
      "        LeakyReLU-20         [-1, 128, 1, 8, 8]               0\n",
      "        MaxPool3d-21         [-1, 128, 1, 4, 4]               0\n",
      "           Conv3d-22         [-1, 256, 1, 4, 4]         295,168\n",
      "           Linear-23                  [-1, 256]       1,048,832\n",
      "        LeakyReLU-24                  [-1, 256]               0\n",
      "      BatchNorm1d-25                  [-1, 256]             512\n",
      "          Dropout-26                  [-1, 256]               0\n",
      "           Linear-27                  [-1, 128]          32,896\n",
      "        LeakyReLU-28                  [-1, 128]               0\n",
      "      BatchNorm1d-29                  [-1, 128]             256\n",
      "          Dropout-30                  [-1, 128]               0\n",
      "           Linear-31                    [-1, 2]             258\n",
      "================================================================\n",
      "Total params: 2,237,218\n",
      "Trainable params: 2,237,218\n",
      "Non-trainable params: 0\n",
      "----------------------------------------------------------------\n",
      "Input size (MB): 0.03\n",
      "Forward/backward pass size (MB): 13.40\n",
      "Params size (MB): 8.53\n",
      "Estimated Total Size (MB): 21.96\n",
      "----------------------------------------------------------------\n",
      "Using GPU: Tesla K80\n"
     ]
    },
    {
     "name": "stderr",
     "output_type": "stream",
     "text": [
      "    epoch          : 1\n",
      "    loss           : 0.7754300534725189\n",
      "    my_metric      : 0.5897836538461538\n",
      "    f1             : 0.5590883939100547\n",
      "    balanced_accuracy: 0.5378852980294082\n",
      "    precision      : 0.5689640683987618\n",
      "    recall         : 0.5897836538461538\n",
      "    val_loss       : 0.630149757862091\n",
      "    val_my_metric  : 0.6091071428571428\n",
      "    val_f1         : 0.4635485849165729\n",
      "    val_balanced_accuracy: 0.5\n",
      "    val_precision  : 0.37614014668367346\n",
      "    val_recall     : 0.6091071428571428\n",
      "Saving checkpoint: ../saved/IMPRS_hdf5_volume_AllDAPI_noise/0710_173623/checkpoint-epoch1.pth ...\n",
      "Saving current best: model_best.pth ...\n",
      "    epoch          : 2\n",
      "    loss           : 0.7421736487975488\n",
      "    my_metric      : 0.5880791083916084\n",
      "    f1             : 0.5533009464579647\n",
      "    balanced_accuracy: 0.530328874845426\n",
      "    precision      : 0.5704386007481307\n",
      "    recall         : 0.5880791083916084\n",
      "    val_loss       : 0.6511861920356751\n",
      "    val_my_metric  : 0.5778571428571428\n",
      "    val_f1         : 0.4828212633987944\n",
      "    val_balanced_accuracy: 0.48574510388532277\n",
      "    val_precision  : 0.5044429024000546\n",
      "    val_recall     : 0.5778571428571428\n"
     ]
    },
    {
     "name": "stdout",
     "output_type": "stream",
     "text": [
      "Model has not improved in -------------| 1 epochs\n"
     ]
    },
    {
     "name": "stderr",
     "output_type": "stream",
     "text": [
      "    epoch          : 3\n",
      "    loss           : 0.7066849836936364\n",
      "    my_metric      : 0.6148164335664336\n",
      "    f1             : 0.5760365426339586\n",
      "    balanced_accuracy: 0.5530688013562278\n",
      "    precision      : 0.6011788506449762\n",
      "    recall         : 0.6148164335664336\n",
      "    val_loss       : 0.5392839431762695\n",
      "    val_my_metric  : 0.7167857142857142\n",
      "    val_f1         : 0.690585996201446\n",
      "    val_balanced_accuracy: 0.6530430126482758\n",
      "    val_precision  : 0.7364197078690004\n",
      "    val_recall     : 0.7167857142857142\n",
      "Saving checkpoint: ../saved/IMPRS_hdf5_volume_AllDAPI_noise/0710_173623/checkpoint-epoch3.pth ...\n",
      "Saving current best: model_best.pth ...\n",
      "    epoch          : 4\n",
      "    loss           : 0.69059491616029\n",
      "    my_metric      : 0.6418597027972027\n",
      "    f1             : 0.6135351088135705\n",
      "    balanced_accuracy: 0.586109881437206\n",
      "    precision      : 0.6331050061138661\n",
      "    recall         : 0.6418597027972027\n",
      "    val_loss       : 0.5796248912811279\n",
      "    val_my_metric  : 0.6663392857142857\n",
      "    val_f1         : 0.6511850948089782\n",
      "    val_balanced_accuracy: 0.6189949257764741\n",
      "    val_precision  : 0.6528263162716696\n",
      "    val_recall     : 0.6663392857142857\n"
     ]
    },
    {
     "name": "stdout",
     "output_type": "stream",
     "text": [
      "Model has not improved in -------------| 1 epochs\n"
     ]
    },
    {
     "name": "stderr",
     "output_type": "stream",
     "text": [
      "    epoch          : 5\n",
      "    loss           : 0.6485408223592318\n",
      "    my_metric      : 0.660194493006993\n",
      "    f1             : 0.6341274361230653\n",
      "    balanced_accuracy: 0.6077911091256585\n",
      "    precision      : 0.6608205465218295\n",
      "    recall         : 0.660194493006993\n",
      "    val_loss       : 0.5291308760643005\n",
      "    val_my_metric  : 0.7141964285714286\n",
      "    val_f1         : 0.6559931933129451\n",
      "    val_balanced_accuracy: 0.6202394999839326\n",
      "    val_precision  : 0.7923119674556149\n",
      "    val_recall     : 0.7141964285714286\n",
      "Saving checkpoint: ../saved/IMPRS_hdf5_volume_AllDAPI_noise/0710_173623/checkpoint-epoch5.pth ...\n",
      "Saving current best: model_best.pth ...\n",
      "    epoch          : 6\n",
      "    loss           : 0.6380661783310083\n",
      "    my_metric      : 0.6606971153846154\n",
      "    f1             : 0.6351486960976233\n",
      "    balanced_accuracy: 0.6096444919693976\n",
      "    precision      : 0.659817264447496\n",
      "    recall         : 0.6606971153846154\n",
      "    val_loss       : 0.493021035194397\n",
      "    val_my_metric  : 0.7693749999999999\n",
      "    val_f1         : 0.7602533234348884\n",
      "    val_balanced_accuracy: 0.7324716599190284\n",
      "    val_precision  : 0.7711319725377757\n",
      "    val_recall     : 0.7693749999999999\n",
      "Saving checkpoint: ../saved/IMPRS_hdf5_volume_AllDAPI_noise/0710_173623/checkpoint-epoch6.pth ...\n",
      "Saving current best: model_best.pth ...\n",
      "    epoch          : 7\n",
      "    loss           : 0.6098266530495423\n",
      "    my_metric      : 0.6860249125874126\n",
      "    f1             : 0.6672837688681241\n",
      "    balanced_accuracy: 0.6429126387819092\n",
      "    precision      : 0.6881210142568649\n",
      "    recall         : 0.6860249125874126\n",
      "    val_loss       : 0.45016966462135316\n",
      "    val_my_metric  : 0.7673214285714286\n",
      "    val_f1         : 0.7466642828336203\n",
      "    val_balanced_accuracy: 0.7125863627933715\n",
      "    val_precision  : 0.8014565850815851\n",
      "    val_recall     : 0.7673214285714286\n",
      "Saving checkpoint: ../saved/IMPRS_hdf5_volume_AllDAPI_noise/0710_173623/checkpoint-epoch7.pth ...\n",
      "Saving current best: model_best.pth ...\n",
      "    epoch          : 8\n",
      "    loss           : 0.6142819512348908\n",
      "    my_metric      : 0.669798951048951\n",
      "    f1             : 0.6465160311406054\n",
      "    balanced_accuracy: 0.6224649433958257\n",
      "    precision      : 0.6765140311935471\n",
      "    recall         : 0.669798951048951\n",
      "    val_loss       : 0.4738520264625549\n",
      "    val_my_metric  : 0.7314285714285714\n",
      "    val_f1         : 0.7148141047542812\n",
      "    val_balanced_accuracy: 0.6846283968943816\n",
      "    val_precision  : 0.7403238417707508\n",
      "    val_recall     : 0.7314285714285714\n"
     ]
    },
    {
     "name": "stdout",
     "output_type": "stream",
     "text": [
      "Model has not improved in -------------| 1 epochs\n"
     ]
    },
    {
     "name": "stderr",
     "output_type": "stream",
     "text": [
      "    epoch          : 9\n",
      "    loss           : 0.5984091139756716\n",
      "    my_metric      : 0.7065559440559441\n",
      "    f1             : 0.6917642592333253\n",
      "    balanced_accuracy: 0.6663193430011118\n",
      "    precision      : 0.7100959903077284\n",
      "    recall         : 0.7065559440559441\n",
      "    val_loss       : 0.5046331286430359\n",
      "    val_my_metric  : 0.7324107142857142\n",
      "    val_f1         : 0.7177638856926304\n",
      "    val_balanced_accuracy: 0.6843876062913848\n",
      "    val_precision  : 0.7325658196178326\n",
      "    val_recall     : 0.7324107142857142\n"
     ]
    },
    {
     "name": "stdout",
     "output_type": "stream",
     "text": [
      "Model has not improved in -------------| 2 epochs\n"
     ]
    },
    {
     "name": "stderr",
     "output_type": "stream",
     "text": [
      "    epoch          : 10\n",
      "    loss           : 0.6049671138708408\n",
      "    my_metric      : 0.7159746503496505\n",
      "    f1             : 0.7003633164657075\n",
      "    balanced_accuracy: 0.6754824742813151\n",
      "    precision      : 0.7221190178825078\n",
      "    recall         : 0.7159746503496505\n",
      "    val_loss       : 0.42316548228263856\n",
      "    val_my_metric  : 0.7969642857142858\n",
      "    val_f1         : 0.7900463827248672\n",
      "    val_balanced_accuracy: 0.7628401521208275\n",
      "    val_precision  : 0.8068323105193814\n",
      "    val_recall     : 0.7969642857142858\n",
      "Saving checkpoint: ../saved/IMPRS_hdf5_volume_AllDAPI_noise/0710_173623/checkpoint-epoch10.pth ...\n",
      "Saving current best: model_best.pth ...\n",
      "    epoch          : 11\n",
      "    loss           : 0.5465549001326928\n",
      "    my_metric      : 0.7315996503496505\n",
      "    f1             : 0.719117175986637\n",
      "    balanced_accuracy: 0.6977379771399578\n",
      "    precision      : 0.7402180907012917\n",
      "    recall         : 0.7315996503496505\n",
      "    val_loss       : 0.4286908388137817\n",
      "    val_my_metric  : 0.7860714285714285\n",
      "    val_f1         : 0.7784796740480806\n",
      "    val_balanced_accuracy: 0.7578008258740944\n",
      "    val_precision  : 0.7900524746165392\n",
      "    val_recall     : 0.7860714285714285\n"
     ]
    },
    {
     "name": "stdout",
     "output_type": "stream",
     "text": [
      "Model has not improved in -------------| 1 epochs\n"
     ]
    },
    {
     "name": "stderr",
     "output_type": "stream",
     "text": [
      "    epoch          : 12\n",
      "    loss           : 0.5512160016940191\n",
      "    my_metric      : 0.7263876748251749\n",
      "    f1             : 0.7148370014973385\n",
      "    balanced_accuracy: 0.690936140117452\n",
      "    precision      : 0.7314524733162979\n",
      "    recall         : 0.7263876748251749\n",
      "    val_loss       : 0.5012175023555756\n",
      "    val_my_metric  : 0.7605357142857143\n",
      "    val_f1         : 0.7569320556802068\n",
      "    val_balanced_accuracy: 0.7351866203971467\n",
      "    val_precision  : 0.7598982518877907\n",
      "    val_recall     : 0.7605357142857143\n"
     ]
    },
    {
     "name": "stdout",
     "output_type": "stream",
     "text": [
      "Model has not improved in -------------| 2 epochs\n"
     ]
    },
    {
     "name": "stderr",
     "output_type": "stream",
     "text": [
      "    epoch          : 13\n",
      "    loss           : 0.5053576735349802\n",
      "    my_metric      : 0.7508304195804196\n",
      "    f1             : 0.7400764147031509\n",
      "    balanced_accuracy: 0.7151408220854463\n",
      "    precision      : 0.7591924340464163\n",
      "    recall         : 0.7508304195804196\n",
      "    val_loss       : 0.4740588843822479\n",
      "    val_my_metric  : 0.7386607142857142\n",
      "    val_f1         : 0.7123347321943925\n",
      "    val_balanced_accuracy: 0.671119665022613\n",
      "    val_precision  : 0.7634743383611918\n",
      "    val_recall     : 0.7386607142857142\n"
     ]
    },
    {
     "name": "stdout",
     "output_type": "stream",
     "text": [
      "Model has not improved in -------------| 3 epochs\n"
     ]
    },
    {
     "name": "stderr",
     "output_type": "stream",
     "text": [
      "    epoch          : 14\n",
      "    loss           : 0.5008845226122782\n",
      "    my_metric      : 0.7435314685314686\n",
      "    f1             : 0.7313275523042978\n",
      "    balanced_accuracy: 0.7091275823079193\n",
      "    precision      : 0.755231441250399\n",
      "    recall         : 0.7435314685314686\n",
      "    val_loss       : 0.4736992120742798\n",
      "    val_my_metric  : 0.8089285714285713\n",
      "    val_f1         : 0.8100248544099428\n",
      "    val_balanced_accuracy: 0.7988678655102779\n",
      "    val_precision  : 0.8156160829795794\n",
      "    val_recall     : 0.8089285714285713\n"
     ]
    },
    {
     "name": "stdout",
     "output_type": "stream",
     "text": [
      "Model has not improved in -------------| 4 epochs\n"
     ]
    },
    {
     "name": "stderr",
     "output_type": "stream",
     "text": [
      "    epoch          : 15\n",
      "    loss           : 0.4991532266139984\n",
      "    my_metric      : 0.7501201923076923\n",
      "    f1             : 0.7405338890026031\n",
      "    balanced_accuracy: 0.7177218780034589\n",
      "    precision      : 0.7594243208997867\n",
      "    recall         : 0.7501201923076923\n",
      "    val_loss       : 0.4721669614315033\n",
      "    val_my_metric  : 0.7334821428571429\n",
      "    val_f1         : 0.7107760644266697\n",
      "    val_balanced_accuracy: 0.671917729591659\n",
      "    val_precision  : 0.7495067020523204\n",
      "    val_recall     : 0.7334821428571429\n"
     ]
    },
    {
     "name": "stdout",
     "output_type": "stream",
     "text": [
      "Model has not improved in -------------| 5 epochs\n"
     ]
    },
    {
     "name": "stderr",
     "output_type": "stream",
     "text": [
      "    epoch          : 16\n",
      "    loss           : 0.5220800088002131\n",
      "    my_metric      : 0.7437172202797202\n",
      "    f1             : 0.7341933385292717\n",
      "    balanced_accuracy: 0.711207532584258\n",
      "    precision      : 0.7550083817369001\n",
      "    recall         : 0.7437172202797202\n",
      "    val_loss       : 0.4225699007511139\n",
      "    val_my_metric  : 0.7844642857142857\n",
      "    val_f1         : 0.7778931811724218\n",
      "    val_balanced_accuracy: 0.7502776753423624\n",
      "    val_precision  : 0.7867629662557067\n",
      "    val_recall     : 0.7844642857142857\n",
      "Saving checkpoint: ../saved/IMPRS_hdf5_volume_AllDAPI_noise/0710_173623/checkpoint-epoch16.pth ...\n",
      "Saving current best: model_best.pth ...\n",
      "    epoch          : 17\n",
      "    loss           : 0.5231656844799335\n",
      "    my_metric      : 0.7445148601398602\n",
      "    f1             : 0.7329804442968099\n",
      "    balanced_accuracy: 0.7082475220100111\n",
      "    precision      : 0.7539552789171627\n",
      "    recall         : 0.7445148601398602\n",
      "    val_loss       : 0.5160439789295197\n",
      "    val_my_metric  : 0.7375892857142857\n",
      "    val_f1         : 0.7182163583357644\n",
      "    val_balanced_accuracy: 0.6819057245386431\n",
      "    val_precision  : 0.7443113728397341\n",
      "    val_recall     : 0.7375892857142857\n"
     ]
    },
    {
     "name": "stdout",
     "output_type": "stream",
     "text": [
      "Model has not improved in -------------| 1 epochs\n"
     ]
    },
    {
     "name": "stderr",
     "output_type": "stream",
     "text": [
      "    epoch          : 18\n",
      "    loss           : 0.5348428980662272\n",
      "    my_metric      : 0.7379042832167833\n",
      "    f1             : 0.728098116461037\n",
      "    balanced_accuracy: 0.7035081614550893\n",
      "    precision      : 0.7443092120626709\n",
      "    recall         : 0.7379042832167833\n",
      "    val_loss       : 0.45507118105888367\n",
      "    val_my_metric  : 0.7470535714285714\n",
      "    val_f1         : 0.7179874867068416\n",
      "    val_balanced_accuracy: 0.6819578810883159\n",
      "    val_precision  : 0.7819209721776017\n",
      "    val_recall     : 0.7470535714285714\n"
     ]
    },
    {
     "name": "stdout",
     "output_type": "stream",
     "text": [
      "Model has not improved in -------------| 2 epochs\n"
     ]
    },
    {
     "name": "stderr",
     "output_type": "stream",
     "text": [
      "    epoch          : 19\n",
      "    loss           : 0.5205419659614563\n",
      "    my_metric      : 0.753125\n",
      "    f1             : 0.7421524236146084\n",
      "    balanced_accuracy: 0.7184280342960137\n",
      "    precision      : 0.7620834881746371\n",
      "    recall         : 0.753125\n",
      "    val_loss       : 0.4355363428592682\n",
      "    val_my_metric  : 0.7641964285714286\n",
      "    val_f1         : 0.7454722055986227\n",
      "    val_balanced_accuracy: 0.7099613744401967\n",
      "    val_precision  : 0.7917606413194649\n",
      "    val_recall     : 0.7641964285714286\n"
     ]
    },
    {
     "name": "stdout",
     "output_type": "stream",
     "text": [
      "Model has not improved in -------------| 3 epochs\n"
     ]
    },
    {
     "name": "stderr",
     "output_type": "stream",
     "text": [
      "    epoch          : 20\n",
      "    loss           : 0.4968044264958455\n",
      "    my_metric      : 0.7465253496503497\n",
      "    f1             : 0.7362910570552524\n",
      "    balanced_accuracy: 0.7135209324788198\n",
      "    precision      : 0.7583351962236204\n",
      "    recall         : 0.7465253496503497\n",
      "    val_loss       : 0.43588348627090456\n",
      "    val_my_metric  : 0.7574107142857143\n",
      "    val_f1         : 0.7362708590377709\n",
      "    val_balanced_accuracy: 0.7003595955782657\n",
      "    val_precision  : 0.783459767020467\n",
      "    val_recall     : 0.7574107142857143\n"
     ]
    },
    {
     "name": "stdout",
     "output_type": "stream",
     "text": [
      "Model has not improved in -------------| 4 epochs\n"
     ]
    },
    {
     "name": "stderr",
     "output_type": "stream",
     "text": [
      "    epoch          : 21\n",
      "    loss           : 0.5113806048264871\n",
      "    my_metric      : 0.7396197552447552\n",
      "    f1             : 0.7288734648459396\n",
      "    balanced_accuracy: 0.7039062858962833\n",
      "    precision      : 0.7500811870204831\n",
      "    recall         : 0.7396197552447552\n",
      "    val_loss       : 0.40879146456718446\n",
      "    val_my_metric  : 0.7870535714285715\n",
      "    val_f1         : 0.7731939163129427\n",
      "    val_balanced_accuracy: 0.737650032762936\n",
      "    val_precision  : 0.8051375248015873\n",
      "    val_recall     : 0.7870535714285715\n",
      "Saving checkpoint: ../saved/IMPRS_hdf5_volume_AllDAPI_noise/0710_173623/checkpoint-epoch21.pth ...\n",
      "Saving current best: model_best.pth ...\n",
      "    epoch          : 22\n",
      "    loss           : 0.5150604878480618\n",
      "    my_metric      : 0.7559331293706294\n",
      "    f1             : 0.7463978433287822\n",
      "    balanced_accuracy: 0.7229847772263245\n",
      "    precision      : 0.7698330797106585\n",
      "    recall         : 0.7559331293706294\n",
      "    val_loss       : 0.4244595289230347\n",
      "    val_my_metric  : 0.8151785714285713\n",
      "    val_f1         : 0.8064556183285561\n",
      "    val_balanced_accuracy: 0.7755300411174625\n",
      "    val_precision  : 0.8264162344695356\n",
      "    val_recall     : 0.8151785714285713\n"
     ]
    },
    {
     "name": "stdout",
     "output_type": "stream",
     "text": [
      "Model has not improved in -------------| 1 epochs\n"
     ]
    },
    {
     "name": "stderr",
     "output_type": "stream",
     "text": [
      "    epoch          : 23\n",
      "    loss           : 0.5045938789844513\n",
      "    my_metric      : 0.7353037587412588\n",
      "    f1             : 0.723891987876097\n",
      "    balanced_accuracy: 0.7035505838556818\n",
      "    precision      : 0.7510738445033964\n",
      "    recall         : 0.7353037587412588\n",
      "    val_loss       : 0.4547024667263031\n",
      "    val_my_metric  : 0.7958928571428572\n",
      "    val_f1         : 0.7962162477394835\n",
      "    val_balanced_accuracy: 0.7820672064899952\n",
      "    val_precision  : 0.7990158821817303\n",
      "    val_recall     : 0.7958928571428572\n"
     ]
    },
    {
     "name": "stdout",
     "output_type": "stream",
     "text": [
      "Model has not improved in -------------| 2 epochs\n"
     ]
    },
    {
     "name": "stderr",
     "output_type": "stream",
     "text": [
      "    epoch          : 24\n",
      "    loss           : 0.4995012730360031\n",
      "    my_metric      : 0.7582277097902098\n",
      "    f1             : 0.7481799724468545\n",
      "    balanced_accuracy: 0.7248890799097386\n",
      "    precision      : 0.7621509732003382\n",
      "    recall         : 0.7582277097902098\n",
      "    val_loss       : 0.4592121183872223\n",
      "    val_my_metric  : 0.7491071428571429\n",
      "    val_f1         : 0.71578311376897\n",
      "    val_balanced_accuracy: 0.677284142399232\n",
      "    val_precision  : 0.7990766971515326\n",
      "    val_recall     : 0.7491071428571429\n"
     ]
    },
    {
     "name": "stdout",
     "output_type": "stream",
     "text": [
      "Model has not improved in -------------| 3 epochs\n"
     ]
    },
    {
     "name": "stderr",
     "output_type": "stream",
     "text": [
      "    epoch          : 25\n",
      "    loss           : 0.504189730836795\n",
      "    my_metric      : 0.7534309440559441\n",
      "    f1             : 0.7428939887163326\n",
      "    balanced_accuracy: 0.7193740910491458\n",
      "    precision      : 0.7648019030193892\n",
      "    recall         : 0.7534309440559441\n",
      "    val_loss       : 0.38381214141845704\n",
      "    val_my_metric  : 0.7907142857142857\n",
      "    val_f1         : 0.7810115078726303\n",
      "    val_balanced_accuracy: 0.7515274199484725\n",
      "    val_precision  : 0.8003831459123404\n",
      "    val_recall     : 0.7907142857142857\n",
      "Saving checkpoint: ../saved/IMPRS_hdf5_volume_AllDAPI_noise/0710_173623/checkpoint-epoch25.pth ...\n",
      "Saving current best: model_best.pth ...\n",
      "    epoch          : 26\n",
      "    loss           : 0.4935735727731998\n",
      "    my_metric      : 0.7499235139860141\n",
      "    f1             : 0.7392103193885184\n",
      "    balanced_accuracy: 0.715531906939035\n",
      "    precision      : 0.7604627735054437\n",
      "    recall         : 0.7499235139860141\n",
      "    val_loss       : 0.43059319257736206\n",
      "    val_my_metric  : 0.8151785714285713\n",
      "    val_f1         : 0.8110690503849748\n",
      "    val_balanced_accuracy: 0.7860368858587592\n",
      "    val_precision  : 0.82557010248868\n",
      "    val_recall     : 0.8151785714285713\n"
     ]
    },
    {
     "name": "stdout",
     "output_type": "stream",
     "text": [
      "Model has not improved in -------------| 1 epochs\n"
     ]
    },
    {
     "name": "stderr",
     "output_type": "stream",
     "text": [
      "    epoch          : 27\n",
      "    loss           : 0.4747687979386403\n",
      "    my_metric      : 0.7694493006993006\n",
      "    f1             : 0.7598941666539579\n",
      "    balanced_accuracy: 0.7363592488914066\n",
      "    precision      : 0.7788801954980992\n",
      "    recall         : 0.7694493006993006\n",
      "    val_loss       : 0.4236632287502289\n",
      "    val_my_metric  : 0.7975\n",
      "    val_f1         : 0.7854290491909831\n",
      "    val_balanced_accuracy: 0.7476991093721599\n",
      "    val_precision  : 0.8073066259356088\n",
      "    val_recall     : 0.7975\n"
     ]
    },
    {
     "name": "stdout",
     "output_type": "stream",
     "text": [
      "Model has not improved in -------------| 2 epochs\n"
     ]
    },
    {
     "name": "stderr",
     "output_type": "stream",
     "text": [
      "    epoch          : 28\n",
      "    loss           : 0.49041784268159133\n",
      "    my_metric      : 0.7551354895104895\n",
      "    f1             : 0.7454783632062967\n",
      "    balanced_accuracy: 0.7212838940197943\n",
      "    precision      : 0.7668279436511478\n",
      "    recall         : 0.7551354895104895\n",
      "    val_loss       : 0.4151946544647217\n",
      "    val_my_metric  : 0.8000892857142856\n",
      "    val_f1         : 0.7968919392328078\n",
      "    val_balanced_accuracy: 0.7783383810527951\n",
      "    val_precision  : 0.8035240329505935\n",
      "    val_recall     : 0.8000892857142856\n"
     ]
    },
    {
     "name": "stdout",
     "output_type": "stream",
     "text": [
      "Model has not improved in -------------| 3 epochs\n"
     ]
    },
    {
     "name": "stderr",
     "output_type": "stream",
     "text": [
      "    epoch          : 29\n",
      "    loss           : 0.4784526458153358\n",
      "    my_metric      : 0.7660511363636364\n",
      "    f1             : 0.7578740662657703\n",
      "    balanced_accuracy: 0.736359407648647\n",
      "    precision      : 0.7750377549968923\n",
      "    recall         : 0.7660511363636364\n",
      "    val_loss       : 0.43261214196681974\n",
      "    val_my_metric  : 0.7766071428571428\n",
      "    val_f1         : 0.7568936421398035\n",
      "    val_balanced_accuracy: 0.7247192289022953\n",
      "    val_precision  : 0.8027171332908252\n",
      "    val_recall     : 0.7766071428571428\n"
     ]
    },
    {
     "name": "stdout",
     "output_type": "stream",
     "text": [
      "Model has not improved in -------------| 4 epochs\n"
     ]
    },
    {
     "name": "stderr",
     "output_type": "stream",
     "text": [
      "    epoch          : 30\n",
      "    loss           : 0.49077413517695206\n",
      "    my_metric      : 0.7560314685314685\n",
      "    f1             : 0.7469103473575115\n",
      "    balanced_accuracy: 0.7217680799353283\n",
      "    precision      : 0.7626331470695443\n",
      "    recall         : 0.7560314685314685\n",
      "    val_loss       : 0.409050452709198\n",
      "    val_my_metric  : 0.7975\n",
      "    val_f1         : 0.7921085852017324\n",
      "    val_balanced_accuracy: 0.7663348165109062\n",
      "    val_precision  : 0.7986312057526498\n",
      "    val_recall     : 0.7975\n"
     ]
    },
    {
     "name": "stdout",
     "output_type": "stream",
     "text": [
      "Model has not improved in -------------| 5 epochs\n"
     ]
    },
    {
     "name": "stderr",
     "output_type": "stream",
     "text": [
      "    epoch          : 31\n",
      "    loss           : 0.48777023874796355\n",
      "    my_metric      : 0.7682583041958042\n",
      "    f1             : 0.7573758306386416\n",
      "    balanced_accuracy: 0.7352788470541167\n",
      "    precision      : 0.7814379695918551\n",
      "    recall         : 0.7682583041958042\n",
      "    val_loss       : 0.405560177564621\n",
      "    val_my_metric  : 0.7875892857142858\n",
      "    val_f1         : 0.767731025978624\n",
      "    val_balanced_accuracy: 0.7216184371184372\n",
      "    val_precision  : 0.8168769284183156\n",
      "    val_recall     : 0.7875892857142858\n"
     ]
    },
    {
     "name": "stdout",
     "output_type": "stream",
     "text": [
      "Model has not improved in -------------| 6 epochs\n"
     ]
    },
    {
     "name": "stderr",
     "output_type": "stream",
     "text": [
      "    epoch          : 32\n",
      "    loss           : 0.4735021327550595\n",
      "    my_metric      : 0.7595388986013987\n",
      "    f1             : 0.7492457324999463\n",
      "    balanced_accuracy: 0.7251229513055417\n",
      "    precision      : 0.7687372159065222\n",
      "    recall         : 0.7595388986013987\n",
      "    val_loss       : 0.46439029574394225\n",
      "    val_my_metric  : 0.7224999999999999\n",
      "    val_f1         : 0.6773127445600972\n",
      "    val_balanced_accuracy: 0.6395082350599592\n",
      "    val_precision  : 0.763825934432675\n",
      "    val_recall     : 0.7224999999999999\n"
     ]
    },
    {
     "name": "stdout",
     "output_type": "stream",
     "text": [
      "Model has not improved in -------------| 7 epochs\n"
     ]
    },
    {
     "name": "stderr",
     "output_type": "stream",
     "text": [
      "    epoch          : 33\n",
      "    loss           : 0.4870159729168965\n",
      "    my_metric      : 0.7680506993006992\n",
      "    f1             : 0.7593269132863714\n",
      "    balanced_accuracy: 0.7385673358387386\n",
      "    precision      : 0.7787699599187559\n",
      "    recall         : 0.7680506993006992\n",
      "    val_loss       : 0.391582316160202\n",
      "    val_my_metric  : 0.7875892857142858\n",
      "    val_f1         : 0.7765057620788507\n",
      "    val_balanced_accuracy: 0.7407006097350924\n",
      "    val_precision  : 0.7969060223354334\n",
      "    val_recall     : 0.7875892857142858\n"
     ]
    },
    {
     "name": "stdout",
     "output_type": "stream",
     "text": [
      "Model has not improved in -------------| 8 epochs\n"
     ]
    },
    {
     "name": "stderr",
     "output_type": "stream",
     "text": [
      "    epoch          : 34\n",
      "    loss           : 0.4639232571308429\n",
      "    my_metric      : 0.7703562062937064\n",
      "    f1             : 0.7606717027749093\n",
      "    balanced_accuracy: 0.7387913086413568\n",
      "    precision      : 0.7813530447654455\n",
      "    recall         : 0.7703562062937064\n",
      "    val_loss       : 0.39265472888946534\n",
      "    val_my_metric  : 0.8245535714285713\n",
      "    val_f1         : 0.8215983545706432\n",
      "    val_balanced_accuracy: 0.8031627731627731\n",
      "    val_precision  : 0.8258306339977851\n",
      "    val_recall     : 0.8245535714285713\n"
     ]
    },
    {
     "name": "stdout",
     "output_type": "stream",
     "text": [
      "Model has not improved in -------------| 9 epochs\n"
     ]
    },
    {
     "name": "stderr",
     "output_type": "stream",
     "text": [
      "    epoch          : 35\n",
      "    loss           : 0.4818587475098096\n",
      "    my_metric      : 0.7633413461538462\n",
      "    f1             : 0.7555739821208219\n",
      "    balanced_accuracy: 0.7320324938278\n",
      "    precision      : 0.7701040348241978\n",
      "    recall         : 0.7633413461538462\n",
      "    val_loss       : 0.4616060197353363\n",
      "    val_my_metric  : 0.79125\n",
      "    val_f1         : 0.788728379856259\n",
      "    val_balanced_accuracy: 0.7710213101711219\n",
      "    val_precision  : 0.7941521335440866\n",
      "    val_recall     : 0.79125\n"
     ]
    },
    {
     "name": "stdout",
     "output_type": "stream",
     "text": [
      "Model has not improved in -------------| 10 epochs\n"
     ]
    },
    {
     "name": "stderr",
     "output_type": "stream",
     "text": [
      "    epoch          : 36\n",
      "    loss           : 0.4820559059198086\n",
      "    my_metric      : 0.7663461538461539\n",
      "    f1             : 0.7574818050453717\n",
      "    balanced_accuracy: 0.7359432806332252\n",
      "    precision      : 0.7767204275804312\n",
      "    recall         : 0.7663461538461539\n",
      "    val_loss       : 0.41959900259971616\n",
      "    val_my_metric  : 0.7777678571428572\n",
      "    val_f1         : 0.7736309642643439\n",
      "    val_balanced_accuracy: 0.7534430238785863\n",
      "    val_precision  : 0.7816813761524499\n",
      "    val_recall     : 0.7777678571428572\n"
     ]
    },
    {
     "name": "stdout",
     "output_type": "stream",
     "text": [
      "Model has not improved in -------------| 11 epochs\n"
     ]
    },
    {
     "name": "stderr",
     "output_type": "stream",
     "text": [
      "    epoch          : 37\n",
      "    loss           : 0.4650438175751613\n",
      "    my_metric      : 0.7709680944055944\n",
      "    f1             : 0.7627695697125431\n",
      "    balanced_accuracy: 0.7402960188002239\n",
      "    precision      : 0.7810911100939981\n",
      "    recall         : 0.7709680944055944\n",
      "    val_loss       : 0.37291538119316103\n",
      "    val_my_metric  : 0.8188392857142857\n",
      "    val_f1         : 0.8109847923017602\n",
      "    val_balanced_accuracy: 0.7813121235489656\n",
      "    val_precision  : 0.8289505697715314\n",
      "    val_recall     : 0.8188392857142857\n",
      "Saving checkpoint: ../saved/IMPRS_hdf5_volume_AllDAPI_noise/0710_173623/checkpoint-epoch37.pth ...\n",
      "Saving current best: model_best.pth ...\n",
      "    epoch          : 38\n",
      "    loss           : 0.45760959959947145\n",
      "    my_metric      : 0.7699519230769231\n",
      "    f1             : 0.7615058503449558\n",
      "    balanced_accuracy: 0.7406267744042629\n",
      "    precision      : 0.7803103053491426\n",
      "    recall         : 0.7699519230769231\n",
      "    val_loss       : 0.4782025098800659\n",
      "    val_my_metric  : 0.7875892857142858\n",
      "    val_f1         : 0.7876192806452266\n",
      "    val_balanced_accuracy: 0.7738372970493714\n",
      "    val_precision  : 0.7906291044382086\n",
      "    val_recall     : 0.7875892857142858\n"
     ]
    },
    {
     "name": "stdout",
     "output_type": "stream",
     "text": [
      "Model has not improved in -------------| 1 epochs\n"
     ]
    },
    {
     "name": "stderr",
     "output_type": "stream",
     "text": [
      "    epoch          : 39\n",
      "    loss           : 0.46503757857359374\n",
      "    my_metric      : 0.7692526223776224\n",
      "    f1             : 0.7601277435311349\n",
      "    balanced_accuracy: 0.737798525574725\n",
      "    precision      : 0.7786590501504654\n",
      "    recall         : 0.7692526223776224\n",
      "    val_loss       : 0.41667341589927676\n",
      "    val_my_metric  : 0.8162499999999999\n",
      "    val_f1         : 0.8120931008870729\n",
      "    val_balanced_accuracy: 0.7901387539324235\n",
      "    val_precision  : 0.8171064574913306\n",
      "    val_recall     : 0.8162499999999999\n"
     ]
    },
    {
     "name": "stdout",
     "output_type": "stream",
     "text": [
      "Model has not improved in -------------| 2 epochs\n"
     ]
    },
    {
     "name": "stderr",
     "output_type": "stream",
     "text": [
      "    epoch          : 40\n",
      "    loss           : 0.4500084828871947\n",
      "    my_metric      : 0.7661385489510489\n",
      "    f1             : 0.758792579248632\n",
      "    balanced_accuracy: 0.7382519166576709\n",
      "    precision      : 0.7728737096100858\n",
      "    recall         : 0.7661385489510489\n",
      "    val_loss       : 0.41502708196640015\n",
      "    val_my_metric  : 0.7741071428571429\n",
      "    val_f1         : 0.7549051361864899\n",
      "    val_balanced_accuracy: 0.7219020305675933\n",
      "    val_precision  : 0.8015679838112622\n",
      "    val_recall     : 0.7741071428571429\n"
     ]
    },
    {
     "name": "stdout",
     "output_type": "stream",
     "text": [
      "Model has not improved in -------------| 3 epochs\n"
     ]
    },
    {
     "name": "stderr",
     "output_type": "stream",
     "text": [
      "    epoch          : 41\n",
      "    loss           : 0.45746108431082505\n",
      "    my_metric      : 0.7705638111888112\n",
      "    f1             : 0.7628568024656541\n",
      "    balanced_accuracy: 0.7430866599653944\n",
      "    precision      : 0.7829167647071056\n",
      "    recall         : 0.7705638111888112\n",
      "    val_loss       : 0.39655176401138303\n",
      "    val_my_metric  : 0.7886607142857143\n",
      "    val_f1         : 0.7781817460150602\n",
      "    val_balanced_accuracy: 0.7529958438554682\n",
      "    val_precision  : 0.8007907904957141\n",
      "    val_recall     : 0.7886607142857143\n"
     ]
    },
    {
     "name": "stdout",
     "output_type": "stream",
     "text": [
      "Model has not improved in -------------| 4 epochs\n"
     ]
    },
    {
     "name": "stderr",
     "output_type": "stream",
     "text": [
      "    epoch          : 42\n",
      "    loss           : 0.467551222214332\n",
      "    my_metric      : 0.7776770104895104\n",
      "    f1             : 0.769575426746193\n",
      "    balanced_accuracy: 0.748081187664803\n",
      "    precision      : 0.7898243369791531\n",
      "    recall         : 0.7776770104895104\n",
      "    val_loss       : 0.4075234353542328\n",
      "    val_my_metric  : 0.82875\n",
      "    val_f1         : 0.8279981605786734\n",
      "    val_balanced_accuracy: 0.812680273901204\n",
      "    val_precision  : 0.8315727476007997\n",
      "    val_recall     : 0.82875\n"
     ]
    },
    {
     "name": "stdout",
     "output_type": "stream",
     "text": [
      "Model has not improved in -------------| 5 epochs\n"
     ]
    },
    {
     "name": "stderr",
     "output_type": "stream",
     "text": [
      "    epoch          : 43\n",
      "    loss           : 0.4368450057048064\n",
      "    my_metric      : 0.7850852272727273\n",
      "    f1             : 0.7773896103496957\n",
      "    balanced_accuracy: 0.7567341293368297\n",
      "    precision      : 0.7974263200844991\n",
      "    recall         : 0.7850852272727273\n",
      "    val_loss       : 0.4212359726428986\n",
      "    val_my_metric  : 0.7741071428571429\n",
      "    val_f1         : 0.7603932923701084\n",
      "    val_balanced_accuracy: 0.7274284082191059\n",
      "    val_precision  : 0.7886534013605442\n",
      "    val_recall     : 0.7741071428571429\n"
     ]
    },
    {
     "name": "stdout",
     "output_type": "stream",
     "text": [
      "Model has not improved in -------------| 6 epochs\n"
     ]
    },
    {
     "name": "stderr",
     "output_type": "stream",
     "text": [
      "    epoch          : 44\n",
      "    loss           : 0.4626600616253339\n",
      "    my_metric      : 0.767646416083916\n",
      "    f1             : 0.7594025333931067\n",
      "    balanced_accuracy: 0.7365924433402621\n",
      "    precision      : 0.7770738608924188\n",
      "    recall         : 0.767646416083916\n",
      "    val_loss       : 0.395079517364502\n",
      "    val_my_metric  : 0.815625\n",
      "    val_f1         : 0.8090187228111635\n",
      "    val_balanced_accuracy: 0.7849891034637956\n",
      "    val_precision  : 0.8150138200648737\n",
      "    val_recall     : 0.815625\n"
     ]
    },
    {
     "name": "stdout",
     "output_type": "stream",
     "text": [
      "Model has not improved in -------------| 7 epochs\n"
     ]
    },
    {
     "name": "stderr",
     "output_type": "stream",
     "text": [
      "    epoch          : 45\n",
      "    loss           : 0.45070600796204346\n",
      "    my_metric      : 0.7813701923076923\n",
      "    f1             : 0.7734716934922028\n",
      "    balanced_accuracy: 0.752813538089832\n",
      "    precision      : 0.7938997327609484\n",
      "    recall         : 0.7813701923076923\n",
      "    val_loss       : 0.3793788731098175\n",
      "    val_my_metric  : 0.7886607142857143\n",
      "    val_f1         : 0.7785289570965939\n",
      "    val_balanced_accuracy: 0.747307042203003\n",
      "    val_precision  : 0.7955812800374544\n",
      "    val_recall     : 0.7886607142857143\n"
     ]
    },
    {
     "name": "stdout",
     "output_type": "stream",
     "text": [
      "Model has not improved in -------------| 8 epochs\n"
     ]
    },
    {
     "name": "stderr",
     "output_type": "stream",
     "text": [
      "    epoch          : 46\n",
      "    loss           : 0.4638076894558393\n",
      "    my_metric      : 0.7716564685314685\n",
      "    f1             : 0.7624479799883235\n",
      "    balanced_accuracy: 0.7397947954680407\n",
      "    precision      : 0.7820450440811086\n",
      "    recall         : 0.7716564685314685\n",
      "    val_loss       : 0.4023288905620575\n",
      "    val_my_metric  : 0.7886607142857143\n",
      "    val_f1         : 0.7748798381066532\n",
      "    val_balanced_accuracy: 0.7393662737875435\n",
      "    val_precision  : 0.8042112600481811\n",
      "    val_recall     : 0.7886607142857143\n"
     ]
    },
    {
     "name": "stdout",
     "output_type": "stream",
     "text": [
      "Model has not improved in -------------| 9 epochs\n"
     ]
    },
    {
     "name": "stderr",
     "output_type": "stream",
     "text": [
      "    epoch          : 47\n",
      "    loss           : 0.4650366959663538\n",
      "    my_metric      : 0.7639423076923078\n",
      "    f1             : 0.7550735069884447\n",
      "    balanced_accuracy: 0.7317005872536488\n",
      "    precision      : 0.7738270716088563\n",
      "    recall         : 0.7639423076923078\n",
      "    val_loss       : 0.37234235405921934\n",
      "    val_my_metric  : 0.8225\n",
      "    val_f1         : 0.8175860482686209\n",
      "    val_balanced_accuracy: 0.7948593297829776\n",
      "    val_precision  : 0.8286837838357526\n",
      "    val_recall     : 0.8225\n",
      "Saving checkpoint: ../saved/IMPRS_hdf5_volume_AllDAPI_noise/0710_173623/checkpoint-epoch47.pth ...\n",
      "Saving current best: model_best.pth ...\n",
      "    epoch          : 48\n",
      "    loss           : 0.44468325261886305\n",
      "    my_metric      : 0.7639532342657342\n",
      "    f1             : 0.7564175540123348\n",
      "    balanced_accuracy: 0.734108353860508\n",
      "    precision      : 0.7724990002966242\n",
      "    recall         : 0.7639532342657342\n",
      "    val_loss       : 0.43460490703582766\n",
      "    val_my_metric  : 0.7465178571428572\n",
      "    val_f1         : 0.726064639021672\n",
      "    val_balanced_accuracy: 0.6894715022699399\n",
      "    val_precision  : 0.7632167847127416\n",
      "    val_recall     : 0.7465178571428572\n"
     ]
    },
    {
     "name": "stdout",
     "output_type": "stream",
     "text": [
      "Model has not improved in -------------| 1 epochs\n"
     ]
    },
    {
     "name": "stderr",
     "output_type": "stream",
     "text": [
      "    epoch          : 49\n",
      "    loss           : 0.45784053206443787\n",
      "    my_metric      : 0.767854020979021\n",
      "    f1             : 0.7587916013152787\n",
      "    balanced_accuracy: 0.7409040086482802\n",
      "    precision      : 0.780988224181956\n",
      "    recall         : 0.767854020979021\n",
      "    val_loss       : 0.4196767330169678\n",
      "    val_my_metric  : 0.80375\n",
      "    val_f1         : 0.8014033048268725\n",
      "    val_balanced_accuracy: 0.7845954284315897\n",
      "    val_precision  : 0.8037941896452416\n",
      "    val_recall     : 0.80375\n"
     ]
    },
    {
     "name": "stdout",
     "output_type": "stream",
     "text": [
      "Model has not improved in -------------| 2 epochs\n"
     ]
    },
    {
     "name": "stderr",
     "output_type": "stream",
     "text": [
      "    epoch          : 50\n",
      "    loss           : 0.4535014560589424\n",
      "    my_metric      : 0.7690559440559441\n",
      "    f1             : 0.7610782987417142\n",
      "    balanced_accuracy: 0.7393920901241077\n",
      "    precision      : 0.7765475481087686\n",
      "    recall         : 0.7690559440559441\n",
      "    val_loss       : 0.39519519209861753\n",
      "    val_my_metric  : 0.7995535714285714\n",
      "    val_f1         : 0.7864392101446431\n",
      "    val_balanced_accuracy: 0.7508313790632531\n",
      "    val_precision  : 0.8147542439178469\n",
      "    val_recall     : 0.7995535714285714\n"
     ]
    },
    {
     "name": "stdout",
     "output_type": "stream",
     "text": [
      "Model has not improved in -------------| 3 epochs\n"
     ]
    },
    {
     "name": "stderr",
     "output_type": "stream",
     "text": [
      "    epoch          : 51\n",
      "    loss           : 0.4480642000069985\n",
      "    my_metric      : 0.7705638111888112\n",
      "    f1             : 0.7614656639841495\n",
      "    balanced_accuracy: 0.743396424276532\n",
      "    precision      : 0.7824460595683467\n",
      "    recall         : 0.7705638111888112\n",
      "    val_loss       : 0.38270344138145446\n",
      "    val_my_metric  : 0.7714285714285715\n",
      "    val_f1         : 0.7544680512589486\n",
      "    val_balanced_accuracy: 0.7131573032702064\n",
      "    val_precision  : 0.7858406805337366\n",
      "    val_recall     : 0.7714285714285715\n"
     ]
    },
    {
     "name": "stdout",
     "output_type": "stream",
     "text": [
      "Model has not improved in -------------| 4 epochs\n"
     ]
    },
    {
     "name": "stderr",
     "output_type": "stream",
     "text": [
      "    epoch          : 52\n",
      "    loss           : 0.4303252398967743\n",
      "    my_metric      : 0.7777644230769231\n",
      "    f1             : 0.7680209025346125\n",
      "    balanced_accuracy: 0.7454946712043313\n",
      "    precision      : 0.7897881366210324\n",
      "    recall         : 0.7777644230769231\n",
      "    val_loss       : 0.3836877465248108\n",
      "    val_my_metric  : 0.8069642857142856\n",
      "    val_f1         : 0.79942574611846\n",
      "    val_balanced_accuracy: 0.7868856337460988\n",
      "    val_precision  : 0.8301902648480258\n",
      "    val_recall     : 0.8069642857142856\n"
     ]
    },
    {
     "name": "stdout",
     "output_type": "stream",
     "text": [
      "Model has not improved in -------------| 5 epochs\n"
     ]
    },
    {
     "name": "stderr",
     "output_type": "stream",
     "text": [
      "    epoch          : 53\n",
      "    loss           : 0.4395194179736651\n",
      "    my_metric      : 0.7792722902097903\n",
      "    f1             : 0.7711898015818066\n",
      "    balanced_accuracy: 0.7503110643361216\n",
      "    precision      : 0.7896561392852672\n",
      "    recall         : 0.7792722902097903\n",
      "    val_loss       : 0.43401412963867186\n",
      "    val_my_metric  : 0.82875\n",
      "    val_f1         : 0.8305814821080416\n",
      "    val_balanced_accuracy: 0.8359085479737655\n",
      "    val_precision  : 0.8441491006262833\n",
      "    val_recall     : 0.82875\n"
     ]
    },
    {
     "name": "stdout",
     "output_type": "stream",
     "text": [
      "Model has not improved in -------------| 6 epochs\n"
     ]
    },
    {
     "name": "stderr",
     "output_type": "stream",
     "text": [
      "    epoch          : 54\n",
      "    loss           : 0.458224892616272\n",
      "    my_metric      : 0.7783653846153846\n",
      "    f1             : 0.7706181495539322\n",
      "    balanced_accuracy: 0.7487814966436337\n",
      "    precision      : 0.7868082759617242\n",
      "    recall         : 0.7783653846153846\n",
      "    val_loss       : 0.5017124831676483\n",
      "    val_my_metric  : 0.7162499999999999\n",
      "    val_f1         : 0.6597415588067235\n",
      "    val_balanced_accuracy: 0.6244516120624495\n",
      "    val_precision  : 0.7956176350996202\n",
      "    val_recall     : 0.7162499999999999\n"
     ]
    },
    {
     "name": "stdout",
     "output_type": "stream",
     "text": [
      "Model has not improved in -------------| 7 epochs\n"
     ]
    },
    {
     "name": "stderr",
     "output_type": "stream",
     "text": [
      "    epoch          : 55\n",
      "    loss           : 0.44689701612179095\n",
      "    my_metric      : 0.7668487762237762\n",
      "    f1             : 0.7579831779211794\n",
      "    balanced_accuracy: 0.7342647390986586\n",
      "    precision      : 0.7749350785420882\n",
      "    recall         : 0.7668487762237762\n",
      "    val_loss       : 0.37194602489471434\n",
      "    val_my_metric  : 0.8199107142857143\n",
      "    val_f1         : 0.815253984457898\n",
      "    val_balanced_accuracy: 0.7921092060394386\n",
      "    val_precision  : 0.8228099290415466\n",
      "    val_recall     : 0.8199107142857143\n",
      "Saving checkpoint: ../saved/IMPRS_hdf5_volume_AllDAPI_noise/0710_173623/checkpoint-epoch55.pth ...\n",
      "Saving current best: model_best.pth ...\n",
      "    epoch          : 56\n",
      "    loss           : 0.43798929567520434\n",
      "    my_metric      : 0.7794689685314685\n",
      "    f1             : 0.7722334396816319\n",
      "    balanced_accuracy: 0.7503336281855361\n",
      "    precision      : 0.7874866117834962\n",
      "    recall         : 0.7794689685314685\n",
      "    val_loss       : 0.3560533285140991\n",
      "    val_my_metric  : 0.8448214285714286\n",
      "    val_f1         : 0.8443561002772191\n",
      "    val_balanced_accuracy: 0.8364092957296647\n",
      "    val_precision  : 0.8506805631127756\n",
      "    val_recall     : 0.8448214285714286\n",
      "Saving checkpoint: ../saved/IMPRS_hdf5_volume_AllDAPI_noise/0710_173623/checkpoint-epoch56.pth ...\n",
      "Saving current best: model_best.pth ...\n",
      "    epoch          : 57\n",
      "    loss           : 0.4454851379761329\n",
      "    my_metric      : 0.7834680944055944\n",
      "    f1             : 0.7771597930614684\n",
      "    balanced_accuracy: 0.7568162907924645\n",
      "    precision      : 0.7898278489651319\n",
      "    recall         : 0.7834680944055944\n",
      "    val_loss       : 0.4287167310714722\n",
      "    val_my_metric  : 0.7439285714285714\n",
      "    val_f1         : 0.7085168371077989\n",
      "    val_balanced_accuracy: 0.6835838779956427\n",
      "    val_precision  : 0.8074877858327933\n",
      "    val_recall     : 0.7439285714285714\n"
     ]
    },
    {
     "name": "stdout",
     "output_type": "stream",
     "text": [
      "Model has not improved in -------------| 1 epochs\n"
     ]
    },
    {
     "name": "stderr",
     "output_type": "stream",
     "text": [
      "    epoch          : 58\n",
      "    loss           : 0.4301581061803378\n",
      "    my_metric      : 0.7824737762237762\n",
      "    f1             : 0.7750530675708999\n",
      "    balanced_accuracy: 0.7536469311847659\n",
      "    precision      : 0.7930622069319124\n",
      "    recall         : 0.7824737762237762\n",
      "    val_loss       : 0.3848784267902374\n",
      "    val_my_metric  : 0.8339285714285714\n",
      "    val_f1         : 0.831734401760562\n",
      "    val_balanced_accuracy: 0.8162278925472328\n",
      "    val_precision  : 0.8381325473239712\n",
      "    val_recall     : 0.8339285714285714\n"
     ]
    },
    {
     "name": "stdout",
     "output_type": "stream",
     "text": [
      "Model has not improved in -------------| 2 epochs\n"
     ]
    },
    {
     "name": "stderr",
     "output_type": "stream",
     "text": [
      "    epoch          : 59\n",
      "    loss           : 0.4519341771419232\n",
      "    my_metric      : 0.7701595279720279\n",
      "    f1             : 0.7628003972416916\n",
      "    balanced_accuracy: 0.7440160043504361\n",
      "    precision      : 0.7828399673129034\n",
      "    recall         : 0.7701595279720279\n",
      "    val_loss       : 0.3842429995536804\n",
      "    val_my_metric  : 0.8370535714285714\n",
      "    val_f1         : 0.83408906991236\n",
      "    val_balanced_accuracy: 0.8141871987661462\n",
      "    val_precision  : 0.8409311186346548\n",
      "    val_recall     : 0.8370535714285714\n"
     ]
    },
    {
     "name": "stdout",
     "output_type": "stream",
     "text": [
      "Model has not improved in -------------| 3 epochs\n"
     ]
    },
    {
     "name": "stderr",
     "output_type": "stream",
     "text": [
      "    epoch          : 60\n",
      "    loss           : 0.4269825999553387\n",
      "    my_metric      : 0.786986451048951\n",
      "    f1             : 0.7801873014628368\n",
      "    balanced_accuracy: 0.7596391001377465\n",
      "    precision      : 0.7956107282557444\n",
      "    recall         : 0.786986451048951\n",
      "    val_loss       : 0.4059791028499603\n",
      "    val_my_metric  : 0.8079464285714286\n",
      "    val_f1         : 0.8005264757073455\n",
      "    val_balanced_accuracy: 0.7726276911494303\n",
      "    val_precision  : 0.8142903809554471\n",
      "    val_recall     : 0.8079464285714286\n"
     ]
    },
    {
     "name": "stdout",
     "output_type": "stream",
     "text": [
      "Model has not improved in -------------| 4 epochs\n"
     ]
    },
    {
     "name": "stderr",
     "output_type": "stream",
     "text": [
      "    epoch          : 61\n",
      "    loss           : 0.4642898944708017\n",
      "    my_metric      : 0.7744536713286714\n",
      "    f1             : 0.7670592764682629\n",
      "    balanced_accuracy: 0.7469586863397368\n",
      "    precision      : 0.7874365000827216\n",
      "    recall         : 0.7744536713286714\n",
      "    val_loss       : 0.4010526418685913\n",
      "    val_my_metric  : 0.8276785714285714\n",
      "    val_f1         : 0.8285683051931911\n",
      "    val_balanced_accuracy: 0.8256345233713654\n",
      "    val_precision  : 0.8367329356456338\n",
      "    val_recall     : 0.8276785714285714\n"
     ]
    },
    {
     "name": "stdout",
     "output_type": "stream",
     "text": [
      "Model has not improved in -------------| 5 epochs\n"
     ]
    },
    {
     "name": "stderr",
     "output_type": "stream",
     "text": [
      "    epoch          : 62\n",
      "    loss           : 0.4401960361462373\n",
      "    my_metric      : 0.7796656468531468\n",
      "    f1             : 0.7725337972123054\n",
      "    balanced_accuracy: 0.7516346385762985\n",
      "    precision      : 0.7903201781291824\n",
      "    recall         : 0.7796656468531468\n",
      "    val_loss       : 0.3925179958343506\n",
      "    val_my_metric  : 0.8271428571428572\n",
      "    val_f1         : 0.8254183967670811\n",
      "    val_balanced_accuracy: 0.8054976956223528\n",
      "    val_precision  : 0.8285789391909715\n",
      "    val_recall     : 0.8271428571428572\n"
     ]
    },
    {
     "name": "stdout",
     "output_type": "stream",
     "text": [
      "Model has not improved in -------------| 6 epochs\n"
     ]
    },
    {
     "name": "stderr",
     "output_type": "stream",
     "text": [
      "    epoch          : 63\n",
      "    loss           : 0.4422316768994698\n",
      "    my_metric      : 0.7712631118881119\n",
      "    f1             : 0.7613031821683616\n",
      "    balanced_accuracy: 0.7414505321047525\n",
      "    precision      : 0.7886606772560787\n",
      "    recall         : 0.7712631118881119\n",
      "    val_loss       : 0.3937619686126709\n",
      "    val_my_metric  : 0.7709821428571428\n",
      "    val_f1         : 0.758045394869756\n",
      "    val_balanced_accuracy: 0.7233313603142244\n",
      "    val_precision  : 0.7771764605284652\n",
      "    val_recall     : 0.7709821428571428\n"
     ]
    },
    {
     "name": "stdout",
     "output_type": "stream",
     "text": [
      "Model has not improved in -------------| 7 epochs\n"
     ]
    },
    {
     "name": "stderr",
     "output_type": "stream",
     "text": [
      "    epoch          : 64\n",
      "    loss           : 0.4405620258588057\n",
      "    my_metric      : 0.7688592657342658\n",
      "    f1             : 0.7606744085913585\n",
      "    balanced_accuracy: 0.7420186395754216\n",
      "    precision      : 0.7819349002847725\n",
      "    recall         : 0.7688592657342658\n",
      "    val_loss       : 0.3426936209201813\n",
      "    val_my_metric  : 0.8375892857142857\n",
      "    val_f1         : 0.834555167768643\n",
      "    val_balanced_accuracy: 0.8182775356459567\n",
      "    val_precision  : 0.8422058521704903\n",
      "    val_recall     : 0.8375892857142857\n",
      "Saving checkpoint: ../saved/IMPRS_hdf5_volume_AllDAPI_noise/0710_173623/checkpoint-epoch64.pth ...\n",
      "Saving current best: model_best.pth ...\n",
      "    epoch          : 65\n",
      "    loss           : 0.4353833192816147\n",
      "    my_metric      : 0.7873798076923078\n",
      "    f1             : 0.7799629163965262\n",
      "    balanced_accuracy: 0.7579677832264378\n",
      "    precision      : 0.7974815042956837\n",
      "    recall         : 0.7873798076923078\n",
      "    val_loss       : 0.37625124454498293\n",
      "    val_my_metric  : 0.8407142857142856\n",
      "    val_f1         : 0.838047560184032\n",
      "    val_balanced_accuracy: 0.8251915420536005\n",
      "    val_precision  : 0.8494658549695314\n",
      "    val_recall     : 0.8407142857142856\n"
     ]
    },
    {
     "name": "stdout",
     "output_type": "stream",
     "text": [
      "Model has not improved in -------------| 1 epochs\n"
     ]
    },
    {
     "name": "stderr",
     "output_type": "stream",
     "text": [
      "    epoch          : 66\n",
      "    loss           : 0.4377225385262416\n",
      "    my_metric      : 0.7808675699300699\n",
      "    f1             : 0.7741675158421445\n",
      "    balanced_accuracy: 0.7573244327328479\n",
      "    precision      : 0.7944678600151621\n",
      "    recall         : 0.7808675699300699\n",
      "    val_loss       : 0.3948810875415802\n",
      "    val_my_metric  : 0.7688392857142857\n",
      "    val_f1         : 0.7417788455617257\n",
      "    val_balanced_accuracy: 0.7023240210082314\n",
      "    val_precision  : 0.8071851470288969\n",
      "    val_recall     : 0.7688392857142857\n"
     ]
    },
    {
     "name": "stdout",
     "output_type": "stream",
     "text": [
      "Model has not improved in -------------| 2 epochs\n"
     ]
    },
    {
     "name": "stderr",
     "output_type": "stream",
     "text": [
      "    epoch          : 67\n",
      "    loss           : 0.4351329356431961\n",
      "    my_metric      : 0.7811625874125874\n",
      "    f1             : 0.772192522095911\n",
      "    balanced_accuracy: 0.7486493181258195\n",
      "    precision      : 0.7906670188146738\n",
      "    recall         : 0.7811625874125874\n",
      "    val_loss       : 0.37170992493629457\n",
      "    val_my_metric  : 0.8370535714285714\n",
      "    val_f1         : 0.8363619361124606\n",
      "    val_balanced_accuracy: 0.8217381646383461\n",
      "    val_precision  : 0.8396922932756612\n",
      "    val_recall     : 0.8370535714285714\n"
     ]
    },
    {
     "name": "stdout",
     "output_type": "stream",
     "text": [
      "Model has not improved in -------------| 3 epochs\n"
     ]
    },
    {
     "name": "stderr",
     "output_type": "stream",
     "text": [
      "    epoch          : 68\n",
      "    loss           : 0.41683925917515385\n",
      "    my_metric      : 0.7850743006993006\n",
      "    f1             : 0.7773933435977429\n",
      "    balanced_accuracy: 0.7580848671814308\n",
      "    precision      : 0.7941496330130794\n",
      "    recall         : 0.7850743006993006\n",
      "    val_loss       : 0.4629388988018036\n",
      "    val_my_metric  : 0.8167857142857142\n",
      "    val_f1         : 0.8204484840177676\n",
      "    val_balanced_accuracy: 0.825124597711425\n",
      "    val_precision  : 0.835233018809489\n",
      "    val_recall     : 0.8167857142857142\n"
     ]
    },
    {
     "name": "stdout",
     "output_type": "stream",
     "text": [
      "Model has not improved in -------------| 4 epochs\n"
     ]
    },
    {
     "name": "stderr",
     "output_type": "stream",
     "text": [
      "    epoch          : 69\n",
      "    loss           : 0.45556846031775844\n",
      "    my_metric      : 0.7752622377622378\n",
      "    f1             : 0.76910538503861\n",
      "    balanced_accuracy: 0.7490358661793274\n",
      "    precision      : 0.7900702443241882\n",
      "    recall         : 0.7752622377622378\n",
      "    val_loss       : 0.3897774457931519\n",
      "    val_my_metric  : 0.8318749999999999\n",
      "    val_f1         : 0.8262776098944722\n",
      "    val_balanced_accuracy: 0.8005175772539873\n",
      "    val_precision  : 0.8421651211381296\n",
      "    val_recall     : 0.8318749999999999\n"
     ]
    },
    {
     "name": "stdout",
     "output_type": "stream",
     "text": [
      "Model has not improved in -------------| 5 epochs\n"
     ]
    },
    {
     "name": "stderr",
     "output_type": "stream",
     "text": [
      "    epoch          : 70\n",
      "    loss           : 0.434528560592578\n",
      "    my_metric      : 0.7852819055944056\n",
      "    f1             : 0.7773424966271489\n",
      "    balanced_accuracy: 0.7561467833753883\n",
      "    precision      : 0.7952933977783877\n",
      "    recall         : 0.7852819055944056\n",
      "    val_loss       : 0.4407139360904694\n",
      "    val_my_metric  : 0.7553571428571428\n",
      "    val_f1         : 0.7413748360354714\n",
      "    val_balanced_accuracy: 0.7082700895595633\n",
      "    val_precision  : 0.7646223380759832\n",
      "    val_recall     : 0.7553571428571428\n"
     ]
    },
    {
     "name": "stdout",
     "output_type": "stream",
     "text": [
      "Model has not improved in -------------| 6 epochs\n"
     ]
    },
    {
     "name": "stderr",
     "output_type": "stream",
     "text": [
      "    epoch          : 71\n",
      "    loss           : 0.4360894881761991\n",
      "    my_metric      : 0.7725633741258741\n",
      "    f1             : 0.7628809056274469\n",
      "    balanced_accuracy: 0.740118956827319\n",
      "    precision      : 0.7842456829296091\n",
      "    recall         : 0.7725633741258741\n",
      "    val_loss       : 0.3690482169389725\n",
      "    val_my_metric  : 0.8260714285714286\n",
      "    val_f1         : 0.8210972780874097\n",
      "    val_balanced_accuracy: 0.7954110227762361\n",
      "    val_precision  : 0.8298416869616009\n",
      "    val_recall     : 0.8260714285714286\n"
     ]
    },
    {
     "name": "stdout",
     "output_type": "stream",
     "text": [
      "Model has not improved in -------------| 7 epochs\n"
     ]
    },
    {
     "name": "stderr",
     "output_type": "stream",
     "text": [
      "    epoch          : 72\n",
      "    loss           : 0.4127175802221665\n",
      "    my_metric      : 0.7870738636363637\n",
      "    f1             : 0.7795643973404355\n",
      "    balanced_accuracy: 0.7572692035934325\n",
      "    precision      : 0.7965546697063183\n",
      "    recall         : 0.7870738636363637\n",
      "    val_loss       : 0.3737586855888367\n",
      "    val_my_metric  : 0.8308035714285713\n",
      "    val_f1         : 0.8292222737121173\n",
      "    val_balanced_accuracy: 0.8144646111707058\n",
      "    val_precision  : 0.8382862164412508\n",
      "    val_recall     : 0.8308035714285713\n"
     ]
    },
    {
     "name": "stdout",
     "output_type": "stream",
     "text": [
      "Model has not improved in -------------| 8 epochs\n"
     ]
    },
    {
     "name": "stderr",
     "output_type": "stream",
     "text": [
      "    epoch          : 73\n",
      "    loss           : 0.4146770995396834\n",
      "    my_metric      : 0.7840799825174826\n",
      "    f1             : 0.7773345657455187\n",
      "    balanced_accuracy: 0.7571264724275468\n",
      "    precision      : 0.792958717693595\n",
      "    recall         : 0.7840799825174826\n",
      "    val_loss       : 0.3514333963394165\n",
      "    val_my_metric  : 0.8016964285714285\n",
      "    val_f1         : 0.7879385184831527\n",
      "    val_balanced_accuracy: 0.7573442065730926\n",
      "    val_precision  : 0.8253551667654848\n",
      "    val_recall     : 0.8016964285714285\n"
     ]
    },
    {
     "name": "stdout",
     "output_type": "stream",
     "text": [
      "Model has not improved in -------------| 9 epochs\n"
     ]
    },
    {
     "name": "stderr",
     "output_type": "stream",
     "text": [
      "    epoch          : 74\n",
      "    loss           : 0.40966458733265215\n",
      "    my_metric      : 0.7947006118881119\n",
      "    f1             : 0.7882265290660467\n",
      "    balanced_accuracy: 0.7708017774784016\n",
      "    precision      : 0.809168651534454\n",
      "    recall         : 0.7947006118881119\n",
      "    val_loss       : 0.3722866833209991\n",
      "    val_my_metric  : 0.8271428571428572\n",
      "    val_f1         : 0.8248199169401561\n",
      "    val_balanced_accuracy: 0.8147373094741516\n",
      "    val_precision  : 0.830203380604814\n",
      "    val_recall     : 0.8271428571428572\n"
     ]
    },
    {
     "name": "stdout",
     "output_type": "stream",
     "text": [
      "Model has not improved in -------------| 10 epochs\n"
     ]
    },
    {
     "name": "stderr",
     "output_type": "stream",
     "text": [
      "    epoch          : 75\n",
      "    loss           : 0.4271306131894772\n",
      "    my_metric      : 0.7815887237762238\n",
      "    f1             : 0.7732383905863194\n",
      "    balanced_accuracy: 0.7526246034604835\n",
      "    precision      : 0.7950436154497441\n",
      "    recall         : 0.7815887237762238\n",
      "    val_loss       : 0.35960355401039124\n",
      "    val_my_metric  : 0.850625\n",
      "    val_f1         : 0.8492759784384496\n",
      "    val_balanced_accuracy: 0.8370763845903264\n",
      "    val_precision  : 0.853385873484315\n",
      "    val_recall     : 0.850625\n"
     ]
    },
    {
     "name": "stdout",
     "output_type": "stream",
     "text": [
      "Model has not improved in -------------| 11 epochs\n"
     ]
    },
    {
     "name": "stderr",
     "output_type": "stream",
     "text": [
      "    epoch          : 76\n",
      "    loss           : 0.4233882851325549\n",
      "    my_metric      : 0.7785729895104895\n",
      "    f1             : 0.7709365525210065\n",
      "    balanced_accuracy: 0.7535925507737666\n",
      "    precision      : 0.7935019494915625\n",
      "    recall         : 0.7785729895104895\n",
      "    val_loss       : 0.4040238976478577\n",
      "    val_my_metric  : 0.7959821428571429\n",
      "    val_f1         : 0.7934684325151851\n",
      "    val_balanced_accuracy: 0.7768611253660845\n",
      "    val_precision  : 0.7962242127390152\n",
      "    val_recall     : 0.7959821428571429\n"
     ]
    },
    {
     "name": "stdout",
     "output_type": "stream",
     "text": [
      "Model has not improved in -------------| 12 epochs\n"
     ]
    },
    {
     "name": "stderr",
     "output_type": "stream",
     "text": [
      "    epoch          : 77\n",
      "    loss           : 0.41461962919968826\n",
      "    my_metric      : 0.7921875\n",
      "    f1             : 0.7854388672168351\n",
      "    balanced_accuracy: 0.7652508076688748\n",
      "    precision      : 0.802625273524546\n",
      "    recall         : 0.7921875\n",
      "    val_loss       : 0.4000375986099243\n",
      "    val_my_metric  : 0.7949107142857142\n",
      "    val_f1         : 0.7810423354037127\n",
      "    val_balanced_accuracy: 0.7427294909895233\n",
      "    val_precision  : 0.8096773391398238\n",
      "    val_recall     : 0.7949107142857142\n"
     ]
    },
    {
     "name": "stdout",
     "output_type": "stream",
     "text": [
      "Model has not improved in -------------| 13 epochs\n"
     ]
    },
    {
     "name": "stderr",
     "output_type": "stream",
     "text": [
      "    epoch          : 78\n",
      "    loss           : 0.43942595559817094\n",
      "    my_metric      : 0.7839816433566433\n",
      "    f1             : 0.7783291971828099\n",
      "    balanced_accuracy: 0.7576938233219039\n",
      "    precision      : 0.7900779284138945\n",
      "    recall         : 0.7839816433566433\n",
      "    val_loss       : 0.3766888439655304\n",
      "    val_my_metric  : 0.8058035714285714\n",
      "    val_f1         : 0.7922360387948096\n",
      "    val_balanced_accuracy: 0.762999816178802\n",
      "    val_precision  : 0.8182444223016156\n",
      "    val_recall     : 0.8058035714285714\n"
     ]
    },
    {
     "name": "stdout",
     "output_type": "stream",
     "text": [
      "Model has not improved in -------------| 14 epochs\n"
     ]
    },
    {
     "name": "stderr",
     "output_type": "stream",
     "text": [
      "    epoch          : 79\n",
      "    loss           : 0.4138392817515593\n",
      "    my_metric      : 0.7863745629370629\n",
      "    f1             : 0.7784869595803227\n",
      "    balanced_accuracy: 0.756210603298344\n",
      "    precision      : 0.7937917908568362\n",
      "    recall         : 0.7863745629370629\n",
      "    val_loss       : 0.3655533969402313\n",
      "    val_my_metric  : 0.8048214285714286\n",
      "    val_f1         : 0.7938318198092634\n",
      "    val_balanced_accuracy: 0.7645071982281285\n",
      "    val_precision  : 0.8219949246623214\n",
      "    val_recall     : 0.8048214285714286\n"
     ]
    },
    {
     "name": "stdout",
     "output_type": "stream",
     "text": [
      "Model has not improved in -------------| 15 epochs\n"
     ]
    },
    {
     "name": "stderr",
     "output_type": "stream",
     "text": [
      "    epoch          : 80\n",
      "    loss           : 0.41590991387000453\n",
      "    my_metric      : 0.775666520979021\n",
      "    f1             : 0.767937637817407\n",
      "    balanced_accuracy: 0.7467371889497636\n",
      "    precision      : 0.7883800562374617\n",
      "    recall         : 0.775666520979021\n",
      "    val_loss       : 0.42997102737426757\n",
      "    val_my_metric  : 0.7777678571428572\n",
      "    val_f1         : 0.7591544565662971\n",
      "    val_balanced_accuracy: 0.7211341887085594\n",
      "    val_precision  : 0.7883435453803653\n",
      "    val_recall     : 0.7777678571428572\n"
     ]
    },
    {
     "name": "stdout",
     "output_type": "stream",
     "text": [
      "Model has not improved in -------------| 16 epochs\n"
     ]
    },
    {
     "name": "stderr",
     "output_type": "stream",
     "text": [
      "    epoch          : 81\n",
      "    loss           : 0.43137276287262255\n",
      "    my_metric      : 0.7907998251748253\n",
      "    f1             : 0.784199855680427\n",
      "    balanced_accuracy: 0.7659018689128883\n",
      "    precision      : 0.8015921222455137\n",
      "    recall         : 0.7907998251748253\n",
      "    val_loss       : 0.361014062166214\n",
      "    val_my_metric  : 0.8458928571428572\n",
      "    val_f1         : 0.843227542675651\n",
      "    val_balanced_accuracy: 0.8215592464362487\n",
      "    val_precision  : 0.8457042020427137\n",
      "    val_recall     : 0.8458928571428572\n"
     ]
    },
    {
     "name": "stdout",
     "output_type": "stream",
     "text": [
      "Model has not improved in -------------| 17 epochs\n"
     ]
    },
    {
     "name": "stderr",
     "output_type": "stream",
     "text": [
      "    epoch          : 82\n",
      "    loss           : 0.4000922762430631\n",
      "    my_metric      : 0.8086101398601399\n",
      "    f1             : 0.8024230914822178\n",
      "    balanced_accuracy: 0.7807212243365824\n",
      "    precision      : 0.8177502135221127\n",
      "    recall         : 0.8086101398601399\n",
      "    val_loss       : 0.38251513838768003\n",
      "    val_my_metric  : 0.8146428571428572\n",
      "    val_f1         : 0.8097667912740668\n",
      "    val_balanced_accuracy: 0.7880411255411255\n",
      "    val_precision  : 0.8207789749641661\n",
      "    val_recall     : 0.8146428571428572\n"
     ]
    },
    {
     "name": "stdout",
     "output_type": "stream",
     "text": [
      "Model has not improved in -------------| 18 epochs\n"
     ]
    },
    {
     "name": "stderr",
     "output_type": "stream",
     "text": [
      "    epoch          : 83\n",
      "    loss           : 0.42661089507433086\n",
      "    my_metric      : 0.7663461538461539\n",
      "    f1             : 0.7579820758032558\n",
      "    balanced_accuracy: 0.7355742131603394\n",
      "    precision      : 0.775329344480983\n",
      "    recall         : 0.7663461538461539\n",
      "    val_loss       : 0.3645787417888641\n",
      "    val_my_metric  : 0.8016964285714285\n",
      "    val_f1         : 0.7905997991589389\n",
      "    val_balanced_accuracy: 0.758251988543625\n",
      "    val_precision  : 0.8230407468773249\n",
      "    val_recall     : 0.8016964285714285\n"
     ]
    },
    {
     "name": "stdout",
     "output_type": "stream",
     "text": [
      "Model has not improved in -------------| 19 epochs\n"
     ]
    },
    {
     "name": "stderr",
     "output_type": "stream",
     "text": [
      "    epoch          : 84\n",
      "    loss           : 0.4174327449156688\n",
      "    my_metric      : 0.7869755244755244\n",
      "    f1             : 0.7800748275796855\n",
      "    balanced_accuracy: 0.7617666044594633\n",
      "    precision      : 0.8008939365234398\n",
      "    recall         : 0.7869755244755244\n",
      "    val_loss       : 0.3355906933546066\n",
      "    val_my_metric  : 0.8411607142857143\n",
      "    val_f1         : 0.8342449444556672\n",
      "    val_balanced_accuracy: 0.811511631247823\n",
      "    val_precision  : 0.8488117429489911\n",
      "    val_recall     : 0.8411607142857143\n",
      "Saving checkpoint: ../saved/IMPRS_hdf5_volume_AllDAPI_noise/0710_173623/checkpoint-epoch84.pth ...\n",
      "Saving current best: model_best.pth ...\n",
      "    epoch          : 85\n",
      "    loss           : 0.4203461076204593\n",
      "    my_metric      : 0.784965034965035\n",
      "    f1             : 0.7777439363531733\n",
      "    balanced_accuracy: 0.7549415377140185\n",
      "    precision      : 0.7911339865379569\n",
      "    recall         : 0.784965034965035\n",
      "    val_loss       : 0.3397600591182709\n",
      "    val_my_metric  : 0.8282142857142857\n",
      "    val_f1         : 0.8189805116171686\n",
      "    val_balanced_accuracy: 0.7896294130705895\n",
      "    val_precision  : 0.8392357149395243\n",
      "    val_recall     : 0.8282142857142857\n"
     ]
    },
    {
     "name": "stdout",
     "output_type": "stream",
     "text": [
      "Model has not improved in -------------| 1 epochs\n"
     ]
    },
    {
     "name": "stderr",
     "output_type": "stream",
     "text": [
      "    epoch          : 86\n",
      "    loss           : 0.4171558744632281\n",
      "    my_metric      : 0.7852819055944056\n",
      "    f1             : 0.778168645056224\n",
      "    balanced_accuracy: 0.7579214659201463\n",
      "    precision      : 0.7962808328548803\n",
      "    recall         : 0.7852819055944056\n",
      "    val_loss       : 0.44643503427505493\n",
      "    val_my_metric  : 0.7542857142857142\n",
      "    val_f1         : 0.7342681704554452\n",
      "    val_balanced_accuracy: 0.7019435810077023\n",
      "    val_precision  : 0.7768228955866621\n",
      "    val_recall     : 0.7542857142857142\n"
     ]
    },
    {
     "name": "stdout",
     "output_type": "stream",
     "text": [
      "Model has not improved in -------------| 2 epochs\n"
     ]
    },
    {
     "name": "stderr",
     "output_type": "stream",
     "text": [
      "    epoch          : 87\n",
      "    loss           : 0.43481208555973494\n",
      "    my_metric      : 0.7668487762237762\n",
      "    f1             : 0.7584457999205563\n",
      "    balanced_accuracy: 0.7366943694467882\n",
      "    precision      : 0.7790185355072429\n",
      "    recall         : 0.7668487762237762\n",
      "    val_loss       : 0.38395588994026186\n",
      "    val_my_metric  : 0.8219642857142857\n",
      "    val_f1         : 0.8172926341113624\n",
      "    val_balanced_accuracy: 0.7916294907828089\n",
      "    val_precision  : 0.8237407426531396\n",
      "    val_recall     : 0.8219642857142857\n"
     ]
    },
    {
     "name": "stdout",
     "output_type": "stream",
     "text": [
      "Model has not improved in -------------| 3 epochs\n"
     ]
    },
    {
     "name": "stderr",
     "output_type": "stream",
     "text": [
      "    epoch          : 88\n",
      "    loss           : 0.40755719061081225\n",
      "    my_metric      : 0.7865821678321679\n",
      "    f1             : 0.7787416485931631\n",
      "    balanced_accuracy: 0.7598079307719288\n",
      "    precision      : 0.7972316523357141\n",
      "    recall         : 0.7865821678321679\n",
      "    val_loss       : 0.34993954598903654\n",
      "    val_my_metric  : 0.8500892857142857\n",
      "    val_f1         : 0.8440997633670154\n",
      "    val_balanced_accuracy: 0.8163798856392868\n",
      "    val_precision  : 0.8626328033271937\n",
      "    val_recall     : 0.8500892857142857\n"
     ]
    },
    {
     "name": "stdout",
     "output_type": "stream",
     "text": [
      "Model has not improved in -------------| 4 epochs\n"
     ]
    },
    {
     "name": "stderr",
     "output_type": "stream",
     "text": [
      "    epoch          : 89\n",
      "    loss           : 0.4136927918745921\n",
      "    my_metric      : 0.7997049825174826\n",
      "    f1             : 0.7940717992535382\n",
      "    balanced_accuracy: 0.7789581902305679\n",
      "    precision      : 0.8157389062679672\n",
      "    recall         : 0.7997049825174826\n",
      "    val_loss       : 0.38718129992485045\n",
      "    val_my_metric  : 0.8157142857142856\n",
      "    val_f1         : 0.8131617680758045\n",
      "    val_balanced_accuracy: 0.7918146905263396\n",
      "    val_precision  : 0.818019311417749\n",
      "    val_recall     : 0.8157142857142856\n"
     ]
    },
    {
     "name": "stdout",
     "output_type": "stream",
     "text": [
      "Model has not improved in -------------| 5 epochs\n"
     ]
    },
    {
     "name": "stderr",
     "output_type": "stream",
     "text": [
      "    epoch          : 90\n",
      "    loss           : 0.4118456416405164\n",
      "    my_metric      : 0.7952906468531468\n",
      "    f1             : 0.7887862324161186\n",
      "    balanced_accuracy: 0.7677070370755867\n",
      "    precision      : 0.8070105643430062\n",
      "    recall         : 0.7952906468531468\n",
      "    val_loss       : 0.3665155440568924\n",
      "    val_my_metric  : 0.8000892857142856\n",
      "    val_f1         : 0.7893047373960778\n",
      "    val_balanced_accuracy: 0.7513797343514679\n",
      "    val_precision  : 0.8066310603485469\n",
      "    val_recall     : 0.8000892857142856\n"
     ]
    },
    {
     "name": "stdout",
     "output_type": "stream",
     "text": [
      "Model has not improved in -------------| 6 epochs\n"
     ]
    },
    {
     "name": "stderr",
     "output_type": "stream",
     "text": [
      "    epoch          : 91\n",
      "    loss           : 0.4106560464088733\n",
      "    my_metric      : 0.7874781468531468\n",
      "    f1             : 0.7811783247379972\n",
      "    balanced_accuracy: 0.7625671001111785\n",
      "    precision      : 0.7968583525339331\n",
      "    recall         : 0.7874781468531468\n",
      "    val_loss       : 0.3673895478248596\n",
      "    val_my_metric  : 0.8167857142857142\n",
      "    val_f1         : 0.8064077565891579\n",
      "    val_balanced_accuracy: 0.7780252949037901\n",
      "    val_precision  : 0.8228802238794504\n",
      "    val_recall     : 0.8167857142857142\n"
     ]
    },
    {
     "name": "stdout",
     "output_type": "stream",
     "text": [
      "Model has not improved in -------------| 7 epochs\n"
     ]
    },
    {
     "name": "stderr",
     "output_type": "stream",
     "text": [
      "    epoch          : 92\n",
      "    loss           : 0.41950094585235304\n",
      "    my_metric      : 0.7959899475524476\n",
      "    f1             : 0.7900211318514724\n",
      "    balanced_accuracy: 0.7708806782773786\n",
      "    precision      : 0.8069349608021537\n",
      "    recall         : 0.7959899475524476\n",
      "    val_loss       : 0.3732271373271942\n",
      "    val_my_metric  : 0.8105357142857142\n",
      "    val_f1         : 0.8034836504042275\n",
      "    val_balanced_accuracy: 0.7716488911650202\n",
      "    val_precision  : 0.8222264524028878\n",
      "    val_recall     : 0.8105357142857142\n"
     ]
    },
    {
     "name": "stdout",
     "output_type": "stream",
     "text": [
      "Model has not improved in -------------| 8 epochs\n"
     ]
    },
    {
     "name": "stderr",
     "output_type": "stream",
     "text": [
      "    epoch          : 93\n",
      "    loss           : 0.40060003789571613\n",
      "    my_metric      : 0.7995957167832167\n",
      "    f1             : 0.7935903423940907\n",
      "    balanced_accuracy: 0.7728354817812911\n",
      "    precision      : 0.8047953658250147\n",
      "    recall         : 0.7995957167832167\n",
      "    val_loss       : 0.3659412622451782\n",
      "    val_my_metric  : 0.8011607142857142\n",
      "    val_f1         : 0.7913460932364982\n",
      "    val_balanced_accuracy: 0.7581988645854192\n",
      "    val_precision  : 0.8238868582034231\n",
      "    val_recall     : 0.8011607142857142\n"
     ]
    },
    {
     "name": "stdout",
     "output_type": "stream",
     "text": [
      "Model has not improved in -------------| 9 epochs\n"
     ]
    },
    {
     "name": "stderr",
     "output_type": "stream",
     "text": [
      "    epoch          : 94\n",
      "    loss           : 0.41169058130337643\n",
      "    my_metric      : 0.7905922202797202\n",
      "    f1             : 0.7846838295132647\n",
      "    balanced_accuracy: 0.7673820025517355\n",
      "    precision      : 0.8000414566487886\n",
      "    recall         : 0.7905922202797202\n",
      "    val_loss       : 0.3788645565509796\n",
      "    val_my_metric  : 0.8261607142857142\n",
      "    val_f1         : 0.8233601240656038\n",
      "    val_balanced_accuracy: 0.8062625114958095\n",
      "    val_precision  : 0.8276100475740853\n",
      "    val_recall     : 0.8261607142857142\n"
     ]
    },
    {
     "name": "stdout",
     "output_type": "stream",
     "text": [
      "Model has not improved in -------------| 10 epochs\n"
     ]
    },
    {
     "name": "stderr",
     "output_type": "stream",
     "text": [
      "    epoch          : 95\n",
      "    loss           : 0.4016476170374797\n",
      "    my_metric      : 0.7930944055944056\n",
      "    f1             : 0.7871904780025687\n",
      "    balanced_accuracy: 0.7699146757028029\n",
      "    precision      : 0.8059065332235098\n",
      "    recall         : 0.7930944055944056\n",
      "    val_loss       : 0.3731480538845062\n",
      "    val_my_metric  : 0.819375\n",
      "    val_f1         : 0.8093745156887252\n",
      "    val_balanced_accuracy: 0.7757764915816987\n",
      "    val_precision  : 0.8380816921665367\n",
      "    val_recall     : 0.819375\n"
     ]
    },
    {
     "name": "stdout",
     "output_type": "stream",
     "text": [
      "Model has not improved in -------------| 11 epochs\n"
     ]
    },
    {
     "name": "stderr",
     "output_type": "stream",
     "text": [
      "    epoch          : 96\n",
      "    loss           : 0.42604259229623354\n",
      "    my_metric      : 0.7796656468531468\n",
      "    f1             : 0.7716101375440506\n",
      "    balanced_accuracy: 0.7482254580769051\n",
      "    precision      : 0.7880921649749061\n",
      "    recall         : 0.7796656468531468\n",
      "    val_loss       : 0.3901701807975769\n",
      "    val_my_metric  : 0.7844642857142857\n",
      "    val_f1         : 0.765859536016227\n",
      "    val_balanced_accuracy: 0.7310183208007969\n",
      "    val_precision  : 0.8185274363373797\n",
      "    val_recall     : 0.7844642857142857\n"
     ]
    },
    {
     "name": "stdout",
     "output_type": "stream",
     "text": [
      "Model has not improved in -------------| 12 epochs\n"
     ]
    },
    {
     "name": "stderr",
     "output_type": "stream",
     "text": [
      "    epoch          : 97\n",
      "    loss           : 0.39634348108218265\n",
      "    my_metric      : 0.7961975524475525\n",
      "    f1             : 0.7907938180559342\n",
      "    balanced_accuracy: 0.7706553278225813\n",
      "    precision      : 0.8020091287848048\n",
      "    recall         : 0.7961975524475525\n",
      "    val_loss       : 0.4141868889331818\n",
      "    val_my_metric  : 0.8480357142857142\n",
      "    val_f1         : 0.8484461868132135\n",
      "    val_balanced_accuracy: 0.8376940913452048\n",
      "    val_precision  : 0.8533680326584504\n",
      "    val_recall     : 0.8480357142857142\n"
     ]
    },
    {
     "name": "stdout",
     "output_type": "stream",
     "text": [
      "Model has not improved in -------------| 13 epochs\n"
     ]
    },
    {
     "name": "stderr",
     "output_type": "stream",
     "text": [
      "    epoch          : 98\n",
      "    loss           : 0.4126871182368352\n",
      "    my_metric      : 0.786680506993007\n",
      "    f1             : 0.7796708464302553\n",
      "    balanced_accuracy: 0.7592014887627287\n",
      "    precision      : 0.7944493450556617\n",
      "    recall         : 0.786680506993007\n",
      "    val_loss       : 0.3592221200466156\n",
      "    val_my_metric  : 0.8256249999999999\n",
      "    val_f1         : 0.822701024378396\n",
      "    val_balanced_accuracy: 0.8034207286965908\n",
      "    val_precision  : 0.8272683500538408\n",
      "    val_recall     : 0.8256249999999999\n"
     ]
    },
    {
     "name": "stdout",
     "output_type": "stream",
     "text": [
      "Model has not improved in -------------| 14 epochs\n"
     ]
    },
    {
     "name": "stderr",
     "output_type": "stream",
     "text": [
      "    epoch          : 99\n",
      "    loss           : 0.40535336159742796\n",
      "    my_metric      : 0.7867788461538462\n",
      "    f1             : 0.7801008176636915\n",
      "    balanced_accuracy: 0.7614936155969622\n",
      "    precision      : 0.7987525746649526\n",
      "    recall         : 0.7867788461538462\n",
      "    val_loss       : 0.43353018164634705\n",
      "    val_my_metric  : 0.8313392857142856\n",
      "    val_f1         : 0.8312607094965585\n",
      "    val_balanced_accuracy: 0.8114980212426032\n",
      "    val_precision  : 0.8316054552238763\n",
      "    val_recall     : 0.8313392857142856\n"
     ]
    },
    {
     "name": "stdout",
     "output_type": "stream",
     "text": [
      "Model has not improved in -------------| 15 epochs\n"
     ]
    },
    {
     "name": "stderr",
     "output_type": "stream",
     "text": [
      "    epoch          : 100\n",
      "    loss           : 0.4178803196320167\n",
      "    my_metric      : 0.7934003496503497\n",
      "    f1             : 0.7882258978045813\n",
      "    balanced_accuracy: 0.7693763079411711\n",
      "    precision      : 0.8035114054939806\n",
      "    recall         : 0.7934003496503497\n",
      "    val_loss       : 0.38969592452049256\n",
      "    val_my_metric  : 0.8344642857142857\n",
      "    val_f1         : 0.8340593550922601\n",
      "    val_balanced_accuracy: 0.8226542193438744\n",
      "    val_precision  : 0.8361168445010323\n",
      "    val_recall     : 0.8344642857142857\n",
      "Saving checkpoint: ../saved/IMPRS_hdf5_volume_AllDAPI_noise/0710_173623/checkpoint-epoch100.pth ...\n"
     ]
    },
    {
     "name": "stdout",
     "output_type": "stream",
     "text": [
      "Model has not improved in -------------| 16 epochs\n"
     ]
    },
    {
     "name": "stderr",
     "output_type": "stream",
     "text": [
      "    epoch          : 101\n",
      "    loss           : 0.41358403861522675\n",
      "    my_metric      : 0.7948972902097903\n",
      "    f1             : 0.789893470417067\n",
      "    balanced_accuracy: 0.7707408651503722\n",
      "    precision      : 0.8073143830667759\n",
      "    recall         : 0.7948972902097903\n",
      "    val_loss       : 0.3594349980354309\n",
      "    val_my_metric  : 0.8110714285714286\n",
      "    val_f1         : 0.8028487271247974\n",
      "    val_balanced_accuracy: 0.7799162565132123\n",
      "    val_precision  : 0.8275633481406508\n",
      "    val_recall     : 0.8110714285714286\n"
     ]
    },
    {
     "name": "stdout",
     "output_type": "stream",
     "text": [
      "Model has not improved in -------------| 17 epochs\n"
     ]
    },
    {
     "name": "stderr",
     "output_type": "stream",
     "text": [
      "    epoch          : 102\n",
      "    loss           : 0.39873090386390686\n",
      "    my_metric      : 0.7978911713286714\n",
      "    f1             : 0.7911047103526723\n",
      "    balanced_accuracy: 0.7702995962077062\n",
      "    precision      : 0.8083897691241126\n",
      "    recall         : 0.7978911713286714\n",
      "    val_loss       : 0.37342489361763\n",
      "    val_my_metric  : 0.806875\n",
      "    val_f1         : 0.795644374126517\n",
      "    val_balanced_accuracy: 0.7646402896402897\n",
      "    val_precision  : 0.8282859132025401\n",
      "    val_recall     : 0.806875\n"
     ]
    },
    {
     "name": "stdout",
     "output_type": "stream",
     "text": [
      "Model has not improved in -------------| 18 epochs\n"
     ]
    },
    {
     "name": "stderr",
     "output_type": "stream",
     "text": [
      "    epoch          : 103\n",
      "    loss           : 0.413387173643479\n",
      "    my_metric      : 0.7903846153846155\n",
      "    f1             : 0.7850606513939109\n",
      "    balanced_accuracy: 0.765365695013243\n",
      "    precision      : 0.8010500420411948\n",
      "    recall         : 0.7903846153846155\n",
      "    val_loss       : 0.3720438778400421\n",
      "    val_my_metric  : 0.8360714285714286\n",
      "    val_f1         : 0.8337295054296945\n",
      "    val_balanced_accuracy: 0.813283020758724\n",
      "    val_precision  : 0.8405888174325675\n",
      "    val_recall     : 0.8360714285714286\n"
     ]
    },
    {
     "name": "stdout",
     "output_type": "stream",
     "text": [
      "Model has not improved in -------------| 19 epochs\n"
     ]
    },
    {
     "name": "stderr",
     "output_type": "stream",
     "text": [
      "    epoch          : 104\n",
      "    loss           : 0.3950625749734732\n",
      "    my_metric      : 0.786986451048951\n",
      "    f1             : 0.7798827211709963\n",
      "    balanced_accuracy: 0.7605844489238311\n",
      "    precision      : 0.801730652107791\n",
      "    recall         : 0.786986451048951\n",
      "    val_loss       : 0.3558823764324188\n",
      "    val_my_metric  : 0.8292857142857143\n",
      "    val_f1         : 0.8268107374630411\n",
      "    val_balanced_accuracy: 0.8059335418943021\n",
      "    val_precision  : 0.8337680876641475\n",
      "    val_recall     : 0.8292857142857143\n"
     ]
    },
    {
     "name": "stdout",
     "output_type": "stream",
     "text": [
      "Model has not improved in -------------| 20 epochs\n"
     ]
    },
    {
     "name": "stderr",
     "output_type": "stream",
     "text": [
      "    epoch          : 105\n",
      "    loss           : 0.406691591327007\n",
      "    my_metric      : 0.7923951048951049\n",
      "    f1             : 0.787380014333574\n",
      "    balanced_accuracy: 0.7716297388528438\n",
      "    precision      : 0.807005765231036\n",
      "    recall         : 0.7923951048951049\n",
      "    val_loss       : 0.3515488803386688\n",
      "    val_my_metric  : 0.8318749999999999\n",
      "    val_f1         : 0.8285884416956739\n",
      "    val_balanced_accuracy: 0.8071755343779967\n",
      "    val_precision  : 0.8340903407820669\n",
      "    val_recall     : 0.8318749999999999\n"
     ]
    },
    {
     "name": "stdout",
     "output_type": "stream",
     "text": [
      "Model has not improved in -------------| 21 epochs\n"
     ]
    },
    {
     "name": "stderr",
     "output_type": "stream",
     "text": [
      "    epoch          : 106\n",
      "    loss           : 0.4100095537992624\n",
      "    my_metric      : 0.7982954545454545\n",
      "    f1             : 0.7927194331493255\n",
      "    balanced_accuracy: 0.7739227179359146\n",
      "    precision      : 0.8087085217964394\n",
      "    recall         : 0.7982954545454545\n",
      "    val_loss       : 0.3645636737346649\n",
      "    val_my_metric  : 0.8032142857142857\n",
      "    val_f1         : 0.7916497362529888\n",
      "    val_balanced_accuracy: 0.7599119009645326\n",
      "    val_precision  : 0.8183421889974378\n",
      "    val_recall     : 0.8032142857142857\n"
     ]
    },
    {
     "name": "stdout",
     "output_type": "stream",
     "text": [
      "Model has not improved in -------------| 22 epochs\n"
     ]
    },
    {
     "name": "stderr",
     "output_type": "stream",
     "text": [
      "    epoch          : 107\n",
      "    loss           : 0.4098918013847791\n",
      "    my_metric      : 0.7930834790209791\n",
      "    f1             : 0.7868754281051611\n",
      "    balanced_accuracy: 0.7693074419659747\n",
      "    precision      : 0.8069468343009167\n",
      "    recall         : 0.7930834790209791\n",
      "    val_loss       : 0.37384011745452883\n",
      "    val_my_metric  : 0.8521428571428572\n",
      "    val_f1         : 0.8520938682058242\n",
      "    val_balanced_accuracy: 0.8441202773834352\n",
      "    val_precision  : 0.8575337170774814\n",
      "    val_recall     : 0.8521428571428572\n"
     ]
    },
    {
     "name": "stdout",
     "output_type": "stream",
     "text": [
      "Model has not improved in -------------| 23 epochs\n"
     ]
    },
    {
     "name": "stderr",
     "output_type": "stream",
     "text": [
      "    epoch          : 108\n",
      "    loss           : 0.4072081377873054\n",
      "    my_metric      : 0.7978911713286714\n",
      "    f1             : 0.7923774490979222\n",
      "    balanced_accuracy: 0.770520581177908\n",
      "    precision      : 0.8070392300094736\n",
      "    recall         : 0.7978911713286714\n",
      "    val_loss       : 0.39363818764686587\n",
      "    val_my_metric  : 0.7949107142857142\n",
      "    val_f1         : 0.786756683436883\n",
      "    val_balanced_accuracy: 0.7558223912501771\n",
      "    val_precision  : 0.8017748670029012\n",
      "    val_recall     : 0.7949107142857142\n"
     ]
    },
    {
     "name": "stdout",
     "output_type": "stream",
     "text": [
      "Model has not improved in -------------| 24 epochs\n"
     ]
    },
    {
     "name": "stderr",
     "output_type": "stream",
     "text": [
      "    epoch          : 109\n",
      "    loss           : 0.4113342658831523\n",
      "    my_metric      : 0.7855769230769231\n",
      "    f1             : 0.7785898989074111\n",
      "    balanced_accuracy: 0.7566199098871648\n",
      "    precision      : 0.7961530201763196\n",
      "    recall         : 0.7855769230769231\n",
      "    val_loss       : 0.38050906658172606\n",
      "    val_my_metric  : 0.8344642857142857\n",
      "    val_f1         : 0.8274873800127361\n",
      "    val_balanced_accuracy: 0.8010314691819687\n",
      "    val_precision  : 0.8529875130702352\n",
      "    val_recall     : 0.8344642857142857\n"
     ]
    },
    {
     "name": "stdout",
     "output_type": "stream",
     "text": [
      "Model has not improved in -------------| 25 epochs\n"
     ]
    },
    {
     "name": "stderr",
     "output_type": "stream",
     "text": [
      "    epoch          : 110\n",
      "    loss           : 0.3939086920939959\n",
      "    my_metric      : 0.8002076048951049\n",
      "    f1             : 0.7937559052720597\n",
      "    balanced_accuracy: 0.7724409225455505\n",
      "    precision      : 0.8109702892579145\n",
      "    recall         : 0.8002076048951049\n",
      "    val_loss       : 0.3701684892177582\n",
      "    val_my_metric  : 0.8359821428571429\n",
      "    val_f1         : 0.8331163552443585\n",
      "    val_balanced_accuracy: 0.8183407161314138\n",
      "    val_precision  : 0.8373443477549583\n",
      "    val_recall     : 0.8359821428571429\n"
     ]
    },
    {
     "name": "stdout",
     "output_type": "stream",
     "text": [
      "Model has not improved in -------------| 26 epochs\n"
     ]
    },
    {
     "name": "stderr",
     "output_type": "stream",
     "text": [
      "    epoch          : 111\n",
      "    loss           : 0.4085743702374972\n",
      "    my_metric      : 0.7886909965034966\n",
      "    f1             : 0.7817593580181443\n",
      "    balanced_accuracy: 0.7603366862848764\n",
      "    precision      : 0.7971447295911079\n",
      "    recall         : 0.7886909965034966\n",
      "    val_loss       : 0.3572744905948639\n",
      "    val_my_metric  : 0.8188392857142857\n",
      "    val_f1         : 0.8152220183680207\n",
      "    val_balanced_accuracy: 0.7922899322899323\n",
      "    val_precision  : 0.8185099863904213\n",
      "    val_recall     : 0.8188392857142857\n"
     ]
    },
    {
     "name": "stdout",
     "output_type": "stream",
     "text": [
      "Model has not improved in -------------| 27 epochs\n"
     ]
    },
    {
     "name": "stderr",
     "output_type": "stream",
     "text": [
      "    epoch          : 112\n",
      "    loss           : 0.3940798365152799\n",
      "    my_metric      : 0.7936844405594405\n",
      "    f1             : 0.7878753282690373\n",
      "    balanced_accuracy: 0.7663164712002478\n",
      "    precision      : 0.8049436674610593\n",
      "    recall         : 0.7936844405594405\n",
      "    val_loss       : 0.3527501106262207\n",
      "    val_my_metric  : 0.8308035714285713\n",
      "    val_f1         : 0.8289262214275496\n",
      "    val_balanced_accuracy: 0.8111392123571971\n",
      "    val_precision  : 0.8316634875541127\n",
      "    val_recall     : 0.8308035714285713\n"
     ]
    },
    {
     "name": "stdout",
     "output_type": "stream",
     "text": [
      "Model has not improved in -------------| 28 epochs\n"
     ]
    },
    {
     "name": "stderr",
     "output_type": "stream",
     "text": [
      "    epoch          : 113\n",
      "    loss           : 0.40503996496017164\n",
      "    my_metric      : 0.7938920454545454\n",
      "    f1             : 0.7871906397510707\n",
      "    balanced_accuracy: 0.7674325326720624\n",
      "    precision      : 0.8016512487430705\n",
      "    recall         : 0.7938920454545454\n",
      "    val_loss       : 0.34895418882369994\n",
      "    val_my_metric  : 0.8448214285714286\n",
      "    val_f1         : 0.8425352565751867\n",
      "    val_balanced_accuracy: 0.8230991924300515\n",
      "    val_precision  : 0.8455832775179015\n",
      "    val_recall     : 0.8448214285714286\n"
     ]
    },
    {
     "name": "stdout",
     "output_type": "stream",
     "text": [
      "Model has not improved in -------------| 29 epochs\n"
     ]
    },
    {
     "name": "stderr",
     "output_type": "stream",
     "text": [
      "    epoch          : 114\n",
      "    loss           : 0.3934085059624452\n",
      "    my_metric      : 0.8017045454545454\n",
      "    f1             : 0.7959741177964996\n",
      "    balanced_accuracy: 0.7778970582467848\n",
      "    precision      : 0.8124532391000934\n",
      "    recall         : 0.8017045454545454\n",
      "    val_loss       : 0.36348427534103395\n",
      "    val_my_metric  : 0.8282142857142857\n",
      "    val_f1         : 0.8237228330673932\n",
      "    val_balanced_accuracy: 0.7991366966366966\n",
      "    val_precision  : 0.832111479567085\n",
      "    val_recall     : 0.8282142857142857\n"
     ]
    },
    {
     "name": "stdout",
     "output_type": "stream",
     "text": [
      "Model has not improved in -------------| 30 epochs\n"
     ]
    },
    {
     "name": "stderr",
     "output_type": "stream",
     "text": [
      "    epoch          : 115\n",
      "    loss           : 0.40828105348807114\n",
      "    my_metric      : 0.8025131118881119\n",
      "    f1             : 0.796971110552411\n",
      "    balanced_accuracy: 0.7809821758498731\n",
      "    precision      : 0.8142702613749211\n",
      "    recall         : 0.8025131118881119\n",
      "    val_loss       : 0.33517534136772154\n",
      "    val_my_metric  : 0.8500892857142857\n",
      "    val_f1         : 0.8438387854758034\n",
      "    val_balanced_accuracy: 0.8150003939131295\n",
      "    val_precision  : 0.8659229419040344\n",
      "    val_recall     : 0.8500892857142857\n",
      "Saving checkpoint: ../saved/IMPRS_hdf5_volume_AllDAPI_noise/0710_173623/checkpoint-epoch115.pth ...\n",
      "Saving current best: model_best.pth ...\n",
      "    epoch          : 116\n",
      "    loss           : 0.3933845368715433\n",
      "    my_metric      : 0.7962958916083915\n",
      "    f1             : 0.7900864554143752\n",
      "    balanced_accuracy: 0.7705083604512085\n",
      "    precision      : 0.8045426883209956\n",
      "    recall         : 0.7962958916083915\n",
      "    val_loss       : 0.38787124752998353\n",
      "    val_my_metric  : 0.819375\n",
      "    val_f1         : 0.8137063628732182\n",
      "    val_balanced_accuracy: 0.7885645905841744\n",
      "    val_precision  : 0.8265139129878257\n",
      "    val_recall     : 0.819375\n"
     ]
    },
    {
     "name": "stdout",
     "output_type": "stream",
     "text": [
      "Model has not improved in -------------| 1 epochs\n"
     ]
    },
    {
     "name": "stderr",
     "output_type": "stream",
     "text": [
      "    epoch          : 117\n",
      "    loss           : 0.4087245945747082\n",
      "    my_metric      : 0.787784090909091\n",
      "    f1             : 0.782981422248766\n",
      "    balanced_accuracy: 0.7636388479381877\n",
      "    precision      : 0.7946492540568239\n",
      "    recall         : 0.787784090909091\n",
      "    val_loss       : 0.3963650107383728\n",
      "    val_my_metric  : 0.8302678571428572\n",
      "    val_f1         : 0.8303768406096615\n",
      "    val_balanced_accuracy: 0.8213123816702821\n",
      "    val_precision  : 0.8305723443223443\n",
      "    val_recall     : 0.8302678571428572\n"
     ]
    },
    {
     "name": "stdout",
     "output_type": "stream",
     "text": [
      "Model has not improved in -------------| 2 epochs\n"
     ]
    },
    {
     "name": "stderr",
     "output_type": "stream",
     "text": [
      "    epoch          : 118\n",
      "    loss           : 0.4093448450932136\n",
      "    my_metric      : 0.7935861013986014\n",
      "    f1             : 0.7890414285722588\n",
      "    balanced_accuracy: 0.7703431113884949\n",
      "    precision      : 0.8010726249381656\n",
      "    recall         : 0.7935861013986014\n",
      "    val_loss       : 0.3605854332447052\n",
      "    val_my_metric  : 0.8157142857142856\n",
      "    val_f1         : 0.8062630509502963\n",
      "    val_balanced_accuracy: 0.774383992660769\n",
      "    val_precision  : 0.827558810754463\n",
      "    val_recall     : 0.8157142857142856\n"
     ]
    },
    {
     "name": "stdout",
     "output_type": "stream",
     "text": [
      "Model has not improved in -------------| 3 epochs\n"
     ]
    },
    {
     "name": "stderr",
     "output_type": "stream",
     "text": [
      "    epoch          : 119\n",
      "    loss           : 0.4118695706129074\n",
      "    my_metric      : 0.7924934440559441\n",
      "    f1             : 0.7874419658995362\n",
      "    balanced_accuracy: 0.7684230793554754\n",
      "    precision      : 0.8030846703740069\n",
      "    recall         : 0.7924934440559441\n",
      "    val_loss       : 0.4174156665802002\n",
      "    val_my_metric  : 0.8022321428571428\n",
      "    val_f1         : 0.8013773474071322\n",
      "    val_balanced_accuracy: 0.7907669746301771\n",
      "    val_precision  : 0.8078460279440997\n",
      "    val_recall     : 0.8022321428571428\n"
     ]
    },
    {
     "name": "stdout",
     "output_type": "stream",
     "text": [
      "Model has not improved in -------------| 4 epochs\n"
     ]
    },
    {
     "name": "stderr",
     "output_type": "stream",
     "text": [
      "    epoch          : 120\n",
      "    loss           : 0.3912811497083077\n",
      "    my_metric      : 0.8060096153846155\n",
      "    f1             : 0.7996154412230182\n",
      "    balanced_accuracy: 0.7810564480557944\n",
      "    precision      : 0.8209654457487444\n",
      "    recall         : 0.8060096153846155\n",
      "    val_loss       : 0.37858020663261416\n",
      "    val_my_metric  : 0.8178571428571428\n",
      "    val_f1         : 0.8158279255267882\n",
      "    val_balanced_accuracy: 0.7995870500377393\n",
      "    val_precision  : 0.8187826597891336\n",
      "    val_recall     : 0.8178571428571428\n"
     ]
    },
    {
     "name": "stdout",
     "output_type": "stream",
     "text": [
      "Model has not improved in -------------| 5 epochs\n"
     ]
    },
    {
     "name": "stderr",
     "output_type": "stream",
     "text": [
      "    epoch          : 121\n",
      "    loss           : 0.39145097996179873\n",
      "    my_metric      : 0.8\n",
      "    f1             : 0.7938429719745336\n",
      "    balanced_accuracy: 0.7773458748037503\n",
      "    precision      : 0.8106289533949792\n",
      "    recall         : 0.8\n",
      "    val_loss       : 0.37131727337837217\n",
      "    val_my_metric  : 0.8120535714285714\n",
      "    val_f1         : 0.8071431450756513\n",
      "    val_balanced_accuracy: 0.7864018299122338\n",
      "    val_precision  : 0.8119958921306891\n",
      "    val_recall     : 0.8120535714285714\n"
     ]
    },
    {
     "name": "stdout",
     "output_type": "stream",
     "text": [
      "Model has not improved in -------------| 6 epochs\n"
     ]
    },
    {
     "name": "stderr",
     "output_type": "stream",
     "text": [
      "    epoch          : 122\n",
      "    loss           : 0.41293942584441257\n",
      "    my_metric      : 0.7986997377622378\n",
      "    f1             : 0.7936142506085416\n",
      "    balanced_accuracy: 0.7752533818028411\n",
      "    precision      : 0.8055630496951738\n",
      "    recall         : 0.7986997377622378\n",
      "    val_loss       : 0.3564877212047577\n",
      "    val_my_metric  : 0.8433035714285714\n",
      "    val_f1         : 0.837958592704543\n",
      "    val_balanced_accuracy: 0.8094927616842801\n",
      "    val_precision  : 0.8483917606357814\n",
      "    val_recall     : 0.8433035714285714\n"
     ]
    },
    {
     "name": "stdout",
     "output_type": "stream",
     "text": [
      "Model has not improved in -------------| 7 epochs\n"
     ]
    },
    {
     "name": "stderr",
     "output_type": "stream",
     "text": [
      "    epoch          : 123\n",
      "    loss           : 0.4011417501247846\n",
      "    my_metric      : 0.7948972902097903\n",
      "    f1             : 0.7881933721869955\n",
      "    balanced_accuracy: 0.7714779673730858\n",
      "    precision      : 0.809283925017102\n",
      "    recall         : 0.7948972902097903\n",
      "    val_loss       : 0.35754022002220154\n",
      "    val_my_metric  : 0.8157142857142856\n",
      "    val_f1         : 0.8077841879266426\n",
      "    val_balanced_accuracy: 0.7718862679915313\n",
      "    val_precision  : 0.8229995509260675\n",
      "    val_recall     : 0.8157142857142856\n"
     ]
    },
    {
     "name": "stdout",
     "output_type": "stream",
     "text": [
      "Model has not improved in -------------| 8 epochs\n"
     ]
    },
    {
     "name": "stderr",
     "output_type": "stream",
     "text": [
      "    epoch          : 124\n",
      "    loss           : 0.3978226906978167\n",
      "    my_metric      : 0.8003059440559441\n",
      "    f1             : 0.7951552640713881\n",
      "    balanced_accuracy: 0.7775244133359972\n",
      "    precision      : 0.8115540739585825\n",
      "    recall         : 0.8003059440559441\n",
      "    val_loss       : 0.3591662168502808\n",
      "    val_my_metric  : 0.8458928571428572\n",
      "    val_f1         : 0.8432317694325144\n",
      "    val_balanced_accuracy: 0.822748908985751\n",
      "    val_precision  : 0.8503984177277084\n",
      "    val_recall     : 0.8458928571428572\n"
     ]
    },
    {
     "name": "stdout",
     "output_type": "stream",
     "text": [
      "Model has not improved in -------------| 9 epochs\n"
     ]
    },
    {
     "name": "stderr",
     "output_type": "stream",
     "text": [
      "    epoch          : 125\n",
      "    loss           : 0.4118253944011835\n",
      "    my_metric      : 0.7937937062937064\n",
      "    f1             : 0.7884381788432399\n",
      "    balanced_accuracy: 0.7707264195656547\n",
      "    precision      : 0.8022026345683938\n",
      "    recall         : 0.7937937062937064\n",
      "    val_loss       : 0.367768383026123\n",
      "    val_my_metric  : 0.8407142857142856\n",
      "    val_f1         : 0.8392377185398677\n",
      "    val_balanced_accuracy: 0.8242269457349657\n",
      "    val_precision  : 0.8449150114591291\n",
      "    val_recall     : 0.8407142857142856\n"
     ]
    },
    {
     "name": "stdout",
     "output_type": "stream",
     "text": [
      "Model has not improved in -------------| 10 epochs\n"
     ]
    },
    {
     "name": "stderr",
     "output_type": "stream",
     "text": [
      "    epoch          : 126\n",
      "    loss           : 0.4007747322320938\n",
      "    my_metric      : 0.7958916083916083\n",
      "    f1             : 0.7895370594663667\n",
      "    balanced_accuracy: 0.770992156361555\n",
      "    precision      : 0.8053510615350945\n",
      "    recall         : 0.7958916083916083\n",
      "    val_loss       : 0.3736456036567688\n",
      "    val_my_metric  : 0.7995535714285714\n",
      "    val_f1         : 0.7876787788118446\n",
      "    val_balanced_accuracy: 0.7591442937954566\n",
      "    val_precision  : 0.809262309119452\n",
      "    val_recall     : 0.7995535714285714\n"
     ]
    },
    {
     "name": "stdout",
     "output_type": "stream",
     "text": [
      "Model has not improved in -------------| 11 epochs\n"
     ]
    },
    {
     "name": "stderr",
     "output_type": "stream",
     "text": [
      "    epoch          : 127\n",
      "    loss           : 0.41965593282993024\n",
      "    my_metric      : 0.7931818181818181\n",
      "    f1             : 0.7861957595406014\n",
      "    balanced_accuracy: 0.7648264812968547\n",
      "    precision      : 0.7999272306793015\n",
      "    recall         : 0.7931818181818181\n",
      "    val_loss       : 0.3453310042619705\n",
      "    val_my_metric  : 0.8370535714285714\n",
      "    val_f1         : 0.8317927320271481\n",
      "    val_balanced_accuracy: 0.8052972612183138\n",
      "    val_precision  : 0.8425036245911114\n",
      "    val_recall     : 0.8370535714285714\n"
     ]
    },
    {
     "name": "stdout",
     "output_type": "stream",
     "text": [
      "Model has not improved in -------------| 12 epochs\n"
     ]
    },
    {
     "name": "stderr",
     "output_type": "stream",
     "text": [
      "    epoch          : 128\n",
      "    loss           : 0.3984300849529413\n",
      "    my_metric      : 0.806708916083916\n",
      "    f1             : 0.8016153718162943\n",
      "    balanced_accuracy: 0.7830531942966841\n",
      "    precision      : 0.8130527049897847\n",
      "    recall         : 0.806708916083916\n",
      "    val_loss       : 0.3646359145641327\n",
      "    val_my_metric  : 0.835\n",
      "    val_f1         : 0.8338522909900596\n",
      "    val_balanced_accuracy: 0.8164666004390287\n",
      "    val_precision  : 0.8356626057017096\n",
      "    val_recall     : 0.835\n"
     ]
    },
    {
     "name": "stdout",
     "output_type": "stream",
     "text": [
      "Model has not improved in -------------| 13 epochs\n"
     ]
    },
    {
     "name": "stderr",
     "output_type": "stream",
     "text": [
      "    epoch          : 129\n",
      "    loss           : 0.3941843268963007\n",
      "    my_metric      : 0.7993006993006992\n",
      "    f1             : 0.7928546774027954\n",
      "    balanced_accuracy: 0.7729146494512817\n",
      "    precision      : 0.810112881258783\n",
      "    recall         : 0.7993006993006992\n",
      "    val_loss       : 0.3463125228881836\n",
      "    val_my_metric  : 0.8157142857142856\n",
      "    val_f1         : 0.8063963582522142\n",
      "    val_balanced_accuracy: 0.7774750871476139\n",
      "    val_precision  : 0.8345417228751446\n",
      "    val_recall     : 0.8157142857142856\n"
     ]
    },
    {
     "name": "stdout",
     "output_type": "stream",
     "text": [
      "Model has not improved in -------------| 14 epochs\n"
     ]
    },
    {
     "name": "stderr",
     "output_type": "stream",
     "text": [
      "    epoch          : 130\n",
      "    loss           : 0.40321188591993773\n",
      "    my_metric      : 0.7941870629370629\n",
      "    f1             : 0.7886733476474557\n",
      "    balanced_accuracy: 0.7724668546251163\n",
      "    precision      : 0.8045459017719874\n",
      "    recall         : 0.7941870629370629\n",
      "    val_loss       : 0.34289591312408446\n",
      "    val_my_metric  : 0.8370535714285714\n",
      "    val_f1         : 0.8360289006103094\n",
      "    val_balanced_accuracy: 0.8164319664284602\n",
      "    val_precision  : 0.842095689098995\n",
      "    val_recall     : 0.8370535714285714\n"
     ]
    },
    {
     "name": "stdout",
     "output_type": "stream",
     "text": [
      "Model has not improved in -------------| 15 epochs\n"
     ]
    },
    {
     "name": "stderr",
     "output_type": "stream",
     "text": [
      "    epoch          : 131\n",
      "    loss           : 0.39660040862285173\n",
      "    my_metric      : 0.7978037587412588\n",
      "    f1             : 0.7917846000262828\n",
      "    balanced_accuracy: 0.7714055250153712\n",
      "    precision      : 0.8090280610488553\n",
      "    recall         : 0.7978037587412588\n",
      "    val_loss       : 0.35756288170814515\n",
      "    val_my_metric  : 0.8298214285714286\n",
      "    val_f1         : 0.8258190290147425\n",
      "    val_balanced_accuracy: 0.8032727256768177\n",
      "    val_precision  : 0.8353870307324256\n",
      "    val_recall     : 0.8298214285714286\n"
     ]
    },
    {
     "name": "stdout",
     "output_type": "stream",
     "text": [
      "Model has not improved in -------------| 16 epochs\n"
     ]
    },
    {
     "name": "stderr",
     "output_type": "stream",
     "text": [
      "    epoch          : 132\n",
      "    loss           : 0.41151901850333583\n",
      "    my_metric      : 0.7892919580419581\n",
      "    f1             : 0.7829404188360196\n",
      "    balanced_accuracy: 0.7638771084135972\n",
      "    precision      : 0.8015943938622936\n",
      "    recall         : 0.7892919580419581\n",
      "    val_loss       : 0.3650097191333771\n",
      "    val_my_metric  : 0.8458928571428572\n",
      "    val_f1         : 0.8422146988159259\n",
      "    val_balanced_accuracy: 0.8226645862710773\n",
      "    val_precision  : 0.8499279515896772\n",
      "    val_recall     : 0.8458928571428572\n"
     ]
    },
    {
     "name": "stdout",
     "output_type": "stream",
     "text": [
      "Model has not improved in -------------| 17 epochs\n"
     ]
    },
    {
     "name": "stderr",
     "output_type": "stream",
     "text": [
      "    epoch          : 133\n",
      "    loss           : 0.38611058031137174\n",
      "    my_metric      : 0.7963833041958043\n",
      "    f1             : 0.7905370007796451\n",
      "    balanced_accuracy: 0.7735898869230005\n",
      "    precision      : 0.8048673156426251\n",
      "    recall         : 0.7963833041958043\n",
      "    val_loss       : 0.34621028900146483\n",
      "    val_my_metric  : 0.8344642857142857\n",
      "    val_f1         : 0.8306140421538943\n",
      "    val_balanced_accuracy: 0.8120971659919028\n",
      "    val_precision  : 0.8376888111958258\n",
      "    val_recall     : 0.8344642857142857\n"
     ]
    },
    {
     "name": "stdout",
     "output_type": "stream",
     "text": [
      "Model has not improved in -------------| 18 epochs\n"
     ]
    },
    {
     "name": "stderr",
     "output_type": "stream",
     "text": [
      "    epoch          : 134\n",
      "    loss           : 0.40474395339305586\n",
      "    my_metric      : 0.7869755244755244\n",
      "    f1             : 0.7811627310341507\n",
      "    balanced_accuracy: 0.761316764584708\n",
      "    precision      : 0.793501395542484\n",
      "    recall         : 0.7869755244755244\n",
      "    val_loss       : 0.31305311024189\n",
      "    val_my_metric  : 0.8573214285714286\n",
      "    val_f1         : 0.8522797126979949\n",
      "    val_balanced_accuracy: 0.8232059851533536\n",
      "    val_precision  : 0.8616532681499788\n",
      "    val_recall     : 0.8573214285714286\n",
      "Saving checkpoint: ../saved/IMPRS_hdf5_volume_AllDAPI_noise/0710_173623/checkpoint-epoch134.pth ...\n",
      "Saving current best: model_best.pth ...\n",
      "    epoch          : 135\n",
      "    loss           : 0.3947080557162945\n",
      "    my_metric      : 0.8078125\n",
      "    f1             : 0.8015401749059848\n",
      "    balanced_accuracy: 0.7824671598278793\n",
      "    precision      : 0.818476417506331\n",
      "    recall         : 0.8078125\n",
      "    val_loss       : 0.34891656935215\n",
      "    val_my_metric  : 0.7855357142857142\n",
      "    val_f1         : 0.7733832483450166\n",
      "    val_balanced_accuracy: 0.7338861594794658\n",
      "    val_precision  : 0.7990530547190937\n",
      "    val_recall     : 0.7855357142857142\n"
     ]
    },
    {
     "name": "stdout",
     "output_type": "stream",
     "text": [
      "Model has not improved in -------------| 1 epochs\n"
     ]
    },
    {
     "name": "stderr",
     "output_type": "stream",
     "text": [
      "    epoch          : 136\n",
      "    loss           : 0.41556820273399353\n",
      "    my_metric      : 0.7950939685314685\n",
      "    f1             : 0.7903387969758163\n",
      "    balanced_accuracy: 0.7711947178957094\n",
      "    precision      : 0.802520882334363\n",
      "    recall         : 0.7950939685314685\n",
      "    val_loss       : 0.3595764696598053\n",
      "    val_my_metric  : 0.8412499999999999\n",
      "    val_f1         : 0.8388241321987678\n",
      "    val_balanced_accuracy: 0.8305384027684608\n",
      "    val_precision  : 0.8525703463203463\n",
      "    val_recall     : 0.8412499999999999\n"
     ]
    },
    {
     "name": "stdout",
     "output_type": "stream",
     "text": [
      "Model has not improved in -------------| 2 epochs\n"
     ]
    },
    {
     "name": "stderr",
     "output_type": "stream",
     "text": [
      "    epoch          : 137\n",
      "    loss           : 0.39533606744729555\n",
      "    my_metric      : 0.7920891608391608\n",
      "    f1             : 0.7861460190398382\n",
      "    balanced_accuracy: 0.7676091709668241\n",
      "    precision      : 0.80172799577041\n",
      "    recall         : 0.7920891608391608\n",
      "    val_loss       : 0.34740460515022276\n",
      "    val_my_metric  : 0.8099999999999999\n",
      "    val_f1         : 0.806591559481781\n",
      "    val_balanced_accuracy: 0.7832504847881305\n",
      "    val_precision  : 0.8096217823479815\n",
      "    val_recall     : 0.8099999999999999\n"
     ]
    },
    {
     "name": "stdout",
     "output_type": "stream",
     "text": [
      "Model has not improved in -------------| 3 epochs\n"
     ]
    },
    {
     "name": "stderr",
     "output_type": "stream",
     "text": [
      "    epoch          : 138\n",
      "    loss           : 0.3909653826401784\n",
      "    my_metric      : 0.7965909090909091\n",
      "    f1             : 0.791155407187863\n",
      "    balanced_accuracy: 0.7732125188476561\n",
      "    precision      : 0.8071543998582189\n",
      "    recall         : 0.7965909090909091\n",
      "    val_loss       : 0.37924330234527587\n",
      "    val_my_metric  : 0.8261607142857142\n",
      "    val_f1         : 0.8233926348723097\n",
      "    val_balanced_accuracy: 0.806044277360067\n",
      "    val_precision  : 0.8305901091739727\n",
      "    val_recall     : 0.8261607142857142\n"
     ]
    },
    {
     "name": "stdout",
     "output_type": "stream",
     "text": [
      "Model has not improved in -------------| 4 epochs\n"
     ]
    },
    {
     "name": "stderr",
     "output_type": "stream",
     "text": [
      "    epoch          : 139\n",
      "    loss           : 0.3957478209183766\n",
      "    my_metric      : 0.8076158216783218\n",
      "    f1             : 0.8021408723940316\n",
      "    balanced_accuracy: 0.7820400548550258\n",
      "    precision      : 0.814545457835625\n",
      "    recall         : 0.8076158216783218\n",
      "    val_loss       : 0.3491539001464844\n",
      "    val_my_metric  : 0.8241071428571429\n",
      "    val_f1         : 0.8201935193658766\n",
      "    val_balanced_accuracy: 0.7995632931446885\n",
      "    val_precision  : 0.8285952158899086\n",
      "    val_recall     : 0.8241071428571429\n"
     ]
    },
    {
     "name": "stdout",
     "output_type": "stream",
     "text": [
      "Model has not improved in -------------| 5 epochs\n"
     ]
    },
    {
     "name": "stderr",
     "output_type": "stream",
     "text": [
      "    epoch          : 140\n",
      "    loss           : 0.39592505074464357\n",
      "    my_metric      : 0.7982954545454545\n",
      "    f1             : 0.7914761511844345\n",
      "    balanced_accuracy: 0.7684080092864163\n",
      "    precision      : 0.8058331138175556\n",
      "    recall         : 0.7982954545454545\n",
      "    val_loss       : 0.37213772535324097\n",
      "    val_my_metric  : 0.8547321428571429\n",
      "    val_f1         : 0.8532342434927532\n",
      "    val_balanced_accuracy: 0.8368636499683829\n",
      "    val_precision  : 0.8561219628239977\n",
      "    val_recall     : 0.8547321428571429\n"
     ]
    },
    {
     "name": "stdout",
     "output_type": "stream",
     "text": [
      "Model has not improved in -------------| 6 epochs\n"
     ]
    },
    {
     "name": "stderr",
     "output_type": "stream",
     "text": [
      "    epoch          : 141\n",
      "    loss           : 0.3901898574370604\n",
      "    my_metric      : 0.7989947552447553\n",
      "    f1             : 0.7933593038300546\n",
      "    balanced_accuracy: 0.7731822501193939\n",
      "    precision      : 0.805750063413243\n",
      "    recall         : 0.7989947552447553\n",
      "    val_loss       : 0.3586995482444763\n",
      "    val_my_metric  : 0.8235714285714286\n",
      "    val_f1         : 0.814571118480176\n",
      "    val_balanced_accuracy: 0.7967264259262423\n",
      "    val_precision  : 0.8439876693712286\n",
      "    val_recall     : 0.8235714285714286\n"
     ]
    },
    {
     "name": "stdout",
     "output_type": "stream",
     "text": [
      "Model has not improved in -------------| 7 epochs\n"
     ]
    },
    {
     "name": "stderr",
     "output_type": "stream",
     "text": [
      "    epoch          : 142\n",
      "    loss           : 0.3926319915514726\n",
      "    my_metric      : 0.8051027097902098\n",
      "    f1             : 0.7997972354532281\n",
      "    balanced_accuracy: 0.7836275654120293\n",
      "    precision      : 0.8157149489162656\n",
      "    recall         : 0.8051027097902098\n",
      "    val_loss       : 0.34253659248352053\n",
      "    val_my_metric  : 0.8631249999999999\n",
      "    val_f1         : 0.8609783489070182\n",
      "    val_balanced_accuracy: 0.8384177175377383\n",
      "    val_precision  : 0.8630458328156119\n",
      "    val_recall     : 0.8631249999999999\n"
     ]
    },
    {
     "name": "stdout",
     "output_type": "stream",
     "text": [
      "Model has not improved in -------------| 8 epochs\n"
     ]
    },
    {
     "name": "stderr",
     "output_type": "stream",
     "text": [
      "    epoch          : 143\n",
      "    loss           : 0.4102504150225566\n",
      "    my_metric      : 0.7902862762237762\n",
      "    f1             : 0.785077148976761\n",
      "    balanced_accuracy: 0.7684969032868747\n",
      "    precision      : 0.801065378918866\n",
      "    recall         : 0.7902862762237762\n",
      "    val_loss       : 0.3501420795917511\n",
      "    val_my_metric  : 0.8417857142857142\n",
      "    val_f1         : 0.8395143379123302\n",
      "    val_balanced_accuracy: 0.824726608560758\n",
      "    val_precision  : 0.843096144925628\n",
      "    val_recall     : 0.8417857142857142\n"
     ]
    },
    {
     "name": "stdout",
     "output_type": "stream",
     "text": [
      "Model has not improved in -------------| 9 epochs\n"
     ]
    },
    {
     "name": "stderr",
     "output_type": "stream",
     "text": [
      "    epoch          : 144\n",
      "    loss           : 0.3947100215233289\n",
      "    my_metric      : 0.7938920454545454\n",
      "    f1             : 0.7885762985041423\n",
      "    balanced_accuracy: 0.7694979252095787\n",
      "    precision      : 0.8006710151111542\n",
      "    recall         : 0.7938920454545454\n",
      "    val_loss       : 0.34933185279369355\n",
      "    val_my_metric  : 0.8344642857142857\n",
      "    val_f1         : 0.8321648433730188\n",
      "    val_balanced_accuracy: 0.8136917614549193\n",
      "    val_precision  : 0.8352828434204824\n",
      "    val_recall     : 0.8344642857142857\n"
     ]
    },
    {
     "name": "stdout",
     "output_type": "stream",
     "text": [
      "Model has not improved in -------------| 10 epochs\n"
     ]
    },
    {
     "name": "stderr",
     "output_type": "stream",
     "text": [
      "    epoch          : 145\n",
      "    loss           : 0.38911060988903046\n",
      "    my_metric      : 0.8046110139860141\n",
      "    f1             : 0.7998407435862777\n",
      "    balanced_accuracy: 0.7831934297725728\n",
      "    precision      : 0.8135653808394392\n",
      "    recall         : 0.8046110139860141\n",
      "    val_loss       : 0.3593719661235809\n",
      "    val_my_metric  : 0.8318749999999999\n",
      "    val_f1         : 0.8271026836086094\n",
      "    val_balanced_accuracy: 0.7906872768714874\n",
      "    val_precision  : 0.8294810567339637\n",
      "    val_recall     : 0.8318749999999999\n"
     ]
    },
    {
     "name": "stdout",
     "output_type": "stream",
     "text": [
      "Model has not improved in -------------| 11 epochs\n"
     ]
    },
    {
     "name": "stderr",
     "output_type": "stream",
     "text": [
      "    epoch          : 146\n",
      "    loss           : 0.3897442256028836\n",
      "    my_metric      : 0.8087194055944056\n",
      "    f1             : 0.8040665172931984\n",
      "    balanced_accuracy: 0.7843507091822779\n",
      "    precision      : 0.8165521543344685\n",
      "    recall         : 0.8087194055944056\n",
      "    val_loss       : 0.3367574632167816\n",
      "    val_my_metric  : 0.8547321428571429\n",
      "    val_f1         : 0.8522423578705371\n",
      "    val_balanced_accuracy: 0.8417475212959085\n",
      "    val_precision  : 0.8650239399318045\n",
      "    val_recall     : 0.8547321428571429\n"
     ]
    },
    {
     "name": "stdout",
     "output_type": "stream",
     "text": [
      "Model has not improved in -------------| 12 epochs\n"
     ]
    },
    {
     "name": "stderr",
     "output_type": "stream",
     "text": [
      "    epoch          : 147\n",
      "    loss           : 0.3839081692007872\n",
      "    my_metric      : 0.8087194055944056\n",
      "    f1             : 0.8031826765987764\n",
      "    balanced_accuracy: 0.7868252930923899\n",
      "    precision      : 0.8175479678313355\n",
      "    recall         : 0.8087194055944056\n",
      "    val_loss       : 0.38298262357711793\n",
      "    val_my_metric  : 0.813125\n",
      "    val_f1         : 0.8095245214981208\n",
      "    val_balanced_accuracy: 0.784182393388488\n",
      "    val_precision  : 0.8177589578369668\n",
      "    val_recall     : 0.813125\n"
     ]
    },
    {
     "name": "stdout",
     "output_type": "stream",
     "text": [
      "Model has not improved in -------------| 13 epochs\n"
     ]
    },
    {
     "name": "stderr",
     "output_type": "stream",
     "text": [
      "    epoch          : 148\n",
      "    loss           : 0.3927464995246667\n",
      "    my_metric      : 0.8080091783216783\n",
      "    f1             : 0.8030639384249904\n",
      "    balanced_accuracy: 0.7849758322512462\n",
      "    precision      : 0.8164852250308414\n",
      "    recall         : 0.8080091783216783\n",
      "    val_loss       : 0.3546875476837158\n",
      "    val_my_metric  : 0.8225\n",
      "    val_f1         : 0.8198904866482513\n",
      "    val_balanced_accuracy: 0.8022764930232397\n",
      "    val_precision  : 0.8245343200315155\n",
      "    val_recall     : 0.8225\n"
     ]
    },
    {
     "name": "stdout",
     "output_type": "stream",
     "text": [
      "Model has not improved in -------------| 14 epochs\n"
     ]
    },
    {
     "name": "stderr",
     "output_type": "stream",
     "text": [
      "    epoch          : 149\n",
      "    loss           : 0.387661948800087\n",
      "    my_metric      : 0.8051136363636364\n",
      "    f1             : 0.7992371019438489\n",
      "    balanced_accuracy: 0.7804766704503626\n",
      "    precision      : 0.8129364018300502\n",
      "    recall         : 0.8051136363636364\n",
      "    val_loss       : 0.3638382971286774\n",
      "    val_my_metric  : 0.8116071428571429\n",
      "    val_f1         : 0.8022872856632357\n",
      "    val_balanced_accuracy: 0.7781775087657441\n",
      "    val_precision  : 0.8176394879064874\n",
      "    val_recall     : 0.8116071428571429\n"
     ]
    },
    {
     "name": "stdout",
     "output_type": "stream",
     "text": [
      "Model has not improved in -------------| 15 epochs\n"
     ]
    },
    {
     "name": "stderr",
     "output_type": "stream",
     "text": [
      "    epoch          : 150\n",
      "    loss           : 0.4040445272739117\n",
      "    my_metric      : 0.7962958916083915\n",
      "    f1             : 0.7896675173338479\n",
      "    balanced_accuracy: 0.768957850745851\n",
      "    precision      : 0.8042580411485326\n",
      "    recall         : 0.7962958916083915\n",
      "    val_loss       : 0.33053854405879973\n",
      "    val_my_metric  : 0.848482142857143\n",
      "    val_f1         : 0.8451074335765515\n",
      "    val_balanced_accuracy: 0.8263056798056798\n",
      "    val_precision  : 0.8549145500591541\n",
      "    val_recall     : 0.848482142857143\n"
     ]
    },
    {
     "name": "stdout",
     "output_type": "stream",
     "text": [
      "Model has not improved in -------------| 16 epochs\n"
     ]
    },
    {
     "name": "stderr",
     "output_type": "stream",
     "text": [
      "    epoch          : 151\n",
      "    loss           : 0.39609324645537597\n",
      "    my_metric      : 0.8016936188811189\n",
      "    f1             : 0.7966091312204342\n",
      "    balanced_accuracy: 0.778484035844985\n",
      "    precision      : 0.8098745746397705\n",
      "    recall         : 0.8016936188811189\n",
      "    val_loss       : 0.37501307129859923\n",
      "    val_my_metric  : 0.8225\n",
      "    val_f1         : 0.8196430764679267\n",
      "    val_balanced_accuracy: 0.786108542798198\n",
      "    val_precision  : 0.8240378751127004\n",
      "    val_recall     : 0.8225\n"
     ]
    },
    {
     "name": "stdout",
     "output_type": "stream",
     "text": [
      "Model has not improved in -------------| 17 epochs\n"
     ]
    },
    {
     "name": "stderr",
     "output_type": "stream",
     "text": [
      "    epoch          : 152\n",
      "    loss           : 0.405851695400018\n",
      "    my_metric      : 0.7866914335664336\n",
      "    f1             : 0.7808919806675927\n",
      "    balanced_accuracy: 0.7617060404053713\n",
      "    precision      : 0.7937627020386739\n",
      "    recall         : 0.7866914335664336\n",
      "    val_loss       : 0.357011204957962\n",
      "    val_my_metric  : 0.838125\n",
      "    val_f1         : 0.8365028025569667\n",
      "    val_balanced_accuracy: 0.821872769508639\n",
      "    val_precision  : 0.8505919959607361\n",
      "    val_recall     : 0.838125\n"
     ]
    },
    {
     "name": "stdout",
     "output_type": "stream",
     "text": [
      "Model has not improved in -------------| 18 epochs\n"
     ]
    },
    {
     "name": "stderr",
     "output_type": "stream",
     "text": [
      "    epoch          : 153\n",
      "    loss           : 0.3876525198037808\n",
      "    my_metric      : 0.8107080419580419\n",
      "    f1             : 0.8058498381285464\n",
      "    balanced_accuracy: 0.7869874082350561\n",
      "    precision      : 0.8196607492580452\n",
      "    recall         : 0.8107080419580419\n",
      "    val_loss       : 0.35126079320907594\n",
      "    val_my_metric  : 0.8464285714285713\n",
      "    val_f1         : 0.8438944463273292\n",
      "    val_balanced_accuracy: 0.8357975708502023\n",
      "    val_precision  : 0.8587628359323014\n",
      "    val_recall     : 0.8464285714285713\n"
     ]
    },
    {
     "name": "stdout",
     "output_type": "stream",
     "text": [
      "Model has not improved in -------------| 19 epochs\n"
     ]
    },
    {
     "name": "stderr",
     "output_type": "stream",
     "text": [
      "    epoch          : 154\n",
      "    loss           : 0.3842030339516126\n",
      "    my_metric      : 0.7957932692307692\n",
      "    f1             : 0.7889993394946851\n",
      "    balanced_accuracy: 0.769725405931466\n",
      "    precision      : 0.8080756521458375\n",
      "    recall         : 0.7957932692307692\n",
      "    val_loss       : 0.36146503388881684\n",
      "    val_my_metric  : 0.8146428571428572\n",
      "    val_f1         : 0.8034039009608259\n",
      "    val_balanced_accuracy: 0.7698251408278854\n",
      "    val_precision  : 0.8288054922255317\n",
      "    val_recall     : 0.8146428571428572\n"
     ]
    },
    {
     "name": "stdout",
     "output_type": "stream",
     "text": [
      "Model has not improved in -------------| 20 epochs\n"
     ]
    },
    {
     "name": "stderr",
     "output_type": "stream",
     "text": [
      "    epoch          : 155\n",
      "    loss           : 0.3750631379393431\n",
      "    my_metric      : 0.8106206293706294\n",
      "    f1             : 0.8054134306365311\n",
      "    balanced_accuracy: 0.7877214857105508\n",
      "    precision      : 0.8200892750504456\n",
      "    recall         : 0.8106206293706294\n",
      "    val_loss       : 0.3652232110500336\n",
      "    val_my_metric  : 0.8256249999999999\n",
      "    val_f1         : 0.8196587664370083\n",
      "    val_balanced_accuracy: 0.7949269699714808\n",
      "    val_precision  : 0.8322250948500944\n",
      "    val_recall     : 0.8256249999999999\n"
     ]
    },
    {
     "name": "stdout",
     "output_type": "stream",
     "text": [
      "Model has not improved in -------------| 21 epochs\n"
     ]
    },
    {
     "name": "stderr",
     "output_type": "stream",
     "text": [
      "    epoch          : 156\n",
      "    loss           : 0.39278597556627715\n",
      "    my_metric      : 0.7993990384615385\n",
      "    f1             : 0.7951593154967055\n",
      "    balanced_accuracy: 0.7772312434125546\n",
      "    precision      : 0.810477575941802\n",
      "    recall         : 0.7993990384615385\n",
      "    val_loss       : 0.36728503108024596\n",
      "    val_my_metric  : 0.8365178571428572\n",
      "    val_f1         : 0.8331967650885078\n",
      "    val_balanced_accuracy: 0.8137703642819922\n",
      "    val_precision  : 0.84093008019243\n",
      "    val_recall     : 0.8365178571428572\n"
     ]
    },
    {
     "name": "stdout",
     "output_type": "stream",
     "text": [
      "Model has not improved in -------------| 22 epochs\n"
     ]
    },
    {
     "name": "stderr",
     "output_type": "stream",
     "text": [
      "    epoch          : 157\n",
      "    loss           : 0.39177494324170625\n",
      "    my_metric      : 0.8084134615384616\n",
      "    f1             : 0.8039104810756447\n",
      "    balanced_accuracy: 0.7847204540405752\n",
      "    precision      : 0.8164537289609483\n",
      "    recall         : 0.8084134615384616\n",
      "    val_loss       : 0.3416982412338257\n",
      "    val_my_metric  : 0.8391964285714286\n",
      "    val_f1         : 0.8355799180571278\n",
      "    val_balanced_accuracy: 0.8105123582673954\n",
      "    val_precision  : 0.8466119646353867\n",
      "    val_recall     : 0.8391964285714286\n"
     ]
    },
    {
     "name": "stdout",
     "output_type": "stream",
     "text": [
      "Model has not improved in -------------| 23 epochs\n"
     ]
    },
    {
     "name": "stderr",
     "output_type": "stream",
     "text": [
      "    epoch          : 158\n",
      "    loss           : 0.3985583403935799\n",
      "    my_metric      : 0.7902862762237762\n",
      "    f1             : 0.7852538508453601\n",
      "    balanced_accuracy: 0.7673774609937103\n",
      "    precision      : 0.80099248092067\n",
      "    recall         : 0.7902862762237762\n",
      "    val_loss       : 0.36104960441589357\n",
      "    val_my_metric  : 0.8339285714285714\n",
      "    val_f1         : 0.831751261360907\n",
      "    val_balanced_accuracy: 0.8218999676638002\n",
      "    val_precision  : 0.8403754525401679\n",
      "    val_recall     : 0.8339285714285714\n"
     ]
    },
    {
     "name": "stdout",
     "output_type": "stream",
     "text": [
      "Model has not improved in -------------| 24 epochs\n"
     ]
    },
    {
     "name": "stderr",
     "output_type": "stream",
     "text": [
      "    epoch          : 159\n",
      "    loss           : 0.3852732754670657\n",
      "    my_metric      : 0.7980004370629371\n",
      "    f1             : 0.7925214791068551\n",
      "    balanced_accuracy: 0.7720067026611793\n",
      "    precision      : 0.8049427357972083\n",
      "    recall         : 0.7980004370629371\n",
      "    val_loss       : 0.390391543507576\n",
      "    val_my_metric  : 0.8048214285714286\n",
      "    val_f1         : 0.7973786846173698\n",
      "    val_balanced_accuracy: 0.7667174190000277\n",
      "    val_precision  : 0.8058064420169817\n",
      "    val_recall     : 0.8048214285714286\n"
     ]
    },
    {
     "name": "stdout",
     "output_type": "stream",
     "text": [
      "Model has not improved in -------------| 25 epochs\n"
     ]
    },
    {
     "name": "stderr",
     "output_type": "stream",
     "text": [
      "    epoch          : 160\n",
      "    loss           : 0.40821856374924\n",
      "    my_metric      : 0.7945913461538462\n",
      "    f1             : 0.7884172205964781\n",
      "    balanced_accuracy: 0.7696766676380344\n",
      "    precision      : 0.8042706330957976\n",
      "    recall         : 0.7945913461538462\n",
      "    val_loss       : 0.37494059205055236\n",
      "    val_my_metric  : 0.8360714285714286\n",
      "    val_f1         : 0.8328038841377285\n",
      "    val_balanced_accuracy: 0.8126626180836707\n",
      "    val_precision  : 0.8385351315034978\n",
      "    val_recall     : 0.8360714285714286\n"
     ]
    },
    {
     "name": "stdout",
     "output_type": "stream",
     "text": [
      "Model has not improved in -------------| 26 epochs\n"
     ]
    },
    {
     "name": "stderr",
     "output_type": "stream",
     "text": [
      "    epoch          : 161\n",
      "    loss           : 0.38321142471753633\n",
      "    my_metric      : 0.7999016608391608\n",
      "    f1             : 0.7949612353666953\n",
      "    balanced_accuracy: 0.7746504789319892\n",
      "    precision      : 0.806509302500319\n",
      "    recall         : 0.7999016608391608\n",
      "    val_loss       : 0.37491453886032106\n",
      "    val_my_metric  : 0.8318749999999999\n",
      "    val_f1         : 0.8286730310251296\n",
      "    val_balanced_accuracy: 0.8025823985501406\n",
      "    val_precision  : 0.8403679313964222\n",
      "    val_recall     : 0.8318749999999999\n"
     ]
    },
    {
     "name": "stdout",
     "output_type": "stream",
     "text": [
      "Model has not improved in -------------| 27 epochs\n"
     ]
    },
    {
     "name": "stderr",
     "output_type": "stream",
     "text": [
      "    epoch          : 162\n",
      "    loss           : 0.40631483724484074\n",
      "    my_metric      : 0.8077141608391608\n",
      "    f1             : 0.8029107760861041\n",
      "    balanced_accuracy: 0.7838647525362271\n",
      "    precision      : 0.8142525277015087\n",
      "    recall         : 0.8077141608391608\n",
      "    val_loss       : 0.37961953282356264\n",
      "    val_my_metric  : 0.8250892857142856\n",
      "    val_f1         : 0.8204052901132476\n",
      "    val_balanced_accuracy: 0.7944925360142752\n",
      "    val_precision  : 0.827797881900937\n",
      "    val_recall     : 0.8250892857142856\n"
     ]
    },
    {
     "name": "stdout",
     "output_type": "stream",
     "text": [
      "Model has not improved in -------------| 28 epochs\n"
     ]
    },
    {
     "name": "stderr",
     "output_type": "stream",
     "text": [
      "    epoch          : 163\n",
      "    loss           : 0.39525432598132354\n",
      "    my_metric      : 0.7973011363636364\n",
      "    f1             : 0.7924828272837801\n",
      "    balanced_accuracy: 0.7740517367861298\n",
      "    precision      : 0.8036455470428235\n",
      "    recall         : 0.7973011363636364\n",
      "    val_loss       : 0.33067090809345245\n",
      "    val_my_metric  : 0.8453571428571429\n",
      "    val_f1         : 0.8433202374912568\n",
      "    val_balanced_accuracy: 0.8261607976800562\n",
      "    val_precision  : 0.8473155341615198\n",
      "    val_recall     : 0.8453571428571429\n"
     ]
    },
    {
     "name": "stdout",
     "output_type": "stream",
     "text": [
      "Model has not improved in -------------| 29 epochs\n"
     ]
    },
    {
     "name": "stderr",
     "output_type": "stream",
     "text": [
      "    epoch          : 164\n",
      "    loss           : 0.40357330498787075\n",
      "    my_metric      : 0.788090034965035\n",
      "    f1             : 0.782670319665105\n",
      "    balanced_accuracy: 0.7651065890588625\n",
      "    precision      : 0.7958003603559166\n",
      "    recall         : 0.788090034965035\n",
      "    val_loss       : 0.3683571875095367\n",
      "    val_my_metric  : 0.781875\n",
      "    val_f1         : 0.7736671881912079\n",
      "    val_balanced_accuracy: 0.7459005171308383\n",
      "    val_precision  : 0.7870197427119983\n",
      "    val_recall     : 0.781875\n"
     ]
    },
    {
     "name": "stdout",
     "output_type": "stream",
     "text": [
      "Model has not improved in -------------| 30 epochs\n"
     ]
    },
    {
     "name": "stderr",
     "output_type": "stream",
     "text": [
      "    epoch          : 165\n",
      "    loss           : 0.39655974965829116\n",
      "    my_metric      : 0.7974868881118881\n",
      "    f1             : 0.7924241447129792\n",
      "    balanced_accuracy: 0.7749055433735889\n",
      "    precision      : 0.8061772626719503\n",
      "    recall         : 0.7974868881118881\n",
      "    val_loss       : 0.3745711088180542\n",
      "    val_my_metric  : 0.8157142857142856\n",
      "    val_f1         : 0.812193962243257\n",
      "    val_balanced_accuracy: 0.7755938940578231\n",
      "    val_precision  : 0.8216820734939615\n",
      "    val_recall     : 0.8157142857142856\n"
     ]
    },
    {
     "name": "stdout",
     "output_type": "stream",
     "text": [
      "Model has not improved in -------------| 31 epochs\n"
     ]
    },
    {
     "name": "stderr",
     "output_type": "stream",
     "text": [
      "    epoch          : 166\n",
      "    loss           : 0.3811902289207165\n",
      "    my_metric      : 0.8037041083916083\n",
      "    f1             : 0.797736308319249\n",
      "    balanced_accuracy: 0.7812798999661817\n",
      "    precision      : 0.8156299258000292\n",
      "    recall         : 0.8037041083916083\n",
      "    val_loss       : 0.3439929664134979\n",
      "    val_my_metric  : 0.8344642857142857\n",
      "    val_f1         : 0.8311894712029468\n",
      "    val_balanced_accuracy: 0.8017282307629692\n",
      "    val_precision  : 0.8363380951018515\n",
      "    val_recall     : 0.8344642857142857\n"
     ]
    },
    {
     "name": "stdout",
     "output_type": "stream",
     "text": [
      "Model has not improved in -------------| 32 epochs\n"
     ]
    },
    {
     "name": "stderr",
     "output_type": "stream",
     "text": [
      "    epoch          : 167\n",
      "    loss           : 0.3963117851660802\n",
      "    my_metric      : 0.7989947552447553\n",
      "    f1             : 0.793662763803131\n",
      "    balanced_accuracy: 0.7766599611663744\n",
      "    precision      : 0.810811103694388\n",
      "    recall         : 0.7989947552447553\n",
      "    val_loss       : 0.35817051529884336\n",
      "    val_my_metric  : 0.8532142857142857\n",
      "    val_f1         : 0.8495655008093752\n",
      "    val_balanced_accuracy: 0.8367712550607287\n",
      "    val_precision  : 0.8646075793413697\n",
      "    val_recall     : 0.8532142857142857\n"
     ]
    },
    {
     "name": "stdout",
     "output_type": "stream",
     "text": [
      "Model has not improved in -------------| 33 epochs\n"
     ]
    },
    {
     "name": "stderr",
     "output_type": "stream",
     "text": [
      "    epoch          : 168\n",
      "    loss           : 0.3849795111096822\n",
      "    my_metric      : 0.8018138111888112\n",
      "    f1             : 0.7962165951073907\n",
      "    balanced_accuracy: 0.7791589704482249\n",
      "    precision      : 0.8129056254367312\n",
      "    recall         : 0.8018138111888112\n",
      "    val_loss       : 0.359153151512146\n",
      "    val_my_metric  : 0.8245535714285713\n",
      "    val_f1         : 0.8207594415564492\n",
      "    val_balanced_accuracy: 0.804708981077402\n",
      "    val_precision  : 0.8380606403571891\n",
      "    val_recall     : 0.8245535714285713\n"
     ]
    },
    {
     "name": "stdout",
     "output_type": "stream",
     "text": [
      "Model has not improved in -------------| 34 epochs\n"
     ]
    },
    {
     "name": "stderr",
     "output_type": "stream",
     "text": [
      "    epoch          : 169\n",
      "    loss           : 0.3947859274653288\n",
      "    my_metric      : 0.7995957167832167\n",
      "    f1             : 0.7938289609711071\n",
      "    balanced_accuracy: 0.7718880468268433\n",
      "    precision      : 0.8106249350420677\n",
      "    recall         : 0.7995957167832167\n",
      "    val_loss       : 0.3772862493991852\n",
      "    val_my_metric  : 0.8324107142857142\n",
      "    val_f1         : 0.8318168128202412\n",
      "    val_balanced_accuracy: 0.8145452781764148\n",
      "    val_precision  : 0.8326343225093226\n",
      "    val_recall     : 0.8324107142857142\n"
     ]
    },
    {
     "name": "stdout",
     "output_type": "stream",
     "text": [
      "Model has not improved in -------------| 35 epochs\n"
     ]
    },
    {
     "name": "stderr",
     "output_type": "stream",
     "text": [
      "    epoch          : 170\n",
      "    loss           : 0.38379916835289735\n",
      "    my_metric      : 0.8150131118881119\n",
      "    f1             : 0.8105481973179608\n",
      "    balanced_accuracy: 0.7914808288606732\n",
      "    precision      : 0.8250474563599982\n",
      "    recall         : 0.8150131118881119\n",
      "    val_loss       : 0.33738410472869873\n",
      "    val_my_metric  : 0.8370535714285714\n",
      "    val_f1         : 0.8302976705561427\n",
      "    val_balanced_accuracy: 0.8006193845667531\n",
      "    val_precision  : 0.8495265929919947\n",
      "    val_recall     : 0.8370535714285714\n"
     ]
    },
    {
     "name": "stdout",
     "output_type": "stream",
     "text": [
      "Model has not improved in -------------| 36 epochs\n"
     ]
    },
    {
     "name": "stderr",
     "output_type": "stream",
     "text": [
      "    epoch          : 171\n",
      "    loss           : 0.39539424731181216\n",
      "    my_metric      : 0.795388986013986\n",
      "    f1             : 0.7896400054444944\n",
      "    balanced_accuracy: 0.7724135103522358\n",
      "    precision      : 0.804472673302362\n",
      "    recall         : 0.795388986013986\n",
      "    val_loss       : 0.33115068078041077\n",
      "    val_my_metric  : 0.8521428571428572\n",
      "    val_f1         : 0.8476109338231005\n",
      "    val_balanced_accuracy: 0.8194501251436733\n",
      "    val_precision  : 0.8572016664000358\n",
      "    val_recall     : 0.8521428571428572\n"
     ]
    },
    {
     "name": "stdout",
     "output_type": "stream",
     "text": [
      "Model has not improved in -------------| 37 epochs\n"
     ]
    },
    {
     "name": "stderr",
     "output_type": "stream",
     "text": [
      "    epoch          : 172\n",
      "    loss           : 0.4043931301969748\n",
      "    my_metric      : 0.7979020979020979\n",
      "    f1             : 0.7930813313654596\n",
      "    balanced_accuracy: 0.7760490123409637\n",
      "    precision      : 0.809949913708954\n",
      "    recall         : 0.7979020979020979\n",
      "    val_loss       : 0.33971595764160156\n",
      "    val_my_metric  : 0.8458928571428572\n",
      "    val_f1         : 0.8422255768249558\n",
      "    val_balanced_accuracy: 0.8274711288144581\n",
      "    val_precision  : 0.8511108636011558\n",
      "    val_recall     : 0.8458928571428572\n"
     ]
    },
    {
     "name": "stdout",
     "output_type": "stream",
     "text": [
      "Model has not improved in -------------| 38 epochs\n"
     ]
    },
    {
     "name": "stderr",
     "output_type": "stream",
     "text": [
      "    epoch          : 173\n",
      "    loss           : 0.4036907244187135\n",
      "    my_metric      : 0.7952906468531468\n",
      "    f1             : 0.789766008129726\n",
      "    balanced_accuracy: 0.772085254970253\n",
      "    precision      : 0.8094183417448839\n",
      "    recall         : 0.7952906468531468\n",
      "    val_loss       : 0.3772379755973816\n",
      "    val_my_metric  : 0.8146428571428572\n",
      "    val_f1         : 0.8086240303735599\n",
      "    val_balanced_accuracy: 0.7862759019655571\n",
      "    val_precision  : 0.8179936667852556\n",
      "    val_recall     : 0.8146428571428572\n"
     ]
    },
    {
     "name": "stdout",
     "output_type": "stream",
     "text": [
      "Model has not improved in -------------| 39 epochs\n"
     ]
    },
    {
     "name": "stderr",
     "output_type": "stream",
     "text": [
      "    epoch          : 174\n",
      "    loss           : 0.38586827310232014\n",
      "    my_metric      : 0.8118225524475525\n",
      "    f1             : 0.8064937392596689\n",
      "    balanced_accuracy: 0.788821019820412\n",
      "    precision      : 0.8209850470001427\n",
      "    recall         : 0.8118225524475525\n",
      "    val_loss       : 0.3300153076648712\n",
      "    val_my_metric  : 0.8339285714285714\n",
      "    val_f1         : 0.8311815628513383\n",
      "    val_balanced_accuracy: 0.8101495726495725\n",
      "    val_precision  : 0.8366270100069014\n",
      "    val_recall     : 0.8339285714285714\n"
     ]
    },
    {
     "name": "stdout",
     "output_type": "stream",
     "text": [
      "Model has not improved in -------------| 40 epochs\n"
     ]
    },
    {
     "name": "stderr",
     "output_type": "stream",
     "text": [
      "    epoch          : 175\n",
      "    loss           : 0.389809889289049\n",
      "    my_metric      : 0.8010052447552448\n",
      "    f1             : 0.7957637223072663\n",
      "    balanced_accuracy: 0.781933605815371\n",
      "    precision      : 0.8153983383944355\n",
      "    recall         : 0.8010052447552448\n",
      "    val_loss       : 0.36370781660079954\n",
      "    val_my_metric  : 0.8417857142857142\n",
      "    val_f1         : 0.842961933739437\n",
      "    val_balanced_accuracy: 0.8409378283921563\n",
      "    val_precision  : 0.8569366422858969\n",
      "    val_recall     : 0.8417857142857142\n"
     ]
    },
    {
     "name": "stdout",
     "output_type": "stream",
     "text": [
      "Model has not improved in -------------| 41 epochs\n"
     ]
    },
    {
     "name": "stderr",
     "output_type": "stream",
     "text": [
      "    epoch          : 176\n",
      "    loss           : 0.3929044140072969\n",
      "    my_metric      : 0.7972027972027972\n",
      "    f1             : 0.7927319608905055\n",
      "    balanced_accuracy: 0.7758339300742649\n",
      "    precision      : 0.8082170023486657\n",
      "    recall         : 0.7972027972027972\n",
      "    val_loss       : 0.3633061170578003\n",
      "    val_my_metric  : 0.8370535714285714\n",
      "    val_f1         : 0.8357348971699267\n",
      "    val_balanced_accuracy: 0.8196096855683674\n",
      "    val_precision  : 0.8410405701754387\n",
      "    val_recall     : 0.8370535714285714\n"
     ]
    },
    {
     "name": "stdout",
     "output_type": "stream",
     "text": [
      "Model has not improved in -------------| 42 epochs\n"
     ]
    },
    {
     "name": "stderr",
     "output_type": "stream",
     "text": [
      "    epoch          : 177\n",
      "    loss           : 0.3976557575739347\n",
      "    my_metric      : 0.7950939685314685\n",
      "    f1             : 0.7895339193697539\n",
      "    balanced_accuracy: 0.7742210796771479\n",
      "    precision      : 0.808193064481424\n",
      "    recall         : 0.7950939685314685\n",
      "    val_loss       : 0.3324045479297638\n",
      "    val_my_metric  : 0.8365178571428572\n",
      "    val_f1         : 0.8341371825556291\n",
      "    val_balanced_accuracy: 0.8137670379156446\n",
      "    val_precision  : 0.8372005914588134\n",
      "    val_recall     : 0.8365178571428572\n"
     ]
    },
    {
     "name": "stdout",
     "output_type": "stream",
     "text": [
      "Model has not improved in -------------| 43 epochs\n"
     ]
    },
    {
     "name": "stderr",
     "output_type": "stream",
     "text": [
      "    epoch          : 178\n",
      "    loss           : 0.3891061177620521\n",
      "    my_metric      : 0.7934877622377622\n",
      "    f1             : 0.788347225054483\n",
      "    balanced_accuracy: 0.7695609210176944\n",
      "    precision      : 0.7990079078237786\n",
      "    recall         : 0.7934877622377622\n",
      "    val_loss       : 0.34493240118026736\n",
      "    val_my_metric  : 0.8250892857142856\n",
      "    val_f1         : 0.8197705863392496\n",
      "    val_balanced_accuracy: 0.7906189295200923\n",
      "    val_precision  : 0.832362332477464\n",
      "    val_recall     : 0.8250892857142856\n"
     ]
    },
    {
     "name": "stdout",
     "output_type": "stream",
     "text": [
      "Model has not improved in -------------| 44 epochs\n"
     ]
    },
    {
     "name": "stderr",
     "output_type": "stream",
     "text": [
      "    epoch          : 179\n",
      "    loss           : 0.3927507549524307\n",
      "    my_metric      : 0.8034965034965035\n",
      "    f1             : 0.7986145268990579\n",
      "    balanced_accuracy: 0.7790864489645203\n",
      "    precision      : 0.8098150608199519\n",
      "    recall         : 0.8034965034965035\n",
      "    val_loss       : 0.352281266450882\n",
      "    val_my_metric  : 0.832857142857143\n",
      "    val_f1         : 0.8276969187906851\n",
      "    val_balanced_accuracy: 0.8024294611025118\n",
      "    val_precision  : 0.8319482885052254\n",
      "    val_recall     : 0.832857142857143\n"
     ]
    },
    {
     "name": "stdout",
     "output_type": "stream",
     "text": [
      "Model has not improved in -------------| 45 epochs\n"
     ]
    },
    {
     "name": "stderr",
     "output_type": "stream",
     "text": [
      "    epoch          : 180\n",
      "    loss           : 0.39014163613319397\n",
      "    my_metric      : 0.8094187062937064\n",
      "    f1             : 0.803292209945077\n",
      "    balanced_accuracy: 0.7823284360091847\n",
      "    precision      : 0.8165249120897706\n",
      "    recall         : 0.8094187062937064\n",
      "    val_loss       : 0.38592888712882994\n",
      "    val_my_metric  : 0.8178571428571428\n",
      "    val_f1         : 0.8177225915640565\n",
      "    val_balanced_accuracy: 0.7990286935286935\n",
      "    val_precision  : 0.8180945157018857\n",
      "    val_recall     : 0.8178571428571428\n"
     ]
    },
    {
     "name": "stdout",
     "output_type": "stream",
     "text": [
      "Model has not improved in -------------| 46 epochs\n"
     ]
    },
    {
     "name": "stderr",
     "output_type": "stream",
     "text": [
      "    epoch          : 181\n",
      "    loss           : 0.39928522362158847\n",
      "    my_metric      : 0.8019012237762237\n",
      "    f1             : 0.7966097237444149\n",
      "    balanced_accuracy: 0.7803764809140462\n",
      "    precision      : 0.8129683365864872\n",
      "    recall         : 0.8019012237762237\n",
      "    val_loss       : 0.37707764506340025\n",
      "    val_my_metric  : 0.8302678571428572\n",
      "    val_f1         : 0.8240313499764402\n",
      "    val_balanced_accuracy: 0.8005061670982723\n",
      "    val_precision  : 0.8368102943674162\n",
      "    val_recall     : 0.8302678571428572\n"
     ]
    },
    {
     "name": "stdout",
     "output_type": "stream",
     "text": [
      "Model has not improved in -------------| 47 epochs\n"
     ]
    },
    {
     "name": "stderr",
     "output_type": "stream",
     "text": [
      "    epoch          : 182\n",
      "    loss           : 0.3927952085550015\n",
      "    my_metric      : 0.8032124125874126\n",
      "    f1             : 0.7981871349646925\n",
      "    balanced_accuracy: 0.7796295301408971\n",
      "    precision      : 0.8140786646296859\n",
      "    recall         : 0.8032124125874126\n",
      "    val_loss       : 0.34781931042671205\n",
      "    val_my_metric  : 0.864107142857143\n",
      "    val_f1         : 0.8612562482260107\n",
      "    val_balanced_accuracy: 0.8427432497156779\n",
      "    val_precision  : 0.8704265018063311\n",
      "    val_recall     : 0.864107142857143\n"
     ]
    },
    {
     "name": "stdout",
     "output_type": "stream",
     "text": [
      "Model has not improved in -------------| 48 epochs\n"
     ]
    },
    {
     "name": "stderr",
     "output_type": "stream",
     "text": [
      "    epoch          : 183\n",
      "    loss           : 0.3964834694678967\n",
      "    my_metric      : 0.8042176573426574\n",
      "    f1             : 0.7988840967127184\n",
      "    balanced_accuracy: 0.7816528304969784\n",
      "    precision      : 0.8154561237964569\n",
      "    recall         : 0.8042176573426574\n",
      "    val_loss       : 0.3340742826461792\n",
      "    val_my_metric  : 0.835\n",
      "    val_f1         : 0.831922866165406\n",
      "    val_balanced_accuracy: 0.8099906497011761\n",
      "    val_precision  : 0.8377791724083924\n",
      "    val_recall     : 0.835\n"
     ]
    },
    {
     "name": "stdout",
     "output_type": "stream",
     "text": [
      "Model has not improved in -------------| 49 epochs\n"
     ]
    },
    {
     "name": "stderr",
     "output_type": "stream",
     "text": [
      "    epoch          : 184\n",
      "    loss           : 0.3824469871245898\n",
      "    my_metric      : 0.8046110139860141\n",
      "    f1             : 0.7996684904506903\n",
      "    balanced_accuracy: 0.7796450560636281\n",
      "    precision      : 0.8114286554438609\n",
      "    recall         : 0.8046110139860141\n",
      "    val_loss       : 0.3380734145641327\n",
      "    val_my_metric  : 0.8433035714285714\n",
      "    val_f1         : 0.8420971256067563\n",
      "    val_balanced_accuracy: 0.8297843106666637\n",
      "    val_precision  : 0.8442560319582377\n",
      "    val_recall     : 0.8433035714285714\n"
     ]
    },
    {
     "name": "stdout",
     "output_type": "stream",
     "text": [
      "Model has not improved in -------------| 50 epochs\n"
     ]
    },
    {
     "name": "stderr",
     "output_type": "stream",
     "text": [
      "    epoch          : 185\n",
      "    loss           : 0.38568633450911594\n",
      "    my_metric      : 0.7992023601398602\n",
      "    f1             : 0.7940995837205247\n",
      "    balanced_accuracy: 0.7739567164335527\n",
      "    precision      : 0.8064686786062202\n",
      "    recall         : 0.7992023601398602\n",
      "    val_loss       : 0.3357563644647598\n",
      "    val_my_metric  : 0.8323214285714287\n",
      "    val_f1         : 0.8267229961449095\n",
      "    val_balanced_accuracy: 0.798771421073875\n",
      "    val_precision  : 0.8401215058161755\n",
      "    val_recall     : 0.8323214285714287\n"
     ]
    },
    {
     "name": "stdout",
     "output_type": "stream",
     "text": [
      "Model has not improved in -------------| 51 epochs\n"
     ]
    },
    {
     "name": "stderr",
     "output_type": "stream",
     "text": [
      "    epoch          : 186\n",
      "    loss           : 0.38757387892558026\n",
      "    my_metric      : 0.8154173951048951\n",
      "    f1             : 0.8108177335852118\n",
      "    balanced_accuracy: 0.7922676202450909\n",
      "    precision      : 0.822711853876063\n",
      "    recall         : 0.8154173951048951\n",
      "    val_loss       : 0.3219121664762497\n",
      "    val_my_metric  : 0.8427678571428572\n",
      "    val_f1         : 0.8365824240824242\n",
      "    val_balanced_accuracy: 0.8031457874984547\n",
      "    val_precision  : 0.8526388313090789\n",
      "    val_recall     : 0.8427678571428572\n"
     ]
    },
    {
     "name": "stdout",
     "output_type": "stream",
     "text": [
      "Model has not improved in -------------| 52 epochs\n"
     ]
    },
    {
     "name": "stderr",
     "output_type": "stream",
     "text": [
      "    epoch          : 187\n",
      "    loss           : 0.3894226745917247\n",
      "    my_metric      : 0.7979020979020979\n",
      "    f1             : 0.7923595471261774\n",
      "    balanced_accuracy: 0.7725334715455557\n",
      "    precision      : 0.8085338754878044\n",
      "    recall         : 0.7979020979020979\n",
      "    val_loss       : 0.3537067651748657\n",
      "    val_my_metric  : 0.8089285714285713\n",
      "    val_f1         : 0.8014654044183448\n",
      "    val_balanced_accuracy: 0.7752099545802821\n",
      "    val_precision  : 0.8099335430194804\n",
      "    val_recall     : 0.8089285714285713\n"
     ]
    },
    {
     "name": "stdout",
     "output_type": "stream",
     "text": [
      "Model has not improved in -------------| 53 epochs\n"
     ]
    },
    {
     "name": "stderr",
     "output_type": "stream",
     "text": [
      "    epoch          : 188\n",
      "    loss           : 0.4029250890016556\n",
      "    my_metric      : 0.796284965034965\n",
      "    f1             : 0.7912395973274609\n",
      "    balanced_accuracy: 0.7707145475239663\n",
      "    precision      : 0.8061038256785563\n",
      "    recall         : 0.796284965034965\n",
      "    val_loss       : 0.3802365779876709\n",
      "    val_my_metric  : 0.844375\n",
      "    val_f1         : 0.8444855153931534\n",
      "    val_balanced_accuracy: 0.840308511056125\n",
      "    val_precision  : 0.8547299439681405\n",
      "    val_recall     : 0.844375\n"
     ]
    },
    {
     "name": "stdout",
     "output_type": "stream",
     "text": [
      "Model has not improved in -------------| 54 epochs\n"
     ]
    },
    {
     "name": "stderr",
     "output_type": "stream",
     "text": [
      "    epoch          : 189\n",
      "    loss           : 0.38557397631498486\n",
      "    my_metric      : 0.8013002622377622\n",
      "    f1             : 0.7958748437685066\n",
      "    balanced_accuracy: 0.779048615489423\n",
      "    precision      : 0.813437087704377\n",
      "    recall         : 0.8013002622377622\n",
      "    val_loss       : 0.37091524600982667\n",
      "    val_my_metric  : 0.8162499999999999\n",
      "    val_f1         : 0.8089790276921759\n",
      "    val_balanced_accuracy: 0.774940055049025\n",
      "    val_precision  : 0.8211765795254908\n",
      "    val_recall     : 0.8162499999999999\n"
     ]
    },
    {
     "name": "stdout",
     "output_type": "stream",
     "text": [
      "Model has not improved in -------------| 55 epochs\n"
     ]
    },
    {
     "name": "stderr",
     "output_type": "stream",
     "text": [
      "    epoch          : 190\n",
      "    loss           : 0.3803243705859551\n",
      "    my_metric      : 0.8117132867132868\n",
      "    f1             : 0.8064264337065619\n",
      "    balanced_accuracy: 0.786226420655871\n",
      "    precision      : 0.8204423668714237\n",
      "    recall         : 0.8117132867132868\n",
      "    val_loss       : 0.35716413259506224\n",
      "    val_my_metric  : 0.8365178571428572\n",
      "    val_f1         : 0.8306873186806065\n",
      "    val_balanced_accuracy: 0.7988623389830286\n",
      "    val_precision  : 0.843857239737815\n",
      "    val_recall     : 0.8365178571428572\n"
     ]
    },
    {
     "name": "stdout",
     "output_type": "stream",
     "text": [
      "Model has not improved in -------------| 56 epochs\n"
     ]
    },
    {
     "name": "stderr",
     "output_type": "stream",
     "text": [
      "    epoch          : 191\n",
      "    loss           : 0.3906589735012788\n",
      "    my_metric      : 0.7966018356643356\n",
      "    f1             : 0.7910467868293869\n",
      "    balanced_accuracy: 0.7702056175027056\n",
      "    precision      : 0.8024180866933439\n",
      "    recall         : 0.7966018356643356\n",
      "    val_loss       : 0.373427551984787\n",
      "    val_my_metric  : 0.8178571428571428\n",
      "    val_f1         : 0.8139687494764878\n",
      "    val_balanced_accuracy: 0.796982640547858\n",
      "    val_precision  : 0.8186120106745106\n",
      "    val_recall     : 0.8178571428571428\n"
     ]
    },
    {
     "name": "stdout",
     "output_type": "stream",
     "text": [
      "Model has not improved in -------------| 57 epochs\n"
     ]
    },
    {
     "name": "stderr",
     "output_type": "stream",
     "text": [
      "    epoch          : 192\n",
      "    loss           : 0.39055489691404194\n",
      "    my_metric      : 0.8099213286713287\n",
      "    f1             : 0.8050874919430744\n",
      "    balanced_accuracy: 0.7895706192539499\n",
      "    precision      : 0.8212153870317086\n",
      "    recall         : 0.8099213286713287\n",
      "    val_loss       : 0.3726207196712494\n",
      "    val_my_metric  : 0.7980357142857143\n",
      "    val_f1         : 0.790293892540164\n",
      "    val_balanced_accuracy: 0.7680360949053022\n",
      "    val_precision  : 0.8059464880748815\n",
      "    val_recall     : 0.7980357142857143\n"
     ]
    },
    {
     "name": "stdout",
     "output_type": "stream",
     "text": [
      "Model has not improved in -------------| 58 epochs\n"
     ]
    },
    {
     "name": "stderr",
     "output_type": "stream",
     "text": [
      "    epoch          : 193\n",
      "    loss           : 0.38542993194781816\n",
      "    my_metric      : 0.8037041083916083\n",
      "    f1             : 0.7987928812252268\n",
      "    balanced_accuracy: 0.7785284867803532\n",
      "    precision      : 0.8130355840433136\n",
      "    recall         : 0.8037041083916083\n",
      "    val_loss       : 0.33979384899139403\n",
      "    val_my_metric  : 0.8313392857142856\n",
      "    val_f1         : 0.8285068044394812\n",
      "    val_balanced_accuracy: 0.8086760555339559\n",
      "    val_precision  : 0.8342924783549783\n",
      "    val_recall     : 0.8313392857142856\n"
     ]
    },
    {
     "name": "stdout",
     "output_type": "stream",
     "text": [
      "Model has not improved in -------------| 59 epochs\n"
     ]
    },
    {
     "name": "stderr",
     "output_type": "stream",
     "text": [
      "    epoch          : 194\n",
      "    loss           : 0.3871566280722618\n",
      "    my_metric      : 0.8065996503496504\n",
      "    f1             : 0.8021936224260007\n",
      "    balanced_accuracy: 0.7859916761320468\n",
      "    precision      : 0.816248974482127\n",
      "    recall         : 0.8065996503496504\n",
      "    val_loss       : 0.3436215579509735\n",
      "    val_my_metric  : 0.8391071428571429\n",
      "    val_f1         : 0.8370189023660993\n",
      "    val_balanced_accuracy: 0.8221487542999171\n",
      "    val_precision  : 0.8403772071437995\n",
      "    val_recall     : 0.8391071428571429\n"
     ]
    },
    {
     "name": "stdout",
     "output_type": "stream",
     "text": [
      "Model has not improved in -------------| 60 epochs\n"
     ]
    },
    {
     "name": "stderr",
     "output_type": "stream",
     "text": [
      "    epoch          : 195\n",
      "    loss           : 0.38306609942362857\n",
      "    my_metric      : 0.8097137237762237\n",
      "    f1             : 0.8039117401687826\n",
      "    balanced_accuracy: 0.787404976759282\n",
      "    precision      : 0.8204373332674889\n",
      "    recall         : 0.8097137237762237\n",
      "    val_loss       : 0.3475378692150116\n",
      "    val_my_metric  : 0.8183035714285714\n",
      "    val_f1         : 0.8132218207472569\n",
      "    val_balanced_accuracy: 0.7872242262242262\n",
      "    val_precision  : 0.8205818063741809\n",
      "    val_recall     : 0.8183035714285714\n"
     ]
    },
    {
     "name": "stdout",
     "output_type": "stream",
     "text": [
      "Model has not improved in -------------| 61 epochs\n"
     ]
    },
    {
     "name": "stderr",
     "output_type": "stream",
     "text": [
      "    epoch          : 196\n",
      "    loss           : 0.3787380766410094\n",
      "    my_metric      : 0.8113199300699301\n",
      "    f1             : 0.8065986661394583\n",
      "    balanced_accuracy: 0.7904342169605394\n",
      "    precision      : 0.8234994789445614\n",
      "    recall         : 0.8113199300699301\n",
      "    val_loss       : 0.33015220165252684\n",
      "    val_my_metric  : 0.8370535714285714\n",
      "    val_f1         : 0.8299093500370723\n",
      "    val_balanced_accuracy: 0.7969690373625185\n",
      "    val_precision  : 0.8464066491882507\n",
      "    val_recall     : 0.8370535714285714\n"
     ]
    },
    {
     "name": "stdout",
     "output_type": "stream",
     "text": [
      "Model has not improved in -------------| 62 epochs\n"
     ]
    },
    {
     "name": "stderr",
     "output_type": "stream",
     "text": [
      "    epoch          : 197\n",
      "    loss           : 0.394119955599308\n",
      "    my_metric      : 0.8043159965034966\n",
      "    f1             : 0.799639179762355\n",
      "    balanced_accuracy: 0.7787172511684193\n",
      "    precision      : 0.8112712832626798\n",
      "    recall         : 0.8043159965034966\n",
      "    val_loss       : 0.3563955307006836\n",
      "    val_my_metric  : 0.8204464285714286\n",
      "    val_f1         : 0.8154407449697676\n",
      "    val_balanced_accuracy: 0.7895609576385223\n",
      "    val_precision  : 0.8235777023337016\n",
      "    val_recall     : 0.8204464285714286\n"
     ]
    },
    {
     "name": "stdout",
     "output_type": "stream",
     "text": [
      "Model has not improved in -------------| 63 epochs\n"
     ]
    },
    {
     "name": "stderr",
     "output_type": "stream",
     "text": [
      "    epoch          : 198\n",
      "    loss           : 0.38172457882991206\n",
      "    my_metric      : 0.8081184440559441\n",
      "    f1             : 0.803857779057987\n",
      "    balanced_accuracy: 0.7849725411281857\n",
      "    precision      : 0.8150179332251051\n",
      "    recall         : 0.8081184440559441\n",
      "    val_loss       : 0.3478986620903015\n",
      "    val_my_metric  : 0.8433035714285714\n",
      "    val_f1         : 0.8385433109601618\n",
      "    val_balanced_accuracy: 0.80944119736225\n",
      "    val_precision  : 0.8488988338050838\n",
      "    val_recall     : 0.8433035714285714\n"
     ]
    },
    {
     "name": "stdout",
     "output_type": "stream",
     "text": [
      "Model has not improved in -------------| 64 epochs\n"
     ]
    },
    {
     "name": "stderr",
     "output_type": "stream",
     "text": [
      "    epoch          : 199\n",
      "    loss           : 0.382447654238114\n",
      "    my_metric      : 0.8112106643356642\n",
      "    f1             : 0.8058146662992756\n",
      "    balanced_accuracy: 0.7857329670140883\n",
      "    precision      : 0.8221950174006856\n",
      "    recall         : 0.8112106643356642\n",
      "    val_loss       : 0.37523421049118044\n",
      "    val_my_metric  : 0.8407142857142856\n",
      "    val_f1         : 0.8403635531135532\n",
      "    val_balanced_accuracy: 0.8323987203987203\n",
      "    val_precision  : 0.8442317922220143\n",
      "    val_recall     : 0.8407142857142856\n"
     ]
    },
    {
     "name": "stdout",
     "output_type": "stream",
     "text": [
      "Model has not improved in -------------| 65 epochs\n"
     ]
    },
    {
     "name": "stderr",
     "output_type": "stream",
     "text": [
      "    epoch          : 200\n",
      "    loss           : 0.3768501958021751\n",
      "    my_metric      : 0.8058020104895104\n",
      "    f1             : 0.8002354641301661\n",
      "    balanced_accuracy: 0.7842172057672049\n",
      "    precision      : 0.8172112494478964\n",
      "    recall         : 0.8058020104895104\n",
      "    val_loss       : 0.35436591506004333\n",
      "    val_my_metric  : 0.8308035714285713\n",
      "    val_f1         : 0.8262964716042511\n",
      "    val_balanced_accuracy: 0.8031580605264814\n",
      "    val_precision  : 0.835283281098009\n",
      "    val_recall     : 0.8308035714285713\n",
      "Saving checkpoint: ../saved/IMPRS_hdf5_volume_AllDAPI_noise/0710_173623/checkpoint-epoch200.pth ...\n"
     ]
    },
    {
     "name": "stdout",
     "output_type": "stream",
     "text": [
      "Model has not improved in -------------| 66 epochs\n"
     ]
    },
    {
     "name": "stderr",
     "output_type": "stream",
     "text": [
      "    epoch          : 201\n",
      "    loss           : 0.39077204924363357\n",
      "    my_metric      : 0.8018028846153846\n",
      "    f1             : 0.7969590527247471\n",
      "    balanced_accuracy: 0.779170161185343\n",
      "    precision      : 0.8111947180842132\n",
      "    recall         : 0.8018028846153846\n",
      "    val_loss       : 0.37162243127822875\n",
      "    val_my_metric  : 0.7923214285714286\n",
      "    val_f1         : 0.784060234729861\n",
      "    val_balanced_accuracy: 0.7545662005603682\n",
      "    val_precision  : 0.7972933301040481\n",
      "    val_recall     : 0.7923214285714286\n"
     ]
    },
    {
     "name": "stdout",
     "output_type": "stream",
     "text": [
      "Model has not improved in -------------| 67 epochs\n"
     ]
    },
    {
     "name": "stderr",
     "output_type": "stream",
     "text": [
      "    epoch          : 202\n",
      "    loss           : 0.3862504569383768\n",
      "    my_metric      : 0.8005026223776224\n",
      "    f1             : 0.7948119317303413\n",
      "    balanced_accuracy: 0.7749587549238217\n",
      "    precision      : 0.8068118160685216\n",
      "    recall         : 0.8005026223776224\n",
      "    val_loss       : 0.3611394941806793\n",
      "    val_my_metric  : 0.8318749999999999\n",
      "    val_f1         : 0.8287656824232041\n",
      "    val_balanced_accuracy: 0.8118721133938525\n",
      "    val_precision  : 0.8367411929521615\n",
      "    val_recall     : 0.8318749999999999\n"
     ]
    },
    {
     "name": "stdout",
     "output_type": "stream",
     "text": [
      "Model has not improved in -------------| 68 epochs\n"
     ]
    },
    {
     "name": "stderr",
     "output_type": "stream",
     "text": [
      "    epoch          : 203\n",
      "    loss           : 0.3914184948572746\n",
      "    my_metric      : 0.8089160839160839\n",
      "    f1             : 0.8029719089279437\n",
      "    balanced_accuracy: 0.7823496151387156\n",
      "    precision      : 0.8190218404836188\n",
      "    recall         : 0.8089160839160839\n",
      "    val_loss       : 0.33703239560127257\n",
      "    val_my_metric  : 0.8313392857142856\n",
      "    val_f1         : 0.8302591177982868\n",
      "    val_balanced_accuracy: 0.8177540792540793\n",
      "    val_precision  : 0.8333531585836397\n",
      "    val_recall     : 0.8313392857142856\n"
     ]
    },
    {
     "name": "stdout",
     "output_type": "stream",
     "text": [
      "Model has not improved in -------------| 69 epochs\n"
     ]
    },
    {
     "name": "stderr",
     "output_type": "stream",
     "text": [
      "    epoch          : 204\n",
      "    loss           : 0.3833860812278894\n",
      "    my_metric      : 0.8112106643356642\n",
      "    f1             : 0.8067582875972575\n",
      "    balanced_accuracy: 0.7882506819294626\n",
      "    precision      : 0.8162390519524118\n",
      "    recall         : 0.8112106643356642\n",
      "    val_loss       : 0.3586956560611725\n",
      "    val_my_metric  : 0.8256249999999999\n",
      "    val_f1         : 0.8218103907441467\n",
      "    val_balanced_accuracy: 0.7942064662064661\n",
      "    val_precision  : 0.8272999444132363\n",
      "    val_recall     : 0.8256249999999999\n"
     ]
    },
    {
     "name": "stdout",
     "output_type": "stream",
     "text": [
      "Model has not improved in -------------| 70 epochs\n"
     ]
    },
    {
     "name": "stderr",
     "output_type": "stream",
     "text": [
      "    epoch          : 205\n",
      "    loss           : 0.39186886640695423\n",
      "    my_metric      : 0.7936953671328671\n",
      "    f1             : 0.7879975475703496\n",
      "    balanced_accuracy: 0.7704993801836447\n",
      "    precision      : 0.8050740370036736\n",
      "    recall         : 0.7936953671328671\n",
      "    val_loss       : 0.3636289477348328\n",
      "    val_my_metric  : 0.832857142857143\n",
      "    val_f1         : 0.827186195336451\n",
      "    val_balanced_accuracy: 0.8050344889060075\n",
      "    val_precision  : 0.834437831573771\n",
      "    val_recall     : 0.832857142857143\n"
     ]
    },
    {
     "name": "stdout",
     "output_type": "stream",
     "text": [
      "Model has not improved in -------------| 71 epochs\n"
     ]
    },
    {
     "name": "stderr",
     "output_type": "stream",
     "text": [
      "    epoch          : 206\n",
      "    loss           : 0.370944493665145\n",
      "    my_metric      : 0.8230332167832167\n",
      "    f1             : 0.818662979748398\n",
      "    balanced_accuracy: 0.7995596474958102\n",
      "    precision      : 0.8307249231421561\n",
      "    recall         : 0.8230332167832167\n",
      "    val_loss       : 0.3465629994869232\n",
      "    val_my_metric  : 0.8370535714285714\n",
      "    val_f1         : 0.8347581406848024\n",
      "    val_balanced_accuracy: 0.8162334600743095\n",
      "    val_precision  : 0.8393741378640399\n",
      "    val_recall     : 0.8370535714285714\n"
     ]
    },
    {
     "name": "stdout",
     "output_type": "stream",
     "text": [
      "Model has not improved in -------------| 72 epochs\n"
     ]
    },
    {
     "name": "stderr",
     "output_type": "stream",
     "text": [
      "    epoch          : 207\n",
      "    loss           : 0.39634452760219574\n",
      "    my_metric      : 0.7927884615384616\n",
      "    f1             : 0.7871239020088344\n",
      "    balanced_accuracy: 0.7671061916648948\n",
      "    precision      : 0.804060379052738\n",
      "    recall         : 0.7927884615384616\n",
      "    val_loss       : 0.36055206656455996\n",
      "    val_my_metric  : 0.8245535714285713\n",
      "    val_f1         : 0.8212811908639107\n",
      "    val_balanced_accuracy: 0.8075949289382583\n",
      "    val_precision  : 0.8335799143568737\n",
      "    val_recall     : 0.8245535714285713\n"
     ]
    },
    {
     "name": "stdout",
     "output_type": "stream",
     "text": [
      "Model has not improved in -------------| 73 epochs\n"
     ]
    },
    {
     "name": "stderr",
     "output_type": "stream",
     "text": [
      "    epoch          : 208\n",
      "    loss           : 0.3814453895275409\n",
      "    my_metric      : 0.8084134615384616\n",
      "    f1             : 0.8037693632392203\n",
      "    balanced_accuracy: 0.784927139792867\n",
      "    precision      : 0.8153256723870403\n",
      "    recall         : 0.8084134615384616\n",
      "    val_loss       : 0.34954306185245515\n",
      "    val_my_metric  : 0.848482142857143\n",
      "    val_f1         : 0.847422649700842\n",
      "    val_balanced_accuracy: 0.8372435994546281\n",
      "    val_precision  : 0.8512773509385351\n",
      "    val_recall     : 0.848482142857143\n"
     ]
    },
    {
     "name": "stdout",
     "output_type": "stream",
     "text": [
      "Model has not improved in -------------| 74 epochs\n"
     ]
    },
    {
     "name": "stderr",
     "output_type": "stream",
     "text": [
      "    epoch          : 209\n",
      "    loss           : 0.4018545081982246\n",
      "    my_metric      : 0.8111232517482517\n",
      "    f1             : 0.8060444241771344\n",
      "    balanced_accuracy: 0.7899392063319189\n",
      "    precision      : 0.8211375498563751\n",
      "    recall         : 0.8111232517482517\n",
      "    val_loss       : 0.3351983278989792\n",
      "    val_my_metric  : 0.8240178571428572\n",
      "    val_f1         : 0.8189392983162322\n",
      "    val_balanced_accuracy: 0.7923484848484847\n",
      "    val_precision  : 0.8319052548555655\n",
      "    val_recall     : 0.8240178571428572\n"
     ]
    },
    {
     "name": "stdout",
     "output_type": "stream",
     "text": [
      "Model has not improved in -------------| 75 epochs\n"
     ]
    },
    {
     "name": "stderr",
     "output_type": "stream",
     "text": [
      "    epoch          : 210\n",
      "    loss           : 0.37536987547691053\n",
      "    my_metric      : 0.8086210664335665\n",
      "    f1             : 0.8026526697679679\n",
      "    balanced_accuracy: 0.7864243402761938\n",
      "    precision      : 0.8213776289687311\n",
      "    recall         : 0.8086210664335665\n",
      "    val_loss       : 0.3519641488790512\n",
      "    val_my_metric  : 0.8427678571428572\n",
      "    val_f1         : 0.8389769596067943\n",
      "    val_balanced_accuracy: 0.8229774430049828\n",
      "    val_precision  : 0.8449634241769669\n",
      "    val_recall     : 0.8427678571428572\n"
     ]
    },
    {
     "name": "stdout",
     "output_type": "stream",
     "text": [
      "Model has not improved in -------------| 76 epochs\n"
     ]
    },
    {
     "name": "stderr",
     "output_type": "stream",
     "text": [
      "    epoch          : 211\n",
      "    loss           : 0.37889782855143916\n",
      "    my_metric      : 0.8222246503496504\n",
      "    f1             : 0.8181872338265692\n",
      "    balanced_accuracy: 0.8004006844505752\n",
      "    precision      : 0.8308328598719993\n",
      "    recall         : 0.8222246503496504\n",
      "    val_loss       : 0.328951358795166\n",
      "    val_my_metric  : 0.8282142857142857\n",
      "    val_f1         : 0.8250760785479176\n",
      "    val_balanced_accuracy: 0.8016780268006485\n",
      "    val_precision  : 0.8343774759913158\n",
      "    val_recall     : 0.8282142857142857\n"
     ]
    },
    {
     "name": "stdout",
     "output_type": "stream",
     "text": [
      "Model has not improved in -------------| 77 epochs\n"
     ]
    },
    {
     "name": "stderr",
     "output_type": "stream",
     "text": [
      "    epoch          : 212\n",
      "    loss           : 0.3736407063328303\n",
      "    my_metric      : 0.8203343531468531\n",
      "    f1             : 0.8154404561227735\n",
      "    balanced_accuracy: 0.7959102430889188\n",
      "    precision      : 0.8274092916684521\n",
      "    recall         : 0.8203343531468531\n",
      "    val_loss       : 0.37232610285282136\n",
      "    val_my_metric  : 0.8276785714285714\n",
      "    val_f1         : 0.8245540716772701\n",
      "    val_balanced_accuracy: 0.8023290598290597\n",
      "    val_precision  : 0.831266828820028\n",
      "    val_recall     : 0.8276785714285714\n"
     ]
    },
    {
     "name": "stdout",
     "output_type": "stream",
     "text": [
      "Model has not improved in -------------| 78 epochs\n"
     ]
    },
    {
     "name": "stderr",
     "output_type": "stream",
     "text": [
      "    epoch          : 213\n",
      "    loss           : 0.3956153908601174\n",
      "    my_metric      : 0.7935970279720279\n",
      "    f1             : 0.7869594808829323\n",
      "    balanced_accuracy: 0.766833367810066\n",
      "    precision      : 0.8029124932779206\n",
      "    recall         : 0.7935970279720279\n",
      "    val_loss       : 0.3638808190822601\n",
      "    val_my_metric  : 0.8292857142857143\n",
      "    val_f1         : 0.8257028957426836\n",
      "    val_balanced_accuracy: 0.8019911707178261\n",
      "    val_precision  : 0.8356386288978832\n",
      "    val_recall     : 0.8292857142857143\n"
     ]
    },
    {
     "name": "stdout",
     "output_type": "stream",
     "text": [
      "Model has not improved in -------------| 79 epochs\n"
     ]
    },
    {
     "name": "stderr",
     "output_type": "stream",
     "text": [
      "    epoch          : 214\n",
      "    loss           : 0.38213823391841006\n",
      "    my_metric      : 0.8111123251748252\n",
      "    f1             : 0.8054442893196971\n",
      "    balanced_accuracy: 0.7859183237001562\n",
      "    precision      : 0.8201842313508442\n",
      "    recall         : 0.8111123251748252\n",
      "    val_loss       : 0.34339335560798645\n",
      "    val_my_metric  : 0.848482142857143\n",
      "    val_f1         : 0.8463503186550714\n",
      "    val_balanced_accuracy: 0.8317011139690923\n",
      "    val_precision  : 0.8569797213966435\n",
      "    val_recall     : 0.848482142857143\n"
     ]
    },
    {
     "name": "stdout",
     "output_type": "stream",
     "text": [
      "Model has not improved in -------------| 80 epochs\n"
     ]
    },
    {
     "name": "stderr",
     "output_type": "stream",
     "text": [
      "    epoch          : 215\n",
      "    loss           : 0.39078067529660004\n",
      "    my_metric      : 0.7932910839160839\n",
      "    f1             : 0.7880801881403\n",
      "    balanced_accuracy: 0.7698657631577769\n",
      "    precision      : 0.8025733893085136\n",
      "    recall         : 0.7932910839160839\n",
      "    val_loss       : 0.34829087257385255\n",
      "    val_my_metric  : 0.8151785714285713\n",
      "    val_f1         : 0.807879778555834\n",
      "    val_balanced_accuracy: 0.7749906298051636\n",
      "    val_precision  : 0.8232297481817952\n",
      "    val_recall     : 0.8151785714285713\n"
     ]
    },
    {
     "name": "stdout",
     "output_type": "stream",
     "text": [
      "Model has not improved in -------------| 81 epochs\n"
     ]
    },
    {
     "name": "stderr",
     "output_type": "stream",
     "text": [
      "    epoch          : 216\n",
      "    loss           : 0.38639018168816197\n",
      "    my_metric      : 0.8059112762237762\n",
      "    f1             : 0.8011377879018954\n",
      "    balanced_accuracy: 0.7818041335063991\n",
      "    precision      : 0.812973608625569\n",
      "    recall         : 0.8059112762237762\n",
      "    val_loss       : 0.35192824602127076\n",
      "    val_my_metric  : 0.8308035714285713\n",
      "    val_f1         : 0.8274525677518507\n",
      "    val_balanced_accuracy: 0.8052994787258072\n",
      "    val_precision  : 0.8344879989801864\n",
      "    val_recall     : 0.8308035714285713\n"
     ]
    },
    {
     "name": "stdout",
     "output_type": "stream",
     "text": [
      "Model has not improved in -------------| 82 epochs\n"
     ]
    },
    {
     "name": "stderr",
     "output_type": "stream",
     "text": [
      "    epoch          : 217\n",
      "    loss           : 0.39240195200993466\n",
      "    my_metric      : 0.8040100524475525\n",
      "    f1             : 0.7988119238834588\n",
      "    balanced_accuracy: 0.7785677415010693\n",
      "    precision      : 0.8116930989571707\n",
      "    recall         : 0.8040100524475525\n",
      "    val_loss       : 0.36772964596748353\n",
      "    val_my_metric  : 0.8438392857142857\n",
      "    val_f1         : 0.8416985458240411\n",
      "    val_balanced_accuracy: 0.8262673838088874\n",
      "    val_precision  : 0.8463708801249921\n",
      "    val_recall     : 0.8438392857142857\n"
     ]
    },
    {
     "name": "stdout",
     "output_type": "stream",
     "text": [
      "Model has not improved in -------------| 83 epochs\n"
     ]
    },
    {
     "name": "stderr",
     "output_type": "stream",
     "text": [
      "    epoch          : 218\n",
      "    loss           : 0.3877065216119473\n",
      "    my_metric      : 0.8038024475524476\n",
      "    f1             : 0.7988023251066996\n",
      "    balanced_accuracy: 0.7813021763610314\n",
      "    precision      : 0.8167430239605802\n",
      "    recall         : 0.8038024475524476\n",
      "    val_loss       : 0.344965261220932\n",
      "    val_my_metric  : 0.8433035714285714\n",
      "    val_f1         : 0.8379995993955468\n",
      "    val_balanced_accuracy: 0.8135354995881311\n",
      "    val_precision  : 0.8524450209737292\n",
      "    val_recall     : 0.8433035714285714\n"
     ]
    },
    {
     "name": "stdout",
     "output_type": "stream",
     "text": [
      "Model has not improved in -------------| 84 epochs\n"
     ]
    },
    {
     "name": "stderr",
     "output_type": "stream",
     "text": [
      "    epoch          : 219\n",
      "    loss           : 0.3945017285071887\n",
      "    my_metric      : 0.798590472027972\n",
      "    f1             : 0.7944931424553966\n",
      "    balanced_accuracy: 0.7776698404207375\n",
      "    precision      : 0.8073528544970644\n",
      "    recall         : 0.798590472027972\n",
      "    val_loss       : 0.3641004204750061\n",
      "    val_my_metric  : 0.8276785714285714\n",
      "    val_f1         : 0.8253092725710329\n",
      "    val_balanced_accuracy: 0.8050762319183372\n",
      "    val_precision  : 0.8298571578640658\n",
      "    val_recall     : 0.8276785714285714\n"
     ]
    },
    {
     "name": "stdout",
     "output_type": "stream",
     "text": [
      "Model has not improved in -------------| 85 epochs\n"
     ]
    },
    {
     "name": "stderr",
     "output_type": "stream",
     "text": [
      "    epoch          : 220\n",
      "    loss           : 0.38680196496156544\n",
      "    my_metric      : 0.8004042832167833\n",
      "    f1             : 0.7949977601612226\n",
      "    balanced_accuracy: 0.7792150805749246\n",
      "    precision      : 0.8124052048763301\n",
      "    recall         : 0.8004042832167833\n",
      "    val_loss       : 0.3600374639034271\n",
      "    val_my_metric  : 0.832857142857143\n",
      "    val_f1         : 0.8291874590707758\n",
      "    val_balanced_accuracy: 0.8037716867263504\n",
      "    val_precision  : 0.8398443579333517\n",
      "    val_recall     : 0.832857142857143\n"
     ]
    },
    {
     "name": "stdout",
     "output_type": "stream",
     "text": [
      "Model has not improved in -------------| 86 epochs\n"
     ]
    },
    {
     "name": "stderr",
     "output_type": "stream",
     "text": [
      "    epoch          : 221\n",
      "    loss           : 0.3885465126771193\n",
      "    my_metric      : 0.8012893356643356\n",
      "    f1             : 0.7957669086590158\n",
      "    balanced_accuracy: 0.7791532795714028\n",
      "    precision      : 0.812335065332567\n",
      "    recall         : 0.8012893356643356\n",
      "    val_loss       : 0.35898656845092775\n",
      "    val_my_metric  : 0.8136607142857143\n",
      "    val_f1         : 0.8114185133721726\n",
      "    val_balanced_accuracy: 0.7949029512205309\n",
      "    val_precision  : 0.8199428563291346\n",
      "    val_recall     : 0.8136607142857143\n"
     ]
    },
    {
     "name": "stdout",
     "output_type": "stream",
     "text": [
      "Model has not improved in -------------| 87 epochs\n"
     ]
    },
    {
     "name": "stderr",
     "output_type": "stream",
     "text": [
      "    epoch          : 222\n",
      "    loss           : 0.382108290034991\n",
      "    my_metric      : 0.8149256993006992\n",
      "    f1             : 0.8100200892053133\n",
      "    balanced_accuracy: 0.7927860165779749\n",
      "    precision      : 0.8236589267694681\n",
      "    recall         : 0.8149256993006992\n",
      "    val_loss       : 0.353300142288208\n",
      "    val_my_metric  : 0.8449107142857143\n",
      "    val_f1         : 0.8411233615358761\n",
      "    val_balanced_accuracy: 0.8195114501035554\n",
      "    val_precision  : 0.8536842449430365\n",
      "    val_recall     : 0.8449107142857143\n"
     ]
    },
    {
     "name": "stdout",
     "output_type": "stream",
     "text": [
      "Model has not improved in -------------| 88 epochs\n"
     ]
    },
    {
     "name": "stderr",
     "output_type": "stream",
     "text": [
      "    epoch          : 223\n",
      "    loss           : 0.3723228659767371\n",
      "    my_metric      : 0.806020541958042\n",
      "    f1             : 0.8006277240664498\n",
      "    balanced_accuracy: 0.7838546752548433\n",
      "    precision      : 0.8166801259290566\n",
      "    recall         : 0.806020541958042\n",
      "    val_loss       : 0.33608693778514864\n",
      "    val_my_metric  : 0.8422321428571429\n",
      "    val_f1         : 0.8382703897512641\n",
      "    val_balanced_accuracy: 0.8108310368681885\n",
      "    val_precision  : 0.8440397633178363\n",
      "    val_recall     : 0.8422321428571429\n"
     ]
    },
    {
     "name": "stdout",
     "output_type": "stream",
     "text": [
      "Model has not improved in -------------| 89 epochs\n"
     ]
    },
    {
     "name": "stderr",
     "output_type": "stream",
     "text": [
      "    epoch          : 224\n",
      "    loss           : 0.37352660527596104\n",
      "    my_metric      : 0.8072115384615385\n",
      "    f1             : 0.8022965441187917\n",
      "    balanced_accuracy: 0.786636113618905\n",
      "    precision      : 0.8181782217193584\n",
      "    recall         : 0.8072115384615385\n",
      "    val_loss       : 0.3509950220584869\n",
      "    val_my_metric  : 0.838125\n",
      "    val_f1         : 0.8343267550986656\n",
      "    val_balanced_accuracy: 0.8176941060661991\n",
      "    val_precision  : 0.8471985000562302\n",
      "    val_recall     : 0.838125\n"
     ]
    },
    {
     "name": "stdout",
     "output_type": "stream",
     "text": [
      "Model has not improved in -------------| 90 epochs\n"
     ]
    },
    {
     "name": "stderr",
     "output_type": "stream",
     "text": [
      "    epoch          : 225\n",
      "    loss           : 0.3848976418375969\n",
      "    my_metric      : 0.8070039335664335\n",
      "    f1             : 0.802019289660345\n",
      "    balanced_accuracy: 0.782855875250826\n",
      "    precision      : 0.8169771770918725\n",
      "    recall         : 0.8070039335664335\n",
      "    val_loss       : 0.3634125590324402\n",
      "    val_my_metric  : 0.8250892857142856\n",
      "    val_f1         : 0.8236011406061896\n",
      "    val_balanced_accuracy: 0.8084776334776335\n",
      "    val_precision  : 0.8254952722715879\n",
      "    val_recall     : 0.8250892857142856\n"
     ]
    },
    {
     "name": "stdout",
     "output_type": "stream",
     "text": [
      "Model has not improved in -------------| 91 epochs\n"
     ]
    },
    {
     "name": "stderr",
     "output_type": "stream",
     "text": [
      "    epoch          : 226\n",
      "    loss           : 0.3873768185193722\n",
      "    my_metric      : 0.8085118006993006\n",
      "    f1             : 0.8038070296484341\n",
      "    balanced_accuracy: 0.7845785409864339\n",
      "    precision      : 0.8166563905989678\n",
      "    recall         : 0.8085118006993006\n",
      "    val_loss       : 0.35709350407123563\n",
      "    val_my_metric  : 0.8141964285714286\n",
      "    val_f1         : 0.8087384877834438\n",
      "    val_balanced_accuracy: 0.782582727970339\n",
      "    val_precision  : 0.8187469455919112\n",
      "    val_recall     : 0.8141964285714286\n"
     ]
    },
    {
     "name": "stdout",
     "output_type": "stream",
     "text": [
      "Model has not improved in -------------| 92 epochs\n"
     ]
    },
    {
     "name": "stderr",
     "output_type": "stream",
     "text": [
      "    epoch          : 227\n",
      "    loss           : 0.3921132076245088\n",
      "    my_metric      : 0.8069055944055944\n",
      "    f1             : 0.8032879840395805\n",
      "    balanced_accuracy: 0.7897442276027308\n",
      "    precision      : 0.8214219921444541\n",
      "    recall         : 0.8069055944055944\n",
      "    val_loss       : 0.35600244998931885\n",
      "    val_my_metric  : 0.8282142857142857\n",
      "    val_f1         : 0.8240975695574126\n",
      "    val_balanced_accuracy: 0.8037086695853016\n",
      "    val_precision  : 0.8398533138736264\n",
      "    val_recall     : 0.8282142857142857\n"
     ]
    },
    {
     "name": "stdout",
     "output_type": "stream",
     "text": [
      "Model has not improved in -------------| 93 epochs\n"
     ]
    },
    {
     "name": "stderr",
     "output_type": "stream",
     "text": [
      "    epoch          : 228\n",
      "    loss           : 0.38570132278479063\n",
      "    my_metric      : 0.7973885489510489\n",
      "    f1             : 0.7922515754917151\n",
      "    balanced_accuracy: 0.7720795755387339\n",
      "    precision      : 0.803071646712\n",
      "    recall         : 0.7973885489510489\n",
      "    val_loss       : 0.3505042493343353\n",
      "    val_my_metric  : 0.8173214285714285\n",
      "    val_f1         : 0.8157506553149678\n",
      "    val_balanced_accuracy: 0.7926854744458138\n",
      "    val_precision  : 0.8216448619210247\n",
      "    val_recall     : 0.8173214285714285\n"
     ]
    },
    {
     "name": "stdout",
     "output_type": "stream",
     "text": [
      "Model has not improved in -------------| 94 epochs\n"
     ]
    },
    {
     "name": "stderr",
     "output_type": "stream",
     "text": [
      "    epoch          : 229\n",
      "    loss           : 0.38013075865232027\n",
      "    my_metric      : 0.8114073426573427\n",
      "    f1             : 0.8070691966648721\n",
      "    balanced_accuracy: 0.7902499991422117\n",
      "    precision      : 0.8226957460617869\n",
      "    recall         : 0.8114073426573427\n",
      "    val_loss       : 0.3472082018852234\n",
      "    val_my_metric  : 0.835\n",
      "    val_f1         : 0.8328229252491657\n",
      "    val_balanced_accuracy: 0.8035208069031599\n",
      "    val_precision  : 0.8447133619304671\n",
      "    val_recall     : 0.835\n"
     ]
    },
    {
     "name": "stdout",
     "output_type": "stream",
     "text": [
      "Model has not improved in -------------| 95 epochs\n"
     ]
    },
    {
     "name": "stderr",
     "output_type": "stream",
     "text": [
      "    epoch          : 230\n",
      "    loss           : 0.37237741626225984\n",
      "    my_metric      : 0.8027097902097903\n",
      "    f1             : 0.7977976229850808\n",
      "    balanced_accuracy: 0.7799633018695279\n",
      "    precision      : 0.8140904804670792\n",
      "    recall         : 0.8027097902097903\n",
      "    val_loss       : 0.33644351065158845\n",
      "    val_my_metric  : 0.8208928571428572\n",
      "    val_f1         : 0.8183484642162749\n",
      "    val_balanced_accuracy: 0.8011467305677831\n",
      "    val_precision  : 0.8221012423864895\n",
      "    val_recall     : 0.8208928571428572\n"
     ]
    },
    {
     "name": "stdout",
     "output_type": "stream",
     "text": [
      "Model has not improved in -------------| 96 epochs\n"
     ]
    },
    {
     "name": "stderr",
     "output_type": "stream",
     "text": [
      "    epoch          : 231\n",
      "    loss           : 0.377984273319061\n",
      "    my_metric      : 0.8126201923076923\n",
      "    f1             : 0.8084652612998308\n",
      "    balanced_accuracy: 0.7914975916215897\n",
      "    precision      : 0.8222748276205984\n",
      "    recall         : 0.8126201923076923\n",
      "    val_loss       : 0.34557082056999205\n",
      "    val_my_metric  : 0.8219642857142857\n",
      "    val_f1         : 0.8153464498893562\n",
      "    val_balanced_accuracy: 0.7872264865171843\n",
      "    val_precision  : 0.8269406171275794\n",
      "    val_recall     : 0.8219642857142857\n"
     ]
    },
    {
     "name": "stdout",
     "output_type": "stream",
     "text": [
      "Model has not improved in -------------| 97 epochs\n"
     ]
    },
    {
     "name": "stderr",
     "output_type": "stream",
     "text": [
      "    epoch          : 232\n",
      "    loss           : 0.3740367041184352\n",
      "    my_metric      : 0.8190231643356642\n",
      "    f1             : 0.8137750649579263\n",
      "    balanced_accuracy: 0.794524660243784\n",
      "    precision      : 0.8286825542024367\n",
      "    recall         : 0.8190231643356642\n",
      "    val_loss       : 0.3510145306587219\n",
      "    val_my_metric  : 0.8401785714285713\n",
      "    val_f1         : 0.8397996872647429\n",
      "    val_balanced_accuracy: 0.8297780752829842\n",
      "    val_precision  : 0.8499235191997585\n",
      "    val_recall     : 0.8401785714285713\n"
     ]
    },
    {
     "name": "stdout",
     "output_type": "stream",
     "text": [
      "Model has not improved in -------------| 98 epochs\n"
     ]
    },
    {
     "name": "stderr",
     "output_type": "stream",
     "text": [
      "    epoch          : 233\n",
      "    loss           : 0.3781521893464602\n",
      "    my_metric      : 0.8124125874125874\n",
      "    f1             : 0.808228280463847\n",
      "    balanced_accuracy: 0.7921322229476551\n",
      "    precision      : 0.8239186918641169\n",
      "    recall         : 0.8124125874125874\n",
      "    val_loss       : 0.3365850687026978\n",
      "    val_my_metric  : 0.8276785714285714\n",
      "    val_f1         : 0.8238132506498443\n",
      "    val_balanced_accuracy: 0.8126154285068425\n",
      "    val_precision  : 0.8419814062244264\n",
      "    val_recall     : 0.8276785714285714\n"
     ]
    },
    {
     "name": "stdout",
     "output_type": "stream",
     "text": [
      "Model has not improved in -------------| 99 epochs\n"
     ]
    },
    {
     "name": "stderr",
     "output_type": "stream",
     "text": [
      "    epoch          : 234\n",
      "    loss           : 0.3804845397288983\n",
      "    my_metric      : 0.8046110139860141\n",
      "    f1             : 0.7985236776317735\n",
      "    balanced_accuracy: 0.7774368518454607\n",
      "    precision      : 0.8120638134687698\n",
      "    recall         : 0.8046110139860141\n",
      "    val_loss       : 0.3604321420192719\n",
      "    val_my_metric  : 0.8333928571428573\n",
      "    val_f1         : 0.8288925779542543\n",
      "    val_balanced_accuracy: 0.8016041063359806\n",
      "    val_precision  : 0.8377898691927221\n",
      "    val_recall     : 0.8333928571428573\n"
     ]
    },
    {
     "name": "stdout",
     "output_type": "stream",
     "text": [
      "Model has not improved in -------------| 100 epochs\n"
     ]
    },
    {
     "name": "stderr",
     "output_type": "stream",
     "text": [
      "    epoch          : 235\n",
      "    loss           : 0.3895422833470198\n",
      "    my_metric      : 0.8097137237762237\n",
      "    f1             : 0.8054167333391421\n",
      "    balanced_accuracy: 0.7854806585285675\n",
      "    precision      : 0.8190999416932496\n",
      "    recall         : 0.8097137237762237\n",
      "    val_loss       : 0.3733369201421738\n",
      "    val_my_metric  : 0.8230357142857143\n",
      "    val_f1         : 0.819275739290223\n",
      "    val_balanced_accuracy: 0.7956942830197281\n",
      "    val_precision  : 0.823528955615925\n",
      "    val_recall     : 0.8230357142857143\n"
     ]
    },
    {
     "name": "stdout",
     "output_type": "stream",
     "text": [
      "Model has not improved in -------------| 101 epochs\n"
     ]
    },
    {
     "name": "stderr",
     "output_type": "stream",
     "text": [
      "    epoch          : 236\n",
      "    loss           : 0.3624937477020117\n",
      "    my_metric      : 0.8124235139860141\n",
      "    f1             : 0.8075970537568467\n",
      "    balanced_accuracy: 0.7908883176365342\n",
      "    precision      : 0.8247446547160429\n",
      "    recall         : 0.8124235139860141\n",
      "    val_loss       : 0.34260934591293335\n",
      "    val_my_metric  : 0.8438392857142857\n",
      "    val_f1         : 0.8401467581140596\n",
      "    val_balanced_accuracy: 0.8183893144182253\n",
      "    val_precision  : 0.8494882446357991\n",
      "    val_recall     : 0.8438392857142857\n"
     ]
    },
    {
     "name": "stdout",
     "output_type": "stream",
     "text": [
      "Model has not improved in -------------| 102 epochs\n"
     ]
    },
    {
     "name": "stderr",
     "output_type": "stream",
     "text": [
      "    epoch          : 237\n",
      "    loss           : 0.3743380313882461\n",
      "    my_metric      : 0.8138221153846155\n",
      "    f1             : 0.8098615821011659\n",
      "    balanced_accuracy: 0.7919943578659185\n",
      "    precision      : 0.821087763798237\n",
      "    recall         : 0.8138221153846155\n",
      "    val_loss       : 0.34848461151123045\n",
      "    val_my_metric  : 0.8162499999999999\n",
      "    val_f1         : 0.8129105727929277\n",
      "    val_balanced_accuracy: 0.7901200712388412\n",
      "    val_precision  : 0.8203123264127052\n",
      "    val_recall     : 0.8162499999999999\n"
     ]
    },
    {
     "name": "stdout",
     "output_type": "stream",
     "text": [
      "Model has not improved in -------------| 103 epochs\n"
     ]
    },
    {
     "name": "stderr",
     "output_type": "stream",
     "text": [
      "    epoch          : 238\n",
      "    loss           : 0.3856757856332339\n",
      "    my_metric      : 0.8032998251748252\n",
      "    f1             : 0.7981392913112236\n",
      "    balanced_accuracy: 0.7808165917384913\n",
      "    precision      : 0.8137798284519691\n",
      "    recall         : 0.8032998251748252\n",
      "    val_loss       : 0.36360406279563906\n",
      "    val_my_metric  : 0.8292857142857143\n",
      "    val_f1         : 0.8269119119807227\n",
      "    val_balanced_accuracy: 0.8147172521321128\n",
      "    val_precision  : 0.8379035283683287\n",
      "    val_recall     : 0.8292857142857143\n"
     ]
    },
    {
     "name": "stdout",
     "output_type": "stream",
     "text": [
      "Model has not improved in -------------| 104 epochs\n"
     ]
    },
    {
     "name": "stderr",
     "output_type": "stream",
     "text": [
      "    epoch          : 239\n",
      "    loss           : 0.3772199675440788\n",
      "    my_metric      : 0.8074191433566433\n",
      "    f1             : 0.8028952115628718\n",
      "    balanced_accuracy: 0.7862263061306133\n",
      "    precision      : 0.8161002741488641\n",
      "    recall         : 0.8074191433566433\n",
      "    val_loss       : 0.3336071908473969\n",
      "    val_my_metric  : 0.8589285714285714\n",
      "    val_f1         : 0.8567879968847845\n",
      "    val_balanced_accuracy: 0.8373072398573601\n",
      "    val_precision  : 0.8593243463308717\n",
      "    val_recall     : 0.8589285714285714\n"
     ]
    },
    {
     "name": "stdout",
     "output_type": "stream",
     "text": [
      "Model has not improved in -------------| 105 epochs\n"
     ]
    },
    {
     "name": "stderr",
     "output_type": "stream",
     "text": [
      "    epoch          : 240\n",
      "    loss           : 0.38784103897901684\n",
      "    my_metric      : 0.8095061188811189\n",
      "    f1             : 0.8052698618064775\n",
      "    balanced_accuracy: 0.7921439711865685\n",
      "    precision      : 0.8215082873370947\n",
      "    recall         : 0.8095061188811189\n",
      "    val_loss       : 0.33054556250572203\n",
      "    val_my_metric  : 0.8188392857142857\n",
      "    val_f1         : 0.8127912004059505\n",
      "    val_balanced_accuracy: 0.7874867710326714\n",
      "    val_precision  : 0.828753921559388\n",
      "    val_recall     : 0.8188392857142857\n"
     ]
    },
    {
     "name": "stdout",
     "output_type": "stream",
     "text": [
      "Model has not improved in -------------| 106 epochs\n"
     ]
    },
    {
     "name": "stderr",
     "output_type": "stream",
     "text": [
      "    epoch          : 241\n",
      "    loss           : 0.3865328373817297\n",
      "    my_metric      : 0.8027972027972028\n",
      "    f1             : 0.7979518854272071\n",
      "    balanced_accuracy: 0.7790774566280316\n",
      "    precision      : 0.8086041061240069\n",
      "    recall         : 0.8027972027972028\n",
      "    val_loss       : 0.36904258131980894\n",
      "    val_my_metric  : 0.8298214285714286\n",
      "    val_f1         : 0.8280935356884191\n",
      "    val_balanced_accuracy: 0.8100330014812773\n",
      "    val_precision  : 0.8393190294390525\n",
      "    val_recall     : 0.8298214285714286\n"
     ]
    },
    {
     "name": "stdout",
     "output_type": "stream",
     "text": [
      "Model has not improved in -------------| 107 epochs\n"
     ]
    },
    {
     "name": "stderr",
     "output_type": "stream",
     "text": [
      "    epoch          : 242\n",
      "    loss           : 0.3919303405743379\n",
      "    my_metric      : 0.8014969405594405\n",
      "    f1             : 0.7966456148050578\n",
      "    balanced_accuracy: 0.7777138540874743\n",
      "    precision      : 0.8079097368914755\n",
      "    recall         : 0.8014969405594405\n",
      "    val_loss       : 0.3603444993495941\n",
      "    val_my_metric  : 0.8240178571428572\n",
      "    val_f1         : 0.823125037012691\n",
      "    val_balanced_accuracy: 0.8077309477173362\n",
      "    val_precision  : 0.8263344694541145\n",
      "    val_recall     : 0.8240178571428572\n"
     ]
    },
    {
     "name": "stdout",
     "output_type": "stream",
     "text": [
      "Model has not improved in -------------| 108 epochs\n"
     ]
    },
    {
     "name": "stderr",
     "output_type": "stream",
     "text": [
      "    epoch          : 243\n",
      "    loss           : 0.380216318827409\n",
      "    my_metric      : 0.8021962412587412\n",
      "    f1             : 0.7969069979730976\n",
      "    balanced_accuracy: 0.777839141126159\n",
      "    precision      : 0.8120494311451053\n",
      "    recall         : 0.8021962412587412\n",
      "    val_loss       : 0.3400156944990158\n",
      "    val_my_metric  : 0.8385714285714286\n",
      "    val_f1         : 0.8353077815170815\n",
      "    val_balanced_accuracy: 0.8207094381383883\n",
      "    val_precision  : 0.8443343431122449\n",
      "    val_recall     : 0.8385714285714286\n"
     ]
    },
    {
     "name": "stdout",
     "output_type": "stream",
     "text": [
      "Model has not improved in -------------| 109 epochs\n"
     ]
    },
    {
     "name": "stderr",
     "output_type": "stream",
     "text": [
      "    epoch          : 244\n",
      "    loss           : 0.39581604301929474\n",
      "    my_metric      : 0.7979020979020979\n",
      "    f1             : 0.7925038630786084\n",
      "    balanced_accuracy: 0.7732175726416586\n",
      "    precision      : 0.8043520941589308\n",
      "    recall         : 0.7979020979020979\n",
      "    val_loss       : 0.33536632657051085\n",
      "    val_my_metric  : 0.8474999999999999\n",
      "    val_f1         : 0.8434342536760535\n",
      "    val_balanced_accuracy: 0.8221877683719789\n",
      "    val_precision  : 0.85166460778281\n",
      "    val_recall     : 0.8474999999999999\n"
     ]
    },
    {
     "name": "stdout",
     "output_type": "stream",
     "text": [
      "Model has not improved in -------------| 110 epochs\n"
     ]
    },
    {
     "name": "stderr",
     "output_type": "stream",
     "text": [
      "    epoch          : 245\n",
      "    loss           : 0.3868718852217381\n",
      "    my_metric      : 0.7941979895104895\n",
      "    f1             : 0.7888739522752108\n",
      "    balanced_accuracy: 0.7706902713873252\n",
      "    precision      : 0.8008900081827294\n",
      "    recall         : 0.7941979895104895\n",
      "    val_loss       : 0.33773799538612365\n",
      "    val_my_metric  : 0.8495535714285714\n",
      "    val_f1         : 0.8465001298511584\n",
      "    val_balanced_accuracy: 0.8264348592982806\n",
      "    val_precision  : 0.8543701155664829\n",
      "    val_recall     : 0.8495535714285714\n"
     ]
    },
    {
     "name": "stdout",
     "output_type": "stream",
     "text": [
      "Model has not improved in -------------| 111 epochs\n"
     ]
    },
    {
     "name": "stderr",
     "output_type": "stream",
     "text": [
      "    epoch          : 246\n",
      "    loss           : 0.38822571016274965\n",
      "    my_metric      : 0.8108173076923078\n",
      "    f1             : 0.8066849255389056\n",
      "    balanced_accuracy: 0.7899970227747043\n",
      "    precision      : 0.8195365420608289\n",
      "    recall         : 0.8108173076923078\n",
      "    val_loss       : 0.3673970103263855\n",
      "    val_my_metric  : 0.8407142857142856\n",
      "    val_f1         : 0.8382389143541422\n",
      "    val_balanced_accuracy: 0.8164648863219988\n",
      "    val_precision  : 0.8407773622211122\n",
      "    val_recall     : 0.8407142857142856\n"
     ]
    },
    {
     "name": "stdout",
     "output_type": "stream",
     "text": [
      "Model has not improved in -------------| 112 epochs\n"
     ]
    },
    {
     "name": "stderr",
     "output_type": "stream",
     "text": [
      "    epoch          : 247\n",
      "    loss           : 0.38275571511341977\n",
      "    my_metric      : 0.8052119755244755\n",
      "    f1             : 0.7993827841741439\n",
      "    balanced_accuracy: 0.7835094942125471\n",
      "    precision      : 0.8192062443235244\n",
      "    recall         : 0.8052119755244755\n",
      "    val_loss       : 0.3448556184768677\n",
      "    val_my_metric  : 0.7928571428571429\n",
      "    val_f1         : 0.788633117691791\n",
      "    val_balanced_accuracy: 0.7602053614639427\n",
      "    val_precision  : 0.7926760435352083\n",
      "    val_recall     : 0.7928571428571429\n"
     ]
    },
    {
     "name": "stdout",
     "output_type": "stream",
     "text": [
      "Model has not improved in -------------| 113 epochs\n"
     ]
    },
    {
     "name": "stderr",
     "output_type": "stream",
     "text": [
      "    epoch          : 248\n",
      "    loss           : 0.3693522937022723\n",
      "    my_metric      : 0.8151223776223776\n",
      "    f1             : 0.8113714073618239\n",
      "    balanced_accuracy: 0.7943526930477544\n",
      "    precision      : 0.822061261076753\n",
      "    recall         : 0.8151223776223776\n",
      "    val_loss       : 0.3514574348926544\n",
      "    val_my_metric  : 0.8433035714285714\n",
      "    val_f1         : 0.8424654237478529\n",
      "    val_balanced_accuracy: 0.8357544467027227\n",
      "    val_precision  : 0.8517224984012681\n",
      "    val_recall     : 0.8433035714285714\n"
     ]
    },
    {
     "name": "stdout",
     "output_type": "stream",
     "text": [
      "Model has not improved in -------------| 114 epochs\n"
     ]
    },
    {
     "name": "stderr",
     "output_type": "stream",
     "text": [
      "    epoch          : 249\n",
      "    loss           : 0.3881349191069603\n",
      "    my_metric      : 0.798896416083916\n",
      "    f1             : 0.7946900442211753\n",
      "    balanced_accuracy: 0.7767669157404513\n",
      "    precision      : 0.8048667093222339\n",
      "    recall         : 0.798896416083916\n",
      "    val_loss       : 0.3538271844387054\n",
      "    val_my_metric  : 0.8094642857142856\n",
      "    val_f1         : 0.8043352311418317\n",
      "    val_balanced_accuracy: 0.784148604269294\n",
      "    val_precision  : 0.8170253416846271\n",
      "    val_recall     : 0.8094642857142856\n"
     ]
    },
    {
     "name": "stdout",
     "output_type": "stream",
     "text": [
      "Model has not improved in -------------| 115 epochs\n"
     ]
    },
    {
     "name": "stderr",
     "output_type": "stream",
     "text": [
      "    epoch          : 250\n",
      "    loss           : 0.3986842162334002\n",
      "    my_metric      : 0.8022071678321679\n",
      "    f1             : 0.7969941282875607\n",
      "    balanced_accuracy: 0.7781927288818662\n",
      "    precision      : 0.8117265472454261\n",
      "    recall         : 0.8022071678321679\n",
      "    val_loss       : 0.3488846182823181\n",
      "    val_my_metric  : 0.8375892857142857\n",
      "    val_f1         : 0.8356077994337685\n",
      "    val_balanced_accuracy: 0.8253449401475716\n",
      "    val_precision  : 0.8445560551292812\n",
      "    val_recall     : 0.8375892857142857\n"
     ]
    },
    {
     "name": "stdout",
     "output_type": "stream",
     "text": [
      "Model has not improved in -------------| 116 epochs\n"
     ]
    },
    {
     "name": "stderr",
     "output_type": "stream",
     "text": [
      "    epoch          : 251\n",
      "    loss           : 0.39294163023050016\n",
      "    my_metric      : 0.7959899475524476\n",
      "    f1             : 0.7905192640326294\n",
      "    balanced_accuracy: 0.7728594399607892\n",
      "    precision      : 0.809228677546844\n",
      "    recall         : 0.7959899475524476\n",
      "    val_loss       : 0.37174077033996583\n",
      "    val_my_metric  : 0.813125\n",
      "    val_f1         : 0.8077130238893343\n",
      "    val_balanced_accuracy: 0.7825187478054338\n",
      "    val_precision  : 0.8170763254325409\n",
      "    val_recall     : 0.813125\n"
     ]
    },
    {
     "name": "stdout",
     "output_type": "stream",
     "text": [
      "Model has not improved in -------------| 117 epochs\n"
     ]
    },
    {
     "name": "stderr",
     "output_type": "stream",
     "text": [
      "    epoch          : 252\n",
      "    loss           : 0.3925202993246225\n",
      "    my_metric      : 0.8024147727272728\n",
      "    f1             : 0.7975351392670423\n",
      "    balanced_accuracy: 0.7799041080596172\n",
      "    precision      : 0.814310504573693\n",
      "    recall         : 0.8024147727272728\n",
      "    val_loss       : 0.3544690251350403\n",
      "    val_my_metric  : 0.8282142857142857\n",
      "    val_f1         : 0.8266839638538672\n",
      "    val_balanced_accuracy: 0.8125240525276034\n",
      "    val_precision  : 0.833739422163972\n",
      "    val_recall     : 0.8282142857142857\n"
     ]
    },
    {
     "name": "stdout",
     "output_type": "stream",
     "text": [
      "Model has not improved in -------------| 118 epochs\n"
     ]
    },
    {
     "name": "stderr",
     "output_type": "stream",
     "text": [
      "    epoch          : 253\n",
      "    loss           : 0.3826437294483185\n",
      "    my_metric      : 0.8103146853146852\n",
      "    f1             : 0.8060942579944593\n",
      "    balanced_accuracy: 0.7859550841638927\n",
      "    precision      : 0.8183967099594156\n",
      "    recall         : 0.8103146853146852\n",
      "    val_loss       : 0.3485694169998169\n",
      "    val_my_metric  : 0.8167857142857142\n",
      "    val_f1         : 0.8113936881309443\n",
      "    val_balanced_accuracy: 0.7890264083633017\n",
      "    val_precision  : 0.8220759651781409\n",
      "    val_recall     : 0.8167857142857142\n"
     ]
    },
    {
     "name": "stdout",
     "output_type": "stream",
     "text": [
      "Model has not improved in -------------| 119 epochs\n"
     ]
    },
    {
     "name": "stderr",
     "output_type": "stream",
     "text": [
      "    epoch          : 254\n",
      "    loss           : 0.38612105066959673\n",
      "    my_metric      : 0.8006993006993006\n",
      "    f1             : 0.7950403331477767\n",
      "    balanced_accuracy: 0.7748394880254655\n",
      "    precision      : 0.8093335096354118\n",
      "    recall         : 0.8006993006993006\n",
      "    val_loss       : 0.36141465306282045\n",
      "    val_my_metric  : 0.8313392857142856\n",
      "    val_f1         : 0.8292589205103915\n",
      "    val_balanced_accuracy: 0.8122355363934313\n",
      "    val_precision  : 0.8311590715831787\n",
      "    val_recall     : 0.8313392857142856\n"
     ]
    },
    {
     "name": "stdout",
     "output_type": "stream",
     "text": [
      "Model has not improved in -------------| 120 epochs\n"
     ]
    },
    {
     "name": "stderr",
     "output_type": "stream",
     "text": [
      "    epoch          : 255\n",
      "    loss           : 0.37288800455056703\n",
      "    my_metric      : 0.8136254370629371\n",
      "    f1             : 0.8073001301025042\n",
      "    balanced_accuracy: 0.7891290920334402\n",
      "    precision      : 0.8254569584476893\n",
      "    recall         : 0.8136254370629371\n",
      "    val_loss       : 0.34389625787734984\n",
      "    val_my_metric  : 0.8396428571428572\n",
      "    val_f1         : 0.8350838988116388\n",
      "    val_balanced_accuracy: 0.8094147820361168\n",
      "    val_precision  : 0.8437118647121468\n",
      "    val_recall     : 0.8396428571428572\n"
     ]
    },
    {
     "name": "stdout",
     "output_type": "stream",
     "text": [
      "Model has not improved in -------------| 121 epochs\n"
     ]
    },
    {
     "name": "stderr",
     "output_type": "stream",
     "text": [
      "    epoch          : 256\n",
      "    loss           : 0.37140835707004255\n",
      "    my_metric      : 0.8022071678321679\n",
      "    f1             : 0.7975029074741046\n",
      "    balanced_accuracy: 0.7770972563223327\n",
      "    precision      : 0.8078980654647717\n",
      "    recall         : 0.8022071678321679\n",
      "    val_loss       : 0.3411275804042816\n",
      "    val_my_metric  : 0.8427678571428572\n",
      "    val_f1         : 0.837865202370985\n",
      "    val_balanced_accuracy: 0.8164026658775739\n",
      "    val_precision  : 0.8493033775495744\n",
      "    val_recall     : 0.8427678571428572\n"
     ]
    },
    {
     "name": "stdout",
     "output_type": "stream",
     "text": [
      "Model has not improved in -------------| 122 epochs\n"
     ]
    },
    {
     "name": "stderr",
     "output_type": "stream",
     "text": [
      "    epoch          : 257\n",
      "    loss           : 0.3743918240070343\n",
      "    my_metric      : 0.8217329545454545\n",
      "    f1             : 0.8169748920425998\n",
      "    balanced_accuracy: 0.8009044662389824\n",
      "    precision      : 0.8353229209791243\n",
      "    recall         : 0.8217329545454545\n",
      "    val_loss       : 0.3388906896114349\n",
      "    val_my_metric  : 0.8495535714285714\n",
      "    val_f1         : 0.846260308149604\n",
      "    val_balanced_accuracy: 0.8250908570513834\n",
      "    val_precision  : 0.8575180843417165\n",
      "    val_recall     : 0.8495535714285714\n"
     ]
    },
    {
     "name": "stdout",
     "output_type": "stream",
     "text": [
      "Model has not improved in -------------| 123 epochs\n"
     ]
    },
    {
     "name": "stderr",
     "output_type": "stream",
     "text": [
      "    epoch          : 258\n",
      "    loss           : 0.38802955184991544\n",
      "    my_metric      : 0.800590034965035\n",
      "    f1             : 0.795276428038592\n",
      "    balanced_accuracy: 0.7760631713125593\n",
      "    precision      : 0.8060658085210423\n",
      "    recall         : 0.800590034965035\n",
      "    val_loss       : 0.3573499321937561\n",
      "    val_my_metric  : 0.8313392857142856\n",
      "    val_f1         : 0.8282226497746887\n",
      "    val_balanced_accuracy: 0.8112513228771808\n",
      "    val_precision  : 0.8367997399485849\n",
      "    val_recall     : 0.8313392857142856\n"
     ]
    },
    {
     "name": "stdout",
     "output_type": "stream",
     "text": [
      "Model has not improved in -------------| 124 epochs\n"
     ]
    },
    {
     "name": "stderr",
     "output_type": "stream",
     "text": [
      "    epoch          : 259\n",
      "    loss           : 0.397834558899586\n",
      "    my_metric      : 0.8014095279720279\n",
      "    f1             : 0.7969037537342346\n",
      "    balanced_accuracy: 0.7788070402666872\n",
      "    precision      : 0.8086829269083525\n",
      "    recall         : 0.8014095279720279\n",
      "    val_loss       : 0.367427858710289\n",
      "    val_my_metric  : 0.8194642857142856\n",
      "    val_f1         : 0.8149780150126359\n",
      "    val_balanced_accuracy: 0.7966665863455632\n",
      "    val_precision  : 0.8206060754395459\n",
      "    val_recall     : 0.8194642857142856\n"
     ]
    },
    {
     "name": "stdout",
     "output_type": "stream",
     "text": [
      "Model has not improved in -------------| 125 epochs\n"
     ]
    },
    {
     "name": "stderr",
     "output_type": "stream",
     "text": [
      "    epoch          : 260\n",
      "    loss           : 0.39927126925725204\n",
      "    my_metric      : 0.8056053321678321\n",
      "    f1             : 0.8008098963753382\n",
      "    balanced_accuracy: 0.7829675233162869\n",
      "    precision      : 0.8138896530623302\n",
      "    recall         : 0.8056053321678321\n",
      "    val_loss       : 0.34448215961456297\n",
      "    val_my_metric  : 0.8396428571428572\n",
      "    val_f1         : 0.8366338715726297\n",
      "    val_balanced_accuracy: 0.8157847647476304\n",
      "    val_precision  : 0.8413960333303588\n",
      "    val_recall     : 0.8396428571428572\n"
     ]
    },
    {
     "name": "stdout",
     "output_type": "stream",
     "text": [
      "Model has not improved in -------------| 126 epochs\n"
     ]
    },
    {
     "name": "stderr",
     "output_type": "stream",
     "text": [
      "    epoch          : 261\n",
      "    loss           : 0.3804534169343802\n",
      "    my_metric      : 0.811221590909091\n",
      "    f1             : 0.8061099621591107\n",
      "    balanced_accuracy: 0.7867014420356271\n",
      "    precision      : 0.8191344427022049\n",
      "    recall         : 0.811221590909091\n",
      "    val_loss       : 0.3636197030544281\n",
      "    val_my_metric  : 0.8433035714285714\n",
      "    val_f1         : 0.8428211446744458\n",
      "    val_balanced_accuracy: 0.831401883309778\n",
      "    val_precision  : 0.8476466305012818\n",
      "    val_recall     : 0.8433035714285714\n"
     ]
    },
    {
     "name": "stdout",
     "output_type": "stream",
     "text": [
      "Model has not improved in -------------| 127 epochs\n"
     ]
    },
    {
     "name": "stderr",
     "output_type": "stream",
     "text": [
      "    epoch          : 262\n",
      "    loss           : 0.39066899510530323\n",
      "    my_metric      : 0.8051136363636364\n",
      "    f1             : 0.8003014872195929\n",
      "    balanced_accuracy: 0.7815377895405295\n",
      "    precision      : 0.8159338015341239\n",
      "    recall         : 0.8051136363636364\n",
      "    val_loss       : 0.32546028196811677\n",
      "    val_my_metric  : 0.8547321428571429\n",
      "    val_f1         : 0.8519603238755199\n",
      "    val_balanced_accuracy: 0.8302962809487292\n",
      "    val_precision  : 0.8568520134403419\n",
      "    val_recall     : 0.8547321428571429\n"
     ]
    },
    {
     "name": "stdout",
     "output_type": "stream",
     "text": [
      "Model has not improved in -------------| 128 epochs\n"
     ]
    },
    {
     "name": "stderr",
     "output_type": "stream",
     "text": [
      "    epoch          : 263\n",
      "    loss           : 0.38255959634597486\n",
      "    my_metric      : 0.8152207167832167\n",
      "    f1             : 0.810297785274678\n",
      "    balanced_accuracy: 0.7912660499848229\n",
      "    precision      : 0.8222594589882639\n",
      "    recall         : 0.8152207167832167\n",
      "    val_loss       : 0.340752387046814\n",
      "    val_my_metric  : 0.8359821428571429\n",
      "    val_f1         : 0.832120375016061\n",
      "    val_balanced_accuracy: 0.8103665229799532\n",
      "    val_precision  : 0.8420994350922782\n",
      "    val_recall     : 0.8359821428571429\n"
     ]
    },
    {
     "name": "stdout",
     "output_type": "stream",
     "text": [
      "Model has not improved in -------------| 129 epochs\n"
     ]
    },
    {
     "name": "stderr",
     "output_type": "stream",
     "text": [
      "    epoch          : 264\n",
      "    loss           : 0.376257238479761\n",
      "    my_metric      : 0.7987980769230769\n",
      "    f1             : 0.7927372927233484\n",
      "    balanced_accuracy: 0.7741099282949502\n",
      "    precision      : 0.8062107230896289\n",
      "    recall         : 0.7987980769230769\n",
      "    val_loss       : 0.3424179196357727\n",
      "    val_my_metric  : 0.8454464285714286\n",
      "    val_f1         : 0.8432443375593446\n",
      "    val_balanced_accuracy: 0.8214909668133057\n",
      "    val_precision  : 0.8454355985907096\n",
      "    val_recall     : 0.8454464285714286\n"
     ]
    },
    {
     "name": "stdout",
     "output_type": "stream",
     "text": [
      "Model has not improved in -------------| 130 epochs\n"
     ]
    },
    {
     "name": "stderr",
     "output_type": "stream",
     "text": [
      "    epoch          : 265\n",
      "    loss           : 0.3920681339043837\n",
      "    my_metric      : 0.8045126748251749\n",
      "    f1             : 0.8001967404690226\n",
      "    balanced_accuracy: 0.7823093313211201\n",
      "    precision      : 0.8109219024604856\n",
      "    recall         : 0.8045126748251749\n",
      "    val_loss       : 0.36931005120277405\n",
      "    val_my_metric  : 0.8141964285714286\n",
      "    val_f1         : 0.8087733817887501\n",
      "    val_balanced_accuracy: 0.7871602659896857\n",
      "    val_precision  : 0.8206638152364502\n",
      "    val_recall     : 0.8141964285714286\n"
     ]
    },
    {
     "name": "stdout",
     "output_type": "stream",
     "text": [
      "Model has not improved in -------------| 131 epochs\n"
     ]
    },
    {
     "name": "stderr",
     "output_type": "stream",
     "text": [
      "    epoch          : 266\n",
      "    loss           : 0.3922402606560634\n",
      "    my_metric      : 0.8045126748251749\n",
      "    f1             : 0.7997305773926596\n",
      "    balanced_accuracy: 0.7816421740260323\n",
      "    precision      : 0.811973072294522\n",
      "    recall         : 0.8045126748251749\n",
      "    val_loss       : 0.3580579549074173\n",
      "    val_my_metric  : 0.838125\n",
      "    val_f1         : 0.8360579848276345\n",
      "    val_balanced_accuracy: 0.8206284303931362\n",
      "    val_precision  : 0.8387135796945003\n",
      "    val_recall     : 0.838125\n"
     ]
    },
    {
     "name": "stdout",
     "output_type": "stream",
     "text": [
      "Model has not improved in -------------| 132 epochs\n"
     ]
    },
    {
     "name": "stderr",
     "output_type": "stream",
     "text": [
      "    epoch          : 267\n",
      "    loss           : 0.37266150690042055\n",
      "    my_metric      : 0.8052010489510489\n",
      "    f1             : 0.799937857720438\n",
      "    balanced_accuracy: 0.7819042780194484\n",
      "    precision      : 0.8138195456962539\n",
      "    recall         : 0.8052010489510489\n",
      "    val_loss       : 0.3482040286064148\n",
      "    val_my_metric  : 0.8282142857142857\n",
      "    val_f1         : 0.8253810512999585\n",
      "    val_balanced_accuracy: 0.8031791755656709\n",
      "    val_precision  : 0.8309381231937625\n",
      "    val_recall     : 0.8282142857142857\n"
     ]
    },
    {
     "name": "stdout",
     "output_type": "stream",
     "text": [
      "Model has not improved in -------------| 133 epochs\n"
     ]
    },
    {
     "name": "stderr",
     "output_type": "stream",
     "text": [
      "    epoch          : 268\n",
      "    loss           : 0.38642669641054594\n",
      "    my_metric      : 0.8084134615384616\n",
      "    f1             : 0.8036427402580457\n",
      "    balanced_accuracy: 0.7859370085151226\n",
      "    precision      : 0.8162014328064848\n",
      "    recall         : 0.8084134615384616\n",
      "    val_loss       : 0.36482174396514894\n",
      "    val_my_metric  : 0.8308035714285713\n",
      "    val_f1         : 0.8288479374513583\n",
      "    val_balanced_accuracy: 0.8097189924160798\n",
      "    val_precision  : 0.8314071813950857\n",
      "    val_recall     : 0.8308035714285713\n"
     ]
    },
    {
     "name": "stdout",
     "output_type": "stream",
     "text": [
      "Model has not improved in -------------| 134 epochs\n"
     ]
    },
    {
     "name": "stderr",
     "output_type": "stream",
     "text": [
      "    epoch          : 269\n",
      "    loss           : 0.3796996927032104\n",
      "    my_metric      : 0.811013986013986\n",
      "    f1             : 0.8065185929095935\n",
      "    balanced_accuracy: 0.7897518343972277\n",
      "    precision      : 0.8224178066345295\n",
      "    recall         : 0.811013986013986\n",
      "    val_loss       : 0.3489006906747818\n",
      "    val_my_metric  : 0.8256249999999999\n",
      "    val_f1         : 0.8216285212159965\n",
      "    val_balanced_accuracy: 0.7984533368240619\n",
      "    val_precision  : 0.8340443097129142\n",
      "    val_recall     : 0.8256249999999999\n"
     ]
    },
    {
     "name": "stdout",
     "output_type": "stream",
     "text": [
      "Model has not improved in -------------| 135 epochs\n"
     ]
    },
    {
     "name": "stderr",
     "output_type": "stream",
     "text": [
      "    epoch          : 270\n",
      "    loss           : 0.3773994686511847\n",
      "    my_metric      : 0.8020979020979021\n",
      "    f1             : 0.796278698332107\n",
      "    balanced_accuracy: 0.7752646273071295\n",
      "    precision      : 0.8116696391532218\n",
      "    recall         : 0.8020979020979021\n",
      "    val_loss       : 0.3585928499698639\n",
      "    val_my_metric  : 0.835\n",
      "    val_f1         : 0.8316781955111535\n",
      "    val_balanced_accuracy: 0.8117687479803068\n",
      "    val_precision  : 0.8365361298101124\n",
      "    val_recall     : 0.835\n"
     ]
    },
    {
     "name": "stdout",
     "output_type": "stream",
     "text": [
      "Model has not improved in -------------| 136 epochs\n"
     ]
    },
    {
     "name": "stderr",
     "output_type": "stream",
     "text": [
      "    epoch          : 271\n",
      "    loss           : 0.3821198149369313\n",
      "    my_metric      : 0.7948972902097903\n",
      "    f1             : 0.7882325260899533\n",
      "    balanced_accuracy: 0.7694456553196424\n",
      "    precision      : 0.8064559926717497\n",
      "    recall         : 0.7948972902097903\n",
      "    val_loss       : 0.3611589252948761\n",
      "    val_my_metric  : 0.8208928571428572\n",
      "    val_f1         : 0.8171502736394041\n",
      "    val_balanced_accuracy: 0.7941848825569756\n",
      "    val_precision  : 0.8224453431232707\n",
      "    val_recall     : 0.8208928571428572\n"
     ]
    },
    {
     "name": "stdout",
     "output_type": "stream",
     "text": [
      "Model has not improved in -------------| 137 epochs\n"
     ]
    },
    {
     "name": "stderr",
     "output_type": "stream",
     "text": [
      "    epoch          : 272\n",
      "    loss           : 0.3780667403569588\n",
      "    my_metric      : 0.8016062062937064\n",
      "    f1             : 0.7963817662190681\n",
      "    balanced_accuracy: 0.776849900512043\n",
      "    precision      : 0.8099759254139139\n",
      "    recall         : 0.8016062062937064\n",
      "    val_loss       : 0.36419901847839353\n",
      "    val_my_metric  : 0.8246428571428572\n",
      "    val_f1         : 0.8148580545519346\n",
      "    val_balanced_accuracy: 0.7869903664009518\n",
      "    val_precision  : 0.8267019533569453\n",
      "    val_recall     : 0.8246428571428572\n"
     ]
    },
    {
     "name": "stdout",
     "output_type": "stream",
     "text": [
      "Model has not improved in -------------| 138 epochs\n"
     ]
    },
    {
     "name": "stderr",
     "output_type": "stream",
     "text": [
      "    epoch          : 273\n",
      "    loss           : 0.39081092981191784\n",
      "    my_metric      : 0.8024038461538462\n",
      "    f1             : 0.7972155067379993\n",
      "    balanced_accuracy: 0.7784233999729537\n",
      "    precision      : 0.8106075553041203\n",
      "    recall         : 0.8024038461538462\n",
      "    val_loss       : 0.3514299362897873\n",
      "    val_my_metric  : 0.8178571428571428\n",
      "    val_f1         : 0.8139226436853711\n",
      "    val_balanced_accuracy: 0.7834645454645455\n",
      "    val_precision  : 0.815435497963352\n",
      "    val_recall     : 0.8178571428571428\n"
     ]
    },
    {
     "name": "stdout",
     "output_type": "stream",
     "text": [
      "Model has not improved in -------------| 139 epochs\n"
     ]
    },
    {
     "name": "stderr",
     "output_type": "stream",
     "text": [
      "    epoch          : 274\n",
      "    loss           : 0.38884730637073517\n",
      "    my_metric      : 0.7993990384615385\n",
      "    f1             : 0.7942568038123059\n",
      "    balanced_accuracy: 0.7774488664117933\n",
      "    precision      : 0.8107814039437908\n",
      "    recall         : 0.7993990384615385\n",
      "    val_loss       : 0.34778465032577516\n",
      "    val_my_metric  : 0.8464285714285713\n",
      "    val_f1         : 0.8450565388725547\n",
      "    val_balanced_accuracy: 0.8292055042055042\n",
      "    val_precision  : 0.8457969753200016\n",
      "    val_recall     : 0.8464285714285713\n"
     ]
    },
    {
     "name": "stdout",
     "output_type": "stream",
     "text": [
      "Model has not improved in -------------| 140 epochs\n"
     ]
    },
    {
     "name": "stderr",
     "output_type": "stream",
     "text": [
      "    epoch          : 275\n",
      "    loss           : 0.3914263557929259\n",
      "    my_metric      : 0.7918924825174826\n",
      "    f1             : 0.785673611324841\n",
      "    balanced_accuracy: 0.7664550127157282\n",
      "    precision      : 0.8011295643656899\n",
      "    recall         : 0.7918924825174826\n",
      "    val_loss       : 0.34947346448898314\n",
      "    val_my_metric  : 0.8282142857142857\n",
      "    val_f1         : 0.8221792317824737\n",
      "    val_balanced_accuracy: 0.7929830616652961\n",
      "    val_precision  : 0.8354194337074002\n",
      "    val_recall     : 0.8282142857142857\n"
     ]
    },
    {
     "name": "stdout",
     "output_type": "stream",
     "text": [
      "Model has not improved in -------------| 141 epochs\n"
     ]
    },
    {
     "name": "stderr",
     "output_type": "stream",
     "text": [
      "    epoch          : 276\n",
      "    loss           : 0.3832288682460785\n",
      "    my_metric      : 0.8083151223776224\n",
      "    f1             : 0.8028078763264905\n",
      "    balanced_accuracy: 0.7845740201863429\n",
      "    precision      : 0.8187888270117829\n",
      "    recall         : 0.8083151223776224\n",
      "    val_loss       : 0.35445945858955386\n",
      "    val_my_metric  : 0.8458928571428572\n",
      "    val_f1         : 0.8435448946927906\n",
      "    val_balanced_accuracy: 0.8243324753296568\n",
      "    val_precision  : 0.8475117475263614\n",
      "    val_recall     : 0.8458928571428572\n"
     ]
    },
    {
     "name": "stdout",
     "output_type": "stream",
     "text": [
      "Model has not improved in -------------| 142 epochs\n"
     ]
    },
    {
     "name": "stderr",
     "output_type": "stream",
     "text": [
      "    epoch          : 277\n",
      "    loss           : 0.37866529478476596\n",
      "    my_metric      : 0.8010926573426573\n",
      "    f1             : 0.7972494781454463\n",
      "    balanced_accuracy: 0.7812134281576889\n",
      "    precision      : 0.8094765110464752\n",
      "    recall         : 0.8010926573426573\n",
      "    val_loss       : 0.3208067178726196\n",
      "    val_my_metric  : 0.8453571428571429\n",
      "    val_f1         : 0.839283647678673\n",
      "    val_balanced_accuracy: 0.8113631397841925\n",
      "    val_precision  : 0.8497305684348874\n",
      "    val_recall     : 0.8453571428571429\n"
     ]
    },
    {
     "name": "stdout",
     "output_type": "stream",
     "text": [
      "Model has not improved in -------------| 143 epochs\n"
     ]
    },
    {
     "name": "stderr",
     "output_type": "stream",
     "text": [
      "    epoch          : 278\n",
      "    loss           : 0.3866362457091992\n",
      "    my_metric      : 0.8049060314685315\n",
      "    f1             : 0.8006156108801343\n",
      "    balanced_accuracy: 0.7834414398856168\n",
      "    precision      : 0.8119923121560524\n",
      "    recall         : 0.8049060314685315\n",
      "    val_loss       : 0.3333002269268036\n",
      "    val_my_metric  : 0.8458928571428572\n",
      "    val_f1         : 0.8417782052316763\n",
      "    val_balanced_accuracy: 0.8188472504415787\n",
      "    val_precision  : 0.8469966890921027\n",
      "    val_recall     : 0.8458928571428572\n"
     ]
    },
    {
     "name": "stdout",
     "output_type": "stream",
     "text": [
      "Model has not improved in -------------| 144 epochs\n"
     ]
    },
    {
     "name": "stderr",
     "output_type": "stream",
     "text": [
      "    epoch          : 279\n",
      "    loss           : 0.3602029967766542\n",
      "    my_metric      : 0.8116149475524476\n",
      "    f1             : 0.8067467610005146\n",
      "    balanced_accuracy: 0.7892155499945304\n",
      "    precision      : 0.8201722013214182\n",
      "    recall         : 0.8116149475524476\n",
      "    val_loss       : 0.3492366909980774\n",
      "    val_my_metric  : 0.8386607142857143\n",
      "    val_f1         : 0.837709613285616\n",
      "    val_balanced_accuracy: 0.8228157022888037\n",
      "    val_precision  : 0.8398271326541675\n",
      "    val_recall     : 0.8386607142857143\n"
     ]
    },
    {
     "name": "stdout",
     "output_type": "stream",
     "text": [
      "Model has not improved in -------------| 145 epochs\n"
     ]
    },
    {
     "name": "stderr",
     "output_type": "stream",
     "text": [
      "    epoch          : 280\n",
      "    loss           : 0.3845137907908513\n",
      "    my_metric      : 0.8143247377622378\n",
      "    f1             : 0.8099017321729456\n",
      "    balanced_accuracy: 0.7903127612129904\n",
      "    precision      : 0.822564757944786\n",
      "    recall         : 0.8143247377622378\n",
      "    val_loss       : 0.3257027566432953\n",
      "    val_my_metric  : 0.838125\n",
      "    val_f1         : 0.8308591798218699\n",
      "    val_balanced_accuracy: 0.7926016535392426\n",
      "    val_precision  : 0.8431396450844323\n",
      "    val_recall     : 0.838125\n"
     ]
    },
    {
     "name": "stdout",
     "output_type": "stream",
     "text": [
      "Model has not improved in -------------| 146 epochs\n"
     ]
    },
    {
     "name": "stderr",
     "output_type": "stream",
     "text": [
      "    epoch          : 281\n",
      "    loss           : 0.387294753239705\n",
      "    my_metric      : 0.8060096153846155\n",
      "    f1             : 0.8013487192287715\n",
      "    balanced_accuracy: 0.7830805260572873\n",
      "    precision      : 0.8177110520019435\n",
      "    recall         : 0.8060096153846155\n",
      "    val_loss       : 0.36665045022964476\n",
      "    val_my_metric  : 0.8074107142857143\n",
      "    val_f1         : 0.8050232850317567\n",
      "    val_balanced_accuracy: 0.7852549272220534\n",
      "    val_precision  : 0.8107178762653386\n",
      "    val_recall     : 0.8074107142857143\n"
     ]
    },
    {
     "name": "stdout",
     "output_type": "stream",
     "text": [
      "Model has not improved in -------------| 147 epochs\n"
     ]
    },
    {
     "name": "stderr",
     "output_type": "stream",
     "text": [
      "    epoch          : 282\n",
      "    loss           : 0.383610433110824\n",
      "    my_metric      : 0.8123251748251749\n",
      "    f1             : 0.8071810088138492\n",
      "    balanced_accuracy: 0.7869900594727782\n",
      "    precision      : 0.8184345554723511\n",
      "    recall         : 0.8123251748251749\n",
      "    val_loss       : 0.341030952334404\n",
      "    val_my_metric  : 0.8479464285714287\n",
      "    val_f1         : 0.8437317100145177\n",
      "    val_balanced_accuracy: 0.8194433344433344\n",
      "    val_precision  : 0.8520963215989925\n",
      "    val_recall     : 0.8479464285714287\n"
     ]
    },
    {
     "name": "stdout",
     "output_type": "stream",
     "text": [
      "Model has not improved in -------------| 148 epochs\n"
     ]
    },
    {
     "name": "stderr",
     "output_type": "stream",
     "text": [
      "    epoch          : 283\n",
      "    loss           : 0.37886548844667584\n",
      "    my_metric      : 0.8054086538461539\n",
      "    f1             : 0.7998886389886499\n",
      "    balanced_accuracy: 0.7807796433567322\n",
      "    precision      : 0.8152104018371673\n",
      "    recall         : 0.8054086538461539\n",
      "    val_loss       : 0.3614922881126404\n",
      "    val_my_metric  : 0.8178571428571428\n",
      "    val_f1         : 0.8129438167423422\n",
      "    val_balanced_accuracy: 0.7924434118513065\n",
      "    val_precision  : 0.8222320971694641\n",
      "    val_recall     : 0.8178571428571428\n"
     ]
    },
    {
     "name": "stdout",
     "output_type": "stream",
     "text": [
      "Model has not improved in -------------| 149 epochs\n"
     ]
    },
    {
     "name": "stderr",
     "output_type": "stream",
     "text": [
      "    epoch          : 284\n",
      "    loss           : 0.39528223872184753\n",
      "    my_metric      : 0.8039991258741258\n",
      "    f1             : 0.799559086084003\n",
      "    balanced_accuracy: 0.7813940329927463\n",
      "    precision      : 0.8141187528172584\n",
      "    recall         : 0.8039991258741258\n",
      "    val_loss       : 0.368161940574646\n",
      "    val_my_metric  : 0.8620535714285713\n",
      "    val_f1         : 0.859993716209351\n",
      "    val_balanced_accuracy: 0.8437283408026441\n",
      "    val_precision  : 0.8677817352205903\n",
      "    val_recall     : 0.8620535714285713\n"
     ]
    },
    {
     "name": "stdout",
     "output_type": "stream",
     "text": [
      "Model has not improved in -------------| 150 epochs\n"
     ]
    },
    {
     "name": "stderr",
     "output_type": "stream",
     "text": [
      "    epoch          : 285\n",
      "    loss           : 0.3720447071469747\n",
      "    my_metric      : 0.8121175699300699\n",
      "    f1             : 0.8075823215738898\n",
      "    balanced_accuracy: 0.7876297305230332\n",
      "    precision      : 0.8180544304145486\n",
      "    recall         : 0.8121175699300699\n",
      "    val_loss       : 0.36816713213920593\n",
      "    val_my_metric  : 0.8141964285714286\n",
      "    val_f1         : 0.8125139981153605\n",
      "    val_balanced_accuracy: 0.7998085490221922\n",
      "    val_precision  : 0.8184736541028668\n",
      "    val_recall     : 0.8141964285714286\n"
     ]
    },
    {
     "name": "stdout",
     "output_type": "stream",
     "text": [
      "Model has not improved in -------------| 151 epochs\n"
     ]
    },
    {
     "name": "stderr",
     "output_type": "stream",
     "text": [
      "    epoch          : 286\n",
      "    loss           : 0.3854584630865317\n",
      "    my_metric      : 0.8116149475524476\n",
      "    f1             : 0.8063945264603818\n",
      "    balanced_accuracy: 0.7866858829910737\n",
      "    precision      : 0.8196394056072351\n",
      "    recall         : 0.8116149475524476\n",
      "    val_loss       : 0.3599626272916794\n",
      "    val_my_metric  : 0.838125\n",
      "    val_f1         : 0.8341031777676369\n",
      "    val_balanced_accuracy: 0.8062206388572667\n",
      "    val_precision  : 0.8475521233992488\n",
      "    val_recall     : 0.838125\n"
     ]
    },
    {
     "name": "stdout",
     "output_type": "stream",
     "text": [
      "Model has not improved in -------------| 152 epochs\n"
     ]
    },
    {
     "name": "stderr",
     "output_type": "stream",
     "text": [
      "    epoch          : 287\n",
      "    loss           : 0.37696924003270954\n",
      "    my_metric      : 0.803715034965035\n",
      "    f1             : 0.7992578308475201\n",
      "    balanced_accuracy: 0.7837602215692415\n",
      "    precision      : 0.8152213433875913\n",
      "    recall         : 0.803715034965035\n",
      "    val_loss       : 0.35613255500793456\n",
      "    val_my_metric  : 0.8401785714285713\n",
      "    val_f1         : 0.8366966901565307\n",
      "    val_balanced_accuracy: 0.8101534463177789\n",
      "    val_precision  : 0.8419609534487252\n",
      "    val_recall     : 0.8401785714285713\n"
     ]
    },
    {
     "name": "stdout",
     "output_type": "stream",
     "text": [
      "Model has not improved in -------------| 153 epochs\n"
     ]
    },
    {
     "name": "stderr",
     "output_type": "stream",
     "text": [
      "    epoch          : 288\n",
      "    loss           : 0.38189630153087467\n",
      "    my_metric      : 0.8083041958041958\n",
      "    f1             : 0.8036022495589269\n",
      "    balanced_accuracy: 0.7860300139171152\n",
      "    precision      : 0.8171261878334098\n",
      "    recall         : 0.8083041958041958\n",
      "    val_loss       : 0.3279425024986267\n",
      "    val_my_metric  : 0.8646428571428573\n",
      "    val_f1         : 0.8610076560509045\n",
      "    val_balanced_accuracy: 0.8364609624954452\n",
      "    val_precision  : 0.8689988715858077\n",
      "    val_recall     : 0.8646428571428573\n"
     ]
    },
    {
     "name": "stdout",
     "output_type": "stream",
     "text": [
      "Model has not improved in -------------| 154 epochs\n"
     ]
    },
    {
     "name": "stderr",
     "output_type": "stream",
     "text": [
      "    epoch          : 289\n",
      "    loss           : 0.38304896423449886\n",
      "    my_metric      : 0.815625\n",
      "    f1             : 0.8105578286970258\n",
      "    balanced_accuracy: 0.7938414581157429\n",
      "    precision      : 0.8246956121947407\n",
      "    recall         : 0.815625\n",
      "    val_loss       : 0.34614765644073486\n",
      "    val_my_metric  : 0.8344642857142857\n",
      "    val_f1         : 0.8322414306750637\n",
      "    val_balanced_accuracy: 0.8129458808735125\n",
      "    val_precision  : 0.8416634847583822\n",
      "    val_recall     : 0.8344642857142857\n"
     ]
    },
    {
     "name": "stdout",
     "output_type": "stream",
     "text": [
      "Model has not improved in -------------| 155 epochs\n"
     ]
    },
    {
     "name": "stderr",
     "output_type": "stream",
     "text": [
      "    epoch          : 290\n",
      "    loss           : 0.3820551656759702\n",
      "    my_metric      : 0.8087194055944056\n",
      "    f1             : 0.8035125458200465\n",
      "    balanced_accuracy: 0.7892389596634616\n",
      "    precision      : 0.8261674416890574\n",
      "    recall         : 0.8087194055944056\n",
      "    val_loss       : 0.33615541756153106\n",
      "    val_my_metric  : 0.8256249999999999\n",
      "    val_f1         : 0.8212143714366457\n",
      "    val_balanced_accuracy: 0.799297201979431\n",
      "    val_precision  : 0.8312543083971796\n",
      "    val_recall     : 0.8256249999999999\n"
     ]
    },
    {
     "name": "stdout",
     "output_type": "stream",
     "text": [
      "Model has not improved in -------------| 156 epochs\n"
     ]
    },
    {
     "name": "stderr",
     "output_type": "stream",
     "text": [
      "    epoch          : 291\n",
      "    loss           : 0.38019725107229674\n",
      "    my_metric      : 0.815625\n",
      "    f1             : 0.8108795512345588\n",
      "    balanced_accuracy: 0.7944968506345956\n",
      "    precision      : 0.828396047760767\n",
      "    recall         : 0.815625\n",
      "    val_loss       : 0.36691437363624574\n",
      "    val_my_metric  : 0.8401785714285713\n",
      "    val_f1         : 0.8358875121799262\n",
      "    val_balanced_accuracy: 0.8076948252499087\n",
      "    val_precision  : 0.8423014032536091\n",
      "    val_recall     : 0.8401785714285713\n"
     ]
    },
    {
     "name": "stdout",
     "output_type": "stream",
     "text": [
      "Model has not improved in -------------| 157 epochs\n"
     ]
    },
    {
     "name": "stderr",
     "output_type": "stream",
     "text": [
      "    epoch          : 292\n",
      "    loss           : 0.37298321380065036\n",
      "    my_metric      : 0.8036057692307692\n",
      "    f1             : 0.7990139243717013\n",
      "    balanced_accuracy: 0.7820843671933664\n",
      "    precision      : 0.8124333400914703\n",
      "    recall         : 0.8036057692307692\n",
      "    val_loss       : 0.34732291102409363\n",
      "    val_my_metric  : 0.8266071428571429\n",
      "    val_f1         : 0.823143988479778\n",
      "    val_balanced_accuracy: 0.8093022190782941\n",
      "    val_precision  : 0.8411202304798557\n",
      "    val_recall     : 0.8266071428571429\n"
     ]
    },
    {
     "name": "stdout",
     "output_type": "stream",
     "text": [
      "Model has not improved in -------------| 158 epochs\n"
     ]
    },
    {
     "name": "stderr",
     "output_type": "stream",
     "text": [
      "    epoch          : 293\n",
      "    loss           : 0.3929339269032845\n",
      "    my_metric      : 0.7983937937062937\n",
      "    f1             : 0.7929831349775404\n",
      "    balanced_accuracy: 0.7727884160901314\n",
      "    precision      : 0.8067379828903506\n",
      "    recall         : 0.7983937937062937\n",
      "    val_loss       : 0.3311082661151886\n",
      "    val_my_metric  : 0.8558035714285713\n",
      "    val_f1         : 0.8551990206504282\n",
      "    val_balanced_accuracy: 0.8428599469242378\n",
      "    val_precision  : 0.8627308571372236\n",
      "    val_recall     : 0.8558035714285713\n"
     ]
    },
    {
     "name": "stdout",
     "output_type": "stream",
     "text": [
      "Model has not improved in -------------| 159 epochs\n"
     ]
    },
    {
     "name": "stderr",
     "output_type": "stream",
     "text": [
      "    epoch          : 294\n",
      "    loss           : 0.3761884088699634\n",
      "    my_metric      : 0.8036057692307692\n",
      "    f1             : 0.7988575123289039\n",
      "    balanced_accuracy: 0.7811349641404243\n",
      "    precision      : 0.811906569310913\n",
      "    recall         : 0.8036057692307692\n",
      "    val_loss       : 0.34939452409744265\n",
      "    val_my_metric  : 0.8235714285714286\n",
      "    val_f1         : 0.8174470188698896\n",
      "    val_balanced_accuracy: 0.7879238225263787\n",
      "    val_precision  : 0.8257282034029567\n",
      "    val_recall     : 0.8235714285714286\n"
     ]
    },
    {
     "name": "stdout",
     "output_type": "stream",
     "text": [
      "Model has not improved in -------------| 160 epochs\n"
     ]
    },
    {
     "name": "stderr",
     "output_type": "stream",
     "text": [
      "    epoch          : 295\n",
      "    loss           : 0.38144761553177464\n",
      "    my_metric      : 0.8085118006993006\n",
      "    f1             : 0.8041935157882025\n",
      "    balanced_accuracy: 0.788071036196397\n",
      "    precision      : 0.8210423409898358\n",
      "    recall         : 0.8085118006993006\n",
      "    val_loss       : 0.346964693069458\n",
      "    val_my_metric  : 0.8433035714285714\n",
      "    val_f1         : 0.8436268339783064\n",
      "    val_balanced_accuracy: 0.8314598400622847\n",
      "    val_precision  : 0.8470833253270003\n",
      "    val_recall     : 0.8433035714285714\n"
     ]
    },
    {
     "name": "stdout",
     "output_type": "stream",
     "text": [
      "Model has not improved in -------------| 161 epochs\n"
     ]
    },
    {
     "name": "stderr",
     "output_type": "stream",
     "text": [
      "    epoch          : 296\n",
      "    loss           : 0.37575238885787815\n",
      "    my_metric      : 0.8108173076923078\n",
      "    f1             : 0.8056369576338007\n",
      "    balanced_accuracy: 0.7882500503055462\n",
      "    precision      : 0.8205335508014143\n",
      "    recall         : 0.8108173076923078\n",
      "    val_loss       : 0.33611599504947665\n",
      "    val_my_metric  : 0.8391071428571429\n",
      "    val_f1         : 0.8355574035818952\n",
      "    val_balanced_accuracy: 0.8099234080861517\n",
      "    val_precision  : 0.8448336945977845\n",
      "    val_recall     : 0.8391071428571429\n"
     ]
    },
    {
     "name": "stdout",
     "output_type": "stream",
     "text": [
      "Model has not improved in -------------| 162 epochs\n"
     ]
    },
    {
     "name": "stderr",
     "output_type": "stream",
     "text": [
      "    epoch          : 297\n",
      "    loss           : 0.3924198414270694\n",
      "    my_metric      : 0.8071131993006992\n",
      "    f1             : 0.8018737386692424\n",
      "    balanced_accuracy: 0.7848594349067282\n",
      "    precision      : 0.8171506505052446\n",
      "    recall         : 0.8071131993006992\n",
      "    val_loss       : 0.3325445055961609\n",
      "    val_my_metric  : 0.8583928571428572\n",
      "    val_f1         : 0.8549080479895672\n",
      "    val_balanced_accuracy: 0.8379400156916971\n",
      "    val_precision  : 0.8683074032982846\n",
      "    val_recall     : 0.8583928571428572\n"
     ]
    },
    {
     "name": "stdout",
     "output_type": "stream",
     "text": [
      "Model has not improved in -------------| 163 epochs\n"
     ]
    },
    {
     "name": "stderr",
     "output_type": "stream",
     "text": [
      "    epoch          : 298\n",
      "    loss           : 0.3830489625151341\n",
      "    my_metric      : 0.8007102272727273\n",
      "    f1             : 0.7957677948019577\n",
      "    balanced_accuracy: 0.7803396080714932\n",
      "    precision      : 0.8106146189484904\n",
      "    recall         : 0.8007102272727273\n",
      "    val_loss       : 0.3495759546756744\n",
      "    val_my_metric  : 0.8532142857142857\n",
      "    val_f1         : 0.850566160033129\n",
      "    val_balanced_accuracy: 0.8358738370148762\n",
      "    val_precision  : 0.856076988023706\n",
      "    val_recall     : 0.8532142857142857\n"
     ]
    },
    {
     "name": "stdout",
     "output_type": "stream",
     "text": [
      "Model has not improved in -------------| 164 epochs\n"
     ]
    },
    {
     "name": "stderr",
     "output_type": "stream",
     "text": [
      "    epoch          : 299\n",
      "    loss           : 0.3814992423240955\n",
      "    my_metric      : 0.8114073426573427\n",
      "    f1             : 0.8063682251589032\n",
      "    balanced_accuracy: 0.7899259492909475\n",
      "    precision      : 0.8192847248397452\n",
      "    recall         : 0.8114073426573427\n",
      "    val_loss       : 0.3526711106300354\n",
      "    val_my_metric  : 0.8474999999999999\n",
      "    val_f1         : 0.8436846132707476\n",
      "    val_balanced_accuracy: 0.8208798419024884\n",
      "    val_precision  : 0.8494400206333091\n",
      "    val_recall     : 0.8474999999999999\n"
     ]
    },
    {
     "name": "stdout",
     "output_type": "stream",
     "text": [
      "Model has not improved in -------------| 165 epochs\n"
     ]
    },
    {
     "name": "stderr",
     "output_type": "stream",
     "text": [
      "    epoch          : 300\n",
      "    loss           : 0.3858208472912128\n",
      "    my_metric      : 0.8079108391608391\n",
      "    f1             : 0.803021637913824\n",
      "    balanced_accuracy: 0.782915642418058\n",
      "    precision      : 0.8140144073773458\n",
      "    recall         : 0.8079108391608391\n",
      "    val_loss       : 0.3501607894897461\n",
      "    val_my_metric  : 0.8333928571428573\n",
      "    val_f1         : 0.8332684802423138\n",
      "    val_balanced_accuracy: 0.8281881921881922\n",
      "    val_precision  : 0.843257913961039\n",
      "    val_recall     : 0.8333928571428573\n",
      "Saving checkpoint: ../saved/IMPRS_hdf5_volume_AllDAPI_noise/0710_173623/checkpoint-epoch300.pth ...\n"
     ]
    },
    {
     "name": "stdout",
     "output_type": "stream",
     "text": [
      "Model has not improved in -------------| 166 epochs\n"
     ]
    },
    {
     "name": "stderr",
     "output_type": "stream",
     "text": [
      "    epoch          : 301\n",
      "    loss           : 0.3770944934624892\n",
      "    my_metric      : 0.8117132867132868\n",
      "    f1             : 0.8065012606327449\n",
      "    balanced_accuracy: 0.7924782632906832\n",
      "    precision      : 0.8242007599528475\n",
      "    recall         : 0.8117132867132868\n",
      "    val_loss       : 0.3540137350559235\n",
      "    val_my_metric  : 0.8635714285714287\n",
      "    val_f1         : 0.8604806274763022\n",
      "    val_balanced_accuracy: 0.8440902318809295\n",
      "    val_precision  : 0.8694503631208386\n",
      "    val_recall     : 0.8635714285714287\n"
     ]
    },
    {
     "name": "stdout",
     "output_type": "stream",
     "text": [
      "Model has not improved in -------------| 167 epochs\n"
     ]
    },
    {
     "name": "stderr",
     "output_type": "stream",
     "text": [
      "    epoch          : 302\n",
      "    loss           : 0.3888815435079428\n",
      "    my_metric      : 0.8065122377622378\n",
      "    f1             : 0.8015913208566042\n",
      "    balanced_accuracy: 0.7843065036982219\n",
      "    precision      : 0.8179446555919487\n",
      "    recall         : 0.8065122377622378\n",
      "    val_loss       : 0.34344173669815065\n",
      "    val_my_metric  : 0.8464285714285713\n",
      "    val_f1         : 0.8438422575182685\n",
      "    val_balanced_accuracy: 0.8234486470275943\n",
      "    val_precision  : 0.8506156014805273\n",
      "    val_recall     : 0.8464285714285713\n"
     ]
    },
    {
     "name": "stdout",
     "output_type": "stream",
     "text": [
      "Model has not improved in -------------| 168 epochs\n"
     ]
    },
    {
     "name": "stderr",
     "output_type": "stream",
     "text": [
      "    epoch          : 303\n",
      "    loss           : 0.3800119780577146\n",
      "    my_metric      : 0.8052119755244755\n",
      "    f1             : 0.7995696845414499\n",
      "    balanced_accuracy: 0.7792115980335297\n",
      "    precision      : 0.8138482996518762\n",
      "    recall         : 0.8052119755244755\n",
      "    val_loss       : 0.34056329131126406\n",
      "    val_my_metric  : 0.8308035714285713\n",
      "    val_f1         : 0.828629685793177\n",
      "    val_balanced_accuracy: 0.8126096748922835\n",
      "    val_precision  : 0.8321416154439165\n",
      "    val_recall     : 0.8308035714285713\n"
     ]
    },
    {
     "name": "stdout",
     "output_type": "stream",
     "text": [
      "Model has not improved in -------------| 169 epochs\n"
     ]
    },
    {
     "name": "stderr",
     "output_type": "stream",
     "text": [
      "    epoch          : 304\n",
      "    loss           : 0.38935414300515103\n",
      "    my_metric      : 0.8072115384615385\n",
      "    f1             : 0.8022588427357965\n",
      "    balanced_accuracy: 0.7817056893273518\n",
      "    precision      : 0.8145953491289611\n",
      "    recall         : 0.8072115384615385\n",
      "    val_loss       : 0.3395317316055298\n",
      "    val_my_metric  : 0.8079464285714286\n",
      "    val_f1         : 0.7980645921832428\n",
      "    val_balanced_accuracy: 0.7768039015248318\n",
      "    val_precision  : 0.8224097676419545\n",
      "    val_recall     : 0.8079464285714286\n"
     ]
    },
    {
     "name": "stdout",
     "output_type": "stream",
     "text": [
      "Model has not improved in -------------| 170 epochs\n"
     ]
    },
    {
     "name": "stderr",
     "output_type": "stream",
     "text": [
      "    epoch          : 305\n",
      "    loss           : 0.37808524989164793\n",
      "    my_metric      : 0.8078015734265734\n",
      "    f1             : 0.802833119633966\n",
      "    balanced_accuracy: 0.7854760036063161\n",
      "    precision      : 0.8182396373891131\n",
      "    recall         : 0.8078015734265734\n",
      "    val_loss       : 0.34070674180984495\n",
      "    val_my_metric  : 0.8427678571428572\n",
      "    val_f1         : 0.8411144767313548\n",
      "    val_balanced_accuracy: 0.8240787725194089\n",
      "    val_precision  : 0.8465778318903319\n",
      "    val_recall     : 0.8427678571428572\n"
     ]
    },
    {
     "name": "stdout",
     "output_type": "stream",
     "text": [
      "Model has not improved in -------------| 171 epochs\n"
     ]
    },
    {
     "name": "stderr",
     "output_type": "stream",
     "text": [
      "    epoch          : 306\n",
      "    loss           : 0.37585372707018483\n",
      "    my_metric      : 0.8150131118881119\n",
      "    f1             : 0.8104642268040075\n",
      "    balanced_accuracy: 0.794415074212471\n",
      "    precision      : 0.8247045405172175\n",
      "    recall         : 0.8150131118881119\n",
      "    val_loss       : 0.3505988121032715\n",
      "    val_my_metric  : 0.8230357142857143\n",
      "    val_f1         : 0.818543116437566\n",
      "    val_balanced_accuracy: 0.7950621374913631\n",
      "    val_precision  : 0.8260955469204456\n",
      "    val_recall     : 0.8230357142857143\n"
     ]
    },
    {
     "name": "stdout",
     "output_type": "stream",
     "text": [
      "Model has not improved in -------------| 172 epochs\n"
     ]
    },
    {
     "name": "stderr",
     "output_type": "stream",
     "text": [
      "    epoch          : 307\n",
      "    loss           : 0.3802022240482844\n",
      "    my_metric      : 0.8032998251748252\n",
      "    f1             : 0.7981474792015355\n",
      "    balanced_accuracy: 0.7790450141971872\n",
      "    precision      : 0.8118837931094902\n",
      "    recall         : 0.8032998251748252\n",
      "    val_loss       : 0.3627130925655365\n",
      "    val_my_metric  : 0.8407142857142856\n",
      "    val_f1         : 0.8359641131769344\n",
      "    val_balanced_accuracy: 0.8103836959026165\n",
      "    val_precision  : 0.8470838179066327\n",
      "    val_recall     : 0.8407142857142856\n"
     ]
    },
    {
     "name": "stdout",
     "output_type": "stream",
     "text": [
      "Model has not improved in -------------| 173 epochs\n"
     ]
    },
    {
     "name": "stderr",
     "output_type": "stream",
     "text": [
      "    epoch          : 308\n",
      "    loss           : 0.3751969738648488\n",
      "    my_metric      : 0.810118006993007\n",
      "    f1             : 0.8055882813926931\n",
      "    balanced_accuracy: 0.7882818700219398\n",
      "    precision      : 0.8190486611178751\n",
      "    recall         : 0.810118006993007\n",
      "    val_loss       : 0.35669087469577787\n",
      "    val_my_metric  : 0.8260714285714286\n",
      "    val_f1         : 0.8226842020156278\n",
      "    val_balanced_accuracy: 0.8000812539583387\n",
      "    val_precision  : 0.8324773753795522\n",
      "    val_recall     : 0.8260714285714286\n"
     ]
    },
    {
     "name": "stdout",
     "output_type": "stream",
     "text": [
      "Model has not improved in -------------| 174 epochs\n"
     ]
    },
    {
     "name": "stderr",
     "output_type": "stream",
     "text": [
      "    epoch          : 309\n",
      "    loss           : 0.38298366276117474\n",
      "    my_metric      : 0.8208369755244755\n",
      "    f1             : 0.8166466929412758\n",
      "    balanced_accuracy: 0.8003200022002186\n",
      "    precision      : 0.8282026592452166\n",
      "    recall         : 0.8208369755244755\n",
      "    val_loss       : 0.33150240778923035\n",
      "    val_my_metric  : 0.844375\n",
      "    val_f1         : 0.8401422089284051\n",
      "    val_balanced_accuracy: 0.8161915731327497\n",
      "    val_precision  : 0.8479482651851071\n",
      "    val_recall     : 0.844375\n"
     ]
    },
    {
     "name": "stdout",
     "output_type": "stream",
     "text": [
      "Model has not improved in -------------| 175 epochs\n"
     ]
    },
    {
     "name": "stderr",
     "output_type": "stream",
     "text": [
      "    epoch          : 310\n",
      "    loss           : 0.37520285638479084\n",
      "    my_metric      : 0.8073098776223776\n",
      "    f1             : 0.8019241725061543\n",
      "    balanced_accuracy: 0.7819091986988772\n",
      "    precision      : 0.8170989768836604\n",
      "    recall         : 0.8073098776223776\n",
      "    val_loss       : 0.330427759885788\n",
      "    val_my_metric  : 0.8516071428571429\n",
      "    val_f1         : 0.8476127397702815\n",
      "    val_balanced_accuracy: 0.8280687181765766\n",
      "    val_precision  : 0.8597567604864794\n",
      "    val_recall     : 0.8516071428571429\n"
     ]
    },
    {
     "name": "stdout",
     "output_type": "stream",
     "text": [
      "Model has not improved in -------------| 176 epochs\n"
     ]
    }
   ],
   "source": [
    "# Train the network\n",
    "main(config, None)"
   ]
  },
  {
   "cell_type": "code",
   "execution_count": 4,
   "metadata": {},
   "outputs": [
    {
     "name": "stdout",
     "output_type": "stream",
     "text": [
      "skipped file: config.json\n",
      "skipped file: .ipynb_checkpoints\n"
     ]
    },
    {
     "data": {
      "application/javascript": [
       "/* Put everything inside the global mpl namespace */\n",
       "window.mpl = {};\n",
       "\n",
       "\n",
       "mpl.get_websocket_type = function() {\n",
       "    if (typeof(WebSocket) !== 'undefined') {\n",
       "        return WebSocket;\n",
       "    } else if (typeof(MozWebSocket) !== 'undefined') {\n",
       "        return MozWebSocket;\n",
       "    } else {\n",
       "        alert('Your browser does not have WebSocket support. ' +\n",
       "              'Please try Chrome, Safari or Firefox ≥ 6. ' +\n",
       "              'Firefox 4 and 5 are also supported but you ' +\n",
       "              'have to enable WebSockets in about:config.');\n",
       "    };\n",
       "}\n",
       "\n",
       "mpl.figure = function(figure_id, websocket, ondownload, parent_element) {\n",
       "    this.id = figure_id;\n",
       "\n",
       "    this.ws = websocket;\n",
       "\n",
       "    this.supports_binary = (this.ws.binaryType != undefined);\n",
       "\n",
       "    if (!this.supports_binary) {\n",
       "        var warnings = document.getElementById(\"mpl-warnings\");\n",
       "        if (warnings) {\n",
       "            warnings.style.display = 'block';\n",
       "            warnings.textContent = (\n",
       "                \"This browser does not support binary websocket messages. \" +\n",
       "                    \"Performance may be slow.\");\n",
       "        }\n",
       "    }\n",
       "\n",
       "    this.imageObj = new Image();\n",
       "\n",
       "    this.context = undefined;\n",
       "    this.message = undefined;\n",
       "    this.canvas = undefined;\n",
       "    this.rubberband_canvas = undefined;\n",
       "    this.rubberband_context = undefined;\n",
       "    this.format_dropdown = undefined;\n",
       "\n",
       "    this.image_mode = 'full';\n",
       "\n",
       "    this.root = $('<div/>');\n",
       "    this._root_extra_style(this.root)\n",
       "    this.root.attr('style', 'display: inline-block');\n",
       "\n",
       "    $(parent_element).append(this.root);\n",
       "\n",
       "    this._init_header(this);\n",
       "    this._init_canvas(this);\n",
       "    this._init_toolbar(this);\n",
       "\n",
       "    var fig = this;\n",
       "\n",
       "    this.waiting = false;\n",
       "\n",
       "    this.ws.onopen =  function () {\n",
       "            fig.send_message(\"supports_binary\", {value: fig.supports_binary});\n",
       "            fig.send_message(\"send_image_mode\", {});\n",
       "            if (mpl.ratio != 1) {\n",
       "                fig.send_message(\"set_dpi_ratio\", {'dpi_ratio': mpl.ratio});\n",
       "            }\n",
       "            fig.send_message(\"refresh\", {});\n",
       "        }\n",
       "\n",
       "    this.imageObj.onload = function() {\n",
       "            if (fig.image_mode == 'full') {\n",
       "                // Full images could contain transparency (where diff images\n",
       "                // almost always do), so we need to clear the canvas so that\n",
       "                // there is no ghosting.\n",
       "                fig.context.clearRect(0, 0, fig.canvas.width, fig.canvas.height);\n",
       "            }\n",
       "            fig.context.drawImage(fig.imageObj, 0, 0);\n",
       "        };\n",
       "\n",
       "    this.imageObj.onunload = function() {\n",
       "        fig.ws.close();\n",
       "    }\n",
       "\n",
       "    this.ws.onmessage = this._make_on_message_function(this);\n",
       "\n",
       "    this.ondownload = ondownload;\n",
       "}\n",
       "\n",
       "mpl.figure.prototype._init_header = function() {\n",
       "    var titlebar = $(\n",
       "        '<div class=\"ui-dialog-titlebar ui-widget-header ui-corner-all ' +\n",
       "        'ui-helper-clearfix\"/>');\n",
       "    var titletext = $(\n",
       "        '<div class=\"ui-dialog-title\" style=\"width: 100%; ' +\n",
       "        'text-align: center; padding: 3px;\"/>');\n",
       "    titlebar.append(titletext)\n",
       "    this.root.append(titlebar);\n",
       "    this.header = titletext[0];\n",
       "}\n",
       "\n",
       "\n",
       "\n",
       "mpl.figure.prototype._canvas_extra_style = function(canvas_div) {\n",
       "\n",
       "}\n",
       "\n",
       "\n",
       "mpl.figure.prototype._root_extra_style = function(canvas_div) {\n",
       "\n",
       "}\n",
       "\n",
       "mpl.figure.prototype._init_canvas = function() {\n",
       "    var fig = this;\n",
       "\n",
       "    var canvas_div = $('<div/>');\n",
       "\n",
       "    canvas_div.attr('style', 'position: relative; clear: both; outline: 0');\n",
       "\n",
       "    function canvas_keyboard_event(event) {\n",
       "        return fig.key_event(event, event['data']);\n",
       "    }\n",
       "\n",
       "    canvas_div.keydown('key_press', canvas_keyboard_event);\n",
       "    canvas_div.keyup('key_release', canvas_keyboard_event);\n",
       "    this.canvas_div = canvas_div\n",
       "    this._canvas_extra_style(canvas_div)\n",
       "    this.root.append(canvas_div);\n",
       "\n",
       "    var canvas = $('<canvas/>');\n",
       "    canvas.addClass('mpl-canvas');\n",
       "    canvas.attr('style', \"left: 0; top: 0; z-index: 0; outline: 0\")\n",
       "\n",
       "    this.canvas = canvas[0];\n",
       "    this.context = canvas[0].getContext(\"2d\");\n",
       "\n",
       "    var backingStore = this.context.backingStorePixelRatio ||\n",
       "\tthis.context.webkitBackingStorePixelRatio ||\n",
       "\tthis.context.mozBackingStorePixelRatio ||\n",
       "\tthis.context.msBackingStorePixelRatio ||\n",
       "\tthis.context.oBackingStorePixelRatio ||\n",
       "\tthis.context.backingStorePixelRatio || 1;\n",
       "\n",
       "    mpl.ratio = (window.devicePixelRatio || 1) / backingStore;\n",
       "\n",
       "    var rubberband = $('<canvas/>');\n",
       "    rubberband.attr('style', \"position: absolute; left: 0; top: 0; z-index: 1;\")\n",
       "\n",
       "    var pass_mouse_events = true;\n",
       "\n",
       "    canvas_div.resizable({\n",
       "        start: function(event, ui) {\n",
       "            pass_mouse_events = false;\n",
       "        },\n",
       "        resize: function(event, ui) {\n",
       "            fig.request_resize(ui.size.width, ui.size.height);\n",
       "        },\n",
       "        stop: function(event, ui) {\n",
       "            pass_mouse_events = true;\n",
       "            fig.request_resize(ui.size.width, ui.size.height);\n",
       "        },\n",
       "    });\n",
       "\n",
       "    function mouse_event_fn(event) {\n",
       "        if (pass_mouse_events)\n",
       "            return fig.mouse_event(event, event['data']);\n",
       "    }\n",
       "\n",
       "    rubberband.mousedown('button_press', mouse_event_fn);\n",
       "    rubberband.mouseup('button_release', mouse_event_fn);\n",
       "    // Throttle sequential mouse events to 1 every 20ms.\n",
       "    rubberband.mousemove('motion_notify', mouse_event_fn);\n",
       "\n",
       "    rubberband.mouseenter('figure_enter', mouse_event_fn);\n",
       "    rubberband.mouseleave('figure_leave', mouse_event_fn);\n",
       "\n",
       "    canvas_div.on(\"wheel\", function (event) {\n",
       "        event = event.originalEvent;\n",
       "        event['data'] = 'scroll'\n",
       "        if (event.deltaY < 0) {\n",
       "            event.step = 1;\n",
       "        } else {\n",
       "            event.step = -1;\n",
       "        }\n",
       "        mouse_event_fn(event);\n",
       "    });\n",
       "\n",
       "    canvas_div.append(canvas);\n",
       "    canvas_div.append(rubberband);\n",
       "\n",
       "    this.rubberband = rubberband;\n",
       "    this.rubberband_canvas = rubberband[0];\n",
       "    this.rubberband_context = rubberband[0].getContext(\"2d\");\n",
       "    this.rubberband_context.strokeStyle = \"#000000\";\n",
       "\n",
       "    this._resize_canvas = function(width, height) {\n",
       "        // Keep the size of the canvas, canvas container, and rubber band\n",
       "        // canvas in synch.\n",
       "        canvas_div.css('width', width)\n",
       "        canvas_div.css('height', height)\n",
       "\n",
       "        canvas.attr('width', width * mpl.ratio);\n",
       "        canvas.attr('height', height * mpl.ratio);\n",
       "        canvas.attr('style', 'width: ' + width + 'px; height: ' + height + 'px;');\n",
       "\n",
       "        rubberband.attr('width', width);\n",
       "        rubberband.attr('height', height);\n",
       "    }\n",
       "\n",
       "    // Set the figure to an initial 600x600px, this will subsequently be updated\n",
       "    // upon first draw.\n",
       "    this._resize_canvas(600, 600);\n",
       "\n",
       "    // Disable right mouse context menu.\n",
       "    $(this.rubberband_canvas).bind(\"contextmenu\",function(e){\n",
       "        return false;\n",
       "    });\n",
       "\n",
       "    function set_focus () {\n",
       "        canvas.focus();\n",
       "        canvas_div.focus();\n",
       "    }\n",
       "\n",
       "    window.setTimeout(set_focus, 100);\n",
       "}\n",
       "\n",
       "mpl.figure.prototype._init_toolbar = function() {\n",
       "    var fig = this;\n",
       "\n",
       "    var nav_element = $('<div/>');\n",
       "    nav_element.attr('style', 'width: 100%');\n",
       "    this.root.append(nav_element);\n",
       "\n",
       "    // Define a callback function for later on.\n",
       "    function toolbar_event(event) {\n",
       "        return fig.toolbar_button_onclick(event['data']);\n",
       "    }\n",
       "    function toolbar_mouse_event(event) {\n",
       "        return fig.toolbar_button_onmouseover(event['data']);\n",
       "    }\n",
       "\n",
       "    for(var toolbar_ind in mpl.toolbar_items) {\n",
       "        var name = mpl.toolbar_items[toolbar_ind][0];\n",
       "        var tooltip = mpl.toolbar_items[toolbar_ind][1];\n",
       "        var image = mpl.toolbar_items[toolbar_ind][2];\n",
       "        var method_name = mpl.toolbar_items[toolbar_ind][3];\n",
       "\n",
       "        if (!name) {\n",
       "            // put a spacer in here.\n",
       "            continue;\n",
       "        }\n",
       "        var button = $('<button/>');\n",
       "        button.addClass('ui-button ui-widget ui-state-default ui-corner-all ' +\n",
       "                        'ui-button-icon-only');\n",
       "        button.attr('role', 'button');\n",
       "        button.attr('aria-disabled', 'false');\n",
       "        button.click(method_name, toolbar_event);\n",
       "        button.mouseover(tooltip, toolbar_mouse_event);\n",
       "\n",
       "        var icon_img = $('<span/>');\n",
       "        icon_img.addClass('ui-button-icon-primary ui-icon');\n",
       "        icon_img.addClass(image);\n",
       "        icon_img.addClass('ui-corner-all');\n",
       "\n",
       "        var tooltip_span = $('<span/>');\n",
       "        tooltip_span.addClass('ui-button-text');\n",
       "        tooltip_span.html(tooltip);\n",
       "\n",
       "        button.append(icon_img);\n",
       "        button.append(tooltip_span);\n",
       "\n",
       "        nav_element.append(button);\n",
       "    }\n",
       "\n",
       "    var fmt_picker_span = $('<span/>');\n",
       "\n",
       "    var fmt_picker = $('<select/>');\n",
       "    fmt_picker.addClass('mpl-toolbar-option ui-widget ui-widget-content');\n",
       "    fmt_picker_span.append(fmt_picker);\n",
       "    nav_element.append(fmt_picker_span);\n",
       "    this.format_dropdown = fmt_picker[0];\n",
       "\n",
       "    for (var ind in mpl.extensions) {\n",
       "        var fmt = mpl.extensions[ind];\n",
       "        var option = $(\n",
       "            '<option/>', {selected: fmt === mpl.default_extension}).html(fmt);\n",
       "        fmt_picker.append(option);\n",
       "    }\n",
       "\n",
       "    // Add hover states to the ui-buttons\n",
       "    $( \".ui-button\" ).hover(\n",
       "        function() { $(this).addClass(\"ui-state-hover\");},\n",
       "        function() { $(this).removeClass(\"ui-state-hover\");}\n",
       "    );\n",
       "\n",
       "    var status_bar = $('<span class=\"mpl-message\"/>');\n",
       "    nav_element.append(status_bar);\n",
       "    this.message = status_bar[0];\n",
       "}\n",
       "\n",
       "mpl.figure.prototype.request_resize = function(x_pixels, y_pixels) {\n",
       "    // Request matplotlib to resize the figure. Matplotlib will then trigger a resize in the client,\n",
       "    // which will in turn request a refresh of the image.\n",
       "    this.send_message('resize', {'width': x_pixels, 'height': y_pixels});\n",
       "}\n",
       "\n",
       "mpl.figure.prototype.send_message = function(type, properties) {\n",
       "    properties['type'] = type;\n",
       "    properties['figure_id'] = this.id;\n",
       "    this.ws.send(JSON.stringify(properties));\n",
       "}\n",
       "\n",
       "mpl.figure.prototype.send_draw_message = function() {\n",
       "    if (!this.waiting) {\n",
       "        this.waiting = true;\n",
       "        this.ws.send(JSON.stringify({type: \"draw\", figure_id: this.id}));\n",
       "    }\n",
       "}\n",
       "\n",
       "\n",
       "mpl.figure.prototype.handle_save = function(fig, msg) {\n",
       "    var format_dropdown = fig.format_dropdown;\n",
       "    var format = format_dropdown.options[format_dropdown.selectedIndex].value;\n",
       "    fig.ondownload(fig, format);\n",
       "}\n",
       "\n",
       "\n",
       "mpl.figure.prototype.handle_resize = function(fig, msg) {\n",
       "    var size = msg['size'];\n",
       "    if (size[0] != fig.canvas.width || size[1] != fig.canvas.height) {\n",
       "        fig._resize_canvas(size[0], size[1]);\n",
       "        fig.send_message(\"refresh\", {});\n",
       "    };\n",
       "}\n",
       "\n",
       "mpl.figure.prototype.handle_rubberband = function(fig, msg) {\n",
       "    var x0 = msg['x0'] / mpl.ratio;\n",
       "    var y0 = (fig.canvas.height - msg['y0']) / mpl.ratio;\n",
       "    var x1 = msg['x1'] / mpl.ratio;\n",
       "    var y1 = (fig.canvas.height - msg['y1']) / mpl.ratio;\n",
       "    x0 = Math.floor(x0) + 0.5;\n",
       "    y0 = Math.floor(y0) + 0.5;\n",
       "    x1 = Math.floor(x1) + 0.5;\n",
       "    y1 = Math.floor(y1) + 0.5;\n",
       "    var min_x = Math.min(x0, x1);\n",
       "    var min_y = Math.min(y0, y1);\n",
       "    var width = Math.abs(x1 - x0);\n",
       "    var height = Math.abs(y1 - y0);\n",
       "\n",
       "    fig.rubberband_context.clearRect(\n",
       "        0, 0, fig.canvas.width, fig.canvas.height);\n",
       "\n",
       "    fig.rubberband_context.strokeRect(min_x, min_y, width, height);\n",
       "}\n",
       "\n",
       "mpl.figure.prototype.handle_figure_label = function(fig, msg) {\n",
       "    // Updates the figure title.\n",
       "    fig.header.textContent = msg['label'];\n",
       "}\n",
       "\n",
       "mpl.figure.prototype.handle_cursor = function(fig, msg) {\n",
       "    var cursor = msg['cursor'];\n",
       "    switch(cursor)\n",
       "    {\n",
       "    case 0:\n",
       "        cursor = 'pointer';\n",
       "        break;\n",
       "    case 1:\n",
       "        cursor = 'default';\n",
       "        break;\n",
       "    case 2:\n",
       "        cursor = 'crosshair';\n",
       "        break;\n",
       "    case 3:\n",
       "        cursor = 'move';\n",
       "        break;\n",
       "    }\n",
       "    fig.rubberband_canvas.style.cursor = cursor;\n",
       "}\n",
       "\n",
       "mpl.figure.prototype.handle_message = function(fig, msg) {\n",
       "    fig.message.textContent = msg['message'];\n",
       "}\n",
       "\n",
       "mpl.figure.prototype.handle_draw = function(fig, msg) {\n",
       "    // Request the server to send over a new figure.\n",
       "    fig.send_draw_message();\n",
       "}\n",
       "\n",
       "mpl.figure.prototype.handle_image_mode = function(fig, msg) {\n",
       "    fig.image_mode = msg['mode'];\n",
       "}\n",
       "\n",
       "mpl.figure.prototype.updated_canvas_event = function() {\n",
       "    // Called whenever the canvas gets updated.\n",
       "    this.send_message(\"ack\", {});\n",
       "}\n",
       "\n",
       "// A function to construct a web socket function for onmessage handling.\n",
       "// Called in the figure constructor.\n",
       "mpl.figure.prototype._make_on_message_function = function(fig) {\n",
       "    return function socket_on_message(evt) {\n",
       "        if (evt.data instanceof Blob) {\n",
       "            /* FIXME: We get \"Resource interpreted as Image but\n",
       "             * transferred with MIME type text/plain:\" errors on\n",
       "             * Chrome.  But how to set the MIME type?  It doesn't seem\n",
       "             * to be part of the websocket stream */\n",
       "            evt.data.type = \"image/png\";\n",
       "\n",
       "            /* Free the memory for the previous frames */\n",
       "            if (fig.imageObj.src) {\n",
       "                (window.URL || window.webkitURL).revokeObjectURL(\n",
       "                    fig.imageObj.src);\n",
       "            }\n",
       "\n",
       "            fig.imageObj.src = (window.URL || window.webkitURL).createObjectURL(\n",
       "                evt.data);\n",
       "            fig.updated_canvas_event();\n",
       "            fig.waiting = false;\n",
       "            return;\n",
       "        }\n",
       "        else if (typeof evt.data === 'string' && evt.data.slice(0, 21) == \"data:image/png;base64\") {\n",
       "            fig.imageObj.src = evt.data;\n",
       "            fig.updated_canvas_event();\n",
       "            fig.waiting = false;\n",
       "            return;\n",
       "        }\n",
       "\n",
       "        var msg = JSON.parse(evt.data);\n",
       "        var msg_type = msg['type'];\n",
       "\n",
       "        // Call the  \"handle_{type}\" callback, which takes\n",
       "        // the figure and JSON message as its only arguments.\n",
       "        try {\n",
       "            var callback = fig[\"handle_\" + msg_type];\n",
       "        } catch (e) {\n",
       "            console.log(\"No handler for the '\" + msg_type + \"' message type: \", msg);\n",
       "            return;\n",
       "        }\n",
       "\n",
       "        if (callback) {\n",
       "            try {\n",
       "                // console.log(\"Handling '\" + msg_type + \"' message: \", msg);\n",
       "                callback(fig, msg);\n",
       "            } catch (e) {\n",
       "                console.log(\"Exception inside the 'handler_\" + msg_type + \"' callback:\", e, e.stack, msg);\n",
       "            }\n",
       "        }\n",
       "    };\n",
       "}\n",
       "\n",
       "// from http://stackoverflow.com/questions/1114465/getting-mouse-location-in-canvas\n",
       "mpl.findpos = function(e) {\n",
       "    //this section is from http://www.quirksmode.org/js/events_properties.html\n",
       "    var targ;\n",
       "    if (!e)\n",
       "        e = window.event;\n",
       "    if (e.target)\n",
       "        targ = e.target;\n",
       "    else if (e.srcElement)\n",
       "        targ = e.srcElement;\n",
       "    if (targ.nodeType == 3) // defeat Safari bug\n",
       "        targ = targ.parentNode;\n",
       "\n",
       "    // jQuery normalizes the pageX and pageY\n",
       "    // pageX,Y are the mouse positions relative to the document\n",
       "    // offset() returns the position of the element relative to the document\n",
       "    var x = e.pageX - $(targ).offset().left;\n",
       "    var y = e.pageY - $(targ).offset().top;\n",
       "\n",
       "    return {\"x\": x, \"y\": y};\n",
       "};\n",
       "\n",
       "/*\n",
       " * return a copy of an object with only non-object keys\n",
       " * we need this to avoid circular references\n",
       " * http://stackoverflow.com/a/24161582/3208463\n",
       " */\n",
       "function simpleKeys (original) {\n",
       "  return Object.keys(original).reduce(function (obj, key) {\n",
       "    if (typeof original[key] !== 'object')\n",
       "        obj[key] = original[key]\n",
       "    return obj;\n",
       "  }, {});\n",
       "}\n",
       "\n",
       "mpl.figure.prototype.mouse_event = function(event, name) {\n",
       "    var canvas_pos = mpl.findpos(event)\n",
       "\n",
       "    if (name === 'button_press')\n",
       "    {\n",
       "        this.canvas.focus();\n",
       "        this.canvas_div.focus();\n",
       "    }\n",
       "\n",
       "    var x = canvas_pos.x * mpl.ratio;\n",
       "    var y = canvas_pos.y * mpl.ratio;\n",
       "\n",
       "    this.send_message(name, {x: x, y: y, button: event.button,\n",
       "                             step: event.step,\n",
       "                             guiEvent: simpleKeys(event)});\n",
       "\n",
       "    /* This prevents the web browser from automatically changing to\n",
       "     * the text insertion cursor when the button is pressed.  We want\n",
       "     * to control all of the cursor setting manually through the\n",
       "     * 'cursor' event from matplotlib */\n",
       "    event.preventDefault();\n",
       "    return false;\n",
       "}\n",
       "\n",
       "mpl.figure.prototype._key_event_extra = function(event, name) {\n",
       "    // Handle any extra behaviour associated with a key event\n",
       "}\n",
       "\n",
       "mpl.figure.prototype.key_event = function(event, name) {\n",
       "\n",
       "    // Prevent repeat events\n",
       "    if (name == 'key_press')\n",
       "    {\n",
       "        if (event.which === this._key)\n",
       "            return;\n",
       "        else\n",
       "            this._key = event.which;\n",
       "    }\n",
       "    if (name == 'key_release')\n",
       "        this._key = null;\n",
       "\n",
       "    var value = '';\n",
       "    if (event.ctrlKey && event.which != 17)\n",
       "        value += \"ctrl+\";\n",
       "    if (event.altKey && event.which != 18)\n",
       "        value += \"alt+\";\n",
       "    if (event.shiftKey && event.which != 16)\n",
       "        value += \"shift+\";\n",
       "\n",
       "    value += 'k';\n",
       "    value += event.which.toString();\n",
       "\n",
       "    this._key_event_extra(event, name);\n",
       "\n",
       "    this.send_message(name, {key: value,\n",
       "                             guiEvent: simpleKeys(event)});\n",
       "    return false;\n",
       "}\n",
       "\n",
       "mpl.figure.prototype.toolbar_button_onclick = function(name) {\n",
       "    if (name == 'download') {\n",
       "        this.handle_save(this, null);\n",
       "    } else {\n",
       "        this.send_message(\"toolbar_button\", {name: name});\n",
       "    }\n",
       "};\n",
       "\n",
       "mpl.figure.prototype.toolbar_button_onmouseover = function(tooltip) {\n",
       "    this.message.textContent = tooltip;\n",
       "};\n",
       "mpl.toolbar_items = [[\"Home\", \"Reset original view\", \"fa fa-home icon-home\", \"home\"], [\"Back\", \"Back to previous view\", \"fa fa-arrow-left icon-arrow-left\", \"back\"], [\"Forward\", \"Forward to next view\", \"fa fa-arrow-right icon-arrow-right\", \"forward\"], [\"\", \"\", \"\", \"\"], [\"Pan\", \"Pan axes with left mouse, zoom with right\", \"fa fa-arrows icon-move\", \"pan\"], [\"Zoom\", \"Zoom to rectangle\", \"fa fa-square-o icon-check-empty\", \"zoom\"], [\"\", \"\", \"\", \"\"], [\"Download\", \"Download plot\", \"fa fa-floppy-o icon-save\", \"download\"]];\n",
       "\n",
       "mpl.extensions = [\"eps\", \"jpeg\", \"pdf\", \"png\", \"ps\", \"raw\", \"svg\", \"tif\"];\n",
       "\n",
       "mpl.default_extension = \"png\";var comm_websocket_adapter = function(comm) {\n",
       "    // Create a \"websocket\"-like object which calls the given IPython comm\n",
       "    // object with the appropriate methods. Currently this is a non binary\n",
       "    // socket, so there is still some room for performance tuning.\n",
       "    var ws = {};\n",
       "\n",
       "    ws.close = function() {\n",
       "        comm.close()\n",
       "    };\n",
       "    ws.send = function(m) {\n",
       "        //console.log('sending', m);\n",
       "        comm.send(m);\n",
       "    };\n",
       "    // Register the callback with on_msg.\n",
       "    comm.on_msg(function(msg) {\n",
       "        //console.log('receiving', msg['content']['data'], msg);\n",
       "        // Pass the mpl event to the overridden (by mpl) onmessage function.\n",
       "        ws.onmessage(msg['content']['data'])\n",
       "    });\n",
       "    return ws;\n",
       "}\n",
       "\n",
       "mpl.mpl_figure_comm = function(comm, msg) {\n",
       "    // This is the function which gets called when the mpl process\n",
       "    // starts-up an IPython Comm through the \"matplotlib\" channel.\n",
       "\n",
       "    var id = msg.content.data.id;\n",
       "    // Get hold of the div created by the display call when the Comm\n",
       "    // socket was opened in Python.\n",
       "    var element = $(\"#\" + id);\n",
       "    var ws_proxy = comm_websocket_adapter(comm)\n",
       "\n",
       "    function ondownload(figure, format) {\n",
       "        window.open(figure.imageObj.src);\n",
       "    }\n",
       "\n",
       "    var fig = new mpl.figure(id, ws_proxy,\n",
       "                           ondownload,\n",
       "                           element.get(0));\n",
       "\n",
       "    // Call onopen now - mpl needs it, as it is assuming we've passed it a real\n",
       "    // web socket which is closed, not our websocket->open comm proxy.\n",
       "    ws_proxy.onopen();\n",
       "\n",
       "    fig.parent_element = element.get(0);\n",
       "    fig.cell_info = mpl.find_output_cell(\"<div id='\" + id + \"'></div>\");\n",
       "    if (!fig.cell_info) {\n",
       "        console.error(\"Failed to find cell for figure\", id, fig);\n",
       "        return;\n",
       "    }\n",
       "\n",
       "    var output_index = fig.cell_info[2]\n",
       "    var cell = fig.cell_info[0];\n",
       "\n",
       "};\n",
       "\n",
       "mpl.figure.prototype.handle_close = function(fig, msg) {\n",
       "    var width = fig.canvas.width/mpl.ratio\n",
       "    fig.root.unbind('remove')\n",
       "\n",
       "    // Update the output cell to use the data from the current canvas.\n",
       "    fig.push_to_output();\n",
       "    var dataURL = fig.canvas.toDataURL();\n",
       "    // Re-enable the keyboard manager in IPython - without this line, in FF,\n",
       "    // the notebook keyboard shortcuts fail.\n",
       "    IPython.keyboard_manager.enable()\n",
       "    $(fig.parent_element).html('<img src=\"' + dataURL + '\" width=\"' + width + '\">');\n",
       "    fig.close_ws(fig, msg);\n",
       "}\n",
       "\n",
       "mpl.figure.prototype.close_ws = function(fig, msg){\n",
       "    fig.send_message('closing', msg);\n",
       "    // fig.ws.close()\n",
       "}\n",
       "\n",
       "mpl.figure.prototype.push_to_output = function(remove_interactive) {\n",
       "    // Turn the data on the canvas into data in the output cell.\n",
       "    var width = this.canvas.width/mpl.ratio\n",
       "    var dataURL = this.canvas.toDataURL();\n",
       "    this.cell_info[1]['text/html'] = '<img src=\"' + dataURL + '\" width=\"' + width + '\">';\n",
       "}\n",
       "\n",
       "mpl.figure.prototype.updated_canvas_event = function() {\n",
       "    // Tell IPython that the notebook contents must change.\n",
       "    IPython.notebook.set_dirty(true);\n",
       "    this.send_message(\"ack\", {});\n",
       "    var fig = this;\n",
       "    // Wait a second, then push the new image to the DOM so\n",
       "    // that it is saved nicely (might be nice to debounce this).\n",
       "    setTimeout(function () { fig.push_to_output() }, 1000);\n",
       "}\n",
       "\n",
       "mpl.figure.prototype._init_toolbar = function() {\n",
       "    var fig = this;\n",
       "\n",
       "    var nav_element = $('<div/>');\n",
       "    nav_element.attr('style', 'width: 100%');\n",
       "    this.root.append(nav_element);\n",
       "\n",
       "    // Define a callback function for later on.\n",
       "    function toolbar_event(event) {\n",
       "        return fig.toolbar_button_onclick(event['data']);\n",
       "    }\n",
       "    function toolbar_mouse_event(event) {\n",
       "        return fig.toolbar_button_onmouseover(event['data']);\n",
       "    }\n",
       "\n",
       "    for(var toolbar_ind in mpl.toolbar_items){\n",
       "        var name = mpl.toolbar_items[toolbar_ind][0];\n",
       "        var tooltip = mpl.toolbar_items[toolbar_ind][1];\n",
       "        var image = mpl.toolbar_items[toolbar_ind][2];\n",
       "        var method_name = mpl.toolbar_items[toolbar_ind][3];\n",
       "\n",
       "        if (!name) { continue; };\n",
       "\n",
       "        var button = $('<button class=\"btn btn-default\" href=\"#\" title=\"' + name + '\"><i class=\"fa ' + image + ' fa-lg\"></i></button>');\n",
       "        button.click(method_name, toolbar_event);\n",
       "        button.mouseover(tooltip, toolbar_mouse_event);\n",
       "        nav_element.append(button);\n",
       "    }\n",
       "\n",
       "    // Add the status bar.\n",
       "    var status_bar = $('<span class=\"mpl-message\" style=\"text-align:right; float: right;\"/>');\n",
       "    nav_element.append(status_bar);\n",
       "    this.message = status_bar[0];\n",
       "\n",
       "    // Add the close button to the window.\n",
       "    var buttongrp = $('<div class=\"btn-group inline pull-right\"></div>');\n",
       "    var button = $('<button class=\"btn btn-mini btn-primary\" href=\"#\" title=\"Stop Interaction\"><i class=\"fa fa-power-off icon-remove icon-large\"></i></button>');\n",
       "    button.click(function (evt) { fig.handle_close(fig, {}); } );\n",
       "    button.mouseover('Stop Interaction', toolbar_mouse_event);\n",
       "    buttongrp.append(button);\n",
       "    var titlebar = this.root.find($('.ui-dialog-titlebar'));\n",
       "    titlebar.prepend(buttongrp);\n",
       "}\n",
       "\n",
       "mpl.figure.prototype._root_extra_style = function(el){\n",
       "    var fig = this\n",
       "    el.on(\"remove\", function(){\n",
       "\tfig.close_ws(fig, {});\n",
       "    });\n",
       "}\n",
       "\n",
       "mpl.figure.prototype._canvas_extra_style = function(el){\n",
       "    // this is important to make the div 'focusable\n",
       "    el.attr('tabindex', 0)\n",
       "    // reach out to IPython and tell the keyboard manager to turn it's self\n",
       "    // off when our div gets focus\n",
       "\n",
       "    // location in version 3\n",
       "    if (IPython.notebook.keyboard_manager) {\n",
       "        IPython.notebook.keyboard_manager.register_events(el);\n",
       "    }\n",
       "    else {\n",
       "        // location in version 2\n",
       "        IPython.keyboard_manager.register_events(el);\n",
       "    }\n",
       "\n",
       "}\n",
       "\n",
       "mpl.figure.prototype._key_event_extra = function(event, name) {\n",
       "    var manager = IPython.notebook.keyboard_manager;\n",
       "    if (!manager)\n",
       "        manager = IPython.keyboard_manager;\n",
       "\n",
       "    // Check for shift+enter\n",
       "    if (event.shiftKey && event.which == 13) {\n",
       "        this.canvas_div.blur();\n",
       "        event.shiftKey = false;\n",
       "        // Send a \"J\" for go to next cell\n",
       "        event.which = 74;\n",
       "        event.keyCode = 74;\n",
       "        manager.command_mode();\n",
       "        manager.handle_keydown(event);\n",
       "    }\n",
       "}\n",
       "\n",
       "mpl.figure.prototype.handle_save = function(fig, msg) {\n",
       "    fig.ondownload(fig, null);\n",
       "}\n",
       "\n",
       "\n",
       "mpl.find_output_cell = function(html_output) {\n",
       "    // Return the cell and output element which can be found *uniquely* in the notebook.\n",
       "    // Note - this is a bit hacky, but it is done because the \"notebook_saving.Notebook\"\n",
       "    // IPython event is triggered only after the cells have been serialised, which for\n",
       "    // our purposes (turning an active figure into a static one), is too late.\n",
       "    var cells = IPython.notebook.get_cells();\n",
       "    var ncells = cells.length;\n",
       "    for (var i=0; i<ncells; i++) {\n",
       "        var cell = cells[i];\n",
       "        if (cell.cell_type === 'code'){\n",
       "            for (var j=0; j<cell.output_area.outputs.length; j++) {\n",
       "                var data = cell.output_area.outputs[j];\n",
       "                if (data.data) {\n",
       "                    // IPython >= 3 moved mimebundle to data attribute of output\n",
       "                    data = data.data;\n",
       "                }\n",
       "                if (data['text/html'] == html_output) {\n",
       "                    return [cell, data, j];\n",
       "                }\n",
       "            }\n",
       "        }\n",
       "    }\n",
       "}\n",
       "\n",
       "// Register the function which deals with the matplotlib target/channel.\n",
       "// The kernel may be null if the page has been refreshed.\n",
       "if (IPython.notebook.kernel != null) {\n",
       "    IPython.notebook.kernel.comm_manager.register_target('matplotlib', mpl.mpl_figure_comm);\n",
       "}\n"
      ],
      "text/plain": [
       "<IPython.core.display.Javascript object>"
      ]
     },
     "metadata": {},
     "output_type": "display_data"
    },
    {
     "data": {
      "text/html": [
       "<img src=\"data:image/png;base64,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\" width=\"640\">"
      ],
      "text/plain": [
       "<IPython.core.display.HTML object>"
      ]
     },
     "metadata": {},
     "output_type": "display_data"
    },
    {
     "data": {
      "application/javascript": [
       "/* Put everything inside the global mpl namespace */\n",
       "window.mpl = {};\n",
       "\n",
       "\n",
       "mpl.get_websocket_type = function() {\n",
       "    if (typeof(WebSocket) !== 'undefined') {\n",
       "        return WebSocket;\n",
       "    } else if (typeof(MozWebSocket) !== 'undefined') {\n",
       "        return MozWebSocket;\n",
       "    } else {\n",
       "        alert('Your browser does not have WebSocket support. ' +\n",
       "              'Please try Chrome, Safari or Firefox ≥ 6. ' +\n",
       "              'Firefox 4 and 5 are also supported but you ' +\n",
       "              'have to enable WebSockets in about:config.');\n",
       "    };\n",
       "}\n",
       "\n",
       "mpl.figure = function(figure_id, websocket, ondownload, parent_element) {\n",
       "    this.id = figure_id;\n",
       "\n",
       "    this.ws = websocket;\n",
       "\n",
       "    this.supports_binary = (this.ws.binaryType != undefined);\n",
       "\n",
       "    if (!this.supports_binary) {\n",
       "        var warnings = document.getElementById(\"mpl-warnings\");\n",
       "        if (warnings) {\n",
       "            warnings.style.display = 'block';\n",
       "            warnings.textContent = (\n",
       "                \"This browser does not support binary websocket messages. \" +\n",
       "                    \"Performance may be slow.\");\n",
       "        }\n",
       "    }\n",
       "\n",
       "    this.imageObj = new Image();\n",
       "\n",
       "    this.context = undefined;\n",
       "    this.message = undefined;\n",
       "    this.canvas = undefined;\n",
       "    this.rubberband_canvas = undefined;\n",
       "    this.rubberband_context = undefined;\n",
       "    this.format_dropdown = undefined;\n",
       "\n",
       "    this.image_mode = 'full';\n",
       "\n",
       "    this.root = $('<div/>');\n",
       "    this._root_extra_style(this.root)\n",
       "    this.root.attr('style', 'display: inline-block');\n",
       "\n",
       "    $(parent_element).append(this.root);\n",
       "\n",
       "    this._init_header(this);\n",
       "    this._init_canvas(this);\n",
       "    this._init_toolbar(this);\n",
       "\n",
       "    var fig = this;\n",
       "\n",
       "    this.waiting = false;\n",
       "\n",
       "    this.ws.onopen =  function () {\n",
       "            fig.send_message(\"supports_binary\", {value: fig.supports_binary});\n",
       "            fig.send_message(\"send_image_mode\", {});\n",
       "            if (mpl.ratio != 1) {\n",
       "                fig.send_message(\"set_dpi_ratio\", {'dpi_ratio': mpl.ratio});\n",
       "            }\n",
       "            fig.send_message(\"refresh\", {});\n",
       "        }\n",
       "\n",
       "    this.imageObj.onload = function() {\n",
       "            if (fig.image_mode == 'full') {\n",
       "                // Full images could contain transparency (where diff images\n",
       "                // almost always do), so we need to clear the canvas so that\n",
       "                // there is no ghosting.\n",
       "                fig.context.clearRect(0, 0, fig.canvas.width, fig.canvas.height);\n",
       "            }\n",
       "            fig.context.drawImage(fig.imageObj, 0, 0);\n",
       "        };\n",
       "\n",
       "    this.imageObj.onunload = function() {\n",
       "        fig.ws.close();\n",
       "    }\n",
       "\n",
       "    this.ws.onmessage = this._make_on_message_function(this);\n",
       "\n",
       "    this.ondownload = ondownload;\n",
       "}\n",
       "\n",
       "mpl.figure.prototype._init_header = function() {\n",
       "    var titlebar = $(\n",
       "        '<div class=\"ui-dialog-titlebar ui-widget-header ui-corner-all ' +\n",
       "        'ui-helper-clearfix\"/>');\n",
       "    var titletext = $(\n",
       "        '<div class=\"ui-dialog-title\" style=\"width: 100%; ' +\n",
       "        'text-align: center; padding: 3px;\"/>');\n",
       "    titlebar.append(titletext)\n",
       "    this.root.append(titlebar);\n",
       "    this.header = titletext[0];\n",
       "}\n",
       "\n",
       "\n",
       "\n",
       "mpl.figure.prototype._canvas_extra_style = function(canvas_div) {\n",
       "\n",
       "}\n",
       "\n",
       "\n",
       "mpl.figure.prototype._root_extra_style = function(canvas_div) {\n",
       "\n",
       "}\n",
       "\n",
       "mpl.figure.prototype._init_canvas = function() {\n",
       "    var fig = this;\n",
       "\n",
       "    var canvas_div = $('<div/>');\n",
       "\n",
       "    canvas_div.attr('style', 'position: relative; clear: both; outline: 0');\n",
       "\n",
       "    function canvas_keyboard_event(event) {\n",
       "        return fig.key_event(event, event['data']);\n",
       "    }\n",
       "\n",
       "    canvas_div.keydown('key_press', canvas_keyboard_event);\n",
       "    canvas_div.keyup('key_release', canvas_keyboard_event);\n",
       "    this.canvas_div = canvas_div\n",
       "    this._canvas_extra_style(canvas_div)\n",
       "    this.root.append(canvas_div);\n",
       "\n",
       "    var canvas = $('<canvas/>');\n",
       "    canvas.addClass('mpl-canvas');\n",
       "    canvas.attr('style', \"left: 0; top: 0; z-index: 0; outline: 0\")\n",
       "\n",
       "    this.canvas = canvas[0];\n",
       "    this.context = canvas[0].getContext(\"2d\");\n",
       "\n",
       "    var backingStore = this.context.backingStorePixelRatio ||\n",
       "\tthis.context.webkitBackingStorePixelRatio ||\n",
       "\tthis.context.mozBackingStorePixelRatio ||\n",
       "\tthis.context.msBackingStorePixelRatio ||\n",
       "\tthis.context.oBackingStorePixelRatio ||\n",
       "\tthis.context.backingStorePixelRatio || 1;\n",
       "\n",
       "    mpl.ratio = (window.devicePixelRatio || 1) / backingStore;\n",
       "\n",
       "    var rubberband = $('<canvas/>');\n",
       "    rubberband.attr('style', \"position: absolute; left: 0; top: 0; z-index: 1;\")\n",
       "\n",
       "    var pass_mouse_events = true;\n",
       "\n",
       "    canvas_div.resizable({\n",
       "        start: function(event, ui) {\n",
       "            pass_mouse_events = false;\n",
       "        },\n",
       "        resize: function(event, ui) {\n",
       "            fig.request_resize(ui.size.width, ui.size.height);\n",
       "        },\n",
       "        stop: function(event, ui) {\n",
       "            pass_mouse_events = true;\n",
       "            fig.request_resize(ui.size.width, ui.size.height);\n",
       "        },\n",
       "    });\n",
       "\n",
       "    function mouse_event_fn(event) {\n",
       "        if (pass_mouse_events)\n",
       "            return fig.mouse_event(event, event['data']);\n",
       "    }\n",
       "\n",
       "    rubberband.mousedown('button_press', mouse_event_fn);\n",
       "    rubberband.mouseup('button_release', mouse_event_fn);\n",
       "    // Throttle sequential mouse events to 1 every 20ms.\n",
       "    rubberband.mousemove('motion_notify', mouse_event_fn);\n",
       "\n",
       "    rubberband.mouseenter('figure_enter', mouse_event_fn);\n",
       "    rubberband.mouseleave('figure_leave', mouse_event_fn);\n",
       "\n",
       "    canvas_div.on(\"wheel\", function (event) {\n",
       "        event = event.originalEvent;\n",
       "        event['data'] = 'scroll'\n",
       "        if (event.deltaY < 0) {\n",
       "            event.step = 1;\n",
       "        } else {\n",
       "            event.step = -1;\n",
       "        }\n",
       "        mouse_event_fn(event);\n",
       "    });\n",
       "\n",
       "    canvas_div.append(canvas);\n",
       "    canvas_div.append(rubberband);\n",
       "\n",
       "    this.rubberband = rubberband;\n",
       "    this.rubberband_canvas = rubberband[0];\n",
       "    this.rubberband_context = rubberband[0].getContext(\"2d\");\n",
       "    this.rubberband_context.strokeStyle = \"#000000\";\n",
       "\n",
       "    this._resize_canvas = function(width, height) {\n",
       "        // Keep the size of the canvas, canvas container, and rubber band\n",
       "        // canvas in synch.\n",
       "        canvas_div.css('width', width)\n",
       "        canvas_div.css('height', height)\n",
       "\n",
       "        canvas.attr('width', width * mpl.ratio);\n",
       "        canvas.attr('height', height * mpl.ratio);\n",
       "        canvas.attr('style', 'width: ' + width + 'px; height: ' + height + 'px;');\n",
       "\n",
       "        rubberband.attr('width', width);\n",
       "        rubberband.attr('height', height);\n",
       "    }\n",
       "\n",
       "    // Set the figure to an initial 600x600px, this will subsequently be updated\n",
       "    // upon first draw.\n",
       "    this._resize_canvas(600, 600);\n",
       "\n",
       "    // Disable right mouse context menu.\n",
       "    $(this.rubberband_canvas).bind(\"contextmenu\",function(e){\n",
       "        return false;\n",
       "    });\n",
       "\n",
       "    function set_focus () {\n",
       "        canvas.focus();\n",
       "        canvas_div.focus();\n",
       "    }\n",
       "\n",
       "    window.setTimeout(set_focus, 100);\n",
       "}\n",
       "\n",
       "mpl.figure.prototype._init_toolbar = function() {\n",
       "    var fig = this;\n",
       "\n",
       "    var nav_element = $('<div/>');\n",
       "    nav_element.attr('style', 'width: 100%');\n",
       "    this.root.append(nav_element);\n",
       "\n",
       "    // Define a callback function for later on.\n",
       "    function toolbar_event(event) {\n",
       "        return fig.toolbar_button_onclick(event['data']);\n",
       "    }\n",
       "    function toolbar_mouse_event(event) {\n",
       "        return fig.toolbar_button_onmouseover(event['data']);\n",
       "    }\n",
       "\n",
       "    for(var toolbar_ind in mpl.toolbar_items) {\n",
       "        var name = mpl.toolbar_items[toolbar_ind][0];\n",
       "        var tooltip = mpl.toolbar_items[toolbar_ind][1];\n",
       "        var image = mpl.toolbar_items[toolbar_ind][2];\n",
       "        var method_name = mpl.toolbar_items[toolbar_ind][3];\n",
       "\n",
       "        if (!name) {\n",
       "            // put a spacer in here.\n",
       "            continue;\n",
       "        }\n",
       "        var button = $('<button/>');\n",
       "        button.addClass('ui-button ui-widget ui-state-default ui-corner-all ' +\n",
       "                        'ui-button-icon-only');\n",
       "        button.attr('role', 'button');\n",
       "        button.attr('aria-disabled', 'false');\n",
       "        button.click(method_name, toolbar_event);\n",
       "        button.mouseover(tooltip, toolbar_mouse_event);\n",
       "\n",
       "        var icon_img = $('<span/>');\n",
       "        icon_img.addClass('ui-button-icon-primary ui-icon');\n",
       "        icon_img.addClass(image);\n",
       "        icon_img.addClass('ui-corner-all');\n",
       "\n",
       "        var tooltip_span = $('<span/>');\n",
       "        tooltip_span.addClass('ui-button-text');\n",
       "        tooltip_span.html(tooltip);\n",
       "\n",
       "        button.append(icon_img);\n",
       "        button.append(tooltip_span);\n",
       "\n",
       "        nav_element.append(button);\n",
       "    }\n",
       "\n",
       "    var fmt_picker_span = $('<span/>');\n",
       "\n",
       "    var fmt_picker = $('<select/>');\n",
       "    fmt_picker.addClass('mpl-toolbar-option ui-widget ui-widget-content');\n",
       "    fmt_picker_span.append(fmt_picker);\n",
       "    nav_element.append(fmt_picker_span);\n",
       "    this.format_dropdown = fmt_picker[0];\n",
       "\n",
       "    for (var ind in mpl.extensions) {\n",
       "        var fmt = mpl.extensions[ind];\n",
       "        var option = $(\n",
       "            '<option/>', {selected: fmt === mpl.default_extension}).html(fmt);\n",
       "        fmt_picker.append(option);\n",
       "    }\n",
       "\n",
       "    // Add hover states to the ui-buttons\n",
       "    $( \".ui-button\" ).hover(\n",
       "        function() { $(this).addClass(\"ui-state-hover\");},\n",
       "        function() { $(this).removeClass(\"ui-state-hover\");}\n",
       "    );\n",
       "\n",
       "    var status_bar = $('<span class=\"mpl-message\"/>');\n",
       "    nav_element.append(status_bar);\n",
       "    this.message = status_bar[0];\n",
       "}\n",
       "\n",
       "mpl.figure.prototype.request_resize = function(x_pixels, y_pixels) {\n",
       "    // Request matplotlib to resize the figure. Matplotlib will then trigger a resize in the client,\n",
       "    // which will in turn request a refresh of the image.\n",
       "    this.send_message('resize', {'width': x_pixels, 'height': y_pixels});\n",
       "}\n",
       "\n",
       "mpl.figure.prototype.send_message = function(type, properties) {\n",
       "    properties['type'] = type;\n",
       "    properties['figure_id'] = this.id;\n",
       "    this.ws.send(JSON.stringify(properties));\n",
       "}\n",
       "\n",
       "mpl.figure.prototype.send_draw_message = function() {\n",
       "    if (!this.waiting) {\n",
       "        this.waiting = true;\n",
       "        this.ws.send(JSON.stringify({type: \"draw\", figure_id: this.id}));\n",
       "    }\n",
       "}\n",
       "\n",
       "\n",
       "mpl.figure.prototype.handle_save = function(fig, msg) {\n",
       "    var format_dropdown = fig.format_dropdown;\n",
       "    var format = format_dropdown.options[format_dropdown.selectedIndex].value;\n",
       "    fig.ondownload(fig, format);\n",
       "}\n",
       "\n",
       "\n",
       "mpl.figure.prototype.handle_resize = function(fig, msg) {\n",
       "    var size = msg['size'];\n",
       "    if (size[0] != fig.canvas.width || size[1] != fig.canvas.height) {\n",
       "        fig._resize_canvas(size[0], size[1]);\n",
       "        fig.send_message(\"refresh\", {});\n",
       "    };\n",
       "}\n",
       "\n",
       "mpl.figure.prototype.handle_rubberband = function(fig, msg) {\n",
       "    var x0 = msg['x0'] / mpl.ratio;\n",
       "    var y0 = (fig.canvas.height - msg['y0']) / mpl.ratio;\n",
       "    var x1 = msg['x1'] / mpl.ratio;\n",
       "    var y1 = (fig.canvas.height - msg['y1']) / mpl.ratio;\n",
       "    x0 = Math.floor(x0) + 0.5;\n",
       "    y0 = Math.floor(y0) + 0.5;\n",
       "    x1 = Math.floor(x1) + 0.5;\n",
       "    y1 = Math.floor(y1) + 0.5;\n",
       "    var min_x = Math.min(x0, x1);\n",
       "    var min_y = Math.min(y0, y1);\n",
       "    var width = Math.abs(x1 - x0);\n",
       "    var height = Math.abs(y1 - y0);\n",
       "\n",
       "    fig.rubberband_context.clearRect(\n",
       "        0, 0, fig.canvas.width, fig.canvas.height);\n",
       "\n",
       "    fig.rubberband_context.strokeRect(min_x, min_y, width, height);\n",
       "}\n",
       "\n",
       "mpl.figure.prototype.handle_figure_label = function(fig, msg) {\n",
       "    // Updates the figure title.\n",
       "    fig.header.textContent = msg['label'];\n",
       "}\n",
       "\n",
       "mpl.figure.prototype.handle_cursor = function(fig, msg) {\n",
       "    var cursor = msg['cursor'];\n",
       "    switch(cursor)\n",
       "    {\n",
       "    case 0:\n",
       "        cursor = 'pointer';\n",
       "        break;\n",
       "    case 1:\n",
       "        cursor = 'default';\n",
       "        break;\n",
       "    case 2:\n",
       "        cursor = 'crosshair';\n",
       "        break;\n",
       "    case 3:\n",
       "        cursor = 'move';\n",
       "        break;\n",
       "    }\n",
       "    fig.rubberband_canvas.style.cursor = cursor;\n",
       "}\n",
       "\n",
       "mpl.figure.prototype.handle_message = function(fig, msg) {\n",
       "    fig.message.textContent = msg['message'];\n",
       "}\n",
       "\n",
       "mpl.figure.prototype.handle_draw = function(fig, msg) {\n",
       "    // Request the server to send over a new figure.\n",
       "    fig.send_draw_message();\n",
       "}\n",
       "\n",
       "mpl.figure.prototype.handle_image_mode = function(fig, msg) {\n",
       "    fig.image_mode = msg['mode'];\n",
       "}\n",
       "\n",
       "mpl.figure.prototype.updated_canvas_event = function() {\n",
       "    // Called whenever the canvas gets updated.\n",
       "    this.send_message(\"ack\", {});\n",
       "}\n",
       "\n",
       "// A function to construct a web socket function for onmessage handling.\n",
       "// Called in the figure constructor.\n",
       "mpl.figure.prototype._make_on_message_function = function(fig) {\n",
       "    return function socket_on_message(evt) {\n",
       "        if (evt.data instanceof Blob) {\n",
       "            /* FIXME: We get \"Resource interpreted as Image but\n",
       "             * transferred with MIME type text/plain:\" errors on\n",
       "             * Chrome.  But how to set the MIME type?  It doesn't seem\n",
       "             * to be part of the websocket stream */\n",
       "            evt.data.type = \"image/png\";\n",
       "\n",
       "            /* Free the memory for the previous frames */\n",
       "            if (fig.imageObj.src) {\n",
       "                (window.URL || window.webkitURL).revokeObjectURL(\n",
       "                    fig.imageObj.src);\n",
       "            }\n",
       "\n",
       "            fig.imageObj.src = (window.URL || window.webkitURL).createObjectURL(\n",
       "                evt.data);\n",
       "            fig.updated_canvas_event();\n",
       "            fig.waiting = false;\n",
       "            return;\n",
       "        }\n",
       "        else if (typeof evt.data === 'string' && evt.data.slice(0, 21) == \"data:image/png;base64\") {\n",
       "            fig.imageObj.src = evt.data;\n",
       "            fig.updated_canvas_event();\n",
       "            fig.waiting = false;\n",
       "            return;\n",
       "        }\n",
       "\n",
       "        var msg = JSON.parse(evt.data);\n",
       "        var msg_type = msg['type'];\n",
       "\n",
       "        // Call the  \"handle_{type}\" callback, which takes\n",
       "        // the figure and JSON message as its only arguments.\n",
       "        try {\n",
       "            var callback = fig[\"handle_\" + msg_type];\n",
       "        } catch (e) {\n",
       "            console.log(\"No handler for the '\" + msg_type + \"' message type: \", msg);\n",
       "            return;\n",
       "        }\n",
       "\n",
       "        if (callback) {\n",
       "            try {\n",
       "                // console.log(\"Handling '\" + msg_type + \"' message: \", msg);\n",
       "                callback(fig, msg);\n",
       "            } catch (e) {\n",
       "                console.log(\"Exception inside the 'handler_\" + msg_type + \"' callback:\", e, e.stack, msg);\n",
       "            }\n",
       "        }\n",
       "    };\n",
       "}\n",
       "\n",
       "// from http://stackoverflow.com/questions/1114465/getting-mouse-location-in-canvas\n",
       "mpl.findpos = function(e) {\n",
       "    //this section is from http://www.quirksmode.org/js/events_properties.html\n",
       "    var targ;\n",
       "    if (!e)\n",
       "        e = window.event;\n",
       "    if (e.target)\n",
       "        targ = e.target;\n",
       "    else if (e.srcElement)\n",
       "        targ = e.srcElement;\n",
       "    if (targ.nodeType == 3) // defeat Safari bug\n",
       "        targ = targ.parentNode;\n",
       "\n",
       "    // jQuery normalizes the pageX and pageY\n",
       "    // pageX,Y are the mouse positions relative to the document\n",
       "    // offset() returns the position of the element relative to the document\n",
       "    var x = e.pageX - $(targ).offset().left;\n",
       "    var y = e.pageY - $(targ).offset().top;\n",
       "\n",
       "    return {\"x\": x, \"y\": y};\n",
       "};\n",
       "\n",
       "/*\n",
       " * return a copy of an object with only non-object keys\n",
       " * we need this to avoid circular references\n",
       " * http://stackoverflow.com/a/24161582/3208463\n",
       " */\n",
       "function simpleKeys (original) {\n",
       "  return Object.keys(original).reduce(function (obj, key) {\n",
       "    if (typeof original[key] !== 'object')\n",
       "        obj[key] = original[key]\n",
       "    return obj;\n",
       "  }, {});\n",
       "}\n",
       "\n",
       "mpl.figure.prototype.mouse_event = function(event, name) {\n",
       "    var canvas_pos = mpl.findpos(event)\n",
       "\n",
       "    if (name === 'button_press')\n",
       "    {\n",
       "        this.canvas.focus();\n",
       "        this.canvas_div.focus();\n",
       "    }\n",
       "\n",
       "    var x = canvas_pos.x * mpl.ratio;\n",
       "    var y = canvas_pos.y * mpl.ratio;\n",
       "\n",
       "    this.send_message(name, {x: x, y: y, button: event.button,\n",
       "                             step: event.step,\n",
       "                             guiEvent: simpleKeys(event)});\n",
       "\n",
       "    /* This prevents the web browser from automatically changing to\n",
       "     * the text insertion cursor when the button is pressed.  We want\n",
       "     * to control all of the cursor setting manually through the\n",
       "     * 'cursor' event from matplotlib */\n",
       "    event.preventDefault();\n",
       "    return false;\n",
       "}\n",
       "\n",
       "mpl.figure.prototype._key_event_extra = function(event, name) {\n",
       "    // Handle any extra behaviour associated with a key event\n",
       "}\n",
       "\n",
       "mpl.figure.prototype.key_event = function(event, name) {\n",
       "\n",
       "    // Prevent repeat events\n",
       "    if (name == 'key_press')\n",
       "    {\n",
       "        if (event.which === this._key)\n",
       "            return;\n",
       "        else\n",
       "            this._key = event.which;\n",
       "    }\n",
       "    if (name == 'key_release')\n",
       "        this._key = null;\n",
       "\n",
       "    var value = '';\n",
       "    if (event.ctrlKey && event.which != 17)\n",
       "        value += \"ctrl+\";\n",
       "    if (event.altKey && event.which != 18)\n",
       "        value += \"alt+\";\n",
       "    if (event.shiftKey && event.which != 16)\n",
       "        value += \"shift+\";\n",
       "\n",
       "    value += 'k';\n",
       "    value += event.which.toString();\n",
       "\n",
       "    this._key_event_extra(event, name);\n",
       "\n",
       "    this.send_message(name, {key: value,\n",
       "                             guiEvent: simpleKeys(event)});\n",
       "    return false;\n",
       "}\n",
       "\n",
       "mpl.figure.prototype.toolbar_button_onclick = function(name) {\n",
       "    if (name == 'download') {\n",
       "        this.handle_save(this, null);\n",
       "    } else {\n",
       "        this.send_message(\"toolbar_button\", {name: name});\n",
       "    }\n",
       "};\n",
       "\n",
       "mpl.figure.prototype.toolbar_button_onmouseover = function(tooltip) {\n",
       "    this.message.textContent = tooltip;\n",
       "};\n",
       "mpl.toolbar_items = [[\"Home\", \"Reset original view\", \"fa fa-home icon-home\", \"home\"], [\"Back\", \"Back to previous view\", \"fa fa-arrow-left icon-arrow-left\", \"back\"], [\"Forward\", \"Forward to next view\", \"fa fa-arrow-right icon-arrow-right\", \"forward\"], [\"\", \"\", \"\", \"\"], [\"Pan\", \"Pan axes with left mouse, zoom with right\", \"fa fa-arrows icon-move\", \"pan\"], [\"Zoom\", \"Zoom to rectangle\", \"fa fa-square-o icon-check-empty\", \"zoom\"], [\"\", \"\", \"\", \"\"], [\"Download\", \"Download plot\", \"fa fa-floppy-o icon-save\", \"download\"]];\n",
       "\n",
       "mpl.extensions = [\"eps\", \"jpeg\", \"pdf\", \"png\", \"ps\", \"raw\", \"svg\", \"tif\"];\n",
       "\n",
       "mpl.default_extension = \"png\";var comm_websocket_adapter = function(comm) {\n",
       "    // Create a \"websocket\"-like object which calls the given IPython comm\n",
       "    // object with the appropriate methods. Currently this is a non binary\n",
       "    // socket, so there is still some room for performance tuning.\n",
       "    var ws = {};\n",
       "\n",
       "    ws.close = function() {\n",
       "        comm.close()\n",
       "    };\n",
       "    ws.send = function(m) {\n",
       "        //console.log('sending', m);\n",
       "        comm.send(m);\n",
       "    };\n",
       "    // Register the callback with on_msg.\n",
       "    comm.on_msg(function(msg) {\n",
       "        //console.log('receiving', msg['content']['data'], msg);\n",
       "        // Pass the mpl event to the overridden (by mpl) onmessage function.\n",
       "        ws.onmessage(msg['content']['data'])\n",
       "    });\n",
       "    return ws;\n",
       "}\n",
       "\n",
       "mpl.mpl_figure_comm = function(comm, msg) {\n",
       "    // This is the function which gets called when the mpl process\n",
       "    // starts-up an IPython Comm through the \"matplotlib\" channel.\n",
       "\n",
       "    var id = msg.content.data.id;\n",
       "    // Get hold of the div created by the display call when the Comm\n",
       "    // socket was opened in Python.\n",
       "    var element = $(\"#\" + id);\n",
       "    var ws_proxy = comm_websocket_adapter(comm)\n",
       "\n",
       "    function ondownload(figure, format) {\n",
       "        window.open(figure.imageObj.src);\n",
       "    }\n",
       "\n",
       "    var fig = new mpl.figure(id, ws_proxy,\n",
       "                           ondownload,\n",
       "                           element.get(0));\n",
       "\n",
       "    // Call onopen now - mpl needs it, as it is assuming we've passed it a real\n",
       "    // web socket which is closed, not our websocket->open comm proxy.\n",
       "    ws_proxy.onopen();\n",
       "\n",
       "    fig.parent_element = element.get(0);\n",
       "    fig.cell_info = mpl.find_output_cell(\"<div id='\" + id + \"'></div>\");\n",
       "    if (!fig.cell_info) {\n",
       "        console.error(\"Failed to find cell for figure\", id, fig);\n",
       "        return;\n",
       "    }\n",
       "\n",
       "    var output_index = fig.cell_info[2]\n",
       "    var cell = fig.cell_info[0];\n",
       "\n",
       "};\n",
       "\n",
       "mpl.figure.prototype.handle_close = function(fig, msg) {\n",
       "    var width = fig.canvas.width/mpl.ratio\n",
       "    fig.root.unbind('remove')\n",
       "\n",
       "    // Update the output cell to use the data from the current canvas.\n",
       "    fig.push_to_output();\n",
       "    var dataURL = fig.canvas.toDataURL();\n",
       "    // Re-enable the keyboard manager in IPython - without this line, in FF,\n",
       "    // the notebook keyboard shortcuts fail.\n",
       "    IPython.keyboard_manager.enable()\n",
       "    $(fig.parent_element).html('<img src=\"' + dataURL + '\" width=\"' + width + '\">');\n",
       "    fig.close_ws(fig, msg);\n",
       "}\n",
       "\n",
       "mpl.figure.prototype.close_ws = function(fig, msg){\n",
       "    fig.send_message('closing', msg);\n",
       "    // fig.ws.close()\n",
       "}\n",
       "\n",
       "mpl.figure.prototype.push_to_output = function(remove_interactive) {\n",
       "    // Turn the data on the canvas into data in the output cell.\n",
       "    var width = this.canvas.width/mpl.ratio\n",
       "    var dataURL = this.canvas.toDataURL();\n",
       "    this.cell_info[1]['text/html'] = '<img src=\"' + dataURL + '\" width=\"' + width + '\">';\n",
       "}\n",
       "\n",
       "mpl.figure.prototype.updated_canvas_event = function() {\n",
       "    // Tell IPython that the notebook contents must change.\n",
       "    IPython.notebook.set_dirty(true);\n",
       "    this.send_message(\"ack\", {});\n",
       "    var fig = this;\n",
       "    // Wait a second, then push the new image to the DOM so\n",
       "    // that it is saved nicely (might be nice to debounce this).\n",
       "    setTimeout(function () { fig.push_to_output() }, 1000);\n",
       "}\n",
       "\n",
       "mpl.figure.prototype._init_toolbar = function() {\n",
       "    var fig = this;\n",
       "\n",
       "    var nav_element = $('<div/>');\n",
       "    nav_element.attr('style', 'width: 100%');\n",
       "    this.root.append(nav_element);\n",
       "\n",
       "    // Define a callback function for later on.\n",
       "    function toolbar_event(event) {\n",
       "        return fig.toolbar_button_onclick(event['data']);\n",
       "    }\n",
       "    function toolbar_mouse_event(event) {\n",
       "        return fig.toolbar_button_onmouseover(event['data']);\n",
       "    }\n",
       "\n",
       "    for(var toolbar_ind in mpl.toolbar_items){\n",
       "        var name = mpl.toolbar_items[toolbar_ind][0];\n",
       "        var tooltip = mpl.toolbar_items[toolbar_ind][1];\n",
       "        var image = mpl.toolbar_items[toolbar_ind][2];\n",
       "        var method_name = mpl.toolbar_items[toolbar_ind][3];\n",
       "\n",
       "        if (!name) { continue; };\n",
       "\n",
       "        var button = $('<button class=\"btn btn-default\" href=\"#\" title=\"' + name + '\"><i class=\"fa ' + image + ' fa-lg\"></i></button>');\n",
       "        button.click(method_name, toolbar_event);\n",
       "        button.mouseover(tooltip, toolbar_mouse_event);\n",
       "        nav_element.append(button);\n",
       "    }\n",
       "\n",
       "    // Add the status bar.\n",
       "    var status_bar = $('<span class=\"mpl-message\" style=\"text-align:right; float: right;\"/>');\n",
       "    nav_element.append(status_bar);\n",
       "    this.message = status_bar[0];\n",
       "\n",
       "    // Add the close button to the window.\n",
       "    var buttongrp = $('<div class=\"btn-group inline pull-right\"></div>');\n",
       "    var button = $('<button class=\"btn btn-mini btn-primary\" href=\"#\" title=\"Stop Interaction\"><i class=\"fa fa-power-off icon-remove icon-large\"></i></button>');\n",
       "    button.click(function (evt) { fig.handle_close(fig, {}); } );\n",
       "    button.mouseover('Stop Interaction', toolbar_mouse_event);\n",
       "    buttongrp.append(button);\n",
       "    var titlebar = this.root.find($('.ui-dialog-titlebar'));\n",
       "    titlebar.prepend(buttongrp);\n",
       "}\n",
       "\n",
       "mpl.figure.prototype._root_extra_style = function(el){\n",
       "    var fig = this\n",
       "    el.on(\"remove\", function(){\n",
       "\tfig.close_ws(fig, {});\n",
       "    });\n",
       "}\n",
       "\n",
       "mpl.figure.prototype._canvas_extra_style = function(el){\n",
       "    // this is important to make the div 'focusable\n",
       "    el.attr('tabindex', 0)\n",
       "    // reach out to IPython and tell the keyboard manager to turn it's self\n",
       "    // off when our div gets focus\n",
       "\n",
       "    // location in version 3\n",
       "    if (IPython.notebook.keyboard_manager) {\n",
       "        IPython.notebook.keyboard_manager.register_events(el);\n",
       "    }\n",
       "    else {\n",
       "        // location in version 2\n",
       "        IPython.keyboard_manager.register_events(el);\n",
       "    }\n",
       "\n",
       "}\n",
       "\n",
       "mpl.figure.prototype._key_event_extra = function(event, name) {\n",
       "    var manager = IPython.notebook.keyboard_manager;\n",
       "    if (!manager)\n",
       "        manager = IPython.keyboard_manager;\n",
       "\n",
       "    // Check for shift+enter\n",
       "    if (event.shiftKey && event.which == 13) {\n",
       "        this.canvas_div.blur();\n",
       "        event.shiftKey = false;\n",
       "        // Send a \"J\" for go to next cell\n",
       "        event.which = 74;\n",
       "        event.keyCode = 74;\n",
       "        manager.command_mode();\n",
       "        manager.handle_keydown(event);\n",
       "    }\n",
       "}\n",
       "\n",
       "mpl.figure.prototype.handle_save = function(fig, msg) {\n",
       "    fig.ondownload(fig, null);\n",
       "}\n",
       "\n",
       "\n",
       "mpl.find_output_cell = function(html_output) {\n",
       "    // Return the cell and output element which can be found *uniquely* in the notebook.\n",
       "    // Note - this is a bit hacky, but it is done because the \"notebook_saving.Notebook\"\n",
       "    // IPython event is triggered only after the cells have been serialised, which for\n",
       "    // our purposes (turning an active figure into a static one), is too late.\n",
       "    var cells = IPython.notebook.get_cells();\n",
       "    var ncells = cells.length;\n",
       "    for (var i=0; i<ncells; i++) {\n",
       "        var cell = cells[i];\n",
       "        if (cell.cell_type === 'code'){\n",
       "            for (var j=0; j<cell.output_area.outputs.length; j++) {\n",
       "                var data = cell.output_area.outputs[j];\n",
       "                if (data.data) {\n",
       "                    // IPython >= 3 moved mimebundle to data attribute of output\n",
       "                    data = data.data;\n",
       "                }\n",
       "                if (data['text/html'] == html_output) {\n",
       "                    return [cell, data, j];\n",
       "                }\n",
       "            }\n",
       "        }\n",
       "    }\n",
       "}\n",
       "\n",
       "// Register the function which deals with the matplotlib target/channel.\n",
       "// The kernel may be null if the page has been refreshed.\n",
       "if (IPython.notebook.kernel != null) {\n",
       "    IPython.notebook.kernel.comm_manager.register_target('matplotlib', mpl.mpl_figure_comm);\n",
       "}\n"
      ],
      "text/plain": [
       "<IPython.core.display.Javascript object>"
      ]
     },
     "metadata": {},
     "output_type": "display_data"
    },
    {
     "data": {
      "text/html": [
       "<img src=\"data:image/png;base64,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\" width=\"640\">"
      ],
      "text/plain": [
       "<IPython.core.display.HTML object>"
      ]
     },
     "metadata": {},
     "output_type": "display_data"
    },
    {
     "name": "stdout",
     "output_type": "stream",
     "text": [
      "done\n"
     ]
    }
   ],
   "source": [
    "saved_dir = '../saved/IMPRS_hdf5_volume_AllDAPI_downsample/0701_155231'\n",
    "config_saved_filename = os.path.join(saved_dir, \"config.json\")\n",
    "#os.system('tensorboard --logdir ' + log_dir) cannot use with google VM without paying $$$\n",
    "viewTraining.graphLoss(saved_dir, best=False) #imported from utils\n",
    "\n",
    "print('done')"
   ]
  },
  {
   "cell_type": "code",
   "execution_count": 94,
   "metadata": {},
   "outputs": [],
   "source": [
    "def main2(config, resume):\n",
    "    # setup data_loader instances\n",
    "    data_loader = get_instance(module_data, 'data_loader_test', config)\n",
    "    '''\n",
    "    \n",
    "    data_loader = getattr(module_data, config['data_loader']['type'])(\n",
    "        config['data_loader']['args']['data_dir'],\n",
    "        batch_size=1,\n",
    "        shuffle=False,\n",
    "        validation_split=0.0,\n",
    "        training=False,\n",
    "        num_workers=2\n",
    "    )\n",
    "    '''\n",
    "    # build model architecture\n",
    "    model = get_instance(module_arch, 'arch', config)\n",
    "    #print(model)\n",
    "    print(torch.cuda.get_device_name(0))\n",
    "    normalized = False\n",
    "\n",
    "    \n",
    "    # get function handles of loss and metrics\n",
    "    loss_fn = getattr(module_loss, config['loss'])\n",
    "    criterion = loss_fn(None)\n",
    "    metric_fns = [getattr(module_metric, met) for met in config['metrics']]\n",
    "    \n",
    "    # load state dict\n",
    "    checkpoint = torch.load(resume)\n",
    "    state_dict = checkpoint['state_dict'] #dictionary of model parameters from saved file\n",
    "    if config['n_gpu'] > 1:\n",
    "        model = torch.nn.DataParallel(model)\n",
    "    model.load_state_dict(state_dict) \n",
    "    \n",
    "    # prepare model for testing\n",
    "    device = torch.device('cuda' if torch.cuda.is_available() else 'cpu')\n",
    "    model = model.to(device)\n",
    "    model.eval() #tells model to ignore dropout and batch normalization\n",
    "    \n",
    "    total_loss = 0.0\n",
    "    total_metrics = torch.zeros(len(metric_fns))\n",
    "    \n",
    "    #classes = ('endothelium', 'pct', 'vasculature')\n",
    "    classes = ('endothelium', 'pct')\n",
    "    all_pred = []\n",
    "    all_true = []\n",
    "    all_softmax = []\n",
    "    #hm_layers = {'final_layer': 'layer', 'fc_layer': 'fc_layer', 'conv_num': 17, 'fc_num': 3}\n",
    "    \n",
    "    #heatmapper = classActivationMap.CAMgenerator(hm_layers, config, model)\n",
    "    #heatmapper.generateImage(num_images=10)\n",
    "    \n",
    "    with torch.no_grad(): #speed up calculations, unable to perform back propogation\n",
    "        for i, (data, target) in enumerate(tqdm(data_loader)): #tqdm is a progress bar\n",
    "            data, target = data.to(device), target.to(device)\n",
    "            output = model(data)\n",
    "            image = np.squeeze(data[0].cpu().data.numpy())\n",
    "            label = np.squeeze(target[0].cpu().data.numpy())\n",
    "            all_true.extend(target.cpu().data.numpy())\n",
    "            all_pred.extend(np.argmax(output.cpu().data.numpy(), axis=1))\n",
    "            \n",
    "            #\n",
    "            # save sample images, or do something with output here\n",
    "            #\n",
    "            \n",
    "            m = torch.nn.Softmax(dim=0)\n",
    "            for row in output.cpu():\n",
    "                sm = m(row)\n",
    "                all_softmax.append(sm.data.numpy())\n",
    "            print(\"prediction percentages\")\n",
    "            if i < 10:\n",
    "                m = torch.nn.Softmax(dim=0)\n",
    "                \n",
    "                print(all_softmax[i])\n",
    "                print(all_true[i])\n",
    "                #util.visualizationOutGray(data, output, target, classes, normalized)\n",
    "                a=1\n",
    "                \n",
    "                \n",
    "                \n",
    "            # computing loss, metrics on test set\n",
    "            loss = criterion(output, target)\n",
    "            batch_size = data.shape[0]\n",
    "            total_loss += loss.item() * batch_size\n",
    "            if output.is_cuda: output = output.cpu()\n",
    "            if target.is_cuda: target = target.cpu()\n",
    "            \n",
    "            for i, metric in enumerate(metric_fns):\n",
    "                total_metrics[i] += metric(output, target) * batch_size\n",
    "        \n",
    "        #plt.show()\n",
    "        \n",
    "    outputcsv = True\n",
    "    if outputcsv:\n",
    "        ids = data_loader.ids\n",
    "        softmax = pd.DataFrame(all_softmax)\n",
    "        ids = ids[:,1].reshape(ids.shape[0], 1)\n",
    "        print(ids.shape)\n",
    "        print(softmax.shape)\n",
    "        frames = [ids, softmax]\n",
    "        output_data= np.concatenate(frames, axis=1)\n",
    "        print(output_data.shape)\n",
    "        output_df = pd.DataFrame(output_data)\n",
    "        output_df.to_csv('overlaycsv.csv', index=False,  header=False)\n",
    "        \n",
    "        \n",
    "    n_samples = len(data_loader.sampler)\n",
    "    print(\"num test images = \" + str(n_samples))\n",
    "    log = {'loss': total_loss / n_samples}\n",
    "    log.update({met.__name__: total_metrics[i].item() / n_samples for i, met in enumerate(metric_fns)})\n",
    "    for key in log:\n",
    "        print(\"{} = {:.4f}\".format(key, log[key]))\n",
    "    #print(log)\n",
    "    log['classes'] = classes\n",
    "    log['test_targets'] = all_true\n",
    "    log['test_predictions'] = all_pred\n",
    "    print(\"My_metric is accuracy\")\n",
    "    util.plot_confusion_matrix(all_true, all_pred, classes=classes, normalize=False) \n",
    "    \n"
   ]
  },
  {
   "cell_type": "code",
   "execution_count": 95,
   "metadata": {},
   "outputs": [
    {
     "name": "stdout",
     "output_type": "stream",
     "text": [
      "True\n",
      "True\n"
     ]
    }
   ],
   "source": [
    "#saved_dir = \"saved/GroundTruth_cellData/0529_191042/\"\n",
    "resume = os.path.join(saved_dir, \"model_best.pth\")\n",
    "\n",
    "print(os.path.isdir(saved_dir))\n",
    "print(os.path.exists(resume))\n",
    "\n",
    "#config = torch.load(saved_dir + \"config.json\")\n",
    "os.environ[\"CUDA_VISIBLE_DEVICES\"] = \"0,1\""
   ]
  },
  {
   "cell_type": "code",
   "execution_count": 96,
   "metadata": {
    "scrolled": true
   },
   "outputs": [
    {
     "name": "stderr",
     "output_type": "stream",
     "text": [
      "\n",
      "  0%|          | 0/14 [00:00<?, ?it/s]\u001b[A"
     ]
    },
    {
     "name": "stdout",
     "output_type": "stream",
     "text": [
      "Tesla K80\n"
     ]
    },
    {
     "name": "stderr",
     "output_type": "stream",
     "text": [
      "\n",
      "  7%|▋         | 1/14 [00:00<00:02,  5.56it/s]\u001b[A\n",
      " 14%|█▍        | 2/14 [00:00<00:01,  6.27it/s]\u001b[A"
     ]
    },
    {
     "name": "stdout",
     "output_type": "stream",
     "text": [
      "prediction percentages\n",
      "[0.9948349  0.00516512]\n",
      "1\n",
      "prediction percentages\n",
      "[0.0065346  0.99346536]\n",
      "1\n"
     ]
    },
    {
     "name": "stderr",
     "output_type": "stream",
     "text": [
      "\n",
      " 29%|██▊       | 4/14 [00:00<00:01,  7.21it/s]\u001b[A"
     ]
    },
    {
     "name": "stdout",
     "output_type": "stream",
     "text": [
      "prediction percentages\n",
      "[0.00946809 0.9905319 ]\n",
      "1\n",
      "prediction percentages\n",
      "[0.00629968 0.99370027]\n",
      "1\n",
      "prediction percentages\n",
      "[0.9028652  0.09713478]\n",
      "1\n"
     ]
    },
    {
     "name": "stderr",
     "output_type": "stream",
     "text": [
      "\n",
      " 43%|████▎     | 6/14 [00:00<00:01,  7.98it/s]\u001b[A\n",
      " 57%|█████▋    | 8/14 [00:00<00:00,  8.85it/s]\u001b[A"
     ]
    },
    {
     "name": "stdout",
     "output_type": "stream",
     "text": [
      "prediction percentages\n",
      "[0.04925813 0.9507418 ]\n",
      "1\n",
      "prediction percentages\n",
      "[0.01461237 0.9853876 ]\n",
      "1\n",
      "prediction percentages\n",
      "[0.00954165 0.99045837]\n",
      "1\n"
     ]
    },
    {
     "name": "stderr",
     "output_type": "stream",
     "text": [
      "\n",
      " 71%|███████▏  | 10/14 [00:00<00:00,  9.85it/s]\u001b[A"
     ]
    },
    {
     "name": "stdout",
     "output_type": "stream",
     "text": [
      "prediction percentages\n",
      "[0.77267116 0.22732879]\n",
      "1\n",
      "prediction percentages\n",
      "[0.01375532 0.98624474]\n",
      "1\n",
      "prediction percentages\n"
     ]
    },
    {
     "name": "stderr",
     "output_type": "stream",
     "text": [
      "\n",
      " 86%|████████▌ | 12/14 [00:01<00:00, 10.88it/s]\u001b[A\n",
      "100%|██████████| 14/14 [00:01<00:00, 11.19it/s]\u001b[A"
     ]
    },
    {
     "name": "stdout",
     "output_type": "stream",
     "text": [
      "prediction percentages\n",
      "prediction percentages\n",
      "prediction percentages\n",
      "(850, 1)\n",
      "(850, 2)\n",
      "(850, 3)\n",
      "num test images = 850\n",
      "loss = 0.6339\n",
      "my_metric = 0.8400\n",
      "f1 = 0.9053\n",
      "balanced_accuracy = 0.8421\n",
      "precision = 0.9888\n",
      "recall = 0.8400\n",
      "My_metric is accuracy\n",
      "Confusion matrix, without normalization\n",
      "[[375  41]\n",
      " [ 95 339]]\n"
     ]
    },
    {
     "data": {
      "application/javascript": [
       "/* Put everything inside the global mpl namespace */\n",
       "window.mpl = {};\n",
       "\n",
       "\n",
       "mpl.get_websocket_type = function() {\n",
       "    if (typeof(WebSocket) !== 'undefined') {\n",
       "        return WebSocket;\n",
       "    } else if (typeof(MozWebSocket) !== 'undefined') {\n",
       "        return MozWebSocket;\n",
       "    } else {\n",
       "        alert('Your browser does not have WebSocket support. ' +\n",
       "              'Please try Chrome, Safari or Firefox ≥ 6. ' +\n",
       "              'Firefox 4 and 5 are also supported but you ' +\n",
       "              'have to enable WebSockets in about:config.');\n",
       "    };\n",
       "}\n",
       "\n",
       "mpl.figure = function(figure_id, websocket, ondownload, parent_element) {\n",
       "    this.id = figure_id;\n",
       "\n",
       "    this.ws = websocket;\n",
       "\n",
       "    this.supports_binary = (this.ws.binaryType != undefined);\n",
       "\n",
       "    if (!this.supports_binary) {\n",
       "        var warnings = document.getElementById(\"mpl-warnings\");\n",
       "        if (warnings) {\n",
       "            warnings.style.display = 'block';\n",
       "            warnings.textContent = (\n",
       "                \"This browser does not support binary websocket messages. \" +\n",
       "                    \"Performance may be slow.\");\n",
       "        }\n",
       "    }\n",
       "\n",
       "    this.imageObj = new Image();\n",
       "\n",
       "    this.context = undefined;\n",
       "    this.message = undefined;\n",
       "    this.canvas = undefined;\n",
       "    this.rubberband_canvas = undefined;\n",
       "    this.rubberband_context = undefined;\n",
       "    this.format_dropdown = undefined;\n",
       "\n",
       "    this.image_mode = 'full';\n",
       "\n",
       "    this.root = $('<div/>');\n",
       "    this._root_extra_style(this.root)\n",
       "    this.root.attr('style', 'display: inline-block');\n",
       "\n",
       "    $(parent_element).append(this.root);\n",
       "\n",
       "    this._init_header(this);\n",
       "    this._init_canvas(this);\n",
       "    this._init_toolbar(this);\n",
       "\n",
       "    var fig = this;\n",
       "\n",
       "    this.waiting = false;\n",
       "\n",
       "    this.ws.onopen =  function () {\n",
       "            fig.send_message(\"supports_binary\", {value: fig.supports_binary});\n",
       "            fig.send_message(\"send_image_mode\", {});\n",
       "            if (mpl.ratio != 1) {\n",
       "                fig.send_message(\"set_dpi_ratio\", {'dpi_ratio': mpl.ratio});\n",
       "            }\n",
       "            fig.send_message(\"refresh\", {});\n",
       "        }\n",
       "\n",
       "    this.imageObj.onload = function() {\n",
       "            if (fig.image_mode == 'full') {\n",
       "                // Full images could contain transparency (where diff images\n",
       "                // almost always do), so we need to clear the canvas so that\n",
       "                // there is no ghosting.\n",
       "                fig.context.clearRect(0, 0, fig.canvas.width, fig.canvas.height);\n",
       "            }\n",
       "            fig.context.drawImage(fig.imageObj, 0, 0);\n",
       "        };\n",
       "\n",
       "    this.imageObj.onunload = function() {\n",
       "        fig.ws.close();\n",
       "    }\n",
       "\n",
       "    this.ws.onmessage = this._make_on_message_function(this);\n",
       "\n",
       "    this.ondownload = ondownload;\n",
       "}\n",
       "\n",
       "mpl.figure.prototype._init_header = function() {\n",
       "    var titlebar = $(\n",
       "        '<div class=\"ui-dialog-titlebar ui-widget-header ui-corner-all ' +\n",
       "        'ui-helper-clearfix\"/>');\n",
       "    var titletext = $(\n",
       "        '<div class=\"ui-dialog-title\" style=\"width: 100%; ' +\n",
       "        'text-align: center; padding: 3px;\"/>');\n",
       "    titlebar.append(titletext)\n",
       "    this.root.append(titlebar);\n",
       "    this.header = titletext[0];\n",
       "}\n",
       "\n",
       "\n",
       "\n",
       "mpl.figure.prototype._canvas_extra_style = function(canvas_div) {\n",
       "\n",
       "}\n",
       "\n",
       "\n",
       "mpl.figure.prototype._root_extra_style = function(canvas_div) {\n",
       "\n",
       "}\n",
       "\n",
       "mpl.figure.prototype._init_canvas = function() {\n",
       "    var fig = this;\n",
       "\n",
       "    var canvas_div = $('<div/>');\n",
       "\n",
       "    canvas_div.attr('style', 'position: relative; clear: both; outline: 0');\n",
       "\n",
       "    function canvas_keyboard_event(event) {\n",
       "        return fig.key_event(event, event['data']);\n",
       "    }\n",
       "\n",
       "    canvas_div.keydown('key_press', canvas_keyboard_event);\n",
       "    canvas_div.keyup('key_release', canvas_keyboard_event);\n",
       "    this.canvas_div = canvas_div\n",
       "    this._canvas_extra_style(canvas_div)\n",
       "    this.root.append(canvas_div);\n",
       "\n",
       "    var canvas = $('<canvas/>');\n",
       "    canvas.addClass('mpl-canvas');\n",
       "    canvas.attr('style', \"left: 0; top: 0; z-index: 0; outline: 0\")\n",
       "\n",
       "    this.canvas = canvas[0];\n",
       "    this.context = canvas[0].getContext(\"2d\");\n",
       "\n",
       "    var backingStore = this.context.backingStorePixelRatio ||\n",
       "\tthis.context.webkitBackingStorePixelRatio ||\n",
       "\tthis.context.mozBackingStorePixelRatio ||\n",
       "\tthis.context.msBackingStorePixelRatio ||\n",
       "\tthis.context.oBackingStorePixelRatio ||\n",
       "\tthis.context.backingStorePixelRatio || 1;\n",
       "\n",
       "    mpl.ratio = (window.devicePixelRatio || 1) / backingStore;\n",
       "\n",
       "    var rubberband = $('<canvas/>');\n",
       "    rubberband.attr('style', \"position: absolute; left: 0; top: 0; z-index: 1;\")\n",
       "\n",
       "    var pass_mouse_events = true;\n",
       "\n",
       "    canvas_div.resizable({\n",
       "        start: function(event, ui) {\n",
       "            pass_mouse_events = false;\n",
       "        },\n",
       "        resize: function(event, ui) {\n",
       "            fig.request_resize(ui.size.width, ui.size.height);\n",
       "        },\n",
       "        stop: function(event, ui) {\n",
       "            pass_mouse_events = true;\n",
       "            fig.request_resize(ui.size.width, ui.size.height);\n",
       "        },\n",
       "    });\n",
       "\n",
       "    function mouse_event_fn(event) {\n",
       "        if (pass_mouse_events)\n",
       "            return fig.mouse_event(event, event['data']);\n",
       "    }\n",
       "\n",
       "    rubberband.mousedown('button_press', mouse_event_fn);\n",
       "    rubberband.mouseup('button_release', mouse_event_fn);\n",
       "    // Throttle sequential mouse events to 1 every 20ms.\n",
       "    rubberband.mousemove('motion_notify', mouse_event_fn);\n",
       "\n",
       "    rubberband.mouseenter('figure_enter', mouse_event_fn);\n",
       "    rubberband.mouseleave('figure_leave', mouse_event_fn);\n",
       "\n",
       "    canvas_div.on(\"wheel\", function (event) {\n",
       "        event = event.originalEvent;\n",
       "        event['data'] = 'scroll'\n",
       "        if (event.deltaY < 0) {\n",
       "            event.step = 1;\n",
       "        } else {\n",
       "            event.step = -1;\n",
       "        }\n",
       "        mouse_event_fn(event);\n",
       "    });\n",
       "\n",
       "    canvas_div.append(canvas);\n",
       "    canvas_div.append(rubberband);\n",
       "\n",
       "    this.rubberband = rubberband;\n",
       "    this.rubberband_canvas = rubberband[0];\n",
       "    this.rubberband_context = rubberband[0].getContext(\"2d\");\n",
       "    this.rubberband_context.strokeStyle = \"#000000\";\n",
       "\n",
       "    this._resize_canvas = function(width, height) {\n",
       "        // Keep the size of the canvas, canvas container, and rubber band\n",
       "        // canvas in synch.\n",
       "        canvas_div.css('width', width)\n",
       "        canvas_div.css('height', height)\n",
       "\n",
       "        canvas.attr('width', width * mpl.ratio);\n",
       "        canvas.attr('height', height * mpl.ratio);\n",
       "        canvas.attr('style', 'width: ' + width + 'px; height: ' + height + 'px;');\n",
       "\n",
       "        rubberband.attr('width', width);\n",
       "        rubberband.attr('height', height);\n",
       "    }\n",
       "\n",
       "    // Set the figure to an initial 600x600px, this will subsequently be updated\n",
       "    // upon first draw.\n",
       "    this._resize_canvas(600, 600);\n",
       "\n",
       "    // Disable right mouse context menu.\n",
       "    $(this.rubberband_canvas).bind(\"contextmenu\",function(e){\n",
       "        return false;\n",
       "    });\n",
       "\n",
       "    function set_focus () {\n",
       "        canvas.focus();\n",
       "        canvas_div.focus();\n",
       "    }\n",
       "\n",
       "    window.setTimeout(set_focus, 100);\n",
       "}\n",
       "\n",
       "mpl.figure.prototype._init_toolbar = function() {\n",
       "    var fig = this;\n",
       "\n",
       "    var nav_element = $('<div/>');\n",
       "    nav_element.attr('style', 'width: 100%');\n",
       "    this.root.append(nav_element);\n",
       "\n",
       "    // Define a callback function for later on.\n",
       "    function toolbar_event(event) {\n",
       "        return fig.toolbar_button_onclick(event['data']);\n",
       "    }\n",
       "    function toolbar_mouse_event(event) {\n",
       "        return fig.toolbar_button_onmouseover(event['data']);\n",
       "    }\n",
       "\n",
       "    for(var toolbar_ind in mpl.toolbar_items) {\n",
       "        var name = mpl.toolbar_items[toolbar_ind][0];\n",
       "        var tooltip = mpl.toolbar_items[toolbar_ind][1];\n",
       "        var image = mpl.toolbar_items[toolbar_ind][2];\n",
       "        var method_name = mpl.toolbar_items[toolbar_ind][3];\n",
       "\n",
       "        if (!name) {\n",
       "            // put a spacer in here.\n",
       "            continue;\n",
       "        }\n",
       "        var button = $('<button/>');\n",
       "        button.addClass('ui-button ui-widget ui-state-default ui-corner-all ' +\n",
       "                        'ui-button-icon-only');\n",
       "        button.attr('role', 'button');\n",
       "        button.attr('aria-disabled', 'false');\n",
       "        button.click(method_name, toolbar_event);\n",
       "        button.mouseover(tooltip, toolbar_mouse_event);\n",
       "\n",
       "        var icon_img = $('<span/>');\n",
       "        icon_img.addClass('ui-button-icon-primary ui-icon');\n",
       "        icon_img.addClass(image);\n",
       "        icon_img.addClass('ui-corner-all');\n",
       "\n",
       "        var tooltip_span = $('<span/>');\n",
       "        tooltip_span.addClass('ui-button-text');\n",
       "        tooltip_span.html(tooltip);\n",
       "\n",
       "        button.append(icon_img);\n",
       "        button.append(tooltip_span);\n",
       "\n",
       "        nav_element.append(button);\n",
       "    }\n",
       "\n",
       "    var fmt_picker_span = $('<span/>');\n",
       "\n",
       "    var fmt_picker = $('<select/>');\n",
       "    fmt_picker.addClass('mpl-toolbar-option ui-widget ui-widget-content');\n",
       "    fmt_picker_span.append(fmt_picker);\n",
       "    nav_element.append(fmt_picker_span);\n",
       "    this.format_dropdown = fmt_picker[0];\n",
       "\n",
       "    for (var ind in mpl.extensions) {\n",
       "        var fmt = mpl.extensions[ind];\n",
       "        var option = $(\n",
       "            '<option/>', {selected: fmt === mpl.default_extension}).html(fmt);\n",
       "        fmt_picker.append(option);\n",
       "    }\n",
       "\n",
       "    // Add hover states to the ui-buttons\n",
       "    $( \".ui-button\" ).hover(\n",
       "        function() { $(this).addClass(\"ui-state-hover\");},\n",
       "        function() { $(this).removeClass(\"ui-state-hover\");}\n",
       "    );\n",
       "\n",
       "    var status_bar = $('<span class=\"mpl-message\"/>');\n",
       "    nav_element.append(status_bar);\n",
       "    this.message = status_bar[0];\n",
       "}\n",
       "\n",
       "mpl.figure.prototype.request_resize = function(x_pixels, y_pixels) {\n",
       "    // Request matplotlib to resize the figure. Matplotlib will then trigger a resize in the client,\n",
       "    // which will in turn request a refresh of the image.\n",
       "    this.send_message('resize', {'width': x_pixels, 'height': y_pixels});\n",
       "}\n",
       "\n",
       "mpl.figure.prototype.send_message = function(type, properties) {\n",
       "    properties['type'] = type;\n",
       "    properties['figure_id'] = this.id;\n",
       "    this.ws.send(JSON.stringify(properties));\n",
       "}\n",
       "\n",
       "mpl.figure.prototype.send_draw_message = function() {\n",
       "    if (!this.waiting) {\n",
       "        this.waiting = true;\n",
       "        this.ws.send(JSON.stringify({type: \"draw\", figure_id: this.id}));\n",
       "    }\n",
       "}\n",
       "\n",
       "\n",
       "mpl.figure.prototype.handle_save = function(fig, msg) {\n",
       "    var format_dropdown = fig.format_dropdown;\n",
       "    var format = format_dropdown.options[format_dropdown.selectedIndex].value;\n",
       "    fig.ondownload(fig, format);\n",
       "}\n",
       "\n",
       "\n",
       "mpl.figure.prototype.handle_resize = function(fig, msg) {\n",
       "    var size = msg['size'];\n",
       "    if (size[0] != fig.canvas.width || size[1] != fig.canvas.height) {\n",
       "        fig._resize_canvas(size[0], size[1]);\n",
       "        fig.send_message(\"refresh\", {});\n",
       "    };\n",
       "}\n",
       "\n",
       "mpl.figure.prototype.handle_rubberband = function(fig, msg) {\n",
       "    var x0 = msg['x0'] / mpl.ratio;\n",
       "    var y0 = (fig.canvas.height - msg['y0']) / mpl.ratio;\n",
       "    var x1 = msg['x1'] / mpl.ratio;\n",
       "    var y1 = (fig.canvas.height - msg['y1']) / mpl.ratio;\n",
       "    x0 = Math.floor(x0) + 0.5;\n",
       "    y0 = Math.floor(y0) + 0.5;\n",
       "    x1 = Math.floor(x1) + 0.5;\n",
       "    y1 = Math.floor(y1) + 0.5;\n",
       "    var min_x = Math.min(x0, x1);\n",
       "    var min_y = Math.min(y0, y1);\n",
       "    var width = Math.abs(x1 - x0);\n",
       "    var height = Math.abs(y1 - y0);\n",
       "\n",
       "    fig.rubberband_context.clearRect(\n",
       "        0, 0, fig.canvas.width, fig.canvas.height);\n",
       "\n",
       "    fig.rubberband_context.strokeRect(min_x, min_y, width, height);\n",
       "}\n",
       "\n",
       "mpl.figure.prototype.handle_figure_label = function(fig, msg) {\n",
       "    // Updates the figure title.\n",
       "    fig.header.textContent = msg['label'];\n",
       "}\n",
       "\n",
       "mpl.figure.prototype.handle_cursor = function(fig, msg) {\n",
       "    var cursor = msg['cursor'];\n",
       "    switch(cursor)\n",
       "    {\n",
       "    case 0:\n",
       "        cursor = 'pointer';\n",
       "        break;\n",
       "    case 1:\n",
       "        cursor = 'default';\n",
       "        break;\n",
       "    case 2:\n",
       "        cursor = 'crosshair';\n",
       "        break;\n",
       "    case 3:\n",
       "        cursor = 'move';\n",
       "        break;\n",
       "    }\n",
       "    fig.rubberband_canvas.style.cursor = cursor;\n",
       "}\n",
       "\n",
       "mpl.figure.prototype.handle_message = function(fig, msg) {\n",
       "    fig.message.textContent = msg['message'];\n",
       "}\n",
       "\n",
       "mpl.figure.prototype.handle_draw = function(fig, msg) {\n",
       "    // Request the server to send over a new figure.\n",
       "    fig.send_draw_message();\n",
       "}\n",
       "\n",
       "mpl.figure.prototype.handle_image_mode = function(fig, msg) {\n",
       "    fig.image_mode = msg['mode'];\n",
       "}\n",
       "\n",
       "mpl.figure.prototype.updated_canvas_event = function() {\n",
       "    // Called whenever the canvas gets updated.\n",
       "    this.send_message(\"ack\", {});\n",
       "}\n",
       "\n",
       "// A function to construct a web socket function for onmessage handling.\n",
       "// Called in the figure constructor.\n",
       "mpl.figure.prototype._make_on_message_function = function(fig) {\n",
       "    return function socket_on_message(evt) {\n",
       "        if (evt.data instanceof Blob) {\n",
       "            /* FIXME: We get \"Resource interpreted as Image but\n",
       "             * transferred with MIME type text/plain:\" errors on\n",
       "             * Chrome.  But how to set the MIME type?  It doesn't seem\n",
       "             * to be part of the websocket stream */\n",
       "            evt.data.type = \"image/png\";\n",
       "\n",
       "            /* Free the memory for the previous frames */\n",
       "            if (fig.imageObj.src) {\n",
       "                (window.URL || window.webkitURL).revokeObjectURL(\n",
       "                    fig.imageObj.src);\n",
       "            }\n",
       "\n",
       "            fig.imageObj.src = (window.URL || window.webkitURL).createObjectURL(\n",
       "                evt.data);\n",
       "            fig.updated_canvas_event();\n",
       "            fig.waiting = false;\n",
       "            return;\n",
       "        }\n",
       "        else if (typeof evt.data === 'string' && evt.data.slice(0, 21) == \"data:image/png;base64\") {\n",
       "            fig.imageObj.src = evt.data;\n",
       "            fig.updated_canvas_event();\n",
       "            fig.waiting = false;\n",
       "            return;\n",
       "        }\n",
       "\n",
       "        var msg = JSON.parse(evt.data);\n",
       "        var msg_type = msg['type'];\n",
       "\n",
       "        // Call the  \"handle_{type}\" callback, which takes\n",
       "        // the figure and JSON message as its only arguments.\n",
       "        try {\n",
       "            var callback = fig[\"handle_\" + msg_type];\n",
       "        } catch (e) {\n",
       "            console.log(\"No handler for the '\" + msg_type + \"' message type: \", msg);\n",
       "            return;\n",
       "        }\n",
       "\n",
       "        if (callback) {\n",
       "            try {\n",
       "                // console.log(\"Handling '\" + msg_type + \"' message: \", msg);\n",
       "                callback(fig, msg);\n",
       "            } catch (e) {\n",
       "                console.log(\"Exception inside the 'handler_\" + msg_type + \"' callback:\", e, e.stack, msg);\n",
       "            }\n",
       "        }\n",
       "    };\n",
       "}\n",
       "\n",
       "// from http://stackoverflow.com/questions/1114465/getting-mouse-location-in-canvas\n",
       "mpl.findpos = function(e) {\n",
       "    //this section is from http://www.quirksmode.org/js/events_properties.html\n",
       "    var targ;\n",
       "    if (!e)\n",
       "        e = window.event;\n",
       "    if (e.target)\n",
       "        targ = e.target;\n",
       "    else if (e.srcElement)\n",
       "        targ = e.srcElement;\n",
       "    if (targ.nodeType == 3) // defeat Safari bug\n",
       "        targ = targ.parentNode;\n",
       "\n",
       "    // jQuery normalizes the pageX and pageY\n",
       "    // pageX,Y are the mouse positions relative to the document\n",
       "    // offset() returns the position of the element relative to the document\n",
       "    var x = e.pageX - $(targ).offset().left;\n",
       "    var y = e.pageY - $(targ).offset().top;\n",
       "\n",
       "    return {\"x\": x, \"y\": y};\n",
       "};\n",
       "\n",
       "/*\n",
       " * return a copy of an object with only non-object keys\n",
       " * we need this to avoid circular references\n",
       " * http://stackoverflow.com/a/24161582/3208463\n",
       " */\n",
       "function simpleKeys (original) {\n",
       "  return Object.keys(original).reduce(function (obj, key) {\n",
       "    if (typeof original[key] !== 'object')\n",
       "        obj[key] = original[key]\n",
       "    return obj;\n",
       "  }, {});\n",
       "}\n",
       "\n",
       "mpl.figure.prototype.mouse_event = function(event, name) {\n",
       "    var canvas_pos = mpl.findpos(event)\n",
       "\n",
       "    if (name === 'button_press')\n",
       "    {\n",
       "        this.canvas.focus();\n",
       "        this.canvas_div.focus();\n",
       "    }\n",
       "\n",
       "    var x = canvas_pos.x * mpl.ratio;\n",
       "    var y = canvas_pos.y * mpl.ratio;\n",
       "\n",
       "    this.send_message(name, {x: x, y: y, button: event.button,\n",
       "                             step: event.step,\n",
       "                             guiEvent: simpleKeys(event)});\n",
       "\n",
       "    /* This prevents the web browser from automatically changing to\n",
       "     * the text insertion cursor when the button is pressed.  We want\n",
       "     * to control all of the cursor setting manually through the\n",
       "     * 'cursor' event from matplotlib */\n",
       "    event.preventDefault();\n",
       "    return false;\n",
       "}\n",
       "\n",
       "mpl.figure.prototype._key_event_extra = function(event, name) {\n",
       "    // Handle any extra behaviour associated with a key event\n",
       "}\n",
       "\n",
       "mpl.figure.prototype.key_event = function(event, name) {\n",
       "\n",
       "    // Prevent repeat events\n",
       "    if (name == 'key_press')\n",
       "    {\n",
       "        if (event.which === this._key)\n",
       "            return;\n",
       "        else\n",
       "            this._key = event.which;\n",
       "    }\n",
       "    if (name == 'key_release')\n",
       "        this._key = null;\n",
       "\n",
       "    var value = '';\n",
       "    if (event.ctrlKey && event.which != 17)\n",
       "        value += \"ctrl+\";\n",
       "    if (event.altKey && event.which != 18)\n",
       "        value += \"alt+\";\n",
       "    if (event.shiftKey && event.which != 16)\n",
       "        value += \"shift+\";\n",
       "\n",
       "    value += 'k';\n",
       "    value += event.which.toString();\n",
       "\n",
       "    this._key_event_extra(event, name);\n",
       "\n",
       "    this.send_message(name, {key: value,\n",
       "                             guiEvent: simpleKeys(event)});\n",
       "    return false;\n",
       "}\n",
       "\n",
       "mpl.figure.prototype.toolbar_button_onclick = function(name) {\n",
       "    if (name == 'download') {\n",
       "        this.handle_save(this, null);\n",
       "    } else {\n",
       "        this.send_message(\"toolbar_button\", {name: name});\n",
       "    }\n",
       "};\n",
       "\n",
       "mpl.figure.prototype.toolbar_button_onmouseover = function(tooltip) {\n",
       "    this.message.textContent = tooltip;\n",
       "};\n",
       "mpl.toolbar_items = [[\"Home\", \"Reset original view\", \"fa fa-home icon-home\", \"home\"], [\"Back\", \"Back to previous view\", \"fa fa-arrow-left icon-arrow-left\", \"back\"], [\"Forward\", \"Forward to next view\", \"fa fa-arrow-right icon-arrow-right\", \"forward\"], [\"\", \"\", \"\", \"\"], [\"Pan\", \"Pan axes with left mouse, zoom with right\", \"fa fa-arrows icon-move\", \"pan\"], [\"Zoom\", \"Zoom to rectangle\", \"fa fa-square-o icon-check-empty\", \"zoom\"], [\"\", \"\", \"\", \"\"], [\"Download\", \"Download plot\", \"fa fa-floppy-o icon-save\", \"download\"]];\n",
       "\n",
       "mpl.extensions = [\"eps\", \"jpeg\", \"pdf\", \"png\", \"ps\", \"raw\", \"svg\", \"tif\"];\n",
       "\n",
       "mpl.default_extension = \"png\";var comm_websocket_adapter = function(comm) {\n",
       "    // Create a \"websocket\"-like object which calls the given IPython comm\n",
       "    // object with the appropriate methods. Currently this is a non binary\n",
       "    // socket, so there is still some room for performance tuning.\n",
       "    var ws = {};\n",
       "\n",
       "    ws.close = function() {\n",
       "        comm.close()\n",
       "    };\n",
       "    ws.send = function(m) {\n",
       "        //console.log('sending', m);\n",
       "        comm.send(m);\n",
       "    };\n",
       "    // Register the callback with on_msg.\n",
       "    comm.on_msg(function(msg) {\n",
       "        //console.log('receiving', msg['content']['data'], msg);\n",
       "        // Pass the mpl event to the overridden (by mpl) onmessage function.\n",
       "        ws.onmessage(msg['content']['data'])\n",
       "    });\n",
       "    return ws;\n",
       "}\n",
       "\n",
       "mpl.mpl_figure_comm = function(comm, msg) {\n",
       "    // This is the function which gets called when the mpl process\n",
       "    // starts-up an IPython Comm through the \"matplotlib\" channel.\n",
       "\n",
       "    var id = msg.content.data.id;\n",
       "    // Get hold of the div created by the display call when the Comm\n",
       "    // socket was opened in Python.\n",
       "    var element = $(\"#\" + id);\n",
       "    var ws_proxy = comm_websocket_adapter(comm)\n",
       "\n",
       "    function ondownload(figure, format) {\n",
       "        window.open(figure.imageObj.src);\n",
       "    }\n",
       "\n",
       "    var fig = new mpl.figure(id, ws_proxy,\n",
       "                           ondownload,\n",
       "                           element.get(0));\n",
       "\n",
       "    // Call onopen now - mpl needs it, as it is assuming we've passed it a real\n",
       "    // web socket which is closed, not our websocket->open comm proxy.\n",
       "    ws_proxy.onopen();\n",
       "\n",
       "    fig.parent_element = element.get(0);\n",
       "    fig.cell_info = mpl.find_output_cell(\"<div id='\" + id + \"'></div>\");\n",
       "    if (!fig.cell_info) {\n",
       "        console.error(\"Failed to find cell for figure\", id, fig);\n",
       "        return;\n",
       "    }\n",
       "\n",
       "    var output_index = fig.cell_info[2]\n",
       "    var cell = fig.cell_info[0];\n",
       "\n",
       "};\n",
       "\n",
       "mpl.figure.prototype.handle_close = function(fig, msg) {\n",
       "    var width = fig.canvas.width/mpl.ratio\n",
       "    fig.root.unbind('remove')\n",
       "\n",
       "    // Update the output cell to use the data from the current canvas.\n",
       "    fig.push_to_output();\n",
       "    var dataURL = fig.canvas.toDataURL();\n",
       "    // Re-enable the keyboard manager in IPython - without this line, in FF,\n",
       "    // the notebook keyboard shortcuts fail.\n",
       "    IPython.keyboard_manager.enable()\n",
       "    $(fig.parent_element).html('<img src=\"' + dataURL + '\" width=\"' + width + '\">');\n",
       "    fig.close_ws(fig, msg);\n",
       "}\n",
       "\n",
       "mpl.figure.prototype.close_ws = function(fig, msg){\n",
       "    fig.send_message('closing', msg);\n",
       "    // fig.ws.close()\n",
       "}\n",
       "\n",
       "mpl.figure.prototype.push_to_output = function(remove_interactive) {\n",
       "    // Turn the data on the canvas into data in the output cell.\n",
       "    var width = this.canvas.width/mpl.ratio\n",
       "    var dataURL = this.canvas.toDataURL();\n",
       "    this.cell_info[1]['text/html'] = '<img src=\"' + dataURL + '\" width=\"' + width + '\">';\n",
       "}\n",
       "\n",
       "mpl.figure.prototype.updated_canvas_event = function() {\n",
       "    // Tell IPython that the notebook contents must change.\n",
       "    IPython.notebook.set_dirty(true);\n",
       "    this.send_message(\"ack\", {});\n",
       "    var fig = this;\n",
       "    // Wait a second, then push the new image to the DOM so\n",
       "    // that it is saved nicely (might be nice to debounce this).\n",
       "    setTimeout(function () { fig.push_to_output() }, 1000);\n",
       "}\n",
       "\n",
       "mpl.figure.prototype._init_toolbar = function() {\n",
       "    var fig = this;\n",
       "\n",
       "    var nav_element = $('<div/>');\n",
       "    nav_element.attr('style', 'width: 100%');\n",
       "    this.root.append(nav_element);\n",
       "\n",
       "    // Define a callback function for later on.\n",
       "    function toolbar_event(event) {\n",
       "        return fig.toolbar_button_onclick(event['data']);\n",
       "    }\n",
       "    function toolbar_mouse_event(event) {\n",
       "        return fig.toolbar_button_onmouseover(event['data']);\n",
       "    }\n",
       "\n",
       "    for(var toolbar_ind in mpl.toolbar_items){\n",
       "        var name = mpl.toolbar_items[toolbar_ind][0];\n",
       "        var tooltip = mpl.toolbar_items[toolbar_ind][1];\n",
       "        var image = mpl.toolbar_items[toolbar_ind][2];\n",
       "        var method_name = mpl.toolbar_items[toolbar_ind][3];\n",
       "\n",
       "        if (!name) { continue; };\n",
       "\n",
       "        var button = $('<button class=\"btn btn-default\" href=\"#\" title=\"' + name + '\"><i class=\"fa ' + image + ' fa-lg\"></i></button>');\n",
       "        button.click(method_name, toolbar_event);\n",
       "        button.mouseover(tooltip, toolbar_mouse_event);\n",
       "        nav_element.append(button);\n",
       "    }\n",
       "\n",
       "    // Add the status bar.\n",
       "    var status_bar = $('<span class=\"mpl-message\" style=\"text-align:right; float: right;\"/>');\n",
       "    nav_element.append(status_bar);\n",
       "    this.message = status_bar[0];\n",
       "\n",
       "    // Add the close button to the window.\n",
       "    var buttongrp = $('<div class=\"btn-group inline pull-right\"></div>');\n",
       "    var button = $('<button class=\"btn btn-mini btn-primary\" href=\"#\" title=\"Stop Interaction\"><i class=\"fa fa-power-off icon-remove icon-large\"></i></button>');\n",
       "    button.click(function (evt) { fig.handle_close(fig, {}); } );\n",
       "    button.mouseover('Stop Interaction', toolbar_mouse_event);\n",
       "    buttongrp.append(button);\n",
       "    var titlebar = this.root.find($('.ui-dialog-titlebar'));\n",
       "    titlebar.prepend(buttongrp);\n",
       "}\n",
       "\n",
       "mpl.figure.prototype._root_extra_style = function(el){\n",
       "    var fig = this\n",
       "    el.on(\"remove\", function(){\n",
       "\tfig.close_ws(fig, {});\n",
       "    });\n",
       "}\n",
       "\n",
       "mpl.figure.prototype._canvas_extra_style = function(el){\n",
       "    // this is important to make the div 'focusable\n",
       "    el.attr('tabindex', 0)\n",
       "    // reach out to IPython and tell the keyboard manager to turn it's self\n",
       "    // off when our div gets focus\n",
       "\n",
       "    // location in version 3\n",
       "    if (IPython.notebook.keyboard_manager) {\n",
       "        IPython.notebook.keyboard_manager.register_events(el);\n",
       "    }\n",
       "    else {\n",
       "        // location in version 2\n",
       "        IPython.keyboard_manager.register_events(el);\n",
       "    }\n",
       "\n",
       "}\n",
       "\n",
       "mpl.figure.prototype._key_event_extra = function(event, name) {\n",
       "    var manager = IPython.notebook.keyboard_manager;\n",
       "    if (!manager)\n",
       "        manager = IPython.keyboard_manager;\n",
       "\n",
       "    // Check for shift+enter\n",
       "    if (event.shiftKey && event.which == 13) {\n",
       "        this.canvas_div.blur();\n",
       "        event.shiftKey = false;\n",
       "        // Send a \"J\" for go to next cell\n",
       "        event.which = 74;\n",
       "        event.keyCode = 74;\n",
       "        manager.command_mode();\n",
       "        manager.handle_keydown(event);\n",
       "    }\n",
       "}\n",
       "\n",
       "mpl.figure.prototype.handle_save = function(fig, msg) {\n",
       "    fig.ondownload(fig, null);\n",
       "}\n",
       "\n",
       "\n",
       "mpl.find_output_cell = function(html_output) {\n",
       "    // Return the cell and output element which can be found *uniquely* in the notebook.\n",
       "    // Note - this is a bit hacky, but it is done because the \"notebook_saving.Notebook\"\n",
       "    // IPython event is triggered only after the cells have been serialised, which for\n",
       "    // our purposes (turning an active figure into a static one), is too late.\n",
       "    var cells = IPython.notebook.get_cells();\n",
       "    var ncells = cells.length;\n",
       "    for (var i=0; i<ncells; i++) {\n",
       "        var cell = cells[i];\n",
       "        if (cell.cell_type === 'code'){\n",
       "            for (var j=0; j<cell.output_area.outputs.length; j++) {\n",
       "                var data = cell.output_area.outputs[j];\n",
       "                if (data.data) {\n",
       "                    // IPython >= 3 moved mimebundle to data attribute of output\n",
       "                    data = data.data;\n",
       "                }\n",
       "                if (data['text/html'] == html_output) {\n",
       "                    return [cell, data, j];\n",
       "                }\n",
       "            }\n",
       "        }\n",
       "    }\n",
       "}\n",
       "\n",
       "// Register the function which deals with the matplotlib target/channel.\n",
       "// The kernel may be null if the page has been refreshed.\n",
       "if (IPython.notebook.kernel != null) {\n",
       "    IPython.notebook.kernel.comm_manager.register_target('matplotlib', mpl.mpl_figure_comm);\n",
       "}\n"
      ],
      "text/plain": [
       "<IPython.core.display.Javascript object>"
      ]
     },
     "metadata": {},
     "output_type": "display_data"
    },
    {
     "data": {
      "text/html": [
       "<img src=\"data:image/png;base64,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\" width=\"640\">"
      ],
      "text/plain": [
       "<IPython.core.display.HTML object>"
      ]
     },
     "metadata": {},
     "output_type": "display_data"
    }
   ],
   "source": [
    "#Test\n",
    "main2(config, resume)\n"
   ]
  },
  {
   "cell_type": "code",
   "execution_count": null,
   "metadata": {},
   "outputs": [],
   "source": []
  }
 ],
 "metadata": {
  "kernelspec": {
   "display_name": "Python 3",
   "language": "python",
   "name": "python3"
  },
  "language_info": {
   "codemirror_mode": {
    "name": "ipython",
    "version": 3
   },
   "file_extension": ".py",
   "mimetype": "text/x-python",
   "name": "python",
   "nbconvert_exporter": "python",
   "pygments_lexer": "ipython3",
   "version": "3.6.8"
  }
 },
 "nbformat": 4,
 "nbformat_minor": 2
}
